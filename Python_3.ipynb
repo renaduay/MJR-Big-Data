{
  "nbformat": 4,
  "nbformat_minor": 0,
  "metadata": {
    "colab": {
      "provenance": [],
      "include_colab_link": true
    },
    "kernelspec": {
      "name": "python3",
      "display_name": "Python 3"
    },
    "language_info": {
      "name": "python"
    }
  },
  "cells": [
    {
      "cell_type": "markdown",
      "metadata": {
        "id": "view-in-github",
        "colab_type": "text"
      },
      "source": [
        "<a href=\"https://colab.research.google.com/github/renaduay/MJR-Big-Data/blob/main/Python_3.ipynb\" target=\"_parent\"><img src=\"https://colab.research.google.com/assets/colab-badge.svg\" alt=\"Open In Colab\"/></a>"
      ]
    },
    {
      "cell_type": "markdown",
      "metadata": {
        "id": "cI2oLEoSbIYs"
      },
      "source": [
        "#Big Data\n",
        "Estructuras de control y funciones clásicas"
      ]
    },
    {
      "cell_type": "markdown",
      "metadata": {
        "id": "J3Ep-qUGdjVB"
      },
      "source": [
        "### 1) Nuestro amigo el **IF**"
      ]
    },
    {
      "cell_type": "code",
      "metadata": {
        "id": "1LySJL4YbPIe",
        "colab": {
          "base_uri": "https://localhost:8080/"
        },
        "outputId": "d9398c1c-5779-4de9-968f-360aa66773f7"
      },
      "source": [
        "nro_de_cliente=999\n",
        "\n",
        "if nro_de_cliente==999:\n",
        "  print('es el cliente 999!!')\n",
        "else:\n",
        "  print('cliente no encontrado :(')"
      ],
      "execution_count": 1,
      "outputs": [
        {
          "output_type": "stream",
          "name": "stdout",
          "text": [
            "es el cliente 999!!\n"
          ]
        }
      ]
    },
    {
      "cell_type": "code",
      "metadata": {
        "id": "67gC1BqWgaQ8"
      },
      "source": [
        "nro_de_cliente=13151"
      ],
      "execution_count": 2,
      "outputs": []
    },
    {
      "cell_type": "code",
      "metadata": {
        "id": "yyMPrDjAezyW",
        "colab": {
          "base_uri": "https://localhost:8080/"
        },
        "outputId": "35aca64c-c01d-4819-ddcc-b82923856b76"
      },
      "source": [
        "# if anidado\n",
        "if nro_de_cliente==999:\n",
        "  print('es el cliente 999!!')\n",
        "elif nro_de_cliente==111:\n",
        "  print('es el cliente 111!!')\n",
        "else:\n",
        "  print('cliente no encontrado :(')"
      ],
      "execution_count": 3,
      "outputs": [
        {
          "output_type": "stream",
          "name": "stdout",
          "text": [
            "cliente no encontrado :(\n"
          ]
        }
      ]
    },
    {
      "cell_type": "markdown",
      "metadata": {
        "id": "xajuQeX8hBOH"
      },
      "source": [
        "Igual: x1 == x2\n",
        "\n",
        "Distinto: x1 != x2\n",
        "\n",
        "Menor a: x1 < x2\n",
        "\n",
        "Menor o igual a: x1 <= x2\n",
        "\n",
        "Mayor a: x1 > x2\n",
        "\n",
        "Mayor o igual x1 >= x2\n",
        "\n"
      ]
    },
    {
      "cell_type": "markdown",
      "metadata": {
        "id": "9YMSatf7GdTg"
      },
      "source": [
        "### 2) *Mientras* vemos el `while`"
      ]
    },
    {
      "cell_type": "code",
      "metadata": {
        "id": "QVSbcls-fU0Q",
        "colab": {
          "base_uri": "https://localhost:8080/"
        },
        "outputId": "90fcce69-13c3-48fa-9133-716d20c33657"
      },
      "source": [
        "# imprimir 3 elementos\n",
        "i=0\n",
        "while(i<3):\n",
        "  i=i+1\n",
        "  print(i)"
      ],
      "execution_count": 4,
      "outputs": [
        {
          "output_type": "stream",
          "name": "stdout",
          "text": [
            "1\n",
            "2\n",
            "3\n"
          ]
        }
      ]
    },
    {
      "cell_type": "code",
      "metadata": {
        "id": "xHKV5FmfQuIL",
        "colab": {
          "base_uri": "https://localhost:8080/"
        },
        "outputId": "e7c60522-d1ba-4035-df00-e32e1335951e"
      },
      "source": [
        "# bucle infinito\n",
        "while(1):\n",
        "  x1=input('¿Nombre? ')\n",
        "\n",
        "  if x1=='me aburri':\n",
        "    break\n",
        "\n",
        "  print('Bienvenido! ' + x1)\n"
      ],
      "execution_count": 5,
      "outputs": [
        {
          "name": "stdout",
          "output_type": "stream",
          "text": [
            "¿Nombre? me aburri\n"
          ]
        }
      ]
    },
    {
      "cell_type": "markdown",
      "metadata": {
        "id": "bSL5eukOGqWt"
      },
      "source": [
        "### 3) *Para* que usar while, si hay `for`!"
      ]
    },
    {
      "cell_type": "code",
      "metadata": {
        "id": "HU0HEgXxG0YX"
      },
      "source": [
        "lista=[1,2,3,4]"
      ],
      "execution_count": 6,
      "outputs": []
    },
    {
      "cell_type": "code",
      "metadata": {
        "id": "vawmdM8uU-dH",
        "colab": {
          "base_uri": "https://localhost:8080/"
        },
        "outputId": "4317f7c7-69df-491f-ee50-3bad11a74383"
      },
      "source": [
        "for i in lista:\n",
        "\n",
        "  if i == 3:\n",
        "    break\n",
        "\n",
        "  print(i)"
      ],
      "execution_count": 7,
      "outputs": [
        {
          "output_type": "stream",
          "name": "stdout",
          "text": [
            "1\n",
            "2\n"
          ]
        }
      ]
    },
    {
      "cell_type": "markdown",
      "metadata": {
        "id": "nL1rI-ECZ0ny"
      },
      "source": [
        "¿Cómo usar for sobre pandas data frame?"
      ]
    },
    {
      "cell_type": "code",
      "metadata": {
        "id": "tIs6PtDOVt2v",
        "colab": {
          "base_uri": "https://localhost:8080/",
          "height": 206
        },
        "outputId": "9027416a-2063-4ad9-9d55-0dc226d206f7"
      },
      "source": [
        "import pandas as pd\n",
        "\n",
        "d_star_wars=pd.read_csv(filepath_or_buffer=\"https://raw.githubusercontent.com/fpineyro/homework-0/master/starwars.csv\", sep=',')\n",
        "d_star_wars.head()\n"
      ],
      "execution_count": 8,
      "outputs": [
        {
          "output_type": "execute_result",
          "data": {
            "text/plain": [
              "             name  height mass hair_color   skin_color eye_color birth_year  \\\n",
              "0  Luke Skywalker   172.0   77      blond         fair      blue      19BBY   \n",
              "1           C-3PO   167.0   75        NaN         gold    yellow     112BBY   \n",
              "2           R2-D2    96.0   32        NaN  white, blue       red      33BBY   \n",
              "3     Darth Vader   202.0  136       none        white    yellow    41.9BBY   \n",
              "4     Leia Organa   150.0   49      brown        light     brown      19BBY   \n",
              "\n",
              "   gender homeworld species  \n",
              "0    male  Tatooine   Human  \n",
              "1     NaN  Tatooine   Droid  \n",
              "2     NaN     Naboo   Droid  \n",
              "3    male  Tatooine   Human  \n",
              "4  female  Alderaan   Human  "
            ],
            "text/html": [
              "\n",
              "  <div id=\"df-725e9d89-663a-4356-961a-67059de983c5\" class=\"colab-df-container\">\n",
              "    <div>\n",
              "<style scoped>\n",
              "    .dataframe tbody tr th:only-of-type {\n",
              "        vertical-align: middle;\n",
              "    }\n",
              "\n",
              "    .dataframe tbody tr th {\n",
              "        vertical-align: top;\n",
              "    }\n",
              "\n",
              "    .dataframe thead th {\n",
              "        text-align: right;\n",
              "    }\n",
              "</style>\n",
              "<table border=\"1\" class=\"dataframe\">\n",
              "  <thead>\n",
              "    <tr style=\"text-align: right;\">\n",
              "      <th></th>\n",
              "      <th>name</th>\n",
              "      <th>height</th>\n",
              "      <th>mass</th>\n",
              "      <th>hair_color</th>\n",
              "      <th>skin_color</th>\n",
              "      <th>eye_color</th>\n",
              "      <th>birth_year</th>\n",
              "      <th>gender</th>\n",
              "      <th>homeworld</th>\n",
              "      <th>species</th>\n",
              "    </tr>\n",
              "  </thead>\n",
              "  <tbody>\n",
              "    <tr>\n",
              "      <th>0</th>\n",
              "      <td>Luke Skywalker</td>\n",
              "      <td>172.0</td>\n",
              "      <td>77</td>\n",
              "      <td>blond</td>\n",
              "      <td>fair</td>\n",
              "      <td>blue</td>\n",
              "      <td>19BBY</td>\n",
              "      <td>male</td>\n",
              "      <td>Tatooine</td>\n",
              "      <td>Human</td>\n",
              "    </tr>\n",
              "    <tr>\n",
              "      <th>1</th>\n",
              "      <td>C-3PO</td>\n",
              "      <td>167.0</td>\n",
              "      <td>75</td>\n",
              "      <td>NaN</td>\n",
              "      <td>gold</td>\n",
              "      <td>yellow</td>\n",
              "      <td>112BBY</td>\n",
              "      <td>NaN</td>\n",
              "      <td>Tatooine</td>\n",
              "      <td>Droid</td>\n",
              "    </tr>\n",
              "    <tr>\n",
              "      <th>2</th>\n",
              "      <td>R2-D2</td>\n",
              "      <td>96.0</td>\n",
              "      <td>32</td>\n",
              "      <td>NaN</td>\n",
              "      <td>white, blue</td>\n",
              "      <td>red</td>\n",
              "      <td>33BBY</td>\n",
              "      <td>NaN</td>\n",
              "      <td>Naboo</td>\n",
              "      <td>Droid</td>\n",
              "    </tr>\n",
              "    <tr>\n",
              "      <th>3</th>\n",
              "      <td>Darth Vader</td>\n",
              "      <td>202.0</td>\n",
              "      <td>136</td>\n",
              "      <td>none</td>\n",
              "      <td>white</td>\n",
              "      <td>yellow</td>\n",
              "      <td>41.9BBY</td>\n",
              "      <td>male</td>\n",
              "      <td>Tatooine</td>\n",
              "      <td>Human</td>\n",
              "    </tr>\n",
              "    <tr>\n",
              "      <th>4</th>\n",
              "      <td>Leia Organa</td>\n",
              "      <td>150.0</td>\n",
              "      <td>49</td>\n",
              "      <td>brown</td>\n",
              "      <td>light</td>\n",
              "      <td>brown</td>\n",
              "      <td>19BBY</td>\n",
              "      <td>female</td>\n",
              "      <td>Alderaan</td>\n",
              "      <td>Human</td>\n",
              "    </tr>\n",
              "  </tbody>\n",
              "</table>\n",
              "</div>\n",
              "    <div class=\"colab-df-buttons\">\n",
              "\n",
              "  <div class=\"colab-df-container\">\n",
              "    <button class=\"colab-df-convert\" onclick=\"convertToInteractive('df-725e9d89-663a-4356-961a-67059de983c5')\"\n",
              "            title=\"Convert this dataframe to an interactive table.\"\n",
              "            style=\"display:none;\">\n",
              "\n",
              "  <svg xmlns=\"http://www.w3.org/2000/svg\" height=\"24px\" viewBox=\"0 -960 960 960\">\n",
              "    <path d=\"M120-120v-720h720v720H120Zm60-500h600v-160H180v160Zm220 220h160v-160H400v160Zm0 220h160v-160H400v160ZM180-400h160v-160H180v160Zm440 0h160v-160H620v160ZM180-180h160v-160H180v160Zm440 0h160v-160H620v160Z\"/>\n",
              "  </svg>\n",
              "    </button>\n",
              "\n",
              "  <style>\n",
              "    .colab-df-container {\n",
              "      display:flex;\n",
              "      gap: 12px;\n",
              "    }\n",
              "\n",
              "    .colab-df-convert {\n",
              "      background-color: #E8F0FE;\n",
              "      border: none;\n",
              "      border-radius: 50%;\n",
              "      cursor: pointer;\n",
              "      display: none;\n",
              "      fill: #1967D2;\n",
              "      height: 32px;\n",
              "      padding: 0 0 0 0;\n",
              "      width: 32px;\n",
              "    }\n",
              "\n",
              "    .colab-df-convert:hover {\n",
              "      background-color: #E2EBFA;\n",
              "      box-shadow: 0px 1px 2px rgba(60, 64, 67, 0.3), 0px 1px 3px 1px rgba(60, 64, 67, 0.15);\n",
              "      fill: #174EA6;\n",
              "    }\n",
              "\n",
              "    .colab-df-buttons div {\n",
              "      margin-bottom: 4px;\n",
              "    }\n",
              "\n",
              "    [theme=dark] .colab-df-convert {\n",
              "      background-color: #3B4455;\n",
              "      fill: #D2E3FC;\n",
              "    }\n",
              "\n",
              "    [theme=dark] .colab-df-convert:hover {\n",
              "      background-color: #434B5C;\n",
              "      box-shadow: 0px 1px 3px 1px rgba(0, 0, 0, 0.15);\n",
              "      filter: drop-shadow(0px 1px 2px rgba(0, 0, 0, 0.3));\n",
              "      fill: #FFFFFF;\n",
              "    }\n",
              "  </style>\n",
              "\n",
              "    <script>\n",
              "      const buttonEl =\n",
              "        document.querySelector('#df-725e9d89-663a-4356-961a-67059de983c5 button.colab-df-convert');\n",
              "      buttonEl.style.display =\n",
              "        google.colab.kernel.accessAllowed ? 'block' : 'none';\n",
              "\n",
              "      async function convertToInteractive(key) {\n",
              "        const element = document.querySelector('#df-725e9d89-663a-4356-961a-67059de983c5');\n",
              "        const dataTable =\n",
              "          await google.colab.kernel.invokeFunction('convertToInteractive',\n",
              "                                                    [key], {});\n",
              "        if (!dataTable) return;\n",
              "\n",
              "        const docLinkHtml = 'Like what you see? Visit the ' +\n",
              "          '<a target=\"_blank\" href=https://colab.research.google.com/notebooks/data_table.ipynb>data table notebook</a>'\n",
              "          + ' to learn more about interactive tables.';\n",
              "        element.innerHTML = '';\n",
              "        dataTable['output_type'] = 'display_data';\n",
              "        await google.colab.output.renderOutput(dataTable, element);\n",
              "        const docLink = document.createElement('div');\n",
              "        docLink.innerHTML = docLinkHtml;\n",
              "        element.appendChild(docLink);\n",
              "      }\n",
              "    </script>\n",
              "  </div>\n",
              "\n",
              "\n",
              "<div id=\"df-e277f778-ef83-4c9f-b266-125da03ed3df\">\n",
              "  <button class=\"colab-df-quickchart\" onclick=\"quickchart('df-e277f778-ef83-4c9f-b266-125da03ed3df')\"\n",
              "            title=\"Suggest charts\"\n",
              "            style=\"display:none;\">\n",
              "\n",
              "<svg xmlns=\"http://www.w3.org/2000/svg\" height=\"24px\"viewBox=\"0 0 24 24\"\n",
              "     width=\"24px\">\n",
              "    <g>\n",
              "        <path d=\"M19 3H5c-1.1 0-2 .9-2 2v14c0 1.1.9 2 2 2h14c1.1 0 2-.9 2-2V5c0-1.1-.9-2-2-2zM9 17H7v-7h2v7zm4 0h-2V7h2v10zm4 0h-2v-4h2v4z\"/>\n",
              "    </g>\n",
              "</svg>\n",
              "  </button>\n",
              "\n",
              "<style>\n",
              "  .colab-df-quickchart {\n",
              "      --bg-color: #E8F0FE;\n",
              "      --fill-color: #1967D2;\n",
              "      --hover-bg-color: #E2EBFA;\n",
              "      --hover-fill-color: #174EA6;\n",
              "      --disabled-fill-color: #AAA;\n",
              "      --disabled-bg-color: #DDD;\n",
              "  }\n",
              "\n",
              "  [theme=dark] .colab-df-quickchart {\n",
              "      --bg-color: #3B4455;\n",
              "      --fill-color: #D2E3FC;\n",
              "      --hover-bg-color: #434B5C;\n",
              "      --hover-fill-color: #FFFFFF;\n",
              "      --disabled-bg-color: #3B4455;\n",
              "      --disabled-fill-color: #666;\n",
              "  }\n",
              "\n",
              "  .colab-df-quickchart {\n",
              "    background-color: var(--bg-color);\n",
              "    border: none;\n",
              "    border-radius: 50%;\n",
              "    cursor: pointer;\n",
              "    display: none;\n",
              "    fill: var(--fill-color);\n",
              "    height: 32px;\n",
              "    padding: 0;\n",
              "    width: 32px;\n",
              "  }\n",
              "\n",
              "  .colab-df-quickchart:hover {\n",
              "    background-color: var(--hover-bg-color);\n",
              "    box-shadow: 0 1px 2px rgba(60, 64, 67, 0.3), 0 1px 3px 1px rgba(60, 64, 67, 0.15);\n",
              "    fill: var(--button-hover-fill-color);\n",
              "  }\n",
              "\n",
              "  .colab-df-quickchart-complete:disabled,\n",
              "  .colab-df-quickchart-complete:disabled:hover {\n",
              "    background-color: var(--disabled-bg-color);\n",
              "    fill: var(--disabled-fill-color);\n",
              "    box-shadow: none;\n",
              "  }\n",
              "\n",
              "  .colab-df-spinner {\n",
              "    border: 2px solid var(--fill-color);\n",
              "    border-color: transparent;\n",
              "    border-bottom-color: var(--fill-color);\n",
              "    animation:\n",
              "      spin 1s steps(1) infinite;\n",
              "  }\n",
              "\n",
              "  @keyframes spin {\n",
              "    0% {\n",
              "      border-color: transparent;\n",
              "      border-bottom-color: var(--fill-color);\n",
              "      border-left-color: var(--fill-color);\n",
              "    }\n",
              "    20% {\n",
              "      border-color: transparent;\n",
              "      border-left-color: var(--fill-color);\n",
              "      border-top-color: var(--fill-color);\n",
              "    }\n",
              "    30% {\n",
              "      border-color: transparent;\n",
              "      border-left-color: var(--fill-color);\n",
              "      border-top-color: var(--fill-color);\n",
              "      border-right-color: var(--fill-color);\n",
              "    }\n",
              "    40% {\n",
              "      border-color: transparent;\n",
              "      border-right-color: var(--fill-color);\n",
              "      border-top-color: var(--fill-color);\n",
              "    }\n",
              "    60% {\n",
              "      border-color: transparent;\n",
              "      border-right-color: var(--fill-color);\n",
              "    }\n",
              "    80% {\n",
              "      border-color: transparent;\n",
              "      border-right-color: var(--fill-color);\n",
              "      border-bottom-color: var(--fill-color);\n",
              "    }\n",
              "    90% {\n",
              "      border-color: transparent;\n",
              "      border-bottom-color: var(--fill-color);\n",
              "    }\n",
              "  }\n",
              "</style>\n",
              "\n",
              "  <script>\n",
              "    async function quickchart(key) {\n",
              "      const quickchartButtonEl =\n",
              "        document.querySelector('#' + key + ' button');\n",
              "      quickchartButtonEl.disabled = true;  // To prevent multiple clicks.\n",
              "      quickchartButtonEl.classList.add('colab-df-spinner');\n",
              "      try {\n",
              "        const charts = await google.colab.kernel.invokeFunction(\n",
              "            'suggestCharts', [key], {});\n",
              "      } catch (error) {\n",
              "        console.error('Error during call to suggestCharts:', error);\n",
              "      }\n",
              "      quickchartButtonEl.classList.remove('colab-df-spinner');\n",
              "      quickchartButtonEl.classList.add('colab-df-quickchart-complete');\n",
              "    }\n",
              "    (() => {\n",
              "      let quickchartButtonEl =\n",
              "        document.querySelector('#df-e277f778-ef83-4c9f-b266-125da03ed3df button');\n",
              "      quickchartButtonEl.style.display =\n",
              "        google.colab.kernel.accessAllowed ? 'block' : 'none';\n",
              "    })();\n",
              "  </script>\n",
              "</div>\n",
              "\n",
              "    </div>\n",
              "  </div>\n"
            ],
            "application/vnd.google.colaboratory.intrinsic+json": {
              "type": "dataframe",
              "variable_name": "d_star_wars",
              "summary": "{\n  \"name\": \"d_star_wars\",\n  \"rows\": 87,\n  \"fields\": [\n    {\n      \"column\": \"name\",\n      \"properties\": {\n        \"dtype\": \"string\",\n        \"num_unique_values\": 87,\n        \"samples\": [\n          \"Grievous\",\n          \"Luke Skywalker\",\n          \"Mon Mothma\"\n        ],\n        \"semantic_type\": \"\",\n        \"description\": \"\"\n      }\n    },\n    {\n      \"column\": \"height\",\n      \"properties\": {\n        \"dtype\": \"number\",\n        \"std\": 34.77042875849222,\n        \"min\": 66.0,\n        \"max\": 264.0,\n        \"num_unique_values\": 45,\n        \"samples\": [\n          168.0,\n          224.0,\n          206.0\n        ],\n        \"semantic_type\": \"\",\n        \"description\": \"\"\n      }\n    },\n    {\n      \"column\": \"mass\",\n      \"properties\": {\n        \"dtype\": \"category\",\n        \"num_unique_values\": 38,\n        \"samples\": [\n          \"88\",\n          \"57\",\n          \"49\"\n        ],\n        \"semantic_type\": \"\",\n        \"description\": \"\"\n      }\n    },\n    {\n      \"column\": \"hair_color\",\n      \"properties\": {\n        \"dtype\": \"category\",\n        \"num_unique_values\": 11,\n        \"samples\": [\n          \"auburn, white\",\n          \"blond\",\n          \"auburn\"\n        ],\n        \"semantic_type\": \"\",\n        \"description\": \"\"\n      }\n    },\n    {\n      \"column\": \"skin_color\",\n      \"properties\": {\n        \"dtype\": \"category\",\n        \"num_unique_values\": 30,\n        \"samples\": [\n          \"red, blue, white\",\n          \"orange\",\n          \"fair, green, yellow\"\n        ],\n        \"semantic_type\": \"\",\n        \"description\": \"\"\n      }\n    },\n    {\n      \"column\": \"eye_color\",\n      \"properties\": {\n        \"dtype\": \"category\",\n        \"num_unique_values\": 14,\n        \"samples\": [\n          \"red, blue\",\n          \"green, yellow\",\n          \"blue\"\n        ],\n        \"semantic_type\": \"\",\n        \"description\": \"\"\n      }\n    },\n    {\n      \"column\": \"birth_year\",\n      \"properties\": {\n        \"dtype\": \"category\",\n        \"num_unique_values\": 36,\n        \"samples\": [\n          \"46BBY\",\n          \"21BBY\",\n          \"62BBY\"\n        ],\n        \"semantic_type\": \"\",\n        \"description\": \"\"\n      }\n    },\n    {\n      \"column\": \"gender\",\n      \"properties\": {\n        \"dtype\": \"category\",\n        \"num_unique_values\": 4,\n        \"samples\": [\n          \"female\",\n          \"none\",\n          \"male\"\n        ],\n        \"semantic_type\": \"\",\n        \"description\": \"\"\n      }\n    },\n    {\n      \"column\": \"homeworld\",\n      \"properties\": {\n        \"dtype\": \"string\",\n        \"num_unique_values\": 48,\n        \"samples\": [\n          \"Haruun Kal\",\n          \"Ojom\",\n          \"Tund\"\n        ],\n        \"semantic_type\": \"\",\n        \"description\": \"\"\n      }\n    },\n    {\n      \"column\": \"species\",\n      \"properties\": {\n        \"dtype\": \"category\",\n        \"num_unique_values\": 37,\n        \"samples\": [\n          \"Xexto\",\n          \"Dug\",\n          \"Hutt\"\n        ],\n        \"semantic_type\": \"\",\n        \"description\": \"\"\n      }\n    }\n  ]\n}"
            }
          },
          "metadata": {},
          "execution_count": 8
        }
      ]
    },
    {
      "cell_type": "code",
      "metadata": {
        "id": "wTZNFp3pYgIx",
        "colab": {
          "base_uri": "https://localhost:8080/"
        },
        "outputId": "d7912c8d-6dba-4d9d-ab99-c0f779ea420b"
      },
      "source": [
        "# no hacer así\n",
        "for row in d_star_wars:\n",
        "  print(row)\n",
        "\n"
      ],
      "execution_count": 9,
      "outputs": [
        {
          "output_type": "stream",
          "name": "stdout",
          "text": [
            "name\n",
            "height\n",
            "mass\n",
            "hair_color\n",
            "skin_color\n",
            "eye_color\n",
            "birth_year\n",
            "gender\n",
            "homeworld\n",
            "species\n"
          ]
        }
      ]
    },
    {
      "cell_type": "code",
      "metadata": {
        "id": "mJ7MF-pYZOn0",
        "colab": {
          "base_uri": "https://localhost:8080/"
        },
        "outputId": "51bc783a-2529-4f5e-ce21-29e1402d5938"
      },
      "source": [
        "# Usar iterrows()\n",
        "\n",
        "for label, row in d_star_wars[:5].iterrows():\n",
        "  print('El label es: ' + str(label))\n",
        "  print(row)"
      ],
      "execution_count": 10,
      "outputs": [
        {
          "output_type": "stream",
          "name": "stdout",
          "text": [
            "El label es: 0\n",
            "name          Luke Skywalker\n",
            "height                 172.0\n",
            "mass                      77\n",
            "hair_color             blond\n",
            "skin_color              fair\n",
            "eye_color               blue\n",
            "birth_year             19BBY\n",
            "gender                  male\n",
            "homeworld           Tatooine\n",
            "species                Human\n",
            "Name: 0, dtype: object\n",
            "El label es: 1\n",
            "name             C-3PO\n",
            "height           167.0\n",
            "mass                75\n",
            "hair_color         NaN\n",
            "skin_color        gold\n",
            "eye_color       yellow\n",
            "birth_year      112BBY\n",
            "gender             NaN\n",
            "homeworld     Tatooine\n",
            "species          Droid\n",
            "Name: 1, dtype: object\n",
            "El label es: 2\n",
            "name                R2-D2\n",
            "height               96.0\n",
            "mass                   32\n",
            "hair_color            NaN\n",
            "skin_color    white, blue\n",
            "eye_color             red\n",
            "birth_year          33BBY\n",
            "gender                NaN\n",
            "homeworld           Naboo\n",
            "species             Droid\n",
            "Name: 2, dtype: object\n",
            "El label es: 3\n",
            "name          Darth Vader\n",
            "height              202.0\n",
            "mass                  136\n",
            "hair_color           none\n",
            "skin_color          white\n",
            "eye_color          yellow\n",
            "birth_year        41.9BBY\n",
            "gender               male\n",
            "homeworld        Tatooine\n",
            "species             Human\n",
            "Name: 3, dtype: object\n",
            "El label es: 4\n",
            "name          Leia Organa\n",
            "height              150.0\n",
            "mass                   49\n",
            "hair_color          brown\n",
            "skin_color          light\n",
            "eye_color           brown\n",
            "birth_year          19BBY\n",
            "gender             female\n",
            "homeworld        Alderaan\n",
            "species             Human\n",
            "Name: 4, dtype: object\n"
          ]
        }
      ]
    },
    {
      "cell_type": "markdown",
      "metadata": {
        "id": "1NfhynzId6GV"
      },
      "source": [
        "Accediendo a cada valor:"
      ]
    },
    {
      "cell_type": "code",
      "metadata": {
        "id": "_2lhjKIWbZ8a",
        "colab": {
          "base_uri": "https://localhost:8080/"
        },
        "outputId": "3fa4d2ab-9c48-45d6-8646-310730bf255c"
      },
      "source": [
        "for _, row in d_star_wars[:5].iterrows():\n",
        "  print('Personaje: ' + row['name'] + ' lugar ' + row['homeworld'])"
      ],
      "execution_count": 11,
      "outputs": [
        {
          "output_type": "stream",
          "name": "stdout",
          "text": [
            "Personaje: Luke Skywalker lugar Tatooine\n",
            "Personaje: C-3PO lugar Tatooine\n",
            "Personaje: R2-D2 lugar Naboo\n",
            "Personaje: Darth Vader lugar Tatooine\n",
            "Personaje: Leia Organa lugar Alderaan\n"
          ]
        }
      ]
    },
    {
      "cell_type": "markdown",
      "metadata": {
        "id": "YwD3bxuAHNMr"
      },
      "source": [
        "### 4) ¿Cómo crear funciones en Python?"
      ]
    },
    {
      "cell_type": "code",
      "metadata": {
        "id": "FWOLiXGWG7WW"
      },
      "source": [
        "def mi_funcion():\n",
        "  print('hola mundo')"
      ],
      "execution_count": 12,
      "outputs": []
    },
    {
      "cell_type": "code",
      "metadata": {
        "id": "zh6u37TAgMEi",
        "colab": {
          "base_uri": "https://localhost:8080/"
        },
        "outputId": "3ab2ecec-dd61-45f4-87b3-605db1d160a8"
      },
      "source": [
        "mi_funcion()"
      ],
      "execution_count": 13,
      "outputs": [
        {
          "output_type": "stream",
          "name": "stdout",
          "text": [
            "hola mundo\n"
          ]
        }
      ]
    },
    {
      "cell_type": "markdown",
      "metadata": {
        "id": "3bTI57ZogYXR"
      },
      "source": [
        "¿Cómo crear una función con parámetros?"
      ]
    },
    {
      "cell_type": "code",
      "metadata": {
        "id": "yytTT0DbgOrv"
      },
      "source": [
        "def sumar(valor1, valor2):\n",
        "  return valor1*valor2"
      ],
      "execution_count": 14,
      "outputs": []
    },
    {
      "cell_type": "code",
      "metadata": {
        "id": "c2gtCG9LiL89",
        "colab": {
          "base_uri": "https://localhost:8080/"
        },
        "outputId": "d57d88f5-b8d4-446d-b34d-0fedd4aa11f1"
      },
      "source": [
        "sumar(valor1 = 5, valor2=5)"
      ],
      "execution_count": 15,
      "outputs": [
        {
          "output_type": "execute_result",
          "data": {
            "text/plain": [
              "25"
            ]
          },
          "metadata": {},
          "execution_count": 15
        }
      ]
    },
    {
      "cell_type": "markdown",
      "metadata": {
        "id": "TFYnkSUyifyw"
      },
      "source": [
        "¿Cómo explorar el contenido de una función?"
      ]
    },
    {
      "cell_type": "code",
      "metadata": {
        "id": "79amaexLhSnT"
      },
      "source": [
        "%%capture\n",
        "!pip install funpymodeling"
      ],
      "execution_count": 16,
      "outputs": []
    },
    {
      "cell_type": "code",
      "metadata": {
        "id": "ML9ZMIp1hOlc"
      },
      "source": [
        "from funpymodeling.exploratory import status"
      ],
      "execution_count": 17,
      "outputs": []
    },
    {
      "cell_type": "code",
      "metadata": {
        "id": "tfBfa_3Dhjuk",
        "colab": {
          "base_uri": "https://localhost:8080/",
          "height": 363
        },
        "outputId": "5b54ca91-a9e1-4c09-dc3f-7c20ed768e7a"
      },
      "source": [
        "status(d_star_wars)"
      ],
      "execution_count": 18,
      "outputs": [
        {
          "output_type": "execute_result",
          "data": {
            "text/plain": [
              "     variable  q_nan     p_nan  q_zeros  p_zeros  unique     type\n",
              "0        name      0  0.000000        0      0.0      87   object\n",
              "1      height      6  0.068966        0      0.0      45  float64\n",
              "2        mass     28  0.321839        0      0.0      38   object\n",
              "3  hair_color      6  0.068966        0      0.0      11   object\n",
              "4  skin_color      2  0.022989        0      0.0      30   object\n",
              "5   eye_color      3  0.034483        0      0.0      14   object\n",
              "6  birth_year     44  0.505747        0      0.0      36   object\n",
              "7      gender      3  0.034483        0      0.0       4   object\n",
              "8   homeworld     10  0.114943        0      0.0      48   object\n",
              "9     species      5  0.057471        0      0.0      37   object"
            ],
            "text/html": [
              "\n",
              "  <div id=\"df-b88481fb-48c2-445b-be5d-3c3f514e51e0\" class=\"colab-df-container\">\n",
              "    <div>\n",
              "<style scoped>\n",
              "    .dataframe tbody tr th:only-of-type {\n",
              "        vertical-align: middle;\n",
              "    }\n",
              "\n",
              "    .dataframe tbody tr th {\n",
              "        vertical-align: top;\n",
              "    }\n",
              "\n",
              "    .dataframe thead th {\n",
              "        text-align: right;\n",
              "    }\n",
              "</style>\n",
              "<table border=\"1\" class=\"dataframe\">\n",
              "  <thead>\n",
              "    <tr style=\"text-align: right;\">\n",
              "      <th></th>\n",
              "      <th>variable</th>\n",
              "      <th>q_nan</th>\n",
              "      <th>p_nan</th>\n",
              "      <th>q_zeros</th>\n",
              "      <th>p_zeros</th>\n",
              "      <th>unique</th>\n",
              "      <th>type</th>\n",
              "    </tr>\n",
              "  </thead>\n",
              "  <tbody>\n",
              "    <tr>\n",
              "      <th>0</th>\n",
              "      <td>name</td>\n",
              "      <td>0</td>\n",
              "      <td>0.000000</td>\n",
              "      <td>0</td>\n",
              "      <td>0.0</td>\n",
              "      <td>87</td>\n",
              "      <td>object</td>\n",
              "    </tr>\n",
              "    <tr>\n",
              "      <th>1</th>\n",
              "      <td>height</td>\n",
              "      <td>6</td>\n",
              "      <td>0.068966</td>\n",
              "      <td>0</td>\n",
              "      <td>0.0</td>\n",
              "      <td>45</td>\n",
              "      <td>float64</td>\n",
              "    </tr>\n",
              "    <tr>\n",
              "      <th>2</th>\n",
              "      <td>mass</td>\n",
              "      <td>28</td>\n",
              "      <td>0.321839</td>\n",
              "      <td>0</td>\n",
              "      <td>0.0</td>\n",
              "      <td>38</td>\n",
              "      <td>object</td>\n",
              "    </tr>\n",
              "    <tr>\n",
              "      <th>3</th>\n",
              "      <td>hair_color</td>\n",
              "      <td>6</td>\n",
              "      <td>0.068966</td>\n",
              "      <td>0</td>\n",
              "      <td>0.0</td>\n",
              "      <td>11</td>\n",
              "      <td>object</td>\n",
              "    </tr>\n",
              "    <tr>\n",
              "      <th>4</th>\n",
              "      <td>skin_color</td>\n",
              "      <td>2</td>\n",
              "      <td>0.022989</td>\n",
              "      <td>0</td>\n",
              "      <td>0.0</td>\n",
              "      <td>30</td>\n",
              "      <td>object</td>\n",
              "    </tr>\n",
              "    <tr>\n",
              "      <th>5</th>\n",
              "      <td>eye_color</td>\n",
              "      <td>3</td>\n",
              "      <td>0.034483</td>\n",
              "      <td>0</td>\n",
              "      <td>0.0</td>\n",
              "      <td>14</td>\n",
              "      <td>object</td>\n",
              "    </tr>\n",
              "    <tr>\n",
              "      <th>6</th>\n",
              "      <td>birth_year</td>\n",
              "      <td>44</td>\n",
              "      <td>0.505747</td>\n",
              "      <td>0</td>\n",
              "      <td>0.0</td>\n",
              "      <td>36</td>\n",
              "      <td>object</td>\n",
              "    </tr>\n",
              "    <tr>\n",
              "      <th>7</th>\n",
              "      <td>gender</td>\n",
              "      <td>3</td>\n",
              "      <td>0.034483</td>\n",
              "      <td>0</td>\n",
              "      <td>0.0</td>\n",
              "      <td>4</td>\n",
              "      <td>object</td>\n",
              "    </tr>\n",
              "    <tr>\n",
              "      <th>8</th>\n",
              "      <td>homeworld</td>\n",
              "      <td>10</td>\n",
              "      <td>0.114943</td>\n",
              "      <td>0</td>\n",
              "      <td>0.0</td>\n",
              "      <td>48</td>\n",
              "      <td>object</td>\n",
              "    </tr>\n",
              "    <tr>\n",
              "      <th>9</th>\n",
              "      <td>species</td>\n",
              "      <td>5</td>\n",
              "      <td>0.057471</td>\n",
              "      <td>0</td>\n",
              "      <td>0.0</td>\n",
              "      <td>37</td>\n",
              "      <td>object</td>\n",
              "    </tr>\n",
              "  </tbody>\n",
              "</table>\n",
              "</div>\n",
              "    <div class=\"colab-df-buttons\">\n",
              "\n",
              "  <div class=\"colab-df-container\">\n",
              "    <button class=\"colab-df-convert\" onclick=\"convertToInteractive('df-b88481fb-48c2-445b-be5d-3c3f514e51e0')\"\n",
              "            title=\"Convert this dataframe to an interactive table.\"\n",
              "            style=\"display:none;\">\n",
              "\n",
              "  <svg xmlns=\"http://www.w3.org/2000/svg\" height=\"24px\" viewBox=\"0 -960 960 960\">\n",
              "    <path d=\"M120-120v-720h720v720H120Zm60-500h600v-160H180v160Zm220 220h160v-160H400v160Zm0 220h160v-160H400v160ZM180-400h160v-160H180v160Zm440 0h160v-160H620v160ZM180-180h160v-160H180v160Zm440 0h160v-160H620v160Z\"/>\n",
              "  </svg>\n",
              "    </button>\n",
              "\n",
              "  <style>\n",
              "    .colab-df-container {\n",
              "      display:flex;\n",
              "      gap: 12px;\n",
              "    }\n",
              "\n",
              "    .colab-df-convert {\n",
              "      background-color: #E8F0FE;\n",
              "      border: none;\n",
              "      border-radius: 50%;\n",
              "      cursor: pointer;\n",
              "      display: none;\n",
              "      fill: #1967D2;\n",
              "      height: 32px;\n",
              "      padding: 0 0 0 0;\n",
              "      width: 32px;\n",
              "    }\n",
              "\n",
              "    .colab-df-convert:hover {\n",
              "      background-color: #E2EBFA;\n",
              "      box-shadow: 0px 1px 2px rgba(60, 64, 67, 0.3), 0px 1px 3px 1px rgba(60, 64, 67, 0.15);\n",
              "      fill: #174EA6;\n",
              "    }\n",
              "\n",
              "    .colab-df-buttons div {\n",
              "      margin-bottom: 4px;\n",
              "    }\n",
              "\n",
              "    [theme=dark] .colab-df-convert {\n",
              "      background-color: #3B4455;\n",
              "      fill: #D2E3FC;\n",
              "    }\n",
              "\n",
              "    [theme=dark] .colab-df-convert:hover {\n",
              "      background-color: #434B5C;\n",
              "      box-shadow: 0px 1px 3px 1px rgba(0, 0, 0, 0.15);\n",
              "      filter: drop-shadow(0px 1px 2px rgba(0, 0, 0, 0.3));\n",
              "      fill: #FFFFFF;\n",
              "    }\n",
              "  </style>\n",
              "\n",
              "    <script>\n",
              "      const buttonEl =\n",
              "        document.querySelector('#df-b88481fb-48c2-445b-be5d-3c3f514e51e0 button.colab-df-convert');\n",
              "      buttonEl.style.display =\n",
              "        google.colab.kernel.accessAllowed ? 'block' : 'none';\n",
              "\n",
              "      async function convertToInteractive(key) {\n",
              "        const element = document.querySelector('#df-b88481fb-48c2-445b-be5d-3c3f514e51e0');\n",
              "        const dataTable =\n",
              "          await google.colab.kernel.invokeFunction('convertToInteractive',\n",
              "                                                    [key], {});\n",
              "        if (!dataTable) return;\n",
              "\n",
              "        const docLinkHtml = 'Like what you see? Visit the ' +\n",
              "          '<a target=\"_blank\" href=https://colab.research.google.com/notebooks/data_table.ipynb>data table notebook</a>'\n",
              "          + ' to learn more about interactive tables.';\n",
              "        element.innerHTML = '';\n",
              "        dataTable['output_type'] = 'display_data';\n",
              "        await google.colab.output.renderOutput(dataTable, element);\n",
              "        const docLink = document.createElement('div');\n",
              "        docLink.innerHTML = docLinkHtml;\n",
              "        element.appendChild(docLink);\n",
              "      }\n",
              "    </script>\n",
              "  </div>\n",
              "\n",
              "\n",
              "<div id=\"df-60cf6817-15f0-46d6-abe9-8f5b5c92495c\">\n",
              "  <button class=\"colab-df-quickchart\" onclick=\"quickchart('df-60cf6817-15f0-46d6-abe9-8f5b5c92495c')\"\n",
              "            title=\"Suggest charts\"\n",
              "            style=\"display:none;\">\n",
              "\n",
              "<svg xmlns=\"http://www.w3.org/2000/svg\" height=\"24px\"viewBox=\"0 0 24 24\"\n",
              "     width=\"24px\">\n",
              "    <g>\n",
              "        <path d=\"M19 3H5c-1.1 0-2 .9-2 2v14c0 1.1.9 2 2 2h14c1.1 0 2-.9 2-2V5c0-1.1-.9-2-2-2zM9 17H7v-7h2v7zm4 0h-2V7h2v10zm4 0h-2v-4h2v4z\"/>\n",
              "    </g>\n",
              "</svg>\n",
              "  </button>\n",
              "\n",
              "<style>\n",
              "  .colab-df-quickchart {\n",
              "      --bg-color: #E8F0FE;\n",
              "      --fill-color: #1967D2;\n",
              "      --hover-bg-color: #E2EBFA;\n",
              "      --hover-fill-color: #174EA6;\n",
              "      --disabled-fill-color: #AAA;\n",
              "      --disabled-bg-color: #DDD;\n",
              "  }\n",
              "\n",
              "  [theme=dark] .colab-df-quickchart {\n",
              "      --bg-color: #3B4455;\n",
              "      --fill-color: #D2E3FC;\n",
              "      --hover-bg-color: #434B5C;\n",
              "      --hover-fill-color: #FFFFFF;\n",
              "      --disabled-bg-color: #3B4455;\n",
              "      --disabled-fill-color: #666;\n",
              "  }\n",
              "\n",
              "  .colab-df-quickchart {\n",
              "    background-color: var(--bg-color);\n",
              "    border: none;\n",
              "    border-radius: 50%;\n",
              "    cursor: pointer;\n",
              "    display: none;\n",
              "    fill: var(--fill-color);\n",
              "    height: 32px;\n",
              "    padding: 0;\n",
              "    width: 32px;\n",
              "  }\n",
              "\n",
              "  .colab-df-quickchart:hover {\n",
              "    background-color: var(--hover-bg-color);\n",
              "    box-shadow: 0 1px 2px rgba(60, 64, 67, 0.3), 0 1px 3px 1px rgba(60, 64, 67, 0.15);\n",
              "    fill: var(--button-hover-fill-color);\n",
              "  }\n",
              "\n",
              "  .colab-df-quickchart-complete:disabled,\n",
              "  .colab-df-quickchart-complete:disabled:hover {\n",
              "    background-color: var(--disabled-bg-color);\n",
              "    fill: var(--disabled-fill-color);\n",
              "    box-shadow: none;\n",
              "  }\n",
              "\n",
              "  .colab-df-spinner {\n",
              "    border: 2px solid var(--fill-color);\n",
              "    border-color: transparent;\n",
              "    border-bottom-color: var(--fill-color);\n",
              "    animation:\n",
              "      spin 1s steps(1) infinite;\n",
              "  }\n",
              "\n",
              "  @keyframes spin {\n",
              "    0% {\n",
              "      border-color: transparent;\n",
              "      border-bottom-color: var(--fill-color);\n",
              "      border-left-color: var(--fill-color);\n",
              "    }\n",
              "    20% {\n",
              "      border-color: transparent;\n",
              "      border-left-color: var(--fill-color);\n",
              "      border-top-color: var(--fill-color);\n",
              "    }\n",
              "    30% {\n",
              "      border-color: transparent;\n",
              "      border-left-color: var(--fill-color);\n",
              "      border-top-color: var(--fill-color);\n",
              "      border-right-color: var(--fill-color);\n",
              "    }\n",
              "    40% {\n",
              "      border-color: transparent;\n",
              "      border-right-color: var(--fill-color);\n",
              "      border-top-color: var(--fill-color);\n",
              "    }\n",
              "    60% {\n",
              "      border-color: transparent;\n",
              "      border-right-color: var(--fill-color);\n",
              "    }\n",
              "    80% {\n",
              "      border-color: transparent;\n",
              "      border-right-color: var(--fill-color);\n",
              "      border-bottom-color: var(--fill-color);\n",
              "    }\n",
              "    90% {\n",
              "      border-color: transparent;\n",
              "      border-bottom-color: var(--fill-color);\n",
              "    }\n",
              "  }\n",
              "</style>\n",
              "\n",
              "  <script>\n",
              "    async function quickchart(key) {\n",
              "      const quickchartButtonEl =\n",
              "        document.querySelector('#' + key + ' button');\n",
              "      quickchartButtonEl.disabled = true;  // To prevent multiple clicks.\n",
              "      quickchartButtonEl.classList.add('colab-df-spinner');\n",
              "      try {\n",
              "        const charts = await google.colab.kernel.invokeFunction(\n",
              "            'suggestCharts', [key], {});\n",
              "      } catch (error) {\n",
              "        console.error('Error during call to suggestCharts:', error);\n",
              "      }\n",
              "      quickchartButtonEl.classList.remove('colab-df-spinner');\n",
              "      quickchartButtonEl.classList.add('colab-df-quickchart-complete');\n",
              "    }\n",
              "    (() => {\n",
              "      let quickchartButtonEl =\n",
              "        document.querySelector('#df-60cf6817-15f0-46d6-abe9-8f5b5c92495c button');\n",
              "      quickchartButtonEl.style.display =\n",
              "        google.colab.kernel.accessAllowed ? 'block' : 'none';\n",
              "    })();\n",
              "  </script>\n",
              "</div>\n",
              "\n",
              "    </div>\n",
              "  </div>\n"
            ],
            "application/vnd.google.colaboratory.intrinsic+json": {
              "type": "dataframe",
              "summary": "{\n  \"name\": \"status(d_star_wars)\",\n  \"rows\": 10,\n  \"fields\": [\n    {\n      \"column\": \"variable\",\n      \"properties\": {\n        \"dtype\": \"string\",\n        \"num_unique_values\": 10,\n        \"samples\": [\n          \"homeworld\",\n          \"height\",\n          \"eye_color\"\n        ],\n        \"semantic_type\": \"\",\n        \"description\": \"\"\n      }\n    },\n    {\n      \"column\": \"q_nan\",\n      \"properties\": {\n        \"dtype\": \"number\",\n        \"std\": 14,\n        \"min\": 0,\n        \"max\": 44,\n        \"num_unique_values\": 8,\n        \"samples\": [\n          6,\n          44,\n          0\n        ],\n        \"semantic_type\": \"\",\n        \"description\": \"\"\n      }\n    },\n    {\n      \"column\": \"p_nan\",\n      \"properties\": {\n        \"dtype\": \"number\",\n        \"std\": 0.16228665759791738,\n        \"min\": 0.0,\n        \"max\": 0.5057471264367817,\n        \"num_unique_values\": 8,\n        \"samples\": [\n          0.06896551724137931,\n          0.5057471264367817,\n          0.0\n        ],\n        \"semantic_type\": \"\",\n        \"description\": \"\"\n      }\n    },\n    {\n      \"column\": \"q_zeros\",\n      \"properties\": {\n        \"dtype\": \"number\",\n        \"std\": 0,\n        \"min\": 0,\n        \"max\": 0,\n        \"num_unique_values\": 1,\n        \"samples\": [\n          0\n        ],\n        \"semantic_type\": \"\",\n        \"description\": \"\"\n      }\n    },\n    {\n      \"column\": \"p_zeros\",\n      \"properties\": {\n        \"dtype\": \"number\",\n        \"std\": 0.0,\n        \"min\": 0.0,\n        \"max\": 0.0,\n        \"num_unique_values\": 1,\n        \"samples\": [\n          0.0\n        ],\n        \"semantic_type\": \"\",\n        \"description\": \"\"\n      }\n    },\n    {\n      \"column\": \"unique\",\n      \"properties\": {\n        \"dtype\": \"number\",\n        \"std\": 23,\n        \"min\": 4,\n        \"max\": 87,\n        \"num_unique_values\": 10,\n        \"samples\": [\n          48\n        ],\n        \"semantic_type\": \"\",\n        \"description\": \"\"\n      }\n    },\n    {\n      \"column\": \"type\",\n      \"properties\": {\n        \"dtype\": \"category\",\n        \"num_unique_values\": 2,\n        \"samples\": [\n          \"float64\"\n        ],\n        \"semantic_type\": \"\",\n        \"description\": \"\"\n      }\n    }\n  ]\n}"
            }
          },
          "metadata": {},
          "execution_count": 18
        }
      ]
    },
    {
      "cell_type": "code",
      "metadata": {
        "id": "W_QZcSykjzzU",
        "colab": {
          "base_uri": "https://localhost:8080/"
        },
        "outputId": "97c9a8b1-6753-43f9-b784-0eddf2ee48b1"
      },
      "source": [
        "#calcula la cantidad de valores únicos presentes en cada columna del DataFrame.\n",
        "d_star_wars.nunique().values"
      ],
      "execution_count": 19,
      "outputs": [
        {
          "output_type": "execute_result",
          "data": {
            "text/plain": [
              "array([87, 45, 38, 11, 30, 14, 36,  4, 48, 37])"
            ]
          },
          "metadata": {},
          "execution_count": 19
        }
      ]
    },
    {
      "cell_type": "code",
      "metadata": {
        "id": "2sSjW66_lCgn",
        "colab": {
          "base_uri": "https://localhost:8080/"
        },
        "outputId": "5f7e1b05-1b2f-4c6d-b7b2-9af2c9410cb5"
      },
      "source": [
        "d_star_wars.columns"
      ],
      "execution_count": 20,
      "outputs": [
        {
          "output_type": "execute_result",
          "data": {
            "text/plain": [
              "Index(['name', 'height', 'mass', 'hair_color', 'skin_color', 'eye_color',\n",
              "       'birth_year', 'gender', 'homeworld', 'species'],\n",
              "      dtype='object')"
            ]
          },
          "metadata": {},
          "execution_count": 20
        }
      ]
    },
    {
      "cell_type": "code",
      "metadata": {
        "id": "hDe0C5AZjJ6m"
      },
      "source": [
        "def status2(data):\n",
        "  return pd.DataFrame({'variables': data.columns, 'valores_unicos':data.nunique().values})"
      ],
      "execution_count": 21,
      "outputs": []
    },
    {
      "cell_type": "code",
      "metadata": {
        "id": "yPMsycHylW8e",
        "colab": {
          "base_uri": "https://localhost:8080/",
          "height": 363
        },
        "outputId": "f7fa691c-b345-4eb7-c7f0-5147b8ad2dc9"
      },
      "source": [
        "status2(d_star_wars)"
      ],
      "execution_count": 22,
      "outputs": [
        {
          "output_type": "execute_result",
          "data": {
            "text/plain": [
              "    variables  valores_unicos\n",
              "0        name              87\n",
              "1      height              45\n",
              "2        mass              38\n",
              "3  hair_color              11\n",
              "4  skin_color              30\n",
              "5   eye_color              14\n",
              "6  birth_year              36\n",
              "7      gender               4\n",
              "8   homeworld              48\n",
              "9     species              37"
            ],
            "text/html": [
              "\n",
              "  <div id=\"df-8a9a32dd-6ffc-497c-a8d5-55c80c3be2cb\" class=\"colab-df-container\">\n",
              "    <div>\n",
              "<style scoped>\n",
              "    .dataframe tbody tr th:only-of-type {\n",
              "        vertical-align: middle;\n",
              "    }\n",
              "\n",
              "    .dataframe tbody tr th {\n",
              "        vertical-align: top;\n",
              "    }\n",
              "\n",
              "    .dataframe thead th {\n",
              "        text-align: right;\n",
              "    }\n",
              "</style>\n",
              "<table border=\"1\" class=\"dataframe\">\n",
              "  <thead>\n",
              "    <tr style=\"text-align: right;\">\n",
              "      <th></th>\n",
              "      <th>variables</th>\n",
              "      <th>valores_unicos</th>\n",
              "    </tr>\n",
              "  </thead>\n",
              "  <tbody>\n",
              "    <tr>\n",
              "      <th>0</th>\n",
              "      <td>name</td>\n",
              "      <td>87</td>\n",
              "    </tr>\n",
              "    <tr>\n",
              "      <th>1</th>\n",
              "      <td>height</td>\n",
              "      <td>45</td>\n",
              "    </tr>\n",
              "    <tr>\n",
              "      <th>2</th>\n",
              "      <td>mass</td>\n",
              "      <td>38</td>\n",
              "    </tr>\n",
              "    <tr>\n",
              "      <th>3</th>\n",
              "      <td>hair_color</td>\n",
              "      <td>11</td>\n",
              "    </tr>\n",
              "    <tr>\n",
              "      <th>4</th>\n",
              "      <td>skin_color</td>\n",
              "      <td>30</td>\n",
              "    </tr>\n",
              "    <tr>\n",
              "      <th>5</th>\n",
              "      <td>eye_color</td>\n",
              "      <td>14</td>\n",
              "    </tr>\n",
              "    <tr>\n",
              "      <th>6</th>\n",
              "      <td>birth_year</td>\n",
              "      <td>36</td>\n",
              "    </tr>\n",
              "    <tr>\n",
              "      <th>7</th>\n",
              "      <td>gender</td>\n",
              "      <td>4</td>\n",
              "    </tr>\n",
              "    <tr>\n",
              "      <th>8</th>\n",
              "      <td>homeworld</td>\n",
              "      <td>48</td>\n",
              "    </tr>\n",
              "    <tr>\n",
              "      <th>9</th>\n",
              "      <td>species</td>\n",
              "      <td>37</td>\n",
              "    </tr>\n",
              "  </tbody>\n",
              "</table>\n",
              "</div>\n",
              "    <div class=\"colab-df-buttons\">\n",
              "\n",
              "  <div class=\"colab-df-container\">\n",
              "    <button class=\"colab-df-convert\" onclick=\"convertToInteractive('df-8a9a32dd-6ffc-497c-a8d5-55c80c3be2cb')\"\n",
              "            title=\"Convert this dataframe to an interactive table.\"\n",
              "            style=\"display:none;\">\n",
              "\n",
              "  <svg xmlns=\"http://www.w3.org/2000/svg\" height=\"24px\" viewBox=\"0 -960 960 960\">\n",
              "    <path d=\"M120-120v-720h720v720H120Zm60-500h600v-160H180v160Zm220 220h160v-160H400v160Zm0 220h160v-160H400v160ZM180-400h160v-160H180v160Zm440 0h160v-160H620v160ZM180-180h160v-160H180v160Zm440 0h160v-160H620v160Z\"/>\n",
              "  </svg>\n",
              "    </button>\n",
              "\n",
              "  <style>\n",
              "    .colab-df-container {\n",
              "      display:flex;\n",
              "      gap: 12px;\n",
              "    }\n",
              "\n",
              "    .colab-df-convert {\n",
              "      background-color: #E8F0FE;\n",
              "      border: none;\n",
              "      border-radius: 50%;\n",
              "      cursor: pointer;\n",
              "      display: none;\n",
              "      fill: #1967D2;\n",
              "      height: 32px;\n",
              "      padding: 0 0 0 0;\n",
              "      width: 32px;\n",
              "    }\n",
              "\n",
              "    .colab-df-convert:hover {\n",
              "      background-color: #E2EBFA;\n",
              "      box-shadow: 0px 1px 2px rgba(60, 64, 67, 0.3), 0px 1px 3px 1px rgba(60, 64, 67, 0.15);\n",
              "      fill: #174EA6;\n",
              "    }\n",
              "\n",
              "    .colab-df-buttons div {\n",
              "      margin-bottom: 4px;\n",
              "    }\n",
              "\n",
              "    [theme=dark] .colab-df-convert {\n",
              "      background-color: #3B4455;\n",
              "      fill: #D2E3FC;\n",
              "    }\n",
              "\n",
              "    [theme=dark] .colab-df-convert:hover {\n",
              "      background-color: #434B5C;\n",
              "      box-shadow: 0px 1px 3px 1px rgba(0, 0, 0, 0.15);\n",
              "      filter: drop-shadow(0px 1px 2px rgba(0, 0, 0, 0.3));\n",
              "      fill: #FFFFFF;\n",
              "    }\n",
              "  </style>\n",
              "\n",
              "    <script>\n",
              "      const buttonEl =\n",
              "        document.querySelector('#df-8a9a32dd-6ffc-497c-a8d5-55c80c3be2cb button.colab-df-convert');\n",
              "      buttonEl.style.display =\n",
              "        google.colab.kernel.accessAllowed ? 'block' : 'none';\n",
              "\n",
              "      async function convertToInteractive(key) {\n",
              "        const element = document.querySelector('#df-8a9a32dd-6ffc-497c-a8d5-55c80c3be2cb');\n",
              "        const dataTable =\n",
              "          await google.colab.kernel.invokeFunction('convertToInteractive',\n",
              "                                                    [key], {});\n",
              "        if (!dataTable) return;\n",
              "\n",
              "        const docLinkHtml = 'Like what you see? Visit the ' +\n",
              "          '<a target=\"_blank\" href=https://colab.research.google.com/notebooks/data_table.ipynb>data table notebook</a>'\n",
              "          + ' to learn more about interactive tables.';\n",
              "        element.innerHTML = '';\n",
              "        dataTable['output_type'] = 'display_data';\n",
              "        await google.colab.output.renderOutput(dataTable, element);\n",
              "        const docLink = document.createElement('div');\n",
              "        docLink.innerHTML = docLinkHtml;\n",
              "        element.appendChild(docLink);\n",
              "      }\n",
              "    </script>\n",
              "  </div>\n",
              "\n",
              "\n",
              "<div id=\"df-ac017435-d071-4e9a-ba99-aebd90d4a59a\">\n",
              "  <button class=\"colab-df-quickchart\" onclick=\"quickchart('df-ac017435-d071-4e9a-ba99-aebd90d4a59a')\"\n",
              "            title=\"Suggest charts\"\n",
              "            style=\"display:none;\">\n",
              "\n",
              "<svg xmlns=\"http://www.w3.org/2000/svg\" height=\"24px\"viewBox=\"0 0 24 24\"\n",
              "     width=\"24px\">\n",
              "    <g>\n",
              "        <path d=\"M19 3H5c-1.1 0-2 .9-2 2v14c0 1.1.9 2 2 2h14c1.1 0 2-.9 2-2V5c0-1.1-.9-2-2-2zM9 17H7v-7h2v7zm4 0h-2V7h2v10zm4 0h-2v-4h2v4z\"/>\n",
              "    </g>\n",
              "</svg>\n",
              "  </button>\n",
              "\n",
              "<style>\n",
              "  .colab-df-quickchart {\n",
              "      --bg-color: #E8F0FE;\n",
              "      --fill-color: #1967D2;\n",
              "      --hover-bg-color: #E2EBFA;\n",
              "      --hover-fill-color: #174EA6;\n",
              "      --disabled-fill-color: #AAA;\n",
              "      --disabled-bg-color: #DDD;\n",
              "  }\n",
              "\n",
              "  [theme=dark] .colab-df-quickchart {\n",
              "      --bg-color: #3B4455;\n",
              "      --fill-color: #D2E3FC;\n",
              "      --hover-bg-color: #434B5C;\n",
              "      --hover-fill-color: #FFFFFF;\n",
              "      --disabled-bg-color: #3B4455;\n",
              "      --disabled-fill-color: #666;\n",
              "  }\n",
              "\n",
              "  .colab-df-quickchart {\n",
              "    background-color: var(--bg-color);\n",
              "    border: none;\n",
              "    border-radius: 50%;\n",
              "    cursor: pointer;\n",
              "    display: none;\n",
              "    fill: var(--fill-color);\n",
              "    height: 32px;\n",
              "    padding: 0;\n",
              "    width: 32px;\n",
              "  }\n",
              "\n",
              "  .colab-df-quickchart:hover {\n",
              "    background-color: var(--hover-bg-color);\n",
              "    box-shadow: 0 1px 2px rgba(60, 64, 67, 0.3), 0 1px 3px 1px rgba(60, 64, 67, 0.15);\n",
              "    fill: var(--button-hover-fill-color);\n",
              "  }\n",
              "\n",
              "  .colab-df-quickchart-complete:disabled,\n",
              "  .colab-df-quickchart-complete:disabled:hover {\n",
              "    background-color: var(--disabled-bg-color);\n",
              "    fill: var(--disabled-fill-color);\n",
              "    box-shadow: none;\n",
              "  }\n",
              "\n",
              "  .colab-df-spinner {\n",
              "    border: 2px solid var(--fill-color);\n",
              "    border-color: transparent;\n",
              "    border-bottom-color: var(--fill-color);\n",
              "    animation:\n",
              "      spin 1s steps(1) infinite;\n",
              "  }\n",
              "\n",
              "  @keyframes spin {\n",
              "    0% {\n",
              "      border-color: transparent;\n",
              "      border-bottom-color: var(--fill-color);\n",
              "      border-left-color: var(--fill-color);\n",
              "    }\n",
              "    20% {\n",
              "      border-color: transparent;\n",
              "      border-left-color: var(--fill-color);\n",
              "      border-top-color: var(--fill-color);\n",
              "    }\n",
              "    30% {\n",
              "      border-color: transparent;\n",
              "      border-left-color: var(--fill-color);\n",
              "      border-top-color: var(--fill-color);\n",
              "      border-right-color: var(--fill-color);\n",
              "    }\n",
              "    40% {\n",
              "      border-color: transparent;\n",
              "      border-right-color: var(--fill-color);\n",
              "      border-top-color: var(--fill-color);\n",
              "    }\n",
              "    60% {\n",
              "      border-color: transparent;\n",
              "      border-right-color: var(--fill-color);\n",
              "    }\n",
              "    80% {\n",
              "      border-color: transparent;\n",
              "      border-right-color: var(--fill-color);\n",
              "      border-bottom-color: var(--fill-color);\n",
              "    }\n",
              "    90% {\n",
              "      border-color: transparent;\n",
              "      border-bottom-color: var(--fill-color);\n",
              "    }\n",
              "  }\n",
              "</style>\n",
              "\n",
              "  <script>\n",
              "    async function quickchart(key) {\n",
              "      const quickchartButtonEl =\n",
              "        document.querySelector('#' + key + ' button');\n",
              "      quickchartButtonEl.disabled = true;  // To prevent multiple clicks.\n",
              "      quickchartButtonEl.classList.add('colab-df-spinner');\n",
              "      try {\n",
              "        const charts = await google.colab.kernel.invokeFunction(\n",
              "            'suggestCharts', [key], {});\n",
              "      } catch (error) {\n",
              "        console.error('Error during call to suggestCharts:', error);\n",
              "      }\n",
              "      quickchartButtonEl.classList.remove('colab-df-spinner');\n",
              "      quickchartButtonEl.classList.add('colab-df-quickchart-complete');\n",
              "    }\n",
              "    (() => {\n",
              "      let quickchartButtonEl =\n",
              "        document.querySelector('#df-ac017435-d071-4e9a-ba99-aebd90d4a59a button');\n",
              "      quickchartButtonEl.style.display =\n",
              "        google.colab.kernel.accessAllowed ? 'block' : 'none';\n",
              "    })();\n",
              "  </script>\n",
              "</div>\n",
              "\n",
              "    </div>\n",
              "  </div>\n"
            ],
            "application/vnd.google.colaboratory.intrinsic+json": {
              "type": "dataframe",
              "summary": "{\n  \"name\": \"status2(d_star_wars)\",\n  \"rows\": 10,\n  \"fields\": [\n    {\n      \"column\": \"variables\",\n      \"properties\": {\n        \"dtype\": \"string\",\n        \"num_unique_values\": 10,\n        \"samples\": [\n          \"homeworld\",\n          \"height\",\n          \"eye_color\"\n        ],\n        \"semantic_type\": \"\",\n        \"description\": \"\"\n      }\n    },\n    {\n      \"column\": \"valores_unicos\",\n      \"properties\": {\n        \"dtype\": \"number\",\n        \"std\": 23,\n        \"min\": 4,\n        \"max\": 87,\n        \"num_unique_values\": 10,\n        \"samples\": [\n          48,\n          45,\n          14\n        ],\n        \"semantic_type\": \"\",\n        \"description\": \"\"\n      }\n    }\n  ]\n}"
            }
          },
          "metadata": {},
          "execution_count": 22
        }
      ]
    },
    {
      "cell_type": "markdown",
      "metadata": {
        "id": "q2dvWHTtmej0"
      },
      "source": [
        "<br>\n",
        "\n",
        "---\n",
        "\n",
        "\n",
        "\n",
        "# C.2.1) ¿Qué es `numpy`?"
      ]
    },
    {
      "cell_type": "code",
      "metadata": {
        "id": "uEnElyY8mhle"
      },
      "source": [
        "import numpy as np"
      ],
      "execution_count": 23,
      "outputs": []
    },
    {
      "cell_type": "code",
      "metadata": {
        "id": "jV94rfWIs-20"
      },
      "source": [
        "arr1=np.array([1,2,3,4,5])"
      ],
      "execution_count": 24,
      "outputs": []
    },
    {
      "cell_type": "code",
      "metadata": {
        "id": "wuR34pMrtXh0",
        "colab": {
          "base_uri": "https://localhost:8080/"
        },
        "outputId": "b08ede3c-dac6-44cd-f958-bfc65bd291b7"
      },
      "source": [
        "arr1"
      ],
      "execution_count": 25,
      "outputs": [
        {
          "output_type": "execute_result",
          "data": {
            "text/plain": [
              "array([1, 2, 3, 4, 5])"
            ]
          },
          "metadata": {},
          "execution_count": 25
        }
      ]
    },
    {
      "cell_type": "code",
      "metadata": {
        "id": "itbIWebQtYIu",
        "colab": {
          "base_uri": "https://localhost:8080/"
        },
        "outputId": "c81ef2d8-604e-488a-f3d1-2094d34d9765"
      },
      "source": [
        "arr1+arr1"
      ],
      "execution_count": 26,
      "outputs": [
        {
          "output_type": "execute_result",
          "data": {
            "text/plain": [
              "array([ 2,  4,  6,  8, 10])"
            ]
          },
          "metadata": {},
          "execution_count": 26
        }
      ]
    },
    {
      "cell_type": "code",
      "metadata": {
        "id": "o9SR0siKwHw5",
        "colab": {
          "base_uri": "https://localhost:8080/"
        },
        "outputId": "229b06a2-4c4b-4dac-873b-f6d0738abe6b"
      },
      "source": [
        "arr1.shape # ranking 1"
      ],
      "execution_count": 27,
      "outputs": [
        {
          "output_type": "execute_result",
          "data": {
            "text/plain": [
              "(5,)"
            ]
          },
          "metadata": {},
          "execution_count": 27
        }
      ]
    },
    {
      "cell_type": "markdown",
      "metadata": {
        "id": "9yxksq9yvEuG"
      },
      "source": [
        "¿Cómo crear un \"tabla\" en numpy?\n",
        "\n",
        "Rank 2 array / 2D"
      ]
    },
    {
      "cell_type": "code",
      "metadata": {
        "id": "Vl1K6UipuLL5",
        "colab": {
          "base_uri": "https://localhost:8080/"
        },
        "outputId": "480f9e8e-47a5-4f57-a2ba-7be030c5fc29"
      },
      "source": [
        "arr2=np.array([[1,2,3,4,5], [9,8,7,6,5]])\n",
        "\n",
        "arr2"
      ],
      "execution_count": 28,
      "outputs": [
        {
          "output_type": "execute_result",
          "data": {
            "text/plain": [
              "array([[1, 2, 3, 4, 5],\n",
              "       [9, 8, 7, 6, 5]])"
            ]
          },
          "metadata": {},
          "execution_count": 28
        }
      ]
    },
    {
      "cell_type": "code",
      "metadata": {
        "id": "QGDfksX8uyoW",
        "colab": {
          "base_uri": "https://localhost:8080/"
        },
        "outputId": "2317e1a0-2134-4c9e-c2ea-ba2e91777dd1"
      },
      "source": [
        "arr2.shape"
      ],
      "execution_count": 29,
      "outputs": [
        {
          "output_type": "execute_result",
          "data": {
            "text/plain": [
              "(2, 5)"
            ]
          },
          "metadata": {},
          "execution_count": 29
        }
      ]
    },
    {
      "cell_type": "markdown",
      "metadata": {
        "id": "Fup8L7rfxMtT"
      },
      "source": [
        "Rank 3 array / 3D"
      ]
    },
    {
      "cell_type": "code",
      "metadata": {
        "id": "bqFsF670vK0n"
      },
      "source": [
        "arr3=np.array([[[1,2,3,4,5], [9,8,7,6,5]]])"
      ],
      "execution_count": 30,
      "outputs": []
    },
    {
      "cell_type": "code",
      "metadata": {
        "id": "o7_ZpY1xw9mw",
        "colab": {
          "base_uri": "https://localhost:8080/"
        },
        "outputId": "c97689d7-f8ec-4f32-e232-d36c7caaf94e"
      },
      "source": [
        "arr3.shape"
      ],
      "execution_count": 31,
      "outputs": [
        {
          "output_type": "execute_result",
          "data": {
            "text/plain": [
              "(1, 2, 5)"
            ]
          },
          "metadata": {},
          "execution_count": 31
        }
      ]
    },
    {
      "cell_type": "markdown",
      "metadata": {
        "id": "dApZmci1-txe"
      },
      "source": [
        "### C.2.2) ¿Cómo hacer `reshape` en numpy?"
      ]
    },
    {
      "cell_type": "code",
      "metadata": {
        "id": "kvraE8qU-t94",
        "colab": {
          "base_uri": "https://localhost:8080/"
        },
        "outputId": "c0eb21db-acd9-487b-a4a8-f2f36a1abd4c"
      },
      "source": [
        "arr3=np.array([1,2,3,4,5,6])\n",
        "print(arr3)\n",
        "print(arr3.shape)"
      ],
      "execution_count": 32,
      "outputs": [
        {
          "output_type": "stream",
          "name": "stdout",
          "text": [
            "[1 2 3 4 5 6]\n",
            "(6,)\n"
          ]
        }
      ]
    },
    {
      "cell_type": "code",
      "metadata": {
        "id": "gsainvYu_N54",
        "colab": {
          "base_uri": "https://localhost:8080/"
        },
        "outputId": "2bcfa6a6-d072-4bef-bd1c-2e33862a86e0"
      },
      "source": [
        "arr4=arr3.reshape((2,3))\n",
        "\n",
        "arr4"
      ],
      "execution_count": 33,
      "outputs": [
        {
          "output_type": "execute_result",
          "data": {
            "text/plain": [
              "array([[1, 2, 3],\n",
              "       [4, 5, 6]])"
            ]
          },
          "metadata": {},
          "execution_count": 33
        }
      ]
    },
    {
      "cell_type": "code",
      "metadata": {
        "id": "RnBoAXGL_UBE"
      },
      "source": [
        "arr4.shape"
      ],
      "execution_count": null,
      "outputs": []
    },
    {
      "cell_type": "markdown",
      "metadata": {
        "id": "hM0ESIjuA10y"
      },
      "source": [
        "¿Cómo hacer flatten de un numpy array?"
      ]
    },
    {
      "cell_type": "code",
      "metadata": {
        "id": "i8UDMH0hAtqz",
        "colab": {
          "base_uri": "https://localhost:8080/"
        },
        "outputId": "7f08ee88-a58a-434f-bb50-1c1adf6c8f5c"
      },
      "source": [
        "arr5=arr4.flatten()\n",
        "arr5"
      ],
      "execution_count": 34,
      "outputs": [
        {
          "output_type": "execute_result",
          "data": {
            "text/plain": [
              "array([1, 2, 3, 4, 5, 6])"
            ]
          },
          "metadata": {},
          "execution_count": 34
        }
      ]
    },
    {
      "cell_type": "markdown",
      "metadata": {
        "id": "Eelr5hzPCQU0"
      },
      "source": [
        "### C.2.3) ¿Cómo hacer slice de numpy?"
      ]
    },
    {
      "cell_type": "code",
      "metadata": {
        "id": "-thB6iq0CpDo",
        "colab": {
          "base_uri": "https://localhost:8080/"
        },
        "outputId": "bc49cfcb-07da-4eae-d59e-cce940023c3f"
      },
      "source": [
        "arr1"
      ],
      "execution_count": 35,
      "outputs": [
        {
          "output_type": "execute_result",
          "data": {
            "text/plain": [
              "array([1, 2, 3, 4, 5])"
            ]
          },
          "metadata": {},
          "execution_count": 35
        }
      ]
    },
    {
      "cell_type": "code",
      "metadata": {
        "id": "ee7oWKopCZJA"
      },
      "source": [
        "# 1er elemento\n",
        "arr1[0]"
      ],
      "execution_count": null,
      "outputs": []
    },
    {
      "cell_type": "code",
      "metadata": {
        "id": "EDpmpja7CrWn",
        "colab": {
          "base_uri": "https://localhost:8080/"
        },
        "outputId": "3a929900-1ccf-4df4-eac4-447c77cbe7a3"
      },
      "source": [
        "arr1[0:3]"
      ],
      "execution_count": 36,
      "outputs": [
        {
          "output_type": "execute_result",
          "data": {
            "text/plain": [
              "array([1, 2, 3])"
            ]
          },
          "metadata": {},
          "execution_count": 36
        }
      ]
    },
    {
      "cell_type": "markdown",
      "metadata": {
        "id": "0J2X5c-sDHkz"
      },
      "source": [
        "### C.2.4) ¿Cómo acceder a arrays n-dimensionales?"
      ]
    },
    {
      "cell_type": "code",
      "metadata": {
        "id": "YygaoyS-C49s",
        "colab": {
          "base_uri": "https://localhost:8080/"
        },
        "outputId": "91c598bf-bbb2-4d73-fa64-3f0849219be1"
      },
      "source": [
        "arr4"
      ],
      "execution_count": 37,
      "outputs": [
        {
          "output_type": "execute_result",
          "data": {
            "text/plain": [
              "array([[1, 2, 3],\n",
              "       [4, 5, 6]])"
            ]
          },
          "metadata": {},
          "execution_count": 37
        }
      ]
    },
    {
      "cell_type": "code",
      "metadata": {
        "id": "I_PlzGPWCFvn",
        "colab": {
          "base_uri": "https://localhost:8080/"
        },
        "outputId": "f943e2f8-a5d4-421d-9089-5908bd981b59"
      },
      "source": [
        "arr4[0,:]"
      ],
      "execution_count": 38,
      "outputs": [
        {
          "output_type": "execute_result",
          "data": {
            "text/plain": [
              "array([1, 2, 3])"
            ]
          },
          "metadata": {},
          "execution_count": 38
        }
      ]
    },
    {
      "cell_type": "code",
      "metadata": {
        "id": "45tMun8LCW61",
        "colab": {
          "base_uri": "https://localhost:8080/"
        },
        "outputId": "c148a683-9058-42a4-fb4d-ebaab9726865"
      },
      "source": [
        "arr4[1,0]"
      ],
      "execution_count": 39,
      "outputs": [
        {
          "output_type": "execute_result",
          "data": {
            "text/plain": [
              "4"
            ]
          },
          "metadata": {},
          "execution_count": 39
        }
      ]
    },
    {
      "cell_type": "code",
      "metadata": {
        "id": "mrLmYIs1C8tV",
        "colab": {
          "base_uri": "https://localhost:8080/"
        },
        "outputId": "0af69790-5a8a-4e69-f921-47ce58dc1877"
      },
      "source": [
        "arr4[1,0:2]"
      ],
      "execution_count": 40,
      "outputs": [
        {
          "output_type": "execute_result",
          "data": {
            "text/plain": [
              "array([4, 5])"
            ]
          },
          "metadata": {},
          "execution_count": 40
        }
      ]
    },
    {
      "cell_type": "code",
      "metadata": {
        "id": "iPVrpeENDRiZ",
        "colab": {
          "base_uri": "https://localhost:8080/"
        },
        "outputId": "e31f20b4-ec98-4643-db7c-6072410e9dad"
      },
      "source": [
        "# acceder a toda la 1er dimensión\n",
        "arr4[0]"
      ],
      "execution_count": 41,
      "outputs": [
        {
          "output_type": "execute_result",
          "data": {
            "text/plain": [
              "array([1, 2, 3])"
            ]
          },
          "metadata": {},
          "execution_count": 41
        }
      ]
    },
    {
      "cell_type": "markdown",
      "metadata": {
        "id": "ZOkr3C5iI3Lg"
      },
      "source": [
        "Imagen resumen numpy\n",
        "\n",
        "<img src=\"https://fgnt.github.io/python_crashkurs_doc/_images/numpy_array_t.png\" width=\"300px\">\n",
        "\n",
        "[Fuente](https://fgnt.github.io/python_crashkurs_doc/include/numpy.html)."
      ]
    },
    {
      "cell_type": "markdown",
      "source": [
        "#Ejercicios"
      ],
      "metadata": {
        "id": "WAV6NDSM0mK3"
      }
    },
    {
      "cell_type": "markdown",
      "source": [
        "Ejercicio 1: Crear un if anidado para verificar si el numero de cliente está entre 0 y 4, le decimos 'usuario autorizado' en cualquier otro caso indicar 'usuario no autorizado'."
      ],
      "metadata": {
        "id": "H499SypW0sg3"
      }
    },
    {
      "cell_type": "code",
      "source": [
        "#Ejercicio 1\n",
        "numero_cliente = int(input(\"Introduce el número de cliente: \"))\n",
        "if numero_cliente >= 0:\n",
        "    if numero_cliente <= 4:\n",
        "        print(\"Usuario autorizado\")\n",
        "    else:\n",
        "        print(\"Usuario no autorizado\")\n",
        "else:\n",
        "    print(\"Usuario no autorizado\")\n",
        "\n"
      ],
      "metadata": {
        "id": "AQ167X7S0v_s"
      },
      "execution_count": null,
      "outputs": []
    },
    {
      "cell_type": "markdown",
      "source": [
        "Ejercicio 2: Mediante while solicitar al usuario que ingrese un número entre 1 y 5. Si el número ingresado es 3 que imprima 'Usted ha ganado la loteria'"
      ],
      "metadata": {
        "id": "wewZmHDu2qRD"
      }
    },
    {
      "cell_type": "code",
      "source": [
        "#Ejercicio 2\n",
        "numero = 0\n",
        "while numero < 1 or numero > 5:\n",
        "    numero = int(input(\"Ingrese un número entre 1 y 5: \"))\n",
        "\n",
        "    if numero == 3:\n",
        "        print(\"Usted ha ganado la lotería\")\n",
        "        break\n",
        "    elif numero < 1 or numero > 5:\n",
        "        print(\"El numero no es correcto\")\n",
        "\n"
      ],
      "metadata": {
        "id": "5hWJkokk3Diu"
      },
      "execution_count": null,
      "outputs": []
    },
    {
      "cell_type": "markdown",
      "source": [
        "Ejercicio 3: Crear una lista que contenga los valores desde 0 a 10. Luego solicitar que se ingrese un número entre 0 y 10. Imprimir en pantalla los valores de la lista hasta el número que ingresaron"
      ],
      "metadata": {
        "id": "cUg-IloF4X6y"
      }
    },
    {
      "cell_type": "code",
      "source": [
        "#Ejercicio 3\n",
        "\n",
        "lista = list(range(11))\n",
        "\n",
        "numero_ingresado = int(input(\"Ingresa un número entre 0 y 10: \"))\n",
        "\n",
        "if 0 <= numero_ingresado <= 10:\n",
        "print(lista[:numero_ingresado + 1])\n",
        "else:\n",
        "print(\"Número fuera del rango.\")\n",
        "\n"
      ],
      "metadata": {
        "id": "RJIQThlu4Xb3"
      },
      "execution_count": null,
      "outputs": []
    },
    {
      "cell_type": "markdown",
      "source": [
        "Ejercicio 4: Solicitar que se ingresen dos valores, mediante una función sumar estos dos numero y mostrar el resutaldo en pantalla"
      ],
      "metadata": {
        "id": "rM8ByOxC6L_L"
      }
    },
    {
      "cell_type": "code",
      "source": [
        "#Ejercicio 4\n",
        "#Función\n",
        "def sumar(n1, n2):\n",
        "    return n1 + n2\n",
        "num1 = float(input(\"Ingrese el primer número: \"))\n",
        "num2 = float(input(\"Ingrese el segundo número: \"))\n",
        "resultado = sumar(num1, num2)\n",
        "print(f\"El resultado de la suma es: {resultado}\")\n",
        "\n",
        "\n"
      ],
      "metadata": {
        "id": "TTZjeMkR6zN8",
        "colab": {
          "base_uri": "https://localhost:8080/"
        },
        "outputId": "281b6caa-5449-48f7-b869-e6b09a45fb8f"
      },
      "execution_count": 42,
      "outputs": [
        {
          "output_type": "stream",
          "name": "stdout",
          "text": [
            "Ingrese el primer número: 1\n",
            "Ingrese el segundo número: 5\n",
            "El resultado de la suma es: 6.0\n"
          ]
        }
      ]
    },
    {
      "cell_type": "code",
      "source": [
        "#Ejercicio 4\n",
        "\n"
      ],
      "metadata": {
        "id": "pmJK91ro61H-"
      },
      "execution_count": null,
      "outputs": []
    },
    {
      "cell_type": "markdown",
      "source": [
        "Ejercicio 5: Solicitar que se ingresen dos valores, luego solicitar que tipo de operación se quiere realizar (suma, resta, multiplicación o división). Luego mediante una función realizar la operación matematica e imprimir el resultado."
      ],
      "metadata": {
        "id": "WpNMP3M58Itp"
      }
    },
    {
      "cell_type": "code",
      "source": [
        "#Ejercicio 5\n",
        "#Función\n",
        "\n"
      ],
      "metadata": {
        "id": "K6-5pjuX8jua"
      },
      "execution_count": null,
      "outputs": []
    },
    {
      "cell_type": "code",
      "source": [
        "#Ejercicio 5\n",
        "\n"
      ],
      "metadata": {
        "id": "tim3Z2_c8lSr"
      },
      "execution_count": null,
      "outputs": []
    }
  ]
}