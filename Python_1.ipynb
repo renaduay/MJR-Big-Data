{
  "nbformat": 4,
  "nbformat_minor": 0,
  "metadata": {
    "colab": {
      "provenance": [],
      "include_colab_link": true
    },
    "kernelspec": {
      "name": "python3",
      "display_name": "Python 3"
    }
  },
  "cells": [
    {
      "cell_type": "markdown",
      "metadata": {
        "id": "view-in-github",
        "colab_type": "text"
      },
      "source": [
        "<a href=\"https://colab.research.google.com/github/renaduay/MJR-Big-Data/blob/main/Python_1.ipynb\" target=\"_parent\"><img src=\"https://colab.research.google.com/assets/colab-badge.svg\" alt=\"Open In Colab\"/></a>"
      ]
    },
    {
      "cell_type": "markdown",
      "metadata": {
        "id": "Pk0TDpxtlKtR"
      },
      "source": [
        "\n",
        "\n",
        "#Big Data\n",
        "# Introducción a Python\n",
        "\n"
      ]
    },
    {
      "cell_type": "markdown",
      "metadata": {
        "id": "jNIlov4r9YTe"
      },
      "source": [
        "## 1) Primer Paso\n",
        "\n",
        "Este es un primer ejercicio de python\n",
        "\n"
      ]
    },
    {
      "cell_type": "code",
      "metadata": {
        "id": "wkktko0ai8aR"
      },
      "source": [
        "a=1+1\n"
      ],
      "execution_count": null,
      "outputs": []
    },
    {
      "cell_type": "code",
      "source": [
        "a"
      ],
      "metadata": {
        "id": "gaU9BjFo7coT",
        "colab": {
          "base_uri": "https://localhost:8080/"
        },
        "outputId": "3da41942-e1f5-454f-d61e-602ebd6c21b8"
      },
      "execution_count": null,
      "outputs": [
        {
          "output_type": "execute_result",
          "data": {
            "text/plain": [
              "2"
            ]
          },
          "metadata": {},
          "execution_count": 9
        }
      ]
    },
    {
      "cell_type": "code",
      "source": [
        "print(a)"
      ],
      "metadata": {
        "id": "8W3fcovE35hb"
      },
      "execution_count": null,
      "outputs": []
    },
    {
      "cell_type": "code",
      "metadata": {
        "id": "tfdKY-k7j60G"
      },
      "source": [
        "b=\"Big Data\""
      ],
      "execution_count": null,
      "outputs": []
    },
    {
      "cell_type": "code",
      "metadata": {
        "id": "q0Szy-JQjVvX"
      },
      "source": [
        "b"
      ],
      "execution_count": null,
      "outputs": []
    },
    {
      "cell_type": "markdown",
      "metadata": {
        "id": "PxZVJ1u1mrWd"
      },
      "source": [
        "## Segundo paso!\n",
        "\n",
        "Explorar un pandas data frame y sus tipos de datos"
      ]
    },
    {
      "cell_type": "code",
      "metadata": {
        "id": "JXZ-ULORmtgE"
      },
      "source": [
        "# cargar librería Pandas"
      ],
      "execution_count": null,
      "outputs": []
    },
    {
      "cell_type": "code",
      "metadata": {
        "id": "lzxvVMXCpOJQ"
      },
      "source": [
        "import pandas as pd"
      ],
      "execution_count": null,
      "outputs": []
    },
    {
      "cell_type": "code",
      "metadata": {
        "id": "Nb30UPrqpn7Q"
      },
      "source": [
        "# crear data frame (no le presten atención por ahora...)\n",
        "d_star_wars = pd.DataFrame({'personaje': ['Luke Skywaker', 'C-3PO', 'Darth Vader'], 'altura':[172, 167, 202]})\n",
        "\n"
      ],
      "execution_count": null,
      "outputs": []
    },
    {
      "cell_type": "code",
      "metadata": {
        "id": "wa_yyKmFqIFD",
        "colab": {
          "base_uri": "https://localhost:8080/",
          "height": 142
        },
        "outputId": "64bc1d81-9a79-46a2-b505-b6355557cc24"
      },
      "source": [
        "d_star_wars"
      ],
      "execution_count": null,
      "outputs": [
        {
          "output_type": "execute_result",
          "data": {
            "text/plain": [
              "       personaje  altura\n",
              "0  Luke Skywaker     172\n",
              "1          C-3PO     167\n",
              "2    Darth Vader     202"
            ],
            "text/html": [
              "\n",
              "  <div id=\"df-83e630c7-de64-4e3c-9812-0780e2f66fbb\" class=\"colab-df-container\">\n",
              "    <div>\n",
              "<style scoped>\n",
              "    .dataframe tbody tr th:only-of-type {\n",
              "        vertical-align: middle;\n",
              "    }\n",
              "\n",
              "    .dataframe tbody tr th {\n",
              "        vertical-align: top;\n",
              "    }\n",
              "\n",
              "    .dataframe thead th {\n",
              "        text-align: right;\n",
              "    }\n",
              "</style>\n",
              "<table border=\"1\" class=\"dataframe\">\n",
              "  <thead>\n",
              "    <tr style=\"text-align: right;\">\n",
              "      <th></th>\n",
              "      <th>personaje</th>\n",
              "      <th>altura</th>\n",
              "    </tr>\n",
              "  </thead>\n",
              "  <tbody>\n",
              "    <tr>\n",
              "      <th>0</th>\n",
              "      <td>Luke Skywaker</td>\n",
              "      <td>172</td>\n",
              "    </tr>\n",
              "    <tr>\n",
              "      <th>1</th>\n",
              "      <td>C-3PO</td>\n",
              "      <td>167</td>\n",
              "    </tr>\n",
              "    <tr>\n",
              "      <th>2</th>\n",
              "      <td>Darth Vader</td>\n",
              "      <td>202</td>\n",
              "    </tr>\n",
              "  </tbody>\n",
              "</table>\n",
              "</div>\n",
              "    <div class=\"colab-df-buttons\">\n",
              "\n",
              "  <div class=\"colab-df-container\">\n",
              "    <button class=\"colab-df-convert\" onclick=\"convertToInteractive('df-83e630c7-de64-4e3c-9812-0780e2f66fbb')\"\n",
              "            title=\"Convert this dataframe to an interactive table.\"\n",
              "            style=\"display:none;\">\n",
              "\n",
              "  <svg xmlns=\"http://www.w3.org/2000/svg\" height=\"24px\" viewBox=\"0 -960 960 960\">\n",
              "    <path d=\"M120-120v-720h720v720H120Zm60-500h600v-160H180v160Zm220 220h160v-160H400v160Zm0 220h160v-160H400v160ZM180-400h160v-160H180v160Zm440 0h160v-160H620v160ZM180-180h160v-160H180v160Zm440 0h160v-160H620v160Z\"/>\n",
              "  </svg>\n",
              "    </button>\n",
              "\n",
              "  <style>\n",
              "    .colab-df-container {\n",
              "      display:flex;\n",
              "      gap: 12px;\n",
              "    }\n",
              "\n",
              "    .colab-df-convert {\n",
              "      background-color: #E8F0FE;\n",
              "      border: none;\n",
              "      border-radius: 50%;\n",
              "      cursor: pointer;\n",
              "      display: none;\n",
              "      fill: #1967D2;\n",
              "      height: 32px;\n",
              "      padding: 0 0 0 0;\n",
              "      width: 32px;\n",
              "    }\n",
              "\n",
              "    .colab-df-convert:hover {\n",
              "      background-color: #E2EBFA;\n",
              "      box-shadow: 0px 1px 2px rgba(60, 64, 67, 0.3), 0px 1px 3px 1px rgba(60, 64, 67, 0.15);\n",
              "      fill: #174EA6;\n",
              "    }\n",
              "\n",
              "    .colab-df-buttons div {\n",
              "      margin-bottom: 4px;\n",
              "    }\n",
              "\n",
              "    [theme=dark] .colab-df-convert {\n",
              "      background-color: #3B4455;\n",
              "      fill: #D2E3FC;\n",
              "    }\n",
              "\n",
              "    [theme=dark] .colab-df-convert:hover {\n",
              "      background-color: #434B5C;\n",
              "      box-shadow: 0px 1px 3px 1px rgba(0, 0, 0, 0.15);\n",
              "      filter: drop-shadow(0px 1px 2px rgba(0, 0, 0, 0.3));\n",
              "      fill: #FFFFFF;\n",
              "    }\n",
              "  </style>\n",
              "\n",
              "    <script>\n",
              "      const buttonEl =\n",
              "        document.querySelector('#df-83e630c7-de64-4e3c-9812-0780e2f66fbb button.colab-df-convert');\n",
              "      buttonEl.style.display =\n",
              "        google.colab.kernel.accessAllowed ? 'block' : 'none';\n",
              "\n",
              "      async function convertToInteractive(key) {\n",
              "        const element = document.querySelector('#df-83e630c7-de64-4e3c-9812-0780e2f66fbb');\n",
              "        const dataTable =\n",
              "          await google.colab.kernel.invokeFunction('convertToInteractive',\n",
              "                                                    [key], {});\n",
              "        if (!dataTable) return;\n",
              "\n",
              "        const docLinkHtml = 'Like what you see? Visit the ' +\n",
              "          '<a target=\"_blank\" href=https://colab.research.google.com/notebooks/data_table.ipynb>data table notebook</a>'\n",
              "          + ' to learn more about interactive tables.';\n",
              "        element.innerHTML = '';\n",
              "        dataTable['output_type'] = 'display_data';\n",
              "        await google.colab.output.renderOutput(dataTable, element);\n",
              "        const docLink = document.createElement('div');\n",
              "        docLink.innerHTML = docLinkHtml;\n",
              "        element.appendChild(docLink);\n",
              "      }\n",
              "    </script>\n",
              "  </div>\n",
              "\n",
              "\n",
              "<div id=\"df-1660527c-0a30-49d4-a314-22f46f2eb7d4\">\n",
              "  <button class=\"colab-df-quickchart\" onclick=\"quickchart('df-1660527c-0a30-49d4-a314-22f46f2eb7d4')\"\n",
              "            title=\"Suggest charts\"\n",
              "            style=\"display:none;\">\n",
              "\n",
              "<svg xmlns=\"http://www.w3.org/2000/svg\" height=\"24px\"viewBox=\"0 0 24 24\"\n",
              "     width=\"24px\">\n",
              "    <g>\n",
              "        <path d=\"M19 3H5c-1.1 0-2 .9-2 2v14c0 1.1.9 2 2 2h14c1.1 0 2-.9 2-2V5c0-1.1-.9-2-2-2zM9 17H7v-7h2v7zm4 0h-2V7h2v10zm4 0h-2v-4h2v4z\"/>\n",
              "    </g>\n",
              "</svg>\n",
              "  </button>\n",
              "\n",
              "<style>\n",
              "  .colab-df-quickchart {\n",
              "      --bg-color: #E8F0FE;\n",
              "      --fill-color: #1967D2;\n",
              "      --hover-bg-color: #E2EBFA;\n",
              "      --hover-fill-color: #174EA6;\n",
              "      --disabled-fill-color: #AAA;\n",
              "      --disabled-bg-color: #DDD;\n",
              "  }\n",
              "\n",
              "  [theme=dark] .colab-df-quickchart {\n",
              "      --bg-color: #3B4455;\n",
              "      --fill-color: #D2E3FC;\n",
              "      --hover-bg-color: #434B5C;\n",
              "      --hover-fill-color: #FFFFFF;\n",
              "      --disabled-bg-color: #3B4455;\n",
              "      --disabled-fill-color: #666;\n",
              "  }\n",
              "\n",
              "  .colab-df-quickchart {\n",
              "    background-color: var(--bg-color);\n",
              "    border: none;\n",
              "    border-radius: 50%;\n",
              "    cursor: pointer;\n",
              "    display: none;\n",
              "    fill: var(--fill-color);\n",
              "    height: 32px;\n",
              "    padding: 0;\n",
              "    width: 32px;\n",
              "  }\n",
              "\n",
              "  .colab-df-quickchart:hover {\n",
              "    background-color: var(--hover-bg-color);\n",
              "    box-shadow: 0 1px 2px rgba(60, 64, 67, 0.3), 0 1px 3px 1px rgba(60, 64, 67, 0.15);\n",
              "    fill: var(--button-hover-fill-color);\n",
              "  }\n",
              "\n",
              "  .colab-df-quickchart-complete:disabled,\n",
              "  .colab-df-quickchart-complete:disabled:hover {\n",
              "    background-color: var(--disabled-bg-color);\n",
              "    fill: var(--disabled-fill-color);\n",
              "    box-shadow: none;\n",
              "  }\n",
              "\n",
              "  .colab-df-spinner {\n",
              "    border: 2px solid var(--fill-color);\n",
              "    border-color: transparent;\n",
              "    border-bottom-color: var(--fill-color);\n",
              "    animation:\n",
              "      spin 1s steps(1) infinite;\n",
              "  }\n",
              "\n",
              "  @keyframes spin {\n",
              "    0% {\n",
              "      border-color: transparent;\n",
              "      border-bottom-color: var(--fill-color);\n",
              "      border-left-color: var(--fill-color);\n",
              "    }\n",
              "    20% {\n",
              "      border-color: transparent;\n",
              "      border-left-color: var(--fill-color);\n",
              "      border-top-color: var(--fill-color);\n",
              "    }\n",
              "    30% {\n",
              "      border-color: transparent;\n",
              "      border-left-color: var(--fill-color);\n",
              "      border-top-color: var(--fill-color);\n",
              "      border-right-color: var(--fill-color);\n",
              "    }\n",
              "    40% {\n",
              "      border-color: transparent;\n",
              "      border-right-color: var(--fill-color);\n",
              "      border-top-color: var(--fill-color);\n",
              "    }\n",
              "    60% {\n",
              "      border-color: transparent;\n",
              "      border-right-color: var(--fill-color);\n",
              "    }\n",
              "    80% {\n",
              "      border-color: transparent;\n",
              "      border-right-color: var(--fill-color);\n",
              "      border-bottom-color: var(--fill-color);\n",
              "    }\n",
              "    90% {\n",
              "      border-color: transparent;\n",
              "      border-bottom-color: var(--fill-color);\n",
              "    }\n",
              "  }\n",
              "</style>\n",
              "\n",
              "  <script>\n",
              "    async function quickchart(key) {\n",
              "      const quickchartButtonEl =\n",
              "        document.querySelector('#' + key + ' button');\n",
              "      quickchartButtonEl.disabled = true;  // To prevent multiple clicks.\n",
              "      quickchartButtonEl.classList.add('colab-df-spinner');\n",
              "      try {\n",
              "        const charts = await google.colab.kernel.invokeFunction(\n",
              "            'suggestCharts', [key], {});\n",
              "      } catch (error) {\n",
              "        console.error('Error during call to suggestCharts:', error);\n",
              "      }\n",
              "      quickchartButtonEl.classList.remove('colab-df-spinner');\n",
              "      quickchartButtonEl.classList.add('colab-df-quickchart-complete');\n",
              "    }\n",
              "    (() => {\n",
              "      let quickchartButtonEl =\n",
              "        document.querySelector('#df-1660527c-0a30-49d4-a314-22f46f2eb7d4 button');\n",
              "      quickchartButtonEl.style.display =\n",
              "        google.colab.kernel.accessAllowed ? 'block' : 'none';\n",
              "    })();\n",
              "  </script>\n",
              "</div>\n",
              "\n",
              "  <div id=\"id_d7535d46-4bfb-4c56-a8e2-98fcc972920c\">\n",
              "    <style>\n",
              "      .colab-df-generate {\n",
              "        background-color: #E8F0FE;\n",
              "        border: none;\n",
              "        border-radius: 50%;\n",
              "        cursor: pointer;\n",
              "        display: none;\n",
              "        fill: #1967D2;\n",
              "        height: 32px;\n",
              "        padding: 0 0 0 0;\n",
              "        width: 32px;\n",
              "      }\n",
              "\n",
              "      .colab-df-generate:hover {\n",
              "        background-color: #E2EBFA;\n",
              "        box-shadow: 0px 1px 2px rgba(60, 64, 67, 0.3), 0px 1px 3px 1px rgba(60, 64, 67, 0.15);\n",
              "        fill: #174EA6;\n",
              "      }\n",
              "\n",
              "      [theme=dark] .colab-df-generate {\n",
              "        background-color: #3B4455;\n",
              "        fill: #D2E3FC;\n",
              "      }\n",
              "\n",
              "      [theme=dark] .colab-df-generate:hover {\n",
              "        background-color: #434B5C;\n",
              "        box-shadow: 0px 1px 3px 1px rgba(0, 0, 0, 0.15);\n",
              "        filter: drop-shadow(0px 1px 2px rgba(0, 0, 0, 0.3));\n",
              "        fill: #FFFFFF;\n",
              "      }\n",
              "    </style>\n",
              "    <button class=\"colab-df-generate\" onclick=\"generateWithVariable('d_star_wars')\"\n",
              "            title=\"Generate code using this dataframe.\"\n",
              "            style=\"display:none;\">\n",
              "\n",
              "  <svg xmlns=\"http://www.w3.org/2000/svg\" height=\"24px\"viewBox=\"0 0 24 24\"\n",
              "       width=\"24px\">\n",
              "    <path d=\"M7,19H8.4L18.45,9,17,7.55,7,17.6ZM5,21V16.75L18.45,3.32a2,2,0,0,1,2.83,0l1.4,1.43a1.91,1.91,0,0,1,.58,1.4,1.91,1.91,0,0,1-.58,1.4L9.25,21ZM18.45,9,17,7.55Zm-12,3A5.31,5.31,0,0,0,4.9,8.1,5.31,5.31,0,0,0,1,6.5,5.31,5.31,0,0,0,4.9,4.9,5.31,5.31,0,0,0,6.5,1,5.31,5.31,0,0,0,8.1,4.9,5.31,5.31,0,0,0,12,6.5,5.46,5.46,0,0,0,6.5,12Z\"/>\n",
              "  </svg>\n",
              "    </button>\n",
              "    <script>\n",
              "      (() => {\n",
              "      const buttonEl =\n",
              "        document.querySelector('#id_d7535d46-4bfb-4c56-a8e2-98fcc972920c button.colab-df-generate');\n",
              "      buttonEl.style.display =\n",
              "        google.colab.kernel.accessAllowed ? 'block' : 'none';\n",
              "\n",
              "      buttonEl.onclick = () => {\n",
              "        google.colab.notebook.generateWithVariable('d_star_wars');\n",
              "      }\n",
              "      })();\n",
              "    </script>\n",
              "  </div>\n",
              "\n",
              "    </div>\n",
              "  </div>\n"
            ],
            "application/vnd.google.colaboratory.intrinsic+json": {
              "type": "dataframe",
              "variable_name": "d_star_wars",
              "summary": "{\n  \"name\": \"d_star_wars\",\n  \"rows\": 3,\n  \"fields\": [\n    {\n      \"column\": \"personaje\",\n      \"properties\": {\n        \"dtype\": \"string\",\n        \"num_unique_values\": 3,\n        \"samples\": [\n          \"Luke Skywaker\",\n          \"C-3PO\",\n          \"Darth Vader\"\n        ],\n        \"semantic_type\": \"\",\n        \"description\": \"\"\n      }\n    },\n    {\n      \"column\": \"altura\",\n      \"properties\": {\n        \"dtype\": \"number\",\n        \"std\": 18,\n        \"min\": 167,\n        \"max\": 202,\n        \"num_unique_values\": 3,\n        \"samples\": [\n          172,\n          167,\n          202\n        ],\n        \"semantic_type\": \"\",\n        \"description\": \"\"\n      }\n    }\n  ]\n}"
            }
          },
          "metadata": {},
          "execution_count": 12
        }
      ]
    },
    {
      "cell_type": "code",
      "metadata": {
        "id": "zStFRFcuqJYq",
        "colab": {
          "base_uri": "https://localhost:8080/",
          "height": 145
        },
        "outputId": "6808a070-b706-4791-d41a-459547ac081b"
      },
      "source": [
        "# Tipos de datos de pandas data frame\n",
        "d_star_wars.dtypes"
      ],
      "execution_count": null,
      "outputs": [
        {
          "output_type": "execute_result",
          "data": {
            "text/plain": [
              "personaje    object\n",
              "altura        int64\n",
              "dtype: object"
            ],
            "text/html": [
              "<div>\n",
              "<style scoped>\n",
              "    .dataframe tbody tr th:only-of-type {\n",
              "        vertical-align: middle;\n",
              "    }\n",
              "\n",
              "    .dataframe tbody tr th {\n",
              "        vertical-align: top;\n",
              "    }\n",
              "\n",
              "    .dataframe thead th {\n",
              "        text-align: right;\n",
              "    }\n",
              "</style>\n",
              "<table border=\"1\" class=\"dataframe\">\n",
              "  <thead>\n",
              "    <tr style=\"text-align: right;\">\n",
              "      <th></th>\n",
              "      <th>0</th>\n",
              "    </tr>\n",
              "  </thead>\n",
              "  <tbody>\n",
              "    <tr>\n",
              "      <th>personaje</th>\n",
              "      <td>object</td>\n",
              "    </tr>\n",
              "    <tr>\n",
              "      <th>altura</th>\n",
              "      <td>int64</td>\n",
              "    </tr>\n",
              "  </tbody>\n",
              "</table>\n",
              "</div><br><label><b>dtype:</b> object</label>"
            ]
          },
          "metadata": {},
          "execution_count": 13
        }
      ]
    },
    {
      "cell_type": "code",
      "metadata": {
        "id": "gho7z3eSquB-"
      },
      "source": [
        "# Tipo de estructura de dato: la lista\n",
        "lista_personajes=['Luke Skywaker', 'C-3PO', 'Darth Vader']"
      ],
      "execution_count": null,
      "outputs": []
    },
    {
      "cell_type": "code",
      "source": [
        "lista_personajes"
      ],
      "metadata": {
        "id": "n0sSZsVa4OmE",
        "colab": {
          "base_uri": "https://localhost:8080/"
        },
        "outputId": "67adb060-6b73-42f0-f652-ebf083082a53"
      },
      "execution_count": null,
      "outputs": [
        {
          "output_type": "execute_result",
          "data": {
            "text/plain": [
              "['Luke Skywaker', 'C-3PO', 'Darth Vader']"
            ]
          },
          "metadata": {},
          "execution_count": 15
        }
      ]
    },
    {
      "cell_type": "code",
      "metadata": {
        "id": "EAcxNOCkrepw"
      },
      "source": [
        "lista_altura=[172, 167, 202]"
      ],
      "execution_count": null,
      "outputs": []
    },
    {
      "cell_type": "code",
      "metadata": {
        "id": "ENGuD1nYrjyo",
        "colab": {
          "base_uri": "https://localhost:8080/"
        },
        "outputId": "9143f3bb-ec6c-4f41-d8ae-597da9481338"
      },
      "source": [
        "lista_altura"
      ],
      "execution_count": null,
      "outputs": [
        {
          "output_type": "execute_result",
          "data": {
            "text/plain": [
              "[172, 167, 202]"
            ]
          },
          "metadata": {},
          "execution_count": 17
        }
      ]
    },
    {
      "cell_type": "code",
      "metadata": {
        "id": "LDachckBrk7V"
      },
      "source": [
        "# Crear un pandas dataframe basado en 2 listas\n",
        "dataframe_2l = pd.DataFrame({'personaje': lista_personajes,\n",
        "                   'altura':lista_altura\n",
        "                  })"
      ],
      "execution_count": null,
      "outputs": []
    },
    {
      "cell_type": "code",
      "metadata": {
        "id": "pWgOR8wAsImK",
        "colab": {
          "base_uri": "https://localhost:8080/",
          "height": 142
        },
        "outputId": "d93134a2-fe2e-4453-9451-aea64a1dbc1c"
      },
      "source": [
        "dataframe_2l"
      ],
      "execution_count": null,
      "outputs": [
        {
          "output_type": "execute_result",
          "data": {
            "text/plain": [
              "       personaje  altura\n",
              "0  Luke Skywaker     172\n",
              "1          C-3PO     167\n",
              "2    Darth Vader     202"
            ],
            "text/html": [
              "\n",
              "  <div id=\"df-cdd3361b-22f2-4a0d-94c3-aa323c78a273\" class=\"colab-df-container\">\n",
              "    <div>\n",
              "<style scoped>\n",
              "    .dataframe tbody tr th:only-of-type {\n",
              "        vertical-align: middle;\n",
              "    }\n",
              "\n",
              "    .dataframe tbody tr th {\n",
              "        vertical-align: top;\n",
              "    }\n",
              "\n",
              "    .dataframe thead th {\n",
              "        text-align: right;\n",
              "    }\n",
              "</style>\n",
              "<table border=\"1\" class=\"dataframe\">\n",
              "  <thead>\n",
              "    <tr style=\"text-align: right;\">\n",
              "      <th></th>\n",
              "      <th>personaje</th>\n",
              "      <th>altura</th>\n",
              "    </tr>\n",
              "  </thead>\n",
              "  <tbody>\n",
              "    <tr>\n",
              "      <th>0</th>\n",
              "      <td>Luke Skywaker</td>\n",
              "      <td>172</td>\n",
              "    </tr>\n",
              "    <tr>\n",
              "      <th>1</th>\n",
              "      <td>C-3PO</td>\n",
              "      <td>167</td>\n",
              "    </tr>\n",
              "    <tr>\n",
              "      <th>2</th>\n",
              "      <td>Darth Vader</td>\n",
              "      <td>202</td>\n",
              "    </tr>\n",
              "  </tbody>\n",
              "</table>\n",
              "</div>\n",
              "    <div class=\"colab-df-buttons\">\n",
              "\n",
              "  <div class=\"colab-df-container\">\n",
              "    <button class=\"colab-df-convert\" onclick=\"convertToInteractive('df-cdd3361b-22f2-4a0d-94c3-aa323c78a273')\"\n",
              "            title=\"Convert this dataframe to an interactive table.\"\n",
              "            style=\"display:none;\">\n",
              "\n",
              "  <svg xmlns=\"http://www.w3.org/2000/svg\" height=\"24px\" viewBox=\"0 -960 960 960\">\n",
              "    <path d=\"M120-120v-720h720v720H120Zm60-500h600v-160H180v160Zm220 220h160v-160H400v160Zm0 220h160v-160H400v160ZM180-400h160v-160H180v160Zm440 0h160v-160H620v160ZM180-180h160v-160H180v160Zm440 0h160v-160H620v160Z\"/>\n",
              "  </svg>\n",
              "    </button>\n",
              "\n",
              "  <style>\n",
              "    .colab-df-container {\n",
              "      display:flex;\n",
              "      gap: 12px;\n",
              "    }\n",
              "\n",
              "    .colab-df-convert {\n",
              "      background-color: #E8F0FE;\n",
              "      border: none;\n",
              "      border-radius: 50%;\n",
              "      cursor: pointer;\n",
              "      display: none;\n",
              "      fill: #1967D2;\n",
              "      height: 32px;\n",
              "      padding: 0 0 0 0;\n",
              "      width: 32px;\n",
              "    }\n",
              "\n",
              "    .colab-df-convert:hover {\n",
              "      background-color: #E2EBFA;\n",
              "      box-shadow: 0px 1px 2px rgba(60, 64, 67, 0.3), 0px 1px 3px 1px rgba(60, 64, 67, 0.15);\n",
              "      fill: #174EA6;\n",
              "    }\n",
              "\n",
              "    .colab-df-buttons div {\n",
              "      margin-bottom: 4px;\n",
              "    }\n",
              "\n",
              "    [theme=dark] .colab-df-convert {\n",
              "      background-color: #3B4455;\n",
              "      fill: #D2E3FC;\n",
              "    }\n",
              "\n",
              "    [theme=dark] .colab-df-convert:hover {\n",
              "      background-color: #434B5C;\n",
              "      box-shadow: 0px 1px 3px 1px rgba(0, 0, 0, 0.15);\n",
              "      filter: drop-shadow(0px 1px 2px rgba(0, 0, 0, 0.3));\n",
              "      fill: #FFFFFF;\n",
              "    }\n",
              "  </style>\n",
              "\n",
              "    <script>\n",
              "      const buttonEl =\n",
              "        document.querySelector('#df-cdd3361b-22f2-4a0d-94c3-aa323c78a273 button.colab-df-convert');\n",
              "      buttonEl.style.display =\n",
              "        google.colab.kernel.accessAllowed ? 'block' : 'none';\n",
              "\n",
              "      async function convertToInteractive(key) {\n",
              "        const element = document.querySelector('#df-cdd3361b-22f2-4a0d-94c3-aa323c78a273');\n",
              "        const dataTable =\n",
              "          await google.colab.kernel.invokeFunction('convertToInteractive',\n",
              "                                                    [key], {});\n",
              "        if (!dataTable) return;\n",
              "\n",
              "        const docLinkHtml = 'Like what you see? Visit the ' +\n",
              "          '<a target=\"_blank\" href=https://colab.research.google.com/notebooks/data_table.ipynb>data table notebook</a>'\n",
              "          + ' to learn more about interactive tables.';\n",
              "        element.innerHTML = '';\n",
              "        dataTable['output_type'] = 'display_data';\n",
              "        await google.colab.output.renderOutput(dataTable, element);\n",
              "        const docLink = document.createElement('div');\n",
              "        docLink.innerHTML = docLinkHtml;\n",
              "        element.appendChild(docLink);\n",
              "      }\n",
              "    </script>\n",
              "  </div>\n",
              "\n",
              "\n",
              "<div id=\"df-6a27055e-a083-4e93-a1c4-9318d49c3aec\">\n",
              "  <button class=\"colab-df-quickchart\" onclick=\"quickchart('df-6a27055e-a083-4e93-a1c4-9318d49c3aec')\"\n",
              "            title=\"Suggest charts\"\n",
              "            style=\"display:none;\">\n",
              "\n",
              "<svg xmlns=\"http://www.w3.org/2000/svg\" height=\"24px\"viewBox=\"0 0 24 24\"\n",
              "     width=\"24px\">\n",
              "    <g>\n",
              "        <path d=\"M19 3H5c-1.1 0-2 .9-2 2v14c0 1.1.9 2 2 2h14c1.1 0 2-.9 2-2V5c0-1.1-.9-2-2-2zM9 17H7v-7h2v7zm4 0h-2V7h2v10zm4 0h-2v-4h2v4z\"/>\n",
              "    </g>\n",
              "</svg>\n",
              "  </button>\n",
              "\n",
              "<style>\n",
              "  .colab-df-quickchart {\n",
              "      --bg-color: #E8F0FE;\n",
              "      --fill-color: #1967D2;\n",
              "      --hover-bg-color: #E2EBFA;\n",
              "      --hover-fill-color: #174EA6;\n",
              "      --disabled-fill-color: #AAA;\n",
              "      --disabled-bg-color: #DDD;\n",
              "  }\n",
              "\n",
              "  [theme=dark] .colab-df-quickchart {\n",
              "      --bg-color: #3B4455;\n",
              "      --fill-color: #D2E3FC;\n",
              "      --hover-bg-color: #434B5C;\n",
              "      --hover-fill-color: #FFFFFF;\n",
              "      --disabled-bg-color: #3B4455;\n",
              "      --disabled-fill-color: #666;\n",
              "  }\n",
              "\n",
              "  .colab-df-quickchart {\n",
              "    background-color: var(--bg-color);\n",
              "    border: none;\n",
              "    border-radius: 50%;\n",
              "    cursor: pointer;\n",
              "    display: none;\n",
              "    fill: var(--fill-color);\n",
              "    height: 32px;\n",
              "    padding: 0;\n",
              "    width: 32px;\n",
              "  }\n",
              "\n",
              "  .colab-df-quickchart:hover {\n",
              "    background-color: var(--hover-bg-color);\n",
              "    box-shadow: 0 1px 2px rgba(60, 64, 67, 0.3), 0 1px 3px 1px rgba(60, 64, 67, 0.15);\n",
              "    fill: var(--button-hover-fill-color);\n",
              "  }\n",
              "\n",
              "  .colab-df-quickchart-complete:disabled,\n",
              "  .colab-df-quickchart-complete:disabled:hover {\n",
              "    background-color: var(--disabled-bg-color);\n",
              "    fill: var(--disabled-fill-color);\n",
              "    box-shadow: none;\n",
              "  }\n",
              "\n",
              "  .colab-df-spinner {\n",
              "    border: 2px solid var(--fill-color);\n",
              "    border-color: transparent;\n",
              "    border-bottom-color: var(--fill-color);\n",
              "    animation:\n",
              "      spin 1s steps(1) infinite;\n",
              "  }\n",
              "\n",
              "  @keyframes spin {\n",
              "    0% {\n",
              "      border-color: transparent;\n",
              "      border-bottom-color: var(--fill-color);\n",
              "      border-left-color: var(--fill-color);\n",
              "    }\n",
              "    20% {\n",
              "      border-color: transparent;\n",
              "      border-left-color: var(--fill-color);\n",
              "      border-top-color: var(--fill-color);\n",
              "    }\n",
              "    30% {\n",
              "      border-color: transparent;\n",
              "      border-left-color: var(--fill-color);\n",
              "      border-top-color: var(--fill-color);\n",
              "      border-right-color: var(--fill-color);\n",
              "    }\n",
              "    40% {\n",
              "      border-color: transparent;\n",
              "      border-right-color: var(--fill-color);\n",
              "      border-top-color: var(--fill-color);\n",
              "    }\n",
              "    60% {\n",
              "      border-color: transparent;\n",
              "      border-right-color: var(--fill-color);\n",
              "    }\n",
              "    80% {\n",
              "      border-color: transparent;\n",
              "      border-right-color: var(--fill-color);\n",
              "      border-bottom-color: var(--fill-color);\n",
              "    }\n",
              "    90% {\n",
              "      border-color: transparent;\n",
              "      border-bottom-color: var(--fill-color);\n",
              "    }\n",
              "  }\n",
              "</style>\n",
              "\n",
              "  <script>\n",
              "    async function quickchart(key) {\n",
              "      const quickchartButtonEl =\n",
              "        document.querySelector('#' + key + ' button');\n",
              "      quickchartButtonEl.disabled = true;  // To prevent multiple clicks.\n",
              "      quickchartButtonEl.classList.add('colab-df-spinner');\n",
              "      try {\n",
              "        const charts = await google.colab.kernel.invokeFunction(\n",
              "            'suggestCharts', [key], {});\n",
              "      } catch (error) {\n",
              "        console.error('Error during call to suggestCharts:', error);\n",
              "      }\n",
              "      quickchartButtonEl.classList.remove('colab-df-spinner');\n",
              "      quickchartButtonEl.classList.add('colab-df-quickchart-complete');\n",
              "    }\n",
              "    (() => {\n",
              "      let quickchartButtonEl =\n",
              "        document.querySelector('#df-6a27055e-a083-4e93-a1c4-9318d49c3aec button');\n",
              "      quickchartButtonEl.style.display =\n",
              "        google.colab.kernel.accessAllowed ? 'block' : 'none';\n",
              "    })();\n",
              "  </script>\n",
              "</div>\n",
              "\n",
              "  <div id=\"id_88f7388e-a5d2-40b0-9ea2-b7a7313ff212\">\n",
              "    <style>\n",
              "      .colab-df-generate {\n",
              "        background-color: #E8F0FE;\n",
              "        border: none;\n",
              "        border-radius: 50%;\n",
              "        cursor: pointer;\n",
              "        display: none;\n",
              "        fill: #1967D2;\n",
              "        height: 32px;\n",
              "        padding: 0 0 0 0;\n",
              "        width: 32px;\n",
              "      }\n",
              "\n",
              "      .colab-df-generate:hover {\n",
              "        background-color: #E2EBFA;\n",
              "        box-shadow: 0px 1px 2px rgba(60, 64, 67, 0.3), 0px 1px 3px 1px rgba(60, 64, 67, 0.15);\n",
              "        fill: #174EA6;\n",
              "      }\n",
              "\n",
              "      [theme=dark] .colab-df-generate {\n",
              "        background-color: #3B4455;\n",
              "        fill: #D2E3FC;\n",
              "      }\n",
              "\n",
              "      [theme=dark] .colab-df-generate:hover {\n",
              "        background-color: #434B5C;\n",
              "        box-shadow: 0px 1px 3px 1px rgba(0, 0, 0, 0.15);\n",
              "        filter: drop-shadow(0px 1px 2px rgba(0, 0, 0, 0.3));\n",
              "        fill: #FFFFFF;\n",
              "      }\n",
              "    </style>\n",
              "    <button class=\"colab-df-generate\" onclick=\"generateWithVariable('dataframe_2l')\"\n",
              "            title=\"Generate code using this dataframe.\"\n",
              "            style=\"display:none;\">\n",
              "\n",
              "  <svg xmlns=\"http://www.w3.org/2000/svg\" height=\"24px\"viewBox=\"0 0 24 24\"\n",
              "       width=\"24px\">\n",
              "    <path d=\"M7,19H8.4L18.45,9,17,7.55,7,17.6ZM5,21V16.75L18.45,3.32a2,2,0,0,1,2.83,0l1.4,1.43a1.91,1.91,0,0,1,.58,1.4,1.91,1.91,0,0,1-.58,1.4L9.25,21ZM18.45,9,17,7.55Zm-12,3A5.31,5.31,0,0,0,4.9,8.1,5.31,5.31,0,0,0,1,6.5,5.31,5.31,0,0,0,4.9,4.9,5.31,5.31,0,0,0,6.5,1,5.31,5.31,0,0,0,8.1,4.9,5.31,5.31,0,0,0,12,6.5,5.46,5.46,0,0,0,6.5,12Z\"/>\n",
              "  </svg>\n",
              "    </button>\n",
              "    <script>\n",
              "      (() => {\n",
              "      const buttonEl =\n",
              "        document.querySelector('#id_88f7388e-a5d2-40b0-9ea2-b7a7313ff212 button.colab-df-generate');\n",
              "      buttonEl.style.display =\n",
              "        google.colab.kernel.accessAllowed ? 'block' : 'none';\n",
              "\n",
              "      buttonEl.onclick = () => {\n",
              "        google.colab.notebook.generateWithVariable('dataframe_2l');\n",
              "      }\n",
              "      })();\n",
              "    </script>\n",
              "  </div>\n",
              "\n",
              "    </div>\n",
              "  </div>\n"
            ],
            "application/vnd.google.colaboratory.intrinsic+json": {
              "type": "dataframe",
              "variable_name": "dataframe_2l",
              "summary": "{\n  \"name\": \"dataframe_2l\",\n  \"rows\": 3,\n  \"fields\": [\n    {\n      \"column\": \"personaje\",\n      \"properties\": {\n        \"dtype\": \"string\",\n        \"num_unique_values\": 3,\n        \"samples\": [\n          \"Luke Skywaker\",\n          \"C-3PO\",\n          \"Darth Vader\"\n        ],\n        \"semantic_type\": \"\",\n        \"description\": \"\"\n      }\n    },\n    {\n      \"column\": \"altura\",\n      \"properties\": {\n        \"dtype\": \"number\",\n        \"std\": 18,\n        \"min\": 167,\n        \"max\": 202,\n        \"num_unique_values\": 3,\n        \"samples\": [\n          172,\n          167,\n          202\n        ],\n        \"semantic_type\": \"\",\n        \"description\": \"\"\n      }\n    }\n  ]\n}"
            }
          },
          "metadata": {},
          "execution_count": 19
        }
      ]
    },
    {
      "cell_type": "markdown",
      "metadata": {
        "id": "RcwFKkcCMrpz"
      },
      "source": [
        "## Tercer paso!\n",
        "\n",
        "Filtrar datos en pandas. La lógica de la notación vectorial."
      ]
    },
    {
      "cell_type": "code",
      "metadata": {
        "id": "HRem86xYMtP-",
        "colab": {
          "base_uri": "https://localhost:8080/",
          "height": 142
        },
        "outputId": "71943bf4-f3a5-45d7-e7fd-90f2f6eac0b6"
      },
      "source": [
        "d_star_wars"
      ],
      "execution_count": null,
      "outputs": [
        {
          "output_type": "execute_result",
          "data": {
            "text/plain": [
              "       personaje  altura\n",
              "0  Luke Skywaker     172\n",
              "1          C-3PO     167\n",
              "2    Darth Vader     202"
            ],
            "text/html": [
              "\n",
              "  <div id=\"df-083f49ae-9078-4d87-a230-e5c1c069070d\" class=\"colab-df-container\">\n",
              "    <div>\n",
              "<style scoped>\n",
              "    .dataframe tbody tr th:only-of-type {\n",
              "        vertical-align: middle;\n",
              "    }\n",
              "\n",
              "    .dataframe tbody tr th {\n",
              "        vertical-align: top;\n",
              "    }\n",
              "\n",
              "    .dataframe thead th {\n",
              "        text-align: right;\n",
              "    }\n",
              "</style>\n",
              "<table border=\"1\" class=\"dataframe\">\n",
              "  <thead>\n",
              "    <tr style=\"text-align: right;\">\n",
              "      <th></th>\n",
              "      <th>personaje</th>\n",
              "      <th>altura</th>\n",
              "    </tr>\n",
              "  </thead>\n",
              "  <tbody>\n",
              "    <tr>\n",
              "      <th>0</th>\n",
              "      <td>Luke Skywaker</td>\n",
              "      <td>172</td>\n",
              "    </tr>\n",
              "    <tr>\n",
              "      <th>1</th>\n",
              "      <td>C-3PO</td>\n",
              "      <td>167</td>\n",
              "    </tr>\n",
              "    <tr>\n",
              "      <th>2</th>\n",
              "      <td>Darth Vader</td>\n",
              "      <td>202</td>\n",
              "    </tr>\n",
              "  </tbody>\n",
              "</table>\n",
              "</div>\n",
              "    <div class=\"colab-df-buttons\">\n",
              "\n",
              "  <div class=\"colab-df-container\">\n",
              "    <button class=\"colab-df-convert\" onclick=\"convertToInteractive('df-083f49ae-9078-4d87-a230-e5c1c069070d')\"\n",
              "            title=\"Convert this dataframe to an interactive table.\"\n",
              "            style=\"display:none;\">\n",
              "\n",
              "  <svg xmlns=\"http://www.w3.org/2000/svg\" height=\"24px\" viewBox=\"0 -960 960 960\">\n",
              "    <path d=\"M120-120v-720h720v720H120Zm60-500h600v-160H180v160Zm220 220h160v-160H400v160Zm0 220h160v-160H400v160ZM180-400h160v-160H180v160Zm440 0h160v-160H620v160ZM180-180h160v-160H180v160Zm440 0h160v-160H620v160Z\"/>\n",
              "  </svg>\n",
              "    </button>\n",
              "\n",
              "  <style>\n",
              "    .colab-df-container {\n",
              "      display:flex;\n",
              "      gap: 12px;\n",
              "    }\n",
              "\n",
              "    .colab-df-convert {\n",
              "      background-color: #E8F0FE;\n",
              "      border: none;\n",
              "      border-radius: 50%;\n",
              "      cursor: pointer;\n",
              "      display: none;\n",
              "      fill: #1967D2;\n",
              "      height: 32px;\n",
              "      padding: 0 0 0 0;\n",
              "      width: 32px;\n",
              "    }\n",
              "\n",
              "    .colab-df-convert:hover {\n",
              "      background-color: #E2EBFA;\n",
              "      box-shadow: 0px 1px 2px rgba(60, 64, 67, 0.3), 0px 1px 3px 1px rgba(60, 64, 67, 0.15);\n",
              "      fill: #174EA6;\n",
              "    }\n",
              "\n",
              "    .colab-df-buttons div {\n",
              "      margin-bottom: 4px;\n",
              "    }\n",
              "\n",
              "    [theme=dark] .colab-df-convert {\n",
              "      background-color: #3B4455;\n",
              "      fill: #D2E3FC;\n",
              "    }\n",
              "\n",
              "    [theme=dark] .colab-df-convert:hover {\n",
              "      background-color: #434B5C;\n",
              "      box-shadow: 0px 1px 3px 1px rgba(0, 0, 0, 0.15);\n",
              "      filter: drop-shadow(0px 1px 2px rgba(0, 0, 0, 0.3));\n",
              "      fill: #FFFFFF;\n",
              "    }\n",
              "  </style>\n",
              "\n",
              "    <script>\n",
              "      const buttonEl =\n",
              "        document.querySelector('#df-083f49ae-9078-4d87-a230-e5c1c069070d button.colab-df-convert');\n",
              "      buttonEl.style.display =\n",
              "        google.colab.kernel.accessAllowed ? 'block' : 'none';\n",
              "\n",
              "      async function convertToInteractive(key) {\n",
              "        const element = document.querySelector('#df-083f49ae-9078-4d87-a230-e5c1c069070d');\n",
              "        const dataTable =\n",
              "          await google.colab.kernel.invokeFunction('convertToInteractive',\n",
              "                                                    [key], {});\n",
              "        if (!dataTable) return;\n",
              "\n",
              "        const docLinkHtml = 'Like what you see? Visit the ' +\n",
              "          '<a target=\"_blank\" href=https://colab.research.google.com/notebooks/data_table.ipynb>data table notebook</a>'\n",
              "          + ' to learn more about interactive tables.';\n",
              "        element.innerHTML = '';\n",
              "        dataTable['output_type'] = 'display_data';\n",
              "        await google.colab.output.renderOutput(dataTable, element);\n",
              "        const docLink = document.createElement('div');\n",
              "        docLink.innerHTML = docLinkHtml;\n",
              "        element.appendChild(docLink);\n",
              "      }\n",
              "    </script>\n",
              "  </div>\n",
              "\n",
              "\n",
              "<div id=\"df-f7d380cb-82b1-47e5-b821-c7433a139fad\">\n",
              "  <button class=\"colab-df-quickchart\" onclick=\"quickchart('df-f7d380cb-82b1-47e5-b821-c7433a139fad')\"\n",
              "            title=\"Suggest charts\"\n",
              "            style=\"display:none;\">\n",
              "\n",
              "<svg xmlns=\"http://www.w3.org/2000/svg\" height=\"24px\"viewBox=\"0 0 24 24\"\n",
              "     width=\"24px\">\n",
              "    <g>\n",
              "        <path d=\"M19 3H5c-1.1 0-2 .9-2 2v14c0 1.1.9 2 2 2h14c1.1 0 2-.9 2-2V5c0-1.1-.9-2-2-2zM9 17H7v-7h2v7zm4 0h-2V7h2v10zm4 0h-2v-4h2v4z\"/>\n",
              "    </g>\n",
              "</svg>\n",
              "  </button>\n",
              "\n",
              "<style>\n",
              "  .colab-df-quickchart {\n",
              "      --bg-color: #E8F0FE;\n",
              "      --fill-color: #1967D2;\n",
              "      --hover-bg-color: #E2EBFA;\n",
              "      --hover-fill-color: #174EA6;\n",
              "      --disabled-fill-color: #AAA;\n",
              "      --disabled-bg-color: #DDD;\n",
              "  }\n",
              "\n",
              "  [theme=dark] .colab-df-quickchart {\n",
              "      --bg-color: #3B4455;\n",
              "      --fill-color: #D2E3FC;\n",
              "      --hover-bg-color: #434B5C;\n",
              "      --hover-fill-color: #FFFFFF;\n",
              "      --disabled-bg-color: #3B4455;\n",
              "      --disabled-fill-color: #666;\n",
              "  }\n",
              "\n",
              "  .colab-df-quickchart {\n",
              "    background-color: var(--bg-color);\n",
              "    border: none;\n",
              "    border-radius: 50%;\n",
              "    cursor: pointer;\n",
              "    display: none;\n",
              "    fill: var(--fill-color);\n",
              "    height: 32px;\n",
              "    padding: 0;\n",
              "    width: 32px;\n",
              "  }\n",
              "\n",
              "  .colab-df-quickchart:hover {\n",
              "    background-color: var(--hover-bg-color);\n",
              "    box-shadow: 0 1px 2px rgba(60, 64, 67, 0.3), 0 1px 3px 1px rgba(60, 64, 67, 0.15);\n",
              "    fill: var(--button-hover-fill-color);\n",
              "  }\n",
              "\n",
              "  .colab-df-quickchart-complete:disabled,\n",
              "  .colab-df-quickchart-complete:disabled:hover {\n",
              "    background-color: var(--disabled-bg-color);\n",
              "    fill: var(--disabled-fill-color);\n",
              "    box-shadow: none;\n",
              "  }\n",
              "\n",
              "  .colab-df-spinner {\n",
              "    border: 2px solid var(--fill-color);\n",
              "    border-color: transparent;\n",
              "    border-bottom-color: var(--fill-color);\n",
              "    animation:\n",
              "      spin 1s steps(1) infinite;\n",
              "  }\n",
              "\n",
              "  @keyframes spin {\n",
              "    0% {\n",
              "      border-color: transparent;\n",
              "      border-bottom-color: var(--fill-color);\n",
              "      border-left-color: var(--fill-color);\n",
              "    }\n",
              "    20% {\n",
              "      border-color: transparent;\n",
              "      border-left-color: var(--fill-color);\n",
              "      border-top-color: var(--fill-color);\n",
              "    }\n",
              "    30% {\n",
              "      border-color: transparent;\n",
              "      border-left-color: var(--fill-color);\n",
              "      border-top-color: var(--fill-color);\n",
              "      border-right-color: var(--fill-color);\n",
              "    }\n",
              "    40% {\n",
              "      border-color: transparent;\n",
              "      border-right-color: var(--fill-color);\n",
              "      border-top-color: var(--fill-color);\n",
              "    }\n",
              "    60% {\n",
              "      border-color: transparent;\n",
              "      border-right-color: var(--fill-color);\n",
              "    }\n",
              "    80% {\n",
              "      border-color: transparent;\n",
              "      border-right-color: var(--fill-color);\n",
              "      border-bottom-color: var(--fill-color);\n",
              "    }\n",
              "    90% {\n",
              "      border-color: transparent;\n",
              "      border-bottom-color: var(--fill-color);\n",
              "    }\n",
              "  }\n",
              "</style>\n",
              "\n",
              "  <script>\n",
              "    async function quickchart(key) {\n",
              "      const quickchartButtonEl =\n",
              "        document.querySelector('#' + key + ' button');\n",
              "      quickchartButtonEl.disabled = true;  // To prevent multiple clicks.\n",
              "      quickchartButtonEl.classList.add('colab-df-spinner');\n",
              "      try {\n",
              "        const charts = await google.colab.kernel.invokeFunction(\n",
              "            'suggestCharts', [key], {});\n",
              "      } catch (error) {\n",
              "        console.error('Error during call to suggestCharts:', error);\n",
              "      }\n",
              "      quickchartButtonEl.classList.remove('colab-df-spinner');\n",
              "      quickchartButtonEl.classList.add('colab-df-quickchart-complete');\n",
              "    }\n",
              "    (() => {\n",
              "      let quickchartButtonEl =\n",
              "        document.querySelector('#df-f7d380cb-82b1-47e5-b821-c7433a139fad button');\n",
              "      quickchartButtonEl.style.display =\n",
              "        google.colab.kernel.accessAllowed ? 'block' : 'none';\n",
              "    })();\n",
              "  </script>\n",
              "</div>\n",
              "\n",
              "  <div id=\"id_829de32a-e0bb-47fc-9085-742156a6f023\">\n",
              "    <style>\n",
              "      .colab-df-generate {\n",
              "        background-color: #E8F0FE;\n",
              "        border: none;\n",
              "        border-radius: 50%;\n",
              "        cursor: pointer;\n",
              "        display: none;\n",
              "        fill: #1967D2;\n",
              "        height: 32px;\n",
              "        padding: 0 0 0 0;\n",
              "        width: 32px;\n",
              "      }\n",
              "\n",
              "      .colab-df-generate:hover {\n",
              "        background-color: #E2EBFA;\n",
              "        box-shadow: 0px 1px 2px rgba(60, 64, 67, 0.3), 0px 1px 3px 1px rgba(60, 64, 67, 0.15);\n",
              "        fill: #174EA6;\n",
              "      }\n",
              "\n",
              "      [theme=dark] .colab-df-generate {\n",
              "        background-color: #3B4455;\n",
              "        fill: #D2E3FC;\n",
              "      }\n",
              "\n",
              "      [theme=dark] .colab-df-generate:hover {\n",
              "        background-color: #434B5C;\n",
              "        box-shadow: 0px 1px 3px 1px rgba(0, 0, 0, 0.15);\n",
              "        filter: drop-shadow(0px 1px 2px rgba(0, 0, 0, 0.3));\n",
              "        fill: #FFFFFF;\n",
              "      }\n",
              "    </style>\n",
              "    <button class=\"colab-df-generate\" onclick=\"generateWithVariable('d_star_wars')\"\n",
              "            title=\"Generate code using this dataframe.\"\n",
              "            style=\"display:none;\">\n",
              "\n",
              "  <svg xmlns=\"http://www.w3.org/2000/svg\" height=\"24px\"viewBox=\"0 0 24 24\"\n",
              "       width=\"24px\">\n",
              "    <path d=\"M7,19H8.4L18.45,9,17,7.55,7,17.6ZM5,21V16.75L18.45,3.32a2,2,0,0,1,2.83,0l1.4,1.43a1.91,1.91,0,0,1,.58,1.4,1.91,1.91,0,0,1-.58,1.4L9.25,21ZM18.45,9,17,7.55Zm-12,3A5.31,5.31,0,0,0,4.9,8.1,5.31,5.31,0,0,0,1,6.5,5.31,5.31,0,0,0,4.9,4.9,5.31,5.31,0,0,0,6.5,1,5.31,5.31,0,0,0,8.1,4.9,5.31,5.31,0,0,0,12,6.5,5.46,5.46,0,0,0,6.5,12Z\"/>\n",
              "  </svg>\n",
              "    </button>\n",
              "    <script>\n",
              "      (() => {\n",
              "      const buttonEl =\n",
              "        document.querySelector('#id_829de32a-e0bb-47fc-9085-742156a6f023 button.colab-df-generate');\n",
              "      buttonEl.style.display =\n",
              "        google.colab.kernel.accessAllowed ? 'block' : 'none';\n",
              "\n",
              "      buttonEl.onclick = () => {\n",
              "        google.colab.notebook.generateWithVariable('d_star_wars');\n",
              "      }\n",
              "      })();\n",
              "    </script>\n",
              "  </div>\n",
              "\n",
              "    </div>\n",
              "  </div>\n"
            ],
            "application/vnd.google.colaboratory.intrinsic+json": {
              "type": "dataframe",
              "variable_name": "d_star_wars",
              "summary": "{\n  \"name\": \"d_star_wars\",\n  \"rows\": 3,\n  \"fields\": [\n    {\n      \"column\": \"personaje\",\n      \"properties\": {\n        \"dtype\": \"string\",\n        \"num_unique_values\": 3,\n        \"samples\": [\n          \"Luke Skywaker\",\n          \"C-3PO\",\n          \"Darth Vader\"\n        ],\n        \"semantic_type\": \"\",\n        \"description\": \"\"\n      }\n    },\n    {\n      \"column\": \"altura\",\n      \"properties\": {\n        \"dtype\": \"number\",\n        \"std\": 18,\n        \"min\": 167,\n        \"max\": 202,\n        \"num_unique_values\": 3,\n        \"samples\": [\n          172,\n          167,\n          202\n        ],\n        \"semantic_type\": \"\",\n        \"description\": \"\"\n      }\n    }\n  ]\n}"
            }
          },
          "metadata": {},
          "execution_count": 20
        }
      ]
    },
    {
      "cell_type": "code",
      "metadata": {
        "id": "cPA7uoqjOQwx",
        "colab": {
          "base_uri": "https://localhost:8080/",
          "height": 176
        },
        "outputId": "4a5843f5-b3da-4001-a395-b35c5fd5cf0f"
      },
      "source": [
        "d_star_wars['personaje'] # devuelve un pandas series"
      ],
      "execution_count": null,
      "outputs": [
        {
          "output_type": "execute_result",
          "data": {
            "text/plain": [
              "0    Luke Skywaker\n",
              "1            C-3PO\n",
              "2      Darth Vader\n",
              "Name: personaje, dtype: object"
            ],
            "text/html": [
              "<div>\n",
              "<style scoped>\n",
              "    .dataframe tbody tr th:only-of-type {\n",
              "        vertical-align: middle;\n",
              "    }\n",
              "\n",
              "    .dataframe tbody tr th {\n",
              "        vertical-align: top;\n",
              "    }\n",
              "\n",
              "    .dataframe thead th {\n",
              "        text-align: right;\n",
              "    }\n",
              "</style>\n",
              "<table border=\"1\" class=\"dataframe\">\n",
              "  <thead>\n",
              "    <tr style=\"text-align: right;\">\n",
              "      <th></th>\n",
              "      <th>personaje</th>\n",
              "    </tr>\n",
              "  </thead>\n",
              "  <tbody>\n",
              "    <tr>\n",
              "      <th>0</th>\n",
              "      <td>Luke Skywaker</td>\n",
              "    </tr>\n",
              "    <tr>\n",
              "      <th>1</th>\n",
              "      <td>C-3PO</td>\n",
              "    </tr>\n",
              "    <tr>\n",
              "      <th>2</th>\n",
              "      <td>Darth Vader</td>\n",
              "    </tr>\n",
              "  </tbody>\n",
              "</table>\n",
              "</div><br><label><b>dtype:</b> object</label>"
            ]
          },
          "metadata": {},
          "execution_count": 21
        }
      ]
    },
    {
      "cell_type": "code",
      "metadata": {
        "id": "BWK3M7zROv4T",
        "colab": {
          "base_uri": "https://localhost:8080/",
          "height": 176
        },
        "outputId": "a275e991-d048-4077-d67b-7f2d48ad8739"
      },
      "source": [
        "# d_star_wars.iloc[indice de fila, indice de columna]\n",
        "d_star_wars.iloc[:, 0] # los dos puntos simboliza los slides"
      ],
      "execution_count": null,
      "outputs": [
        {
          "output_type": "execute_result",
          "data": {
            "text/plain": [
              "0    Luke Skywaker\n",
              "1            C-3PO\n",
              "2      Darth Vader\n",
              "Name: personaje, dtype: object"
            ],
            "text/html": [
              "<div>\n",
              "<style scoped>\n",
              "    .dataframe tbody tr th:only-of-type {\n",
              "        vertical-align: middle;\n",
              "    }\n",
              "\n",
              "    .dataframe tbody tr th {\n",
              "        vertical-align: top;\n",
              "    }\n",
              "\n",
              "    .dataframe thead th {\n",
              "        text-align: right;\n",
              "    }\n",
              "</style>\n",
              "<table border=\"1\" class=\"dataframe\">\n",
              "  <thead>\n",
              "    <tr style=\"text-align: right;\">\n",
              "      <th></th>\n",
              "      <th>personaje</th>\n",
              "    </tr>\n",
              "  </thead>\n",
              "  <tbody>\n",
              "    <tr>\n",
              "      <th>0</th>\n",
              "      <td>Luke Skywaker</td>\n",
              "    </tr>\n",
              "    <tr>\n",
              "      <th>1</th>\n",
              "      <td>C-3PO</td>\n",
              "    </tr>\n",
              "    <tr>\n",
              "      <th>2</th>\n",
              "      <td>Darth Vader</td>\n",
              "    </tr>\n",
              "  </tbody>\n",
              "</table>\n",
              "</div><br><label><b>dtype:</b> object</label>"
            ]
          },
          "metadata": {},
          "execution_count": 22
        }
      ]
    },
    {
      "cell_type": "code",
      "metadata": {
        "id": "akn758rfO6kk",
        "colab": {
          "base_uri": "https://localhost:8080/",
          "height": 145
        },
        "outputId": "890faae6-67a0-4d5e-fafb-86ade580df4b"
      },
      "source": [
        "# devuelve todo el registro 0\n",
        "d_star_wars.iloc[0, :]"
      ],
      "execution_count": null,
      "outputs": [
        {
          "output_type": "execute_result",
          "data": {
            "text/plain": [
              "personaje    Luke Skywaker\n",
              "altura                 172\n",
              "Name: 0, dtype: object"
            ],
            "text/html": [
              "<div>\n",
              "<style scoped>\n",
              "    .dataframe tbody tr th:only-of-type {\n",
              "        vertical-align: middle;\n",
              "    }\n",
              "\n",
              "    .dataframe tbody tr th {\n",
              "        vertical-align: top;\n",
              "    }\n",
              "\n",
              "    .dataframe thead th {\n",
              "        text-align: right;\n",
              "    }\n",
              "</style>\n",
              "<table border=\"1\" class=\"dataframe\">\n",
              "  <thead>\n",
              "    <tr style=\"text-align: right;\">\n",
              "      <th></th>\n",
              "      <th>0</th>\n",
              "    </tr>\n",
              "  </thead>\n",
              "  <tbody>\n",
              "    <tr>\n",
              "      <th>personaje</th>\n",
              "      <td>Luke Skywaker</td>\n",
              "    </tr>\n",
              "    <tr>\n",
              "      <th>altura</th>\n",
              "      <td>172</td>\n",
              "    </tr>\n",
              "  </tbody>\n",
              "</table>\n",
              "</div><br><label><b>dtype:</b> object</label>"
            ]
          },
          "metadata": {},
          "execution_count": 23
        }
      ]
    },
    {
      "cell_type": "markdown",
      "metadata": {
        "id": "E4adyxUSQiPz"
      },
      "source": [
        "Esto los puede confundir..."
      ]
    },
    {
      "cell_type": "code",
      "metadata": {
        "id": "E0i-yeT1PjCj",
        "colab": {
          "base_uri": "https://localhost:8080/",
          "height": 176
        },
        "outputId": "3cef9c6c-74cf-4247-c630-5ddbcf28d996"
      },
      "source": [
        "d_star_wars.loc[:, 'personaje'] # es equivalente a: d_star_wars.iloc[:, 0]"
      ],
      "execution_count": null,
      "outputs": [
        {
          "output_type": "execute_result",
          "data": {
            "text/plain": [
              "0    Luke Skywaker\n",
              "1            C-3PO\n",
              "2      Darth Vader\n",
              "Name: personaje, dtype: object"
            ],
            "text/html": [
              "<div>\n",
              "<style scoped>\n",
              "    .dataframe tbody tr th:only-of-type {\n",
              "        vertical-align: middle;\n",
              "    }\n",
              "\n",
              "    .dataframe tbody tr th {\n",
              "        vertical-align: top;\n",
              "    }\n",
              "\n",
              "    .dataframe thead th {\n",
              "        text-align: right;\n",
              "    }\n",
              "</style>\n",
              "<table border=\"1\" class=\"dataframe\">\n",
              "  <thead>\n",
              "    <tr style=\"text-align: right;\">\n",
              "      <th></th>\n",
              "      <th>personaje</th>\n",
              "    </tr>\n",
              "  </thead>\n",
              "  <tbody>\n",
              "    <tr>\n",
              "      <th>0</th>\n",
              "      <td>Luke Skywaker</td>\n",
              "    </tr>\n",
              "    <tr>\n",
              "      <th>1</th>\n",
              "      <td>C-3PO</td>\n",
              "    </tr>\n",
              "    <tr>\n",
              "      <th>2</th>\n",
              "      <td>Darth Vader</td>\n",
              "    </tr>\n",
              "  </tbody>\n",
              "</table>\n",
              "</div><br><label><b>dtype:</b> object</label>"
            ]
          },
          "metadata": {},
          "execution_count": 24
        }
      ]
    },
    {
      "cell_type": "code",
      "metadata": {
        "id": "RFkzb8BaQgAA"
      },
      "source": [
        "#d_star_wars.iloc[:, 'personaje'] # error porque el 2do parámetro no es un entero"
      ],
      "execution_count": null,
      "outputs": []
    },
    {
      "cell_type": "code",
      "metadata": {
        "id": "iljP9Os0RN5f",
        "colab": {
          "base_uri": "https://localhost:8080/"
        },
        "outputId": "75919dad-18fb-4c8a-b148-b3740c9e6039"
      },
      "source": [
        "# índices para las columnas:\n",
        "d_star_wars.columns"
      ],
      "execution_count": null,
      "outputs": [
        {
          "output_type": "execute_result",
          "data": {
            "text/plain": [
              "Index(['personaje', 'altura'], dtype='object')"
            ]
          },
          "metadata": {},
          "execution_count": 27
        }
      ]
    },
    {
      "cell_type": "code",
      "metadata": {
        "id": "tsmC8avDRZ-6",
        "colab": {
          "base_uri": "https://localhost:8080/"
        },
        "outputId": "23dde9bb-0896-4c39-92d7-6be0c3700143"
      },
      "source": [
        "# índices de los registros\n",
        "list(d_star_wars.index)"
      ],
      "execution_count": null,
      "outputs": [
        {
          "output_type": "execute_result",
          "data": {
            "text/plain": [
              "[0, 1, 2]"
            ]
          },
          "metadata": {},
          "execution_count": 28
        }
      ]
    },
    {
      "cell_type": "code",
      "metadata": {
        "id": "g3VjF13aRfTj",
        "colab": {
          "base_uri": "https://localhost:8080/",
          "height": 145
        },
        "outputId": "03f2b454-03c3-4752-c5b4-91e8dd16a376"
      },
      "source": [
        "d_star_wars.loc[0, :] # es equivalente: d_star_wars.iloc[0, :] (porque el índice 0 es la posición y el nombre)"
      ],
      "execution_count": null,
      "outputs": [
        {
          "output_type": "execute_result",
          "data": {
            "text/plain": [
              "personaje    Luke Skywaker\n",
              "altura                 172\n",
              "Name: 0, dtype: object"
            ],
            "text/html": [
              "<div>\n",
              "<style scoped>\n",
              "    .dataframe tbody tr th:only-of-type {\n",
              "        vertical-align: middle;\n",
              "    }\n",
              "\n",
              "    .dataframe tbody tr th {\n",
              "        vertical-align: top;\n",
              "    }\n",
              "\n",
              "    .dataframe thead th {\n",
              "        text-align: right;\n",
              "    }\n",
              "</style>\n",
              "<table border=\"1\" class=\"dataframe\">\n",
              "  <thead>\n",
              "    <tr style=\"text-align: right;\">\n",
              "      <th></th>\n",
              "      <th>0</th>\n",
              "    </tr>\n",
              "  </thead>\n",
              "  <tbody>\n",
              "    <tr>\n",
              "      <th>personaje</th>\n",
              "      <td>Luke Skywaker</td>\n",
              "    </tr>\n",
              "    <tr>\n",
              "      <th>altura</th>\n",
              "      <td>172</td>\n",
              "    </tr>\n",
              "  </tbody>\n",
              "</table>\n",
              "</div><br><label><b>dtype:</b> object</label>"
            ]
          },
          "metadata": {},
          "execution_count": 29
        }
      ]
    },
    {
      "cell_type": "code",
      "metadata": {
        "id": "bW7eAqQGSNVp",
        "colab": {
          "base_uri": "https://localhost:8080/"
        },
        "outputId": "c794cc2c-d14a-4594-8350-41a0a54e7d38"
      },
      "source": [
        "# acceder a 1 elemento\n",
        "d_star_wars.loc[0, 'altura']"
      ],
      "execution_count": null,
      "outputs": [
        {
          "output_type": "execute_result",
          "data": {
            "text/plain": [
              "172"
            ]
          },
          "metadata": {},
          "execution_count": 30
        }
      ]
    },
    {
      "cell_type": "code",
      "metadata": {
        "id": "TuOWZ5-OSh8n",
        "colab": {
          "base_uri": "https://localhost:8080/"
        },
        "outputId": "b582bb7a-12c4-4b82-8f7f-dc708f22600b"
      },
      "source": [
        "d_star_wars.loc[1, 'altura']"
      ],
      "execution_count": null,
      "outputs": [
        {
          "output_type": "execute_result",
          "data": {
            "text/plain": [
              "167"
            ]
          },
          "metadata": {},
          "execution_count": 31
        }
      ]
    },
    {
      "cell_type": "markdown",
      "metadata": {
        "id": "nyjrYjo7X48j"
      },
      "source": [
        "## Cuarto paso\n",
        "\n",
        "Un poco mas de acceso y filtos de datos con condiciones"
      ]
    },
    {
      "cell_type": "markdown",
      "metadata": {
        "id": "Bf1zRCGpaZ1H"
      },
      "source": [
        "![](https://shanelynnwebsite-mid9n9g1q9y8tt.netdna-ssl.com/wp-content/uploads/2016/10/Pandas-selections-and-indexing-768x549.png)"
      ]
    },
    {
      "cell_type": "code",
      "metadata": {
        "id": "HujXQU6BZk73",
        "colab": {
          "base_uri": "https://localhost:8080/",
          "height": 142
        },
        "outputId": "ab6454d2-dfd2-4d04-9e50-7d74751276cb"
      },
      "source": [
        "d_star_wars"
      ],
      "execution_count": null,
      "outputs": [
        {
          "output_type": "execute_result",
          "data": {
            "text/plain": [
              "       personaje  altura\n",
              "0  Luke Skywaker     172\n",
              "1          C-3PO     167\n",
              "2    Darth Vader     202"
            ],
            "text/html": [
              "\n",
              "  <div id=\"df-717a09ca-ada3-4ff3-99c3-188f073c87f3\" class=\"colab-df-container\">\n",
              "    <div>\n",
              "<style scoped>\n",
              "    .dataframe tbody tr th:only-of-type {\n",
              "        vertical-align: middle;\n",
              "    }\n",
              "\n",
              "    .dataframe tbody tr th {\n",
              "        vertical-align: top;\n",
              "    }\n",
              "\n",
              "    .dataframe thead th {\n",
              "        text-align: right;\n",
              "    }\n",
              "</style>\n",
              "<table border=\"1\" class=\"dataframe\">\n",
              "  <thead>\n",
              "    <tr style=\"text-align: right;\">\n",
              "      <th></th>\n",
              "      <th>personaje</th>\n",
              "      <th>altura</th>\n",
              "    </tr>\n",
              "  </thead>\n",
              "  <tbody>\n",
              "    <tr>\n",
              "      <th>0</th>\n",
              "      <td>Luke Skywaker</td>\n",
              "      <td>172</td>\n",
              "    </tr>\n",
              "    <tr>\n",
              "      <th>1</th>\n",
              "      <td>C-3PO</td>\n",
              "      <td>167</td>\n",
              "    </tr>\n",
              "    <tr>\n",
              "      <th>2</th>\n",
              "      <td>Darth Vader</td>\n",
              "      <td>202</td>\n",
              "    </tr>\n",
              "  </tbody>\n",
              "</table>\n",
              "</div>\n",
              "    <div class=\"colab-df-buttons\">\n",
              "\n",
              "  <div class=\"colab-df-container\">\n",
              "    <button class=\"colab-df-convert\" onclick=\"convertToInteractive('df-717a09ca-ada3-4ff3-99c3-188f073c87f3')\"\n",
              "            title=\"Convert this dataframe to an interactive table.\"\n",
              "            style=\"display:none;\">\n",
              "\n",
              "  <svg xmlns=\"http://www.w3.org/2000/svg\" height=\"24px\" viewBox=\"0 -960 960 960\">\n",
              "    <path d=\"M120-120v-720h720v720H120Zm60-500h600v-160H180v160Zm220 220h160v-160H400v160Zm0 220h160v-160H400v160ZM180-400h160v-160H180v160Zm440 0h160v-160H620v160ZM180-180h160v-160H180v160Zm440 0h160v-160H620v160Z\"/>\n",
              "  </svg>\n",
              "    </button>\n",
              "\n",
              "  <style>\n",
              "    .colab-df-container {\n",
              "      display:flex;\n",
              "      gap: 12px;\n",
              "    }\n",
              "\n",
              "    .colab-df-convert {\n",
              "      background-color: #E8F0FE;\n",
              "      border: none;\n",
              "      border-radius: 50%;\n",
              "      cursor: pointer;\n",
              "      display: none;\n",
              "      fill: #1967D2;\n",
              "      height: 32px;\n",
              "      padding: 0 0 0 0;\n",
              "      width: 32px;\n",
              "    }\n",
              "\n",
              "    .colab-df-convert:hover {\n",
              "      background-color: #E2EBFA;\n",
              "      box-shadow: 0px 1px 2px rgba(60, 64, 67, 0.3), 0px 1px 3px 1px rgba(60, 64, 67, 0.15);\n",
              "      fill: #174EA6;\n",
              "    }\n",
              "\n",
              "    .colab-df-buttons div {\n",
              "      margin-bottom: 4px;\n",
              "    }\n",
              "\n",
              "    [theme=dark] .colab-df-convert {\n",
              "      background-color: #3B4455;\n",
              "      fill: #D2E3FC;\n",
              "    }\n",
              "\n",
              "    [theme=dark] .colab-df-convert:hover {\n",
              "      background-color: #434B5C;\n",
              "      box-shadow: 0px 1px 3px 1px rgba(0, 0, 0, 0.15);\n",
              "      filter: drop-shadow(0px 1px 2px rgba(0, 0, 0, 0.3));\n",
              "      fill: #FFFFFF;\n",
              "    }\n",
              "  </style>\n",
              "\n",
              "    <script>\n",
              "      const buttonEl =\n",
              "        document.querySelector('#df-717a09ca-ada3-4ff3-99c3-188f073c87f3 button.colab-df-convert');\n",
              "      buttonEl.style.display =\n",
              "        google.colab.kernel.accessAllowed ? 'block' : 'none';\n",
              "\n",
              "      async function convertToInteractive(key) {\n",
              "        const element = document.querySelector('#df-717a09ca-ada3-4ff3-99c3-188f073c87f3');\n",
              "        const dataTable =\n",
              "          await google.colab.kernel.invokeFunction('convertToInteractive',\n",
              "                                                    [key], {});\n",
              "        if (!dataTable) return;\n",
              "\n",
              "        const docLinkHtml = 'Like what you see? Visit the ' +\n",
              "          '<a target=\"_blank\" href=https://colab.research.google.com/notebooks/data_table.ipynb>data table notebook</a>'\n",
              "          + ' to learn more about interactive tables.';\n",
              "        element.innerHTML = '';\n",
              "        dataTable['output_type'] = 'display_data';\n",
              "        await google.colab.output.renderOutput(dataTable, element);\n",
              "        const docLink = document.createElement('div');\n",
              "        docLink.innerHTML = docLinkHtml;\n",
              "        element.appendChild(docLink);\n",
              "      }\n",
              "    </script>\n",
              "  </div>\n",
              "\n",
              "\n",
              "<div id=\"df-cd8d0bf3-cd65-4c7e-b0e8-bb9638303771\">\n",
              "  <button class=\"colab-df-quickchart\" onclick=\"quickchart('df-cd8d0bf3-cd65-4c7e-b0e8-bb9638303771')\"\n",
              "            title=\"Suggest charts\"\n",
              "            style=\"display:none;\">\n",
              "\n",
              "<svg xmlns=\"http://www.w3.org/2000/svg\" height=\"24px\"viewBox=\"0 0 24 24\"\n",
              "     width=\"24px\">\n",
              "    <g>\n",
              "        <path d=\"M19 3H5c-1.1 0-2 .9-2 2v14c0 1.1.9 2 2 2h14c1.1 0 2-.9 2-2V5c0-1.1-.9-2-2-2zM9 17H7v-7h2v7zm4 0h-2V7h2v10zm4 0h-2v-4h2v4z\"/>\n",
              "    </g>\n",
              "</svg>\n",
              "  </button>\n",
              "\n",
              "<style>\n",
              "  .colab-df-quickchart {\n",
              "      --bg-color: #E8F0FE;\n",
              "      --fill-color: #1967D2;\n",
              "      --hover-bg-color: #E2EBFA;\n",
              "      --hover-fill-color: #174EA6;\n",
              "      --disabled-fill-color: #AAA;\n",
              "      --disabled-bg-color: #DDD;\n",
              "  }\n",
              "\n",
              "  [theme=dark] .colab-df-quickchart {\n",
              "      --bg-color: #3B4455;\n",
              "      --fill-color: #D2E3FC;\n",
              "      --hover-bg-color: #434B5C;\n",
              "      --hover-fill-color: #FFFFFF;\n",
              "      --disabled-bg-color: #3B4455;\n",
              "      --disabled-fill-color: #666;\n",
              "  }\n",
              "\n",
              "  .colab-df-quickchart {\n",
              "    background-color: var(--bg-color);\n",
              "    border: none;\n",
              "    border-radius: 50%;\n",
              "    cursor: pointer;\n",
              "    display: none;\n",
              "    fill: var(--fill-color);\n",
              "    height: 32px;\n",
              "    padding: 0;\n",
              "    width: 32px;\n",
              "  }\n",
              "\n",
              "  .colab-df-quickchart:hover {\n",
              "    background-color: var(--hover-bg-color);\n",
              "    box-shadow: 0 1px 2px rgba(60, 64, 67, 0.3), 0 1px 3px 1px rgba(60, 64, 67, 0.15);\n",
              "    fill: var(--button-hover-fill-color);\n",
              "  }\n",
              "\n",
              "  .colab-df-quickchart-complete:disabled,\n",
              "  .colab-df-quickchart-complete:disabled:hover {\n",
              "    background-color: var(--disabled-bg-color);\n",
              "    fill: var(--disabled-fill-color);\n",
              "    box-shadow: none;\n",
              "  }\n",
              "\n",
              "  .colab-df-spinner {\n",
              "    border: 2px solid var(--fill-color);\n",
              "    border-color: transparent;\n",
              "    border-bottom-color: var(--fill-color);\n",
              "    animation:\n",
              "      spin 1s steps(1) infinite;\n",
              "  }\n",
              "\n",
              "  @keyframes spin {\n",
              "    0% {\n",
              "      border-color: transparent;\n",
              "      border-bottom-color: var(--fill-color);\n",
              "      border-left-color: var(--fill-color);\n",
              "    }\n",
              "    20% {\n",
              "      border-color: transparent;\n",
              "      border-left-color: var(--fill-color);\n",
              "      border-top-color: var(--fill-color);\n",
              "    }\n",
              "    30% {\n",
              "      border-color: transparent;\n",
              "      border-left-color: var(--fill-color);\n",
              "      border-top-color: var(--fill-color);\n",
              "      border-right-color: var(--fill-color);\n",
              "    }\n",
              "    40% {\n",
              "      border-color: transparent;\n",
              "      border-right-color: var(--fill-color);\n",
              "      border-top-color: var(--fill-color);\n",
              "    }\n",
              "    60% {\n",
              "      border-color: transparent;\n",
              "      border-right-color: var(--fill-color);\n",
              "    }\n",
              "    80% {\n",
              "      border-color: transparent;\n",
              "      border-right-color: var(--fill-color);\n",
              "      border-bottom-color: var(--fill-color);\n",
              "    }\n",
              "    90% {\n",
              "      border-color: transparent;\n",
              "      border-bottom-color: var(--fill-color);\n",
              "    }\n",
              "  }\n",
              "</style>\n",
              "\n",
              "  <script>\n",
              "    async function quickchart(key) {\n",
              "      const quickchartButtonEl =\n",
              "        document.querySelector('#' + key + ' button');\n",
              "      quickchartButtonEl.disabled = true;  // To prevent multiple clicks.\n",
              "      quickchartButtonEl.classList.add('colab-df-spinner');\n",
              "      try {\n",
              "        const charts = await google.colab.kernel.invokeFunction(\n",
              "            'suggestCharts', [key], {});\n",
              "      } catch (error) {\n",
              "        console.error('Error during call to suggestCharts:', error);\n",
              "      }\n",
              "      quickchartButtonEl.classList.remove('colab-df-spinner');\n",
              "      quickchartButtonEl.classList.add('colab-df-quickchart-complete');\n",
              "    }\n",
              "    (() => {\n",
              "      let quickchartButtonEl =\n",
              "        document.querySelector('#df-cd8d0bf3-cd65-4c7e-b0e8-bb9638303771 button');\n",
              "      quickchartButtonEl.style.display =\n",
              "        google.colab.kernel.accessAllowed ? 'block' : 'none';\n",
              "    })();\n",
              "  </script>\n",
              "</div>\n",
              "\n",
              "  <div id=\"id_3954fd42-a06e-42ec-a3cd-26a77cf77be6\">\n",
              "    <style>\n",
              "      .colab-df-generate {\n",
              "        background-color: #E8F0FE;\n",
              "        border: none;\n",
              "        border-radius: 50%;\n",
              "        cursor: pointer;\n",
              "        display: none;\n",
              "        fill: #1967D2;\n",
              "        height: 32px;\n",
              "        padding: 0 0 0 0;\n",
              "        width: 32px;\n",
              "      }\n",
              "\n",
              "      .colab-df-generate:hover {\n",
              "        background-color: #E2EBFA;\n",
              "        box-shadow: 0px 1px 2px rgba(60, 64, 67, 0.3), 0px 1px 3px 1px rgba(60, 64, 67, 0.15);\n",
              "        fill: #174EA6;\n",
              "      }\n",
              "\n",
              "      [theme=dark] .colab-df-generate {\n",
              "        background-color: #3B4455;\n",
              "        fill: #D2E3FC;\n",
              "      }\n",
              "\n",
              "      [theme=dark] .colab-df-generate:hover {\n",
              "        background-color: #434B5C;\n",
              "        box-shadow: 0px 1px 3px 1px rgba(0, 0, 0, 0.15);\n",
              "        filter: drop-shadow(0px 1px 2px rgba(0, 0, 0, 0.3));\n",
              "        fill: #FFFFFF;\n",
              "      }\n",
              "    </style>\n",
              "    <button class=\"colab-df-generate\" onclick=\"generateWithVariable('d_star_wars')\"\n",
              "            title=\"Generate code using this dataframe.\"\n",
              "            style=\"display:none;\">\n",
              "\n",
              "  <svg xmlns=\"http://www.w3.org/2000/svg\" height=\"24px\"viewBox=\"0 0 24 24\"\n",
              "       width=\"24px\">\n",
              "    <path d=\"M7,19H8.4L18.45,9,17,7.55,7,17.6ZM5,21V16.75L18.45,3.32a2,2,0,0,1,2.83,0l1.4,1.43a1.91,1.91,0,0,1,.58,1.4,1.91,1.91,0,0,1-.58,1.4L9.25,21ZM18.45,9,17,7.55Zm-12,3A5.31,5.31,0,0,0,4.9,8.1,5.31,5.31,0,0,0,1,6.5,5.31,5.31,0,0,0,4.9,4.9,5.31,5.31,0,0,0,6.5,1,5.31,5.31,0,0,0,8.1,4.9,5.31,5.31,0,0,0,12,6.5,5.46,5.46,0,0,0,6.5,12Z\"/>\n",
              "  </svg>\n",
              "    </button>\n",
              "    <script>\n",
              "      (() => {\n",
              "      const buttonEl =\n",
              "        document.querySelector('#id_3954fd42-a06e-42ec-a3cd-26a77cf77be6 button.colab-df-generate');\n",
              "      buttonEl.style.display =\n",
              "        google.colab.kernel.accessAllowed ? 'block' : 'none';\n",
              "\n",
              "      buttonEl.onclick = () => {\n",
              "        google.colab.notebook.generateWithVariable('d_star_wars');\n",
              "      }\n",
              "      })();\n",
              "    </script>\n",
              "  </div>\n",
              "\n",
              "    </div>\n",
              "  </div>\n"
            ],
            "application/vnd.google.colaboratory.intrinsic+json": {
              "type": "dataframe",
              "variable_name": "d_star_wars",
              "summary": "{\n  \"name\": \"d_star_wars\",\n  \"rows\": 3,\n  \"fields\": [\n    {\n      \"column\": \"personaje\",\n      \"properties\": {\n        \"dtype\": \"string\",\n        \"num_unique_values\": 3,\n        \"samples\": [\n          \"Luke Skywaker\",\n          \"C-3PO\",\n          \"Darth Vader\"\n        ],\n        \"semantic_type\": \"\",\n        \"description\": \"\"\n      }\n    },\n    {\n      \"column\": \"altura\",\n      \"properties\": {\n        \"dtype\": \"number\",\n        \"std\": 18,\n        \"min\": 167,\n        \"max\": 202,\n        \"num_unique_values\": 3,\n        \"samples\": [\n          172,\n          167,\n          202\n        ],\n        \"semantic_type\": \"\",\n        \"description\": \"\"\n      }\n    }\n  ]\n}"
            }
          },
          "metadata": {},
          "execution_count": 32
        }
      ]
    },
    {
      "cell_type": "code",
      "metadata": {
        "id": "WTPWCYN-anmZ",
        "colab": {
          "base_uri": "https://localhost:8080/",
          "height": 145
        },
        "outputId": "24c53ce9-6394-4024-f813-11c051df7290"
      },
      "source": [
        "d_star_wars.iloc[0:2, 0] #[indice de fila, indice de columna] 0:2 significa que queremos la fila desde la posición 0 a la 2"
      ],
      "execution_count": null,
      "outputs": [
        {
          "output_type": "execute_result",
          "data": {
            "text/plain": [
              "0    Luke Skywaker\n",
              "1            C-3PO\n",
              "Name: personaje, dtype: object"
            ],
            "text/html": [
              "<div>\n",
              "<style scoped>\n",
              "    .dataframe tbody tr th:only-of-type {\n",
              "        vertical-align: middle;\n",
              "    }\n",
              "\n",
              "    .dataframe tbody tr th {\n",
              "        vertical-align: top;\n",
              "    }\n",
              "\n",
              "    .dataframe thead th {\n",
              "        text-align: right;\n",
              "    }\n",
              "</style>\n",
              "<table border=\"1\" class=\"dataframe\">\n",
              "  <thead>\n",
              "    <tr style=\"text-align: right;\">\n",
              "      <th></th>\n",
              "      <th>personaje</th>\n",
              "    </tr>\n",
              "  </thead>\n",
              "  <tbody>\n",
              "    <tr>\n",
              "      <th>0</th>\n",
              "      <td>Luke Skywaker</td>\n",
              "    </tr>\n",
              "    <tr>\n",
              "      <th>1</th>\n",
              "      <td>C-3PO</td>\n",
              "    </tr>\n",
              "  </tbody>\n",
              "</table>\n",
              "</div><br><label><b>dtype:</b> object</label>"
            ]
          },
          "metadata": {},
          "execution_count": 33
        }
      ]
    },
    {
      "cell_type": "code",
      "metadata": {
        "id": "093gE5aZbcVe",
        "colab": {
          "base_uri": "https://localhost:8080/",
          "height": 142
        },
        "outputId": "55dba1f4-aec8-4d2d-cf67-6e76aa470faa"
      },
      "source": [
        "# en este caso, nos devuelve todo\n",
        "d_star_wars.iloc[0:3, 0:2]"
      ],
      "execution_count": null,
      "outputs": [
        {
          "output_type": "execute_result",
          "data": {
            "text/plain": [
              "       personaje  altura\n",
              "0  Luke Skywaker     172\n",
              "1          C-3PO     167\n",
              "2    Darth Vader     202"
            ],
            "text/html": [
              "\n",
              "  <div id=\"df-8770746a-2acc-4da4-8b7a-3307385ce86f\" class=\"colab-df-container\">\n",
              "    <div>\n",
              "<style scoped>\n",
              "    .dataframe tbody tr th:only-of-type {\n",
              "        vertical-align: middle;\n",
              "    }\n",
              "\n",
              "    .dataframe tbody tr th {\n",
              "        vertical-align: top;\n",
              "    }\n",
              "\n",
              "    .dataframe thead th {\n",
              "        text-align: right;\n",
              "    }\n",
              "</style>\n",
              "<table border=\"1\" class=\"dataframe\">\n",
              "  <thead>\n",
              "    <tr style=\"text-align: right;\">\n",
              "      <th></th>\n",
              "      <th>personaje</th>\n",
              "      <th>altura</th>\n",
              "    </tr>\n",
              "  </thead>\n",
              "  <tbody>\n",
              "    <tr>\n",
              "      <th>0</th>\n",
              "      <td>Luke Skywaker</td>\n",
              "      <td>172</td>\n",
              "    </tr>\n",
              "    <tr>\n",
              "      <th>1</th>\n",
              "      <td>C-3PO</td>\n",
              "      <td>167</td>\n",
              "    </tr>\n",
              "    <tr>\n",
              "      <th>2</th>\n",
              "      <td>Darth Vader</td>\n",
              "      <td>202</td>\n",
              "    </tr>\n",
              "  </tbody>\n",
              "</table>\n",
              "</div>\n",
              "    <div class=\"colab-df-buttons\">\n",
              "\n",
              "  <div class=\"colab-df-container\">\n",
              "    <button class=\"colab-df-convert\" onclick=\"convertToInteractive('df-8770746a-2acc-4da4-8b7a-3307385ce86f')\"\n",
              "            title=\"Convert this dataframe to an interactive table.\"\n",
              "            style=\"display:none;\">\n",
              "\n",
              "  <svg xmlns=\"http://www.w3.org/2000/svg\" height=\"24px\" viewBox=\"0 -960 960 960\">\n",
              "    <path d=\"M120-120v-720h720v720H120Zm60-500h600v-160H180v160Zm220 220h160v-160H400v160Zm0 220h160v-160H400v160ZM180-400h160v-160H180v160Zm440 0h160v-160H620v160ZM180-180h160v-160H180v160Zm440 0h160v-160H620v160Z\"/>\n",
              "  </svg>\n",
              "    </button>\n",
              "\n",
              "  <style>\n",
              "    .colab-df-container {\n",
              "      display:flex;\n",
              "      gap: 12px;\n",
              "    }\n",
              "\n",
              "    .colab-df-convert {\n",
              "      background-color: #E8F0FE;\n",
              "      border: none;\n",
              "      border-radius: 50%;\n",
              "      cursor: pointer;\n",
              "      display: none;\n",
              "      fill: #1967D2;\n",
              "      height: 32px;\n",
              "      padding: 0 0 0 0;\n",
              "      width: 32px;\n",
              "    }\n",
              "\n",
              "    .colab-df-convert:hover {\n",
              "      background-color: #E2EBFA;\n",
              "      box-shadow: 0px 1px 2px rgba(60, 64, 67, 0.3), 0px 1px 3px 1px rgba(60, 64, 67, 0.15);\n",
              "      fill: #174EA6;\n",
              "    }\n",
              "\n",
              "    .colab-df-buttons div {\n",
              "      margin-bottom: 4px;\n",
              "    }\n",
              "\n",
              "    [theme=dark] .colab-df-convert {\n",
              "      background-color: #3B4455;\n",
              "      fill: #D2E3FC;\n",
              "    }\n",
              "\n",
              "    [theme=dark] .colab-df-convert:hover {\n",
              "      background-color: #434B5C;\n",
              "      box-shadow: 0px 1px 3px 1px rgba(0, 0, 0, 0.15);\n",
              "      filter: drop-shadow(0px 1px 2px rgba(0, 0, 0, 0.3));\n",
              "      fill: #FFFFFF;\n",
              "    }\n",
              "  </style>\n",
              "\n",
              "    <script>\n",
              "      const buttonEl =\n",
              "        document.querySelector('#df-8770746a-2acc-4da4-8b7a-3307385ce86f button.colab-df-convert');\n",
              "      buttonEl.style.display =\n",
              "        google.colab.kernel.accessAllowed ? 'block' : 'none';\n",
              "\n",
              "      async function convertToInteractive(key) {\n",
              "        const element = document.querySelector('#df-8770746a-2acc-4da4-8b7a-3307385ce86f');\n",
              "        const dataTable =\n",
              "          await google.colab.kernel.invokeFunction('convertToInteractive',\n",
              "                                                    [key], {});\n",
              "        if (!dataTable) return;\n",
              "\n",
              "        const docLinkHtml = 'Like what you see? Visit the ' +\n",
              "          '<a target=\"_blank\" href=https://colab.research.google.com/notebooks/data_table.ipynb>data table notebook</a>'\n",
              "          + ' to learn more about interactive tables.';\n",
              "        element.innerHTML = '';\n",
              "        dataTable['output_type'] = 'display_data';\n",
              "        await google.colab.output.renderOutput(dataTable, element);\n",
              "        const docLink = document.createElement('div');\n",
              "        docLink.innerHTML = docLinkHtml;\n",
              "        element.appendChild(docLink);\n",
              "      }\n",
              "    </script>\n",
              "  </div>\n",
              "\n",
              "\n",
              "<div id=\"df-efbffe81-0c2f-46aa-b872-808622638078\">\n",
              "  <button class=\"colab-df-quickchart\" onclick=\"quickchart('df-efbffe81-0c2f-46aa-b872-808622638078')\"\n",
              "            title=\"Suggest charts\"\n",
              "            style=\"display:none;\">\n",
              "\n",
              "<svg xmlns=\"http://www.w3.org/2000/svg\" height=\"24px\"viewBox=\"0 0 24 24\"\n",
              "     width=\"24px\">\n",
              "    <g>\n",
              "        <path d=\"M19 3H5c-1.1 0-2 .9-2 2v14c0 1.1.9 2 2 2h14c1.1 0 2-.9 2-2V5c0-1.1-.9-2-2-2zM9 17H7v-7h2v7zm4 0h-2V7h2v10zm4 0h-2v-4h2v4z\"/>\n",
              "    </g>\n",
              "</svg>\n",
              "  </button>\n",
              "\n",
              "<style>\n",
              "  .colab-df-quickchart {\n",
              "      --bg-color: #E8F0FE;\n",
              "      --fill-color: #1967D2;\n",
              "      --hover-bg-color: #E2EBFA;\n",
              "      --hover-fill-color: #174EA6;\n",
              "      --disabled-fill-color: #AAA;\n",
              "      --disabled-bg-color: #DDD;\n",
              "  }\n",
              "\n",
              "  [theme=dark] .colab-df-quickchart {\n",
              "      --bg-color: #3B4455;\n",
              "      --fill-color: #D2E3FC;\n",
              "      --hover-bg-color: #434B5C;\n",
              "      --hover-fill-color: #FFFFFF;\n",
              "      --disabled-bg-color: #3B4455;\n",
              "      --disabled-fill-color: #666;\n",
              "  }\n",
              "\n",
              "  .colab-df-quickchart {\n",
              "    background-color: var(--bg-color);\n",
              "    border: none;\n",
              "    border-radius: 50%;\n",
              "    cursor: pointer;\n",
              "    display: none;\n",
              "    fill: var(--fill-color);\n",
              "    height: 32px;\n",
              "    padding: 0;\n",
              "    width: 32px;\n",
              "  }\n",
              "\n",
              "  .colab-df-quickchart:hover {\n",
              "    background-color: var(--hover-bg-color);\n",
              "    box-shadow: 0 1px 2px rgba(60, 64, 67, 0.3), 0 1px 3px 1px rgba(60, 64, 67, 0.15);\n",
              "    fill: var(--button-hover-fill-color);\n",
              "  }\n",
              "\n",
              "  .colab-df-quickchart-complete:disabled,\n",
              "  .colab-df-quickchart-complete:disabled:hover {\n",
              "    background-color: var(--disabled-bg-color);\n",
              "    fill: var(--disabled-fill-color);\n",
              "    box-shadow: none;\n",
              "  }\n",
              "\n",
              "  .colab-df-spinner {\n",
              "    border: 2px solid var(--fill-color);\n",
              "    border-color: transparent;\n",
              "    border-bottom-color: var(--fill-color);\n",
              "    animation:\n",
              "      spin 1s steps(1) infinite;\n",
              "  }\n",
              "\n",
              "  @keyframes spin {\n",
              "    0% {\n",
              "      border-color: transparent;\n",
              "      border-bottom-color: var(--fill-color);\n",
              "      border-left-color: var(--fill-color);\n",
              "    }\n",
              "    20% {\n",
              "      border-color: transparent;\n",
              "      border-left-color: var(--fill-color);\n",
              "      border-top-color: var(--fill-color);\n",
              "    }\n",
              "    30% {\n",
              "      border-color: transparent;\n",
              "      border-left-color: var(--fill-color);\n",
              "      border-top-color: var(--fill-color);\n",
              "      border-right-color: var(--fill-color);\n",
              "    }\n",
              "    40% {\n",
              "      border-color: transparent;\n",
              "      border-right-color: var(--fill-color);\n",
              "      border-top-color: var(--fill-color);\n",
              "    }\n",
              "    60% {\n",
              "      border-color: transparent;\n",
              "      border-right-color: var(--fill-color);\n",
              "    }\n",
              "    80% {\n",
              "      border-color: transparent;\n",
              "      border-right-color: var(--fill-color);\n",
              "      border-bottom-color: var(--fill-color);\n",
              "    }\n",
              "    90% {\n",
              "      border-color: transparent;\n",
              "      border-bottom-color: var(--fill-color);\n",
              "    }\n",
              "  }\n",
              "</style>\n",
              "\n",
              "  <script>\n",
              "    async function quickchart(key) {\n",
              "      const quickchartButtonEl =\n",
              "        document.querySelector('#' + key + ' button');\n",
              "      quickchartButtonEl.disabled = true;  // To prevent multiple clicks.\n",
              "      quickchartButtonEl.classList.add('colab-df-spinner');\n",
              "      try {\n",
              "        const charts = await google.colab.kernel.invokeFunction(\n",
              "            'suggestCharts', [key], {});\n",
              "      } catch (error) {\n",
              "        console.error('Error during call to suggestCharts:', error);\n",
              "      }\n",
              "      quickchartButtonEl.classList.remove('colab-df-spinner');\n",
              "      quickchartButtonEl.classList.add('colab-df-quickchart-complete');\n",
              "    }\n",
              "    (() => {\n",
              "      let quickchartButtonEl =\n",
              "        document.querySelector('#df-efbffe81-0c2f-46aa-b872-808622638078 button');\n",
              "      quickchartButtonEl.style.display =\n",
              "        google.colab.kernel.accessAllowed ? 'block' : 'none';\n",
              "    })();\n",
              "  </script>\n",
              "</div>\n",
              "\n",
              "    </div>\n",
              "  </div>\n"
            ],
            "application/vnd.google.colaboratory.intrinsic+json": {
              "type": "dataframe",
              "summary": "{\n  \"name\": \"d_star_wars\",\n  \"rows\": 3,\n  \"fields\": [\n    {\n      \"column\": \"personaje\",\n      \"properties\": {\n        \"dtype\": \"string\",\n        \"num_unique_values\": 3,\n        \"samples\": [\n          \"Luke Skywaker\",\n          \"C-3PO\",\n          \"Darth Vader\"\n        ],\n        \"semantic_type\": \"\",\n        \"description\": \"\"\n      }\n    },\n    {\n      \"column\": \"altura\",\n      \"properties\": {\n        \"dtype\": \"number\",\n        \"std\": 18,\n        \"min\": 167,\n        \"max\": 202,\n        \"num_unique_values\": 3,\n        \"samples\": [\n          172,\n          167,\n          202\n        ],\n        \"semantic_type\": \"\",\n        \"description\": \"\"\n      }\n    }\n  ]\n}"
            }
          },
          "metadata": {},
          "execution_count": 34
        }
      ]
    },
    {
      "cell_type": "markdown",
      "metadata": {
        "id": "qlqqZBwQd-v5"
      },
      "source": [
        "### Remplazar valores"
      ]
    },
    {
      "cell_type": "code",
      "metadata": {
        "id": "ofZPOwGmbpTE",
        "colab": {
          "base_uri": "https://localhost:8080/",
          "height": 176
        },
        "outputId": "556fc669-854d-4f9d-98eb-ddd5737447c6"
      },
      "source": [
        "# otra manera de filtrar vectorialmente\n",
        "d_star_wars['personaje']=='Darth Vader'"
      ],
      "execution_count": null,
      "outputs": [
        {
          "output_type": "execute_result",
          "data": {
            "text/plain": [
              "0    False\n",
              "1    False\n",
              "2     True\n",
              "Name: personaje, dtype: bool"
            ],
            "text/html": [
              "<div>\n",
              "<style scoped>\n",
              "    .dataframe tbody tr th:only-of-type {\n",
              "        vertical-align: middle;\n",
              "    }\n",
              "\n",
              "    .dataframe tbody tr th {\n",
              "        vertical-align: top;\n",
              "    }\n",
              "\n",
              "    .dataframe thead th {\n",
              "        text-align: right;\n",
              "    }\n",
              "</style>\n",
              "<table border=\"1\" class=\"dataframe\">\n",
              "  <thead>\n",
              "    <tr style=\"text-align: right;\">\n",
              "      <th></th>\n",
              "      <th>personaje</th>\n",
              "    </tr>\n",
              "  </thead>\n",
              "  <tbody>\n",
              "    <tr>\n",
              "      <th>0</th>\n",
              "      <td>False</td>\n",
              "    </tr>\n",
              "    <tr>\n",
              "      <th>1</th>\n",
              "      <td>False</td>\n",
              "    </tr>\n",
              "    <tr>\n",
              "      <th>2</th>\n",
              "      <td>True</td>\n",
              "    </tr>\n",
              "  </tbody>\n",
              "</table>\n",
              "</div><br><label><b>dtype:</b> bool</label>"
            ]
          },
          "metadata": {},
          "execution_count": 35
        }
      ]
    },
    {
      "cell_type": "code",
      "metadata": {
        "id": "gTYNmYf8cK7j"
      },
      "source": [
        "# ¿Cómo le cambiamos la altura a Darth Vader?\n",
        "v_flag = d_star_wars['personaje']=='Darth Vader'"
      ],
      "execution_count": null,
      "outputs": []
    },
    {
      "cell_type": "code",
      "metadata": {
        "id": "TZuZ7hZFlXS7",
        "colab": {
          "base_uri": "https://localhost:8080/",
          "height": 114
        },
        "outputId": "49b47d0d-e15d-4e82-dc2a-4ca908d6aca6"
      },
      "source": [
        "# ¿Como remplazar un valor basado en una condición?\n",
        "d_star_wars.loc[v_flag, 'altura']"
      ],
      "execution_count": null,
      "outputs": [
        {
          "output_type": "execute_result",
          "data": {
            "text/plain": [
              "2    202\n",
              "Name: altura, dtype: int64"
            ],
            "text/html": [
              "<div>\n",
              "<style scoped>\n",
              "    .dataframe tbody tr th:only-of-type {\n",
              "        vertical-align: middle;\n",
              "    }\n",
              "\n",
              "    .dataframe tbody tr th {\n",
              "        vertical-align: top;\n",
              "    }\n",
              "\n",
              "    .dataframe thead th {\n",
              "        text-align: right;\n",
              "    }\n",
              "</style>\n",
              "<table border=\"1\" class=\"dataframe\">\n",
              "  <thead>\n",
              "    <tr style=\"text-align: right;\">\n",
              "      <th></th>\n",
              "      <th>altura</th>\n",
              "    </tr>\n",
              "  </thead>\n",
              "  <tbody>\n",
              "    <tr>\n",
              "      <th>2</th>\n",
              "      <td>202</td>\n",
              "    </tr>\n",
              "  </tbody>\n",
              "</table>\n",
              "</div><br><label><b>dtype:</b> int64</label>"
            ]
          },
          "metadata": {},
          "execution_count": 37
        }
      ]
    },
    {
      "cell_type": "code",
      "metadata": {
        "id": "2z8oLlBXmXCz"
      },
      "source": [
        "d_star_wars.loc[v_flag, 'altura'] = 185"
      ],
      "execution_count": null,
      "outputs": []
    },
    {
      "cell_type": "code",
      "metadata": {
        "id": "JZC8PwcRnrZW"
      },
      "source": [
        "# chequeo\n",
        "d_star_wars"
      ],
      "execution_count": null,
      "outputs": []
    },
    {
      "cell_type": "code",
      "metadata": {
        "id": "GD2YJFvUoDgS"
      },
      "source": [
        "# haciendo todo en la misma linea\n",
        "d_star_wars.loc[ d_star_wars['personaje']=='Luke Skywaker', 'altura']=200"
      ],
      "execution_count": null,
      "outputs": []
    },
    {
      "cell_type": "code",
      "metadata": {
        "id": "iJNnY-fWo_GW"
      },
      "source": [
        "d_star_wars"
      ],
      "execution_count": null,
      "outputs": []
    },
    {
      "cell_type": "markdown",
      "metadata": {
        "id": "PQJCNkjCiRNm"
      },
      "source": [
        "## 2) Dominando los datos\n",
        "\n",
        "Carga de archivos, exploración de un data frame"
      ]
    },
    {
      "cell_type": "code",
      "source": [
        "# URL donde se encuentra el archivo CSV\n",
        "url = 'https://raw.githubusercontent.com/fpineyro/homework-0/master/starwars.csv'\n",
        "\n",
        "# Lee el CSV\n",
        "d_star_wars = pd.read_csv(url)\n"
      ],
      "metadata": {
        "id": "FHZMAZzE8xsM"
      },
      "execution_count": null,
      "outputs": []
    },
    {
      "cell_type": "code",
      "source": [
        "# Muestra las primeras 5 filas para ver si efectivamente cargó bien lso datos\n",
        "d_star_wars.head()"
      ],
      "metadata": {
        "id": "3e_jGCtt9dme"
      },
      "execution_count": null,
      "outputs": []
    },
    {
      "cell_type": "markdown",
      "metadata": {
        "id": "EUMCc-1vtKCn"
      },
      "source": [
        "Cargamos los datos en una tabla"
      ]
    },
    {
      "cell_type": "code",
      "metadata": {
        "id": "VHJBwGvFpwhh"
      },
      "source": [
        "# Exploración con DataTable colab\n",
        "from google.colab.data_table import DataTable\n",
        "\n",
        "DataTable(d_star_wars)"
      ],
      "execution_count": null,
      "outputs": []
    },
    {
      "cell_type": "code",
      "metadata": {
        "id": "zCyLljbDkXku"
      },
      "source": [
        "# shape, nos muestra cuantas filas (87) y cuantas columnas tiene el dataframe (10)\n",
        "d_star_wars.shape"
      ],
      "execution_count": null,
      "outputs": []
    },
    {
      "cell_type": "code",
      "metadata": {
        "id": "tG8xSuarkZJc"
      },
      "source": [
        "# head / tail\n",
        "d_star_wars.head(3)"
      ],
      "execution_count": null,
      "outputs": []
    },
    {
      "cell_type": "code",
      "metadata": {
        "id": "DyDHnl40kG7W",
        "collapsed": true
      },
      "source": [
        "# funpymodeling / instalar nuevas librerías\n",
        "!pip install funpymodeling"
      ],
      "execution_count": null,
      "outputs": []
    },
    {
      "cell_type": "code",
      "metadata": {
        "id": "Pz5-ihpH90ro"
      },
      "source": [],
      "execution_count": null,
      "outputs": []
    },
    {
      "cell_type": "markdown",
      "metadata": {
        "id": "eFME9bXa24Kl"
      },
      "source": [
        "#Importamos la librería de funpymodeling para explorar los datos\n"
      ]
    },
    {
      "cell_type": "code",
      "metadata": {
        "id": "aPVGC1mlkNbh"
      },
      "source": [
        "# status\n",
        "from funpymodeling.exploratory import status"
      ],
      "execution_count": null,
      "outputs": []
    },
    {
      "cell_type": "code",
      "metadata": {
        "id": "pnxFZzuVkUsT"
      },
      "source": [
        "#Mostramos estadísticas del dataframe\n",
        "status(d_star_wars)"
      ],
      "execution_count": null,
      "outputs": []
    },
    {
      "cell_type": "code",
      "metadata": {
        "id": "Q8OfKcNnGF1R"
      },
      "source": [
        "d_star_wars=pd.read_csv(filepath_or_buffer=\"https://raw.githubusercontent.com/fpineyro/homework-0/master/starwars.csv\", sep=',')\n",
        "d_star_wars"
      ],
      "execution_count": null,
      "outputs": []
    },
    {
      "cell_type": "markdown",
      "metadata": {
        "id": "V9LlEu0BJTKa"
      },
      "source": [
        "## Nulos en pandas"
      ]
    },
    {
      "cell_type": "code",
      "metadata": {
        "id": "azFUKEPlXtPe"
      },
      "source": [
        "d_star_wars.head()"
      ],
      "execution_count": null,
      "outputs": []
    },
    {
      "cell_type": "code",
      "metadata": {
        "id": "9nKzETs7fAzI"
      },
      "source": [
        "# None ~ NaN"
      ],
      "execution_count": null,
      "outputs": []
    },
    {
      "cell_type": "code",
      "metadata": {
        "id": "epuuNwZwjbFr"
      },
      "source": [
        "status(d_star_wars)"
      ],
      "execution_count": null,
      "outputs": []
    },
    {
      "cell_type": "code",
      "metadata": {
        "id": "OofrhDxWJW6j"
      },
      "source": [
        "# obtener nulos de una columna\n",
        "d_star_wars['hair_color'].isna()\n",
        "\n",
        "# creamos un filtro para obtener los registros con valores nulos\n",
        "d_star_wars[d_star_wars['hair_color'].isna()]"
      ],
      "execution_count": null,
      "outputs": []
    },
    {
      "cell_type": "code",
      "metadata": {
        "id": "wuHRGrmyJW8l"
      },
      "source": [
        "# el origen de los NaN\n",
        "import numpy as np"
      ],
      "execution_count": null,
      "outputs": []
    },
    {
      "cell_type": "code",
      "metadata": {
        "id": "wUpYrMdbjb4a"
      },
      "source": [
        "a=pd.Series([1,2,3, np.NaN])"
      ],
      "execution_count": null,
      "outputs": []
    },
    {
      "cell_type": "code",
      "metadata": {
        "id": "eUC2KEOijo1R"
      },
      "source": [
        "b=pd.Series([1,2,3, None])"
      ],
      "execution_count": null,
      "outputs": []
    },
    {
      "cell_type": "code",
      "metadata": {
        "id": "nlPFUvbGhirh"
      },
      "source": [
        "a"
      ],
      "execution_count": null,
      "outputs": []
    },
    {
      "cell_type": "code",
      "metadata": {
        "id": "6wzerJ6IhtJk"
      },
      "source": [
        "b"
      ],
      "execution_count": null,
      "outputs": []
    },
    {
      "cell_type": "markdown",
      "metadata": {
        "id": "a15cA4cqv9kF"
      },
      "source": [
        "### Remplazo de nulos\n",
        "\n",
        "Variable categórica / object"
      ]
    },
    {
      "cell_type": "code",
      "metadata": {
        "id": "Xa7Vs_7txajt"
      },
      "source": [
        "d_star_wars"
      ],
      "execution_count": null,
      "outputs": []
    },
    {
      "cell_type": "code",
      "metadata": {
        "id": "J6fgUvzbh9dS"
      },
      "source": [
        "values={'homeworld': 'nulo_home', 'species': 'nulo_species'}\n",
        "\n",
        "d_star_wars.fillna(value=values)"
      ],
      "execution_count": null,
      "outputs": []
    },
    {
      "cell_type": "code",
      "metadata": {
        "id": "pL_3yaNVzcFo"
      },
      "source": [
        "# remplazo en el mismo data frame\n",
        "d_star_wars.fillna(value=values, inplace=True)"
      ],
      "execution_count": null,
      "outputs": []
    },
    {
      "cell_type": "code",
      "metadata": {
        "id": "nKJEayaPvnQp"
      },
      "source": [
        "d_star_wars"
      ],
      "execution_count": null,
      "outputs": []
    },
    {
      "cell_type": "markdown",
      "metadata": {
        "id": "yRu6OxUD2yzx"
      },
      "source": [
        "## Imputación de nulos para variables numéricas\n",
        "\n"
      ]
    },
    {
      "cell_type": "code",
      "metadata": {
        "id": "FfA5M1K4vnSt"
      },
      "source": [
        "# Obtención del promedio de la altura, y luego imputamos una columna\n",
        "d_star_wars['height'].mean()"
      ],
      "execution_count": null,
      "outputs": []
    },
    {
      "cell_type": "code",
      "metadata": {
        "id": "Nhc4JtzLAsCi"
      },
      "source": [
        "d_star_wars['height']=d_star_wars['height'].fillna(d_star_wars['height'].mean())\n",
        "\n",
        "d_star_wars"
      ],
      "execution_count": null,
      "outputs": []
    },
    {
      "cell_type": "markdown",
      "metadata": {
        "id": "riuitse2vp-F"
      },
      "source": [
        "---\n",
        "\n",
        "## Ejercicios!\n",
        "\n",
        "Se asume que ya corrieron los ejercicios mostrados y exploraron un poco el ecosistema de google colab.\n",
        "\n",
        "👉 **Es super importante** que los hagan para fijar lo que aprendieron. No se frusten si estan 20 minutos para crear una lista, es al principio!\n",
        "\n",
        "<br>\n",
        "\n",
        "1) Crear dos listas de 5 valores, uno númerico y otro con string, llamado lista1 y lista2, con los siguientes valores:\n",
        "\n",
        "1,2,3,4,5\n",
        "\n",
        "a,b,c,d,e\n",
        "\n"
      ]
    },
    {
      "cell_type": "code",
      "metadata": {
        "id": "bVCiM4IW0GUB",
        "colab": {
          "base_uri": "https://localhost:8080/"
        },
        "outputId": "75861a3d-9451-4023-b1de-2a20b029fe1a"
      },
      "source": [
        "#Ejercicio 1\n",
        "lista1 = [1, 2, 3, 4, 5]\n",
        "lista2 = ['a', 'b', 'c', 'd', 'e']\n",
        "\n",
        "print(lista1)\n",
        "print(lista2)\n",
        "\n"
      ],
      "execution_count": null,
      "outputs": [
        {
          "output_type": "stream",
          "name": "stdout",
          "text": [
            "[1, 2, 3, 4, 5]\n",
            "['a', 'b', 'c', 'd', 'e']\n"
          ]
        }
      ]
    },
    {
      "cell_type": "markdown",
      "metadata": {
        "id": "HN2RIPRF0Gs4"
      },
      "source": [
        "2) Crear e imprimir en pantalla un pandas data frame llamado `d_test` basandose en las listas del punto 1). Nombres de las columnas: `columna_A` y `columna_B`"
      ]
    },
    {
      "cell_type": "code",
      "metadata": {
        "id": "xnnT8EBXv17s",
        "colab": {
          "base_uri": "https://localhost:8080/"
        },
        "outputId": "c3423b08-a49f-4815-9ff7-97b6edb360a2"
      },
      "source": [
        "#Ejercicio 2\n",
        "import pandas as pd\n",
        "\n",
        "lista1 = [1, 2, 3, 4, 5]\n",
        "lista2 = ['a', 'b', 'c', 'd', 'e']\n",
        "\n",
        "d_test = pd.DataFrame({'columna_A': lista1,'columna_B': lista2 })\n",
        "\n",
        "print(d_test)\n"
      ],
      "execution_count": null,
      "outputs": [
        {
          "output_type": "stream",
          "name": "stdout",
          "text": [
            "   columna_A columna_B\n",
            "0          1         a\n",
            "1          2         b\n",
            "2          3         c\n",
            "3          4         d\n",
            "4          5         e\n"
          ]
        }
      ]
    },
    {
      "cell_type": "markdown",
      "metadata": {
        "id": "1trFt4Mp0Knl"
      },
      "source": [
        "3) Cargar los datos de heart disease con pandas en una variable llamada `d_hd`. Imprimir en pantalla.\n",
        "\n",
        "URL: `https://raw.githubusercontent.com/fpineyro/homework-0/master/heart_disease.csv`\n",
        "\n"
      ]
    },
    {
      "cell_type": "code",
      "metadata": {
        "id": "N5eTxyFw0PE2",
        "colab": {
          "base_uri": "https://localhost:8080/"
        },
        "outputId": "d9475439-f1ec-40bf-8533-6a6aec19dba7"
      },
      "source": [
        "#Ejercicio 3\n",
        "import pandas as pd\n",
        "\n",
        "url = \"https://raw.githubusercontent.com/fpineyro/homework-0/master/heart_disease.csv\"\n",
        "\n",
        "d_hd = pd.read_csv(url)\n",
        "\n",
        "print(d_hd)\n"
      ],
      "execution_count": null,
      "outputs": [
        {
          "output_type": "stream",
          "name": "stdout",
          "text": [
            "     age  gender  chest_pain  resting_blood_pressure  serum_cholestoral  \\\n",
            "0     63    male           1                     145                233   \n",
            "1     67    male           4                     160                286   \n",
            "2     67    male           4                     120                229   \n",
            "3     37    male           3                     130                250   \n",
            "4     41  female           2                     130                204   \n",
            "..   ...     ...         ...                     ...                ...   \n",
            "298   45    male           1                     110                264   \n",
            "299   68    male           4                     144                193   \n",
            "300   57    male           4                     130                131   \n",
            "301   57  female           2                     130                236   \n",
            "302   38    male           3                     138                175   \n",
            "\n",
            "     fasting_blood_sugar  resting_electro  max_heart_rate  exer_angina  \\\n",
            "0                      1                2             150            0   \n",
            "1                      0                2             108            1   \n",
            "2                      0                2             129            1   \n",
            "3                      0                0             187            0   \n",
            "4                      0                2             172            0   \n",
            "..                   ...              ...             ...          ...   \n",
            "298                    0                0             132            0   \n",
            "299                    1                0             141            0   \n",
            "300                    0                0             115            1   \n",
            "301                    0                2             174            0   \n",
            "302                    0                0             173            0   \n",
            "\n",
            "     oldpeak  slope  num_vessels_flour  thal  heart_disease_severity  \\\n",
            "0        2.3      3                0.0   6.0                       0   \n",
            "1        1.5      2                3.0   3.0                       2   \n",
            "2        2.6      2                2.0   7.0                       1   \n",
            "3        3.5      3                0.0   3.0                       0   \n",
            "4        1.4      1                0.0   3.0                       0   \n",
            "..       ...    ...                ...   ...                     ...   \n",
            "298      1.2      2                0.0   7.0                       1   \n",
            "299      3.4      2                2.0   7.0                       2   \n",
            "300      1.2      2                1.0   7.0                       3   \n",
            "301      0.0      2                1.0   3.0                       1   \n",
            "302      0.0      1                NaN   3.0                       0   \n",
            "\n",
            "     exter_angina has_heart_disease  \n",
            "0               0                no  \n",
            "1               1               yes  \n",
            "2               1               yes  \n",
            "3               0                no  \n",
            "4               0                no  \n",
            "..            ...               ...  \n",
            "298             0               yes  \n",
            "299             0               yes  \n",
            "300             1               yes  \n",
            "301             0               yes  \n",
            "302             0                no  \n",
            "\n",
            "[303 rows x 16 columns]\n"
          ]
        }
      ]
    },
    {
      "cell_type": "code",
      "metadata": {
        "id": "vk9DHfAr1hLe",
        "colab": {
          "base_uri": "https://localhost:8080/"
        },
        "outputId": "36b9c498-e150-4b39-c4bd-1f1e0d8447c2"
      },
      "source": [
        "#Ejercicio 3.1) Imprimir la variable `age` y `has_heart_disease` al mismo tiempo.\n",
        "\n",
        "print(d_hd[['age', 'has_heart_disease']])\n"
      ],
      "execution_count": null,
      "outputs": [
        {
          "output_type": "stream",
          "name": "stdout",
          "text": [
            "     age has_heart_disease\n",
            "0     63                no\n",
            "1     67               yes\n",
            "2     67               yes\n",
            "3     37                no\n",
            "4     41                no\n",
            "..   ...               ...\n",
            "298   45               yes\n",
            "299   68               yes\n",
            "300   57               yes\n",
            "301   57               yes\n",
            "302   38                no\n",
            "\n",
            "[303 rows x 2 columns]\n"
          ]
        }
      ]
    },
    {
      "cell_type": "code",
      "metadata": {
        "id": "QRwViZ2I3FpP",
        "colab": {
          "base_uri": "https://localhost:8080/",
          "height": 655
        },
        "outputId": "f4f7c868-28d9-41ee-e717-4dbffde7d706"
      },
      "source": [
        "#Ejericio 3.2) Explorar los datos con DataTable de google colab, usar filtros y ordenar las columnas haciendo click en ellas\n",
        "\n",
        "import pandas as pd\n",
        "from google.colab import data_table\n",
        "\n",
        "url = \"https://raw.githubusercontent.com/fpineyro/homework-0/master/heart_disease.csv\"\n",
        "d_hd = pd.read_csv(url)\n",
        "\n",
        "data_table.DataTable(d_hd)\n"
      ],
      "execution_count": null,
      "outputs": [
        {
          "output_type": "execute_result",
          "data": {
            "text/html": [
              "<div>\n",
              "<style scoped>\n",
              "    .dataframe tbody tr th:only-of-type {\n",
              "        vertical-align: middle;\n",
              "    }\n",
              "\n",
              "    .dataframe tbody tr th {\n",
              "        vertical-align: top;\n",
              "    }\n",
              "\n",
              "    .dataframe thead th {\n",
              "        text-align: right;\n",
              "    }\n",
              "</style>\n",
              "<table border=\"1\" class=\"dataframe\">\n",
              "  <thead>\n",
              "    <tr style=\"text-align: right;\">\n",
              "      <th></th>\n",
              "      <th>age</th>\n",
              "      <th>gender</th>\n",
              "      <th>chest_pain</th>\n",
              "      <th>resting_blood_pressure</th>\n",
              "      <th>serum_cholestoral</th>\n",
              "      <th>fasting_blood_sugar</th>\n",
              "      <th>resting_electro</th>\n",
              "      <th>max_heart_rate</th>\n",
              "      <th>exer_angina</th>\n",
              "      <th>oldpeak</th>\n",
              "      <th>slope</th>\n",
              "      <th>num_vessels_flour</th>\n",
              "      <th>thal</th>\n",
              "      <th>heart_disease_severity</th>\n",
              "      <th>exter_angina</th>\n",
              "      <th>has_heart_disease</th>\n",
              "    </tr>\n",
              "  </thead>\n",
              "  <tbody>\n",
              "    <tr>\n",
              "      <th>0</th>\n",
              "      <td>63</td>\n",
              "      <td>male</td>\n",
              "      <td>1</td>\n",
              "      <td>145</td>\n",
              "      <td>233</td>\n",
              "      <td>1</td>\n",
              "      <td>2</td>\n",
              "      <td>150</td>\n",
              "      <td>0</td>\n",
              "      <td>2.3</td>\n",
              "      <td>3</td>\n",
              "      <td>0.0</td>\n",
              "      <td>6.0</td>\n",
              "      <td>0</td>\n",
              "      <td>0</td>\n",
              "      <td>no</td>\n",
              "    </tr>\n",
              "    <tr>\n",
              "      <th>1</th>\n",
              "      <td>67</td>\n",
              "      <td>male</td>\n",
              "      <td>4</td>\n",
              "      <td>160</td>\n",
              "      <td>286</td>\n",
              "      <td>0</td>\n",
              "      <td>2</td>\n",
              "      <td>108</td>\n",
              "      <td>1</td>\n",
              "      <td>1.5</td>\n",
              "      <td>2</td>\n",
              "      <td>3.0</td>\n",
              "      <td>3.0</td>\n",
              "      <td>2</td>\n",
              "      <td>1</td>\n",
              "      <td>yes</td>\n",
              "    </tr>\n",
              "    <tr>\n",
              "      <th>2</th>\n",
              "      <td>67</td>\n",
              "      <td>male</td>\n",
              "      <td>4</td>\n",
              "      <td>120</td>\n",
              "      <td>229</td>\n",
              "      <td>0</td>\n",
              "      <td>2</td>\n",
              "      <td>129</td>\n",
              "      <td>1</td>\n",
              "      <td>2.6</td>\n",
              "      <td>2</td>\n",
              "      <td>2.0</td>\n",
              "      <td>7.0</td>\n",
              "      <td>1</td>\n",
              "      <td>1</td>\n",
              "      <td>yes</td>\n",
              "    </tr>\n",
              "    <tr>\n",
              "      <th>3</th>\n",
              "      <td>37</td>\n",
              "      <td>male</td>\n",
              "      <td>3</td>\n",
              "      <td>130</td>\n",
              "      <td>250</td>\n",
              "      <td>0</td>\n",
              "      <td>0</td>\n",
              "      <td>187</td>\n",
              "      <td>0</td>\n",
              "      <td>3.5</td>\n",
              "      <td>3</td>\n",
              "      <td>0.0</td>\n",
              "      <td>3.0</td>\n",
              "      <td>0</td>\n",
              "      <td>0</td>\n",
              "      <td>no</td>\n",
              "    </tr>\n",
              "    <tr>\n",
              "      <th>4</th>\n",
              "      <td>41</td>\n",
              "      <td>female</td>\n",
              "      <td>2</td>\n",
              "      <td>130</td>\n",
              "      <td>204</td>\n",
              "      <td>0</td>\n",
              "      <td>2</td>\n",
              "      <td>172</td>\n",
              "      <td>0</td>\n",
              "      <td>1.4</td>\n",
              "      <td>1</td>\n",
              "      <td>0.0</td>\n",
              "      <td>3.0</td>\n",
              "      <td>0</td>\n",
              "      <td>0</td>\n",
              "      <td>no</td>\n",
              "    </tr>\n",
              "    <tr>\n",
              "      <th>...</th>\n",
              "      <td>...</td>\n",
              "      <td>...</td>\n",
              "      <td>...</td>\n",
              "      <td>...</td>\n",
              "      <td>...</td>\n",
              "      <td>...</td>\n",
              "      <td>...</td>\n",
              "      <td>...</td>\n",
              "      <td>...</td>\n",
              "      <td>...</td>\n",
              "      <td>...</td>\n",
              "      <td>...</td>\n",
              "      <td>...</td>\n",
              "      <td>...</td>\n",
              "      <td>...</td>\n",
              "      <td>...</td>\n",
              "    </tr>\n",
              "    <tr>\n",
              "      <th>298</th>\n",
              "      <td>45</td>\n",
              "      <td>male</td>\n",
              "      <td>1</td>\n",
              "      <td>110</td>\n",
              "      <td>264</td>\n",
              "      <td>0</td>\n",
              "      <td>0</td>\n",
              "      <td>132</td>\n",
              "      <td>0</td>\n",
              "      <td>1.2</td>\n",
              "      <td>2</td>\n",
              "      <td>0.0</td>\n",
              "      <td>7.0</td>\n",
              "      <td>1</td>\n",
              "      <td>0</td>\n",
              "      <td>yes</td>\n",
              "    </tr>\n",
              "    <tr>\n",
              "      <th>299</th>\n",
              "      <td>68</td>\n",
              "      <td>male</td>\n",
              "      <td>4</td>\n",
              "      <td>144</td>\n",
              "      <td>193</td>\n",
              "      <td>1</td>\n",
              "      <td>0</td>\n",
              "      <td>141</td>\n",
              "      <td>0</td>\n",
              "      <td>3.4</td>\n",
              "      <td>2</td>\n",
              "      <td>2.0</td>\n",
              "      <td>7.0</td>\n",
              "      <td>2</td>\n",
              "      <td>0</td>\n",
              "      <td>yes</td>\n",
              "    </tr>\n",
              "    <tr>\n",
              "      <th>300</th>\n",
              "      <td>57</td>\n",
              "      <td>male</td>\n",
              "      <td>4</td>\n",
              "      <td>130</td>\n",
              "      <td>131</td>\n",
              "      <td>0</td>\n",
              "      <td>0</td>\n",
              "      <td>115</td>\n",
              "      <td>1</td>\n",
              "      <td>1.2</td>\n",
              "      <td>2</td>\n",
              "      <td>1.0</td>\n",
              "      <td>7.0</td>\n",
              "      <td>3</td>\n",
              "      <td>1</td>\n",
              "      <td>yes</td>\n",
              "    </tr>\n",
              "    <tr>\n",
              "      <th>301</th>\n",
              "      <td>57</td>\n",
              "      <td>female</td>\n",
              "      <td>2</td>\n",
              "      <td>130</td>\n",
              "      <td>236</td>\n",
              "      <td>0</td>\n",
              "      <td>2</td>\n",
              "      <td>174</td>\n",
              "      <td>0</td>\n",
              "      <td>0.0</td>\n",
              "      <td>2</td>\n",
              "      <td>1.0</td>\n",
              "      <td>3.0</td>\n",
              "      <td>1</td>\n",
              "      <td>0</td>\n",
              "      <td>yes</td>\n",
              "    </tr>\n",
              "    <tr>\n",
              "      <th>302</th>\n",
              "      <td>38</td>\n",
              "      <td>male</td>\n",
              "      <td>3</td>\n",
              "      <td>138</td>\n",
              "      <td>175</td>\n",
              "      <td>0</td>\n",
              "      <td>0</td>\n",
              "      <td>173</td>\n",
              "      <td>0</td>\n",
              "      <td>0.0</td>\n",
              "      <td>1</td>\n",
              "      <td>NaN</td>\n",
              "      <td>3.0</td>\n",
              "      <td>0</td>\n",
              "      <td>0</td>\n",
              "      <td>no</td>\n",
              "    </tr>\n",
              "  </tbody>\n",
              "</table>\n",
              "<p>303 rows × 16 columns</p>\n",
              "</div>"
            ],
            "application/vnd.google.colaboratory.module+javascript": "\n      import \"https://ssl.gstatic.com/colaboratory/data_table/f565ec32c7e6656f/data_table.js\";\n\n      const table = window.createDataTable({\n        data: [[{\n            'v': 0,\n            'f': \"0\",\n        },\n{\n            'v': 63,\n            'f': \"63\",\n        },\n\"male\",\n{\n            'v': 1,\n            'f': \"1\",\n        },\n{\n            'v': 145,\n            'f': \"145\",\n        },\n{\n            'v': 233,\n            'f': \"233\",\n        },\n{\n            'v': 1,\n            'f': \"1\",\n        },\n{\n            'v': 2,\n            'f': \"2\",\n        },\n{\n            'v': 150,\n            'f': \"150\",\n        },\n{\n            'v': 0,\n            'f': \"0\",\n        },\n{\n            'v': 2.3,\n            'f': \"2.3\",\n        },\n{\n            'v': 3,\n            'f': \"3\",\n        },\n{\n            'v': 0.0,\n            'f': \"0.0\",\n        },\n{\n            'v': 6.0,\n            'f': \"6.0\",\n        },\n{\n            'v': 0,\n            'f': \"0\",\n        },\n{\n            'v': 0,\n            'f': \"0\",\n        },\n\"no\"],\n [{\n            'v': 1,\n            'f': \"1\",\n        },\n{\n            'v': 67,\n            'f': \"67\",\n        },\n\"male\",\n{\n            'v': 4,\n            'f': \"4\",\n        },\n{\n            'v': 160,\n            'f': \"160\",\n        },\n{\n            'v': 286,\n            'f': \"286\",\n        },\n{\n            'v': 0,\n            'f': \"0\",\n        },\n{\n            'v': 2,\n            'f': \"2\",\n        },\n{\n            'v': 108,\n            'f': \"108\",\n        },\n{\n            'v': 1,\n            'f': \"1\",\n        },\n{\n            'v': 1.5,\n            'f': \"1.5\",\n        },\n{\n            'v': 2,\n            'f': \"2\",\n        },\n{\n            'v': 3.0,\n            'f': \"3.0\",\n        },\n{\n            'v': 3.0,\n            'f': \"3.0\",\n        },\n{\n            'v': 2,\n            'f': \"2\",\n        },\n{\n            'v': 1,\n            'f': \"1\",\n        },\n\"yes\"],\n [{\n            'v': 2,\n            'f': \"2\",\n        },\n{\n            'v': 67,\n            'f': \"67\",\n        },\n\"male\",\n{\n            'v': 4,\n            'f': \"4\",\n        },\n{\n            'v': 120,\n            'f': \"120\",\n        },\n{\n            'v': 229,\n            'f': \"229\",\n        },\n{\n            'v': 0,\n            'f': \"0\",\n        },\n{\n            'v': 2,\n            'f': \"2\",\n        },\n{\n            'v': 129,\n            'f': \"129\",\n        },\n{\n            'v': 1,\n            'f': \"1\",\n        },\n{\n            'v': 2.6,\n            'f': \"2.6\",\n        },\n{\n            'v': 2,\n            'f': \"2\",\n        },\n{\n            'v': 2.0,\n            'f': \"2.0\",\n        },\n{\n            'v': 7.0,\n            'f': \"7.0\",\n        },\n{\n            'v': 1,\n            'f': \"1\",\n        },\n{\n            'v': 1,\n            'f': \"1\",\n        },\n\"yes\"],\n [{\n            'v': 3,\n            'f': \"3\",\n        },\n{\n            'v': 37,\n            'f': \"37\",\n        },\n\"male\",\n{\n            'v': 3,\n            'f': \"3\",\n        },\n{\n            'v': 130,\n            'f': \"130\",\n        },\n{\n            'v': 250,\n            'f': \"250\",\n        },\n{\n            'v': 0,\n            'f': \"0\",\n        },\n{\n            'v': 0,\n            'f': \"0\",\n        },\n{\n            'v': 187,\n            'f': \"187\",\n        },\n{\n            'v': 0,\n            'f': \"0\",\n        },\n{\n            'v': 3.5,\n            'f': \"3.5\",\n        },\n{\n            'v': 3,\n            'f': \"3\",\n        },\n{\n            'v': 0.0,\n            'f': \"0.0\",\n        },\n{\n            'v': 3.0,\n            'f': \"3.0\",\n        },\n{\n            'v': 0,\n            'f': \"0\",\n        },\n{\n            'v': 0,\n            'f': \"0\",\n        },\n\"no\"],\n [{\n            'v': 4,\n            'f': \"4\",\n        },\n{\n            'v': 41,\n            'f': \"41\",\n        },\n\"female\",\n{\n            'v': 2,\n            'f': \"2\",\n        },\n{\n            'v': 130,\n            'f': \"130\",\n        },\n{\n            'v': 204,\n            'f': \"204\",\n        },\n{\n            'v': 0,\n            'f': \"0\",\n        },\n{\n            'v': 2,\n            'f': \"2\",\n        },\n{\n            'v': 172,\n            'f': \"172\",\n        },\n{\n            'v': 0,\n            'f': \"0\",\n        },\n{\n            'v': 1.4,\n            'f': \"1.4\",\n        },\n{\n            'v': 1,\n            'f': \"1\",\n        },\n{\n            'v': 0.0,\n            'f': \"0.0\",\n        },\n{\n            'v': 3.0,\n            'f': \"3.0\",\n        },\n{\n            'v': 0,\n            'f': \"0\",\n        },\n{\n            'v': 0,\n            'f': \"0\",\n        },\n\"no\"],\n [{\n            'v': 5,\n            'f': \"5\",\n        },\n{\n            'v': 56,\n            'f': \"56\",\n        },\n\"male\",\n{\n            'v': 2,\n            'f': \"2\",\n        },\n{\n            'v': 120,\n            'f': \"120\",\n        },\n{\n            'v': 236,\n            'f': \"236\",\n        },\n{\n            'v': 0,\n            'f': \"0\",\n        },\n{\n            'v': 0,\n            'f': \"0\",\n        },\n{\n            'v': 178,\n            'f': \"178\",\n        },\n{\n            'v': 0,\n            'f': \"0\",\n        },\n{\n            'v': 0.8,\n            'f': \"0.8\",\n        },\n{\n            'v': 1,\n            'f': \"1\",\n        },\n{\n            'v': 0.0,\n            'f': \"0.0\",\n        },\n{\n            'v': 3.0,\n            'f': \"3.0\",\n        },\n{\n            'v': 0,\n            'f': \"0\",\n        },\n{\n            'v': 0,\n            'f': \"0\",\n        },\n\"no\"],\n [{\n            'v': 6,\n            'f': \"6\",\n        },\n{\n            'v': 62,\n            'f': \"62\",\n        },\n\"female\",\n{\n            'v': 4,\n            'f': \"4\",\n        },\n{\n            'v': 140,\n            'f': \"140\",\n        },\n{\n            'v': 268,\n            'f': \"268\",\n        },\n{\n            'v': 0,\n            'f': \"0\",\n        },\n{\n            'v': 2,\n            'f': \"2\",\n        },\n{\n            'v': 160,\n            'f': \"160\",\n        },\n{\n            'v': 0,\n            'f': \"0\",\n        },\n{\n            'v': 3.6,\n            'f': \"3.6\",\n        },\n{\n            'v': 3,\n            'f': \"3\",\n        },\n{\n            'v': 2.0,\n            'f': \"2.0\",\n        },\n{\n            'v': 3.0,\n            'f': \"3.0\",\n        },\n{\n            'v': 3,\n            'f': \"3\",\n        },\n{\n            'v': 0,\n            'f': \"0\",\n        },\n\"yes\"],\n [{\n            'v': 7,\n            'f': \"7\",\n        },\n{\n            'v': 57,\n            'f': \"57\",\n        },\n\"female\",\n{\n            'v': 4,\n            'f': \"4\",\n        },\n{\n            'v': 120,\n            'f': \"120\",\n        },\n{\n            'v': 354,\n            'f': \"354\",\n        },\n{\n            'v': 0,\n            'f': \"0\",\n        },\n{\n            'v': 0,\n            'f': \"0\",\n        },\n{\n            'v': 163,\n            'f': \"163\",\n        },\n{\n            'v': 1,\n            'f': \"1\",\n        },\n{\n            'v': 0.6,\n            'f': \"0.6\",\n        },\n{\n            'v': 1,\n            'f': \"1\",\n        },\n{\n            'v': 0.0,\n            'f': \"0.0\",\n        },\n{\n            'v': 3.0,\n            'f': \"3.0\",\n        },\n{\n            'v': 0,\n            'f': \"0\",\n        },\n{\n            'v': 1,\n            'f': \"1\",\n        },\n\"no\"],\n [{\n            'v': 8,\n            'f': \"8\",\n        },\n{\n            'v': 63,\n            'f': \"63\",\n        },\n\"male\",\n{\n            'v': 4,\n            'f': \"4\",\n        },\n{\n            'v': 130,\n            'f': \"130\",\n        },\n{\n            'v': 254,\n            'f': \"254\",\n        },\n{\n            'v': 0,\n            'f': \"0\",\n        },\n{\n            'v': 2,\n            'f': \"2\",\n        },\n{\n            'v': 147,\n            'f': \"147\",\n        },\n{\n            'v': 0,\n            'f': \"0\",\n        },\n{\n            'v': 1.4,\n            'f': \"1.4\",\n        },\n{\n            'v': 2,\n            'f': \"2\",\n        },\n{\n            'v': 1.0,\n            'f': \"1.0\",\n        },\n{\n            'v': 7.0,\n            'f': \"7.0\",\n        },\n{\n            'v': 2,\n            'f': \"2\",\n        },\n{\n            'v': 0,\n            'f': \"0\",\n        },\n\"yes\"],\n [{\n            'v': 9,\n            'f': \"9\",\n        },\n{\n            'v': 53,\n            'f': \"53\",\n        },\n\"male\",\n{\n            'v': 4,\n            'f': \"4\",\n        },\n{\n            'v': 140,\n            'f': \"140\",\n        },\n{\n            'v': 203,\n            'f': \"203\",\n        },\n{\n            'v': 1,\n            'f': \"1\",\n        },\n{\n            'v': 2,\n            'f': \"2\",\n        },\n{\n            'v': 155,\n            'f': \"155\",\n        },\n{\n            'v': 1,\n            'f': \"1\",\n        },\n{\n            'v': 3.1,\n            'f': \"3.1\",\n        },\n{\n            'v': 3,\n            'f': \"3\",\n        },\n{\n            'v': 0.0,\n            'f': \"0.0\",\n        },\n{\n            'v': 7.0,\n            'f': \"7.0\",\n        },\n{\n            'v': 1,\n            'f': \"1\",\n        },\n{\n            'v': 1,\n            'f': \"1\",\n        },\n\"yes\"],\n [{\n            'v': 10,\n            'f': \"10\",\n        },\n{\n            'v': 57,\n            'f': \"57\",\n        },\n\"male\",\n{\n            'v': 4,\n            'f': \"4\",\n        },\n{\n            'v': 140,\n            'f': \"140\",\n        },\n{\n            'v': 192,\n            'f': \"192\",\n        },\n{\n            'v': 0,\n            'f': \"0\",\n        },\n{\n            'v': 0,\n            'f': \"0\",\n        },\n{\n            'v': 148,\n            'f': \"148\",\n        },\n{\n            'v': 0,\n            'f': \"0\",\n        },\n{\n            'v': 0.4,\n            'f': \"0.4\",\n        },\n{\n            'v': 2,\n            'f': \"2\",\n        },\n{\n            'v': 0.0,\n            'f': \"0.0\",\n        },\n{\n            'v': 6.0,\n            'f': \"6.0\",\n        },\n{\n            'v': 0,\n            'f': \"0\",\n        },\n{\n            'v': 0,\n            'f': \"0\",\n        },\n\"no\"],\n [{\n            'v': 11,\n            'f': \"11\",\n        },\n{\n            'v': 56,\n            'f': \"56\",\n        },\n\"female\",\n{\n            'v': 2,\n            'f': \"2\",\n        },\n{\n            'v': 140,\n            'f': \"140\",\n        },\n{\n            'v': 294,\n            'f': \"294\",\n        },\n{\n            'v': 0,\n            'f': \"0\",\n        },\n{\n            'v': 2,\n            'f': \"2\",\n        },\n{\n            'v': 153,\n            'f': \"153\",\n        },\n{\n            'v': 0,\n            'f': \"0\",\n        },\n{\n            'v': 1.3,\n            'f': \"1.3\",\n        },\n{\n            'v': 2,\n            'f': \"2\",\n        },\n{\n            'v': 0.0,\n            'f': \"0.0\",\n        },\n{\n            'v': 3.0,\n            'f': \"3.0\",\n        },\n{\n            'v': 0,\n            'f': \"0\",\n        },\n{\n            'v': 0,\n            'f': \"0\",\n        },\n\"no\"],\n [{\n            'v': 12,\n            'f': \"12\",\n        },\n{\n            'v': 56,\n            'f': \"56\",\n        },\n\"male\",\n{\n            'v': 3,\n            'f': \"3\",\n        },\n{\n            'v': 130,\n            'f': \"130\",\n        },\n{\n            'v': 256,\n            'f': \"256\",\n        },\n{\n            'v': 1,\n            'f': \"1\",\n        },\n{\n            'v': 2,\n            'f': \"2\",\n        },\n{\n            'v': 142,\n            'f': \"142\",\n        },\n{\n            'v': 1,\n            'f': \"1\",\n        },\n{\n            'v': 0.6,\n            'f': \"0.6\",\n        },\n{\n            'v': 2,\n            'f': \"2\",\n        },\n{\n            'v': 1.0,\n            'f': \"1.0\",\n        },\n{\n            'v': 6.0,\n            'f': \"6.0\",\n        },\n{\n            'v': 2,\n            'f': \"2\",\n        },\n{\n            'v': 1,\n            'f': \"1\",\n        },\n\"yes\"],\n [{\n            'v': 13,\n            'f': \"13\",\n        },\n{\n            'v': 44,\n            'f': \"44\",\n        },\n\"male\",\n{\n            'v': 2,\n            'f': \"2\",\n        },\n{\n            'v': 120,\n            'f': \"120\",\n        },\n{\n            'v': 263,\n            'f': \"263\",\n        },\n{\n            'v': 0,\n            'f': \"0\",\n        },\n{\n            'v': 0,\n            'f': \"0\",\n        },\n{\n            'v': 173,\n            'f': \"173\",\n        },\n{\n            'v': 0,\n            'f': \"0\",\n        },\n{\n            'v': 0.0,\n            'f': \"0.0\",\n        },\n{\n            'v': 1,\n            'f': \"1\",\n        },\n{\n            'v': 0.0,\n            'f': \"0.0\",\n        },\n{\n            'v': 7.0,\n            'f': \"7.0\",\n        },\n{\n            'v': 0,\n            'f': \"0\",\n        },\n{\n            'v': 0,\n            'f': \"0\",\n        },\n\"no\"],\n [{\n            'v': 14,\n            'f': \"14\",\n        },\n{\n            'v': 52,\n            'f': \"52\",\n        },\n\"male\",\n{\n            'v': 3,\n            'f': \"3\",\n        },\n{\n            'v': 172,\n            'f': \"172\",\n        },\n{\n            'v': 199,\n            'f': \"199\",\n        },\n{\n            'v': 1,\n            'f': \"1\",\n        },\n{\n            'v': 0,\n            'f': \"0\",\n        },\n{\n            'v': 162,\n            'f': \"162\",\n        },\n{\n            'v': 0,\n            'f': \"0\",\n        },\n{\n            'v': 0.5,\n            'f': \"0.5\",\n        },\n{\n            'v': 1,\n            'f': \"1\",\n        },\n{\n            'v': 0.0,\n            'f': \"0.0\",\n        },\n{\n            'v': 7.0,\n            'f': \"7.0\",\n        },\n{\n            'v': 0,\n            'f': \"0\",\n        },\n{\n            'v': 0,\n            'f': \"0\",\n        },\n\"no\"],\n [{\n            'v': 15,\n            'f': \"15\",\n        },\n{\n            'v': 57,\n            'f': \"57\",\n        },\n\"male\",\n{\n            'v': 3,\n            'f': \"3\",\n        },\n{\n            'v': 150,\n            'f': \"150\",\n        },\n{\n            'v': 168,\n            'f': \"168\",\n        },\n{\n            'v': 0,\n            'f': \"0\",\n        },\n{\n            'v': 0,\n            'f': \"0\",\n        },\n{\n            'v': 174,\n            'f': \"174\",\n        },\n{\n            'v': 0,\n            'f': \"0\",\n        },\n{\n            'v': 1.6,\n            'f': \"1.6\",\n        },\n{\n            'v': 1,\n            'f': \"1\",\n        },\n{\n            'v': 0.0,\n            'f': \"0.0\",\n        },\n{\n            'v': 3.0,\n            'f': \"3.0\",\n        },\n{\n            'v': 0,\n            'f': \"0\",\n        },\n{\n            'v': 0,\n            'f': \"0\",\n        },\n\"no\"],\n [{\n            'v': 16,\n            'f': \"16\",\n        },\n{\n            'v': 48,\n            'f': \"48\",\n        },\n\"male\",\n{\n            'v': 2,\n            'f': \"2\",\n        },\n{\n            'v': 110,\n            'f': \"110\",\n        },\n{\n            'v': 229,\n            'f': \"229\",\n        },\n{\n            'v': 0,\n            'f': \"0\",\n        },\n{\n            'v': 0,\n            'f': \"0\",\n        },\n{\n            'v': 168,\n            'f': \"168\",\n        },\n{\n            'v': 0,\n            'f': \"0\",\n        },\n{\n            'v': 1.0,\n            'f': \"1.0\",\n        },\n{\n            'v': 3,\n            'f': \"3\",\n        },\n{\n            'v': 0.0,\n            'f': \"0.0\",\n        },\n{\n            'v': 7.0,\n            'f': \"7.0\",\n        },\n{\n            'v': 1,\n            'f': \"1\",\n        },\n{\n            'v': 0,\n            'f': \"0\",\n        },\n\"yes\"],\n [{\n            'v': 17,\n            'f': \"17\",\n        },\n{\n            'v': 54,\n            'f': \"54\",\n        },\n\"male\",\n{\n            'v': 4,\n            'f': \"4\",\n        },\n{\n            'v': 140,\n            'f': \"140\",\n        },\n{\n            'v': 239,\n            'f': \"239\",\n        },\n{\n            'v': 0,\n            'f': \"0\",\n        },\n{\n            'v': 0,\n            'f': \"0\",\n        },\n{\n            'v': 160,\n            'f': \"160\",\n        },\n{\n            'v': 0,\n            'f': \"0\",\n        },\n{\n            'v': 1.2,\n            'f': \"1.2\",\n        },\n{\n            'v': 1,\n            'f': \"1\",\n        },\n{\n            'v': 0.0,\n            'f': \"0.0\",\n        },\n{\n            'v': 3.0,\n            'f': \"3.0\",\n        },\n{\n            'v': 0,\n            'f': \"0\",\n        },\n{\n            'v': 0,\n            'f': \"0\",\n        },\n\"no\"],\n [{\n            'v': 18,\n            'f': \"18\",\n        },\n{\n            'v': 48,\n            'f': \"48\",\n        },\n\"female\",\n{\n            'v': 3,\n            'f': \"3\",\n        },\n{\n            'v': 130,\n            'f': \"130\",\n        },\n{\n            'v': 275,\n            'f': \"275\",\n        },\n{\n            'v': 0,\n            'f': \"0\",\n        },\n{\n            'v': 0,\n            'f': \"0\",\n        },\n{\n            'v': 139,\n            'f': \"139\",\n        },\n{\n            'v': 0,\n            'f': \"0\",\n        },\n{\n            'v': 0.2,\n            'f': \"0.2\",\n        },\n{\n            'v': 1,\n            'f': \"1\",\n        },\n{\n            'v': 0.0,\n            'f': \"0.0\",\n        },\n{\n            'v': 3.0,\n            'f': \"3.0\",\n        },\n{\n            'v': 0,\n            'f': \"0\",\n        },\n{\n            'v': 0,\n            'f': \"0\",\n        },\n\"no\"],\n [{\n            'v': 19,\n            'f': \"19\",\n        },\n{\n            'v': 49,\n            'f': \"49\",\n        },\n\"male\",\n{\n            'v': 2,\n            'f': \"2\",\n        },\n{\n            'v': 130,\n            'f': \"130\",\n        },\n{\n            'v': 266,\n            'f': \"266\",\n        },\n{\n            'v': 0,\n            'f': \"0\",\n        },\n{\n            'v': 0,\n            'f': \"0\",\n        },\n{\n            'v': 171,\n            'f': \"171\",\n        },\n{\n            'v': 0,\n            'f': \"0\",\n        },\n{\n            'v': 0.6,\n            'f': \"0.6\",\n        },\n{\n            'v': 1,\n            'f': \"1\",\n        },\n{\n            'v': 0.0,\n            'f': \"0.0\",\n        },\n{\n            'v': 3.0,\n            'f': \"3.0\",\n        },\n{\n            'v': 0,\n            'f': \"0\",\n        },\n{\n            'v': 0,\n            'f': \"0\",\n        },\n\"no\"],\n [{\n            'v': 20,\n            'f': \"20\",\n        },\n{\n            'v': 64,\n            'f': \"64\",\n        },\n\"male\",\n{\n            'v': 1,\n            'f': \"1\",\n        },\n{\n            'v': 110,\n            'f': \"110\",\n        },\n{\n            'v': 211,\n            'f': \"211\",\n        },\n{\n            'v': 0,\n            'f': \"0\",\n        },\n{\n            'v': 2,\n            'f': \"2\",\n        },\n{\n            'v': 144,\n            'f': \"144\",\n        },\n{\n            'v': 1,\n            'f': \"1\",\n        },\n{\n            'v': 1.8,\n            'f': \"1.8\",\n        },\n{\n            'v': 2,\n            'f': \"2\",\n        },\n{\n            'v': 0.0,\n            'f': \"0.0\",\n        },\n{\n            'v': 3.0,\n            'f': \"3.0\",\n        },\n{\n            'v': 0,\n            'f': \"0\",\n        },\n{\n            'v': 1,\n            'f': \"1\",\n        },\n\"no\"],\n [{\n            'v': 21,\n            'f': \"21\",\n        },\n{\n            'v': 58,\n            'f': \"58\",\n        },\n\"female\",\n{\n            'v': 1,\n            'f': \"1\",\n        },\n{\n            'v': 150,\n            'f': \"150\",\n        },\n{\n            'v': 283,\n            'f': \"283\",\n        },\n{\n            'v': 1,\n            'f': \"1\",\n        },\n{\n            'v': 2,\n            'f': \"2\",\n        },\n{\n            'v': 162,\n            'f': \"162\",\n        },\n{\n            'v': 0,\n            'f': \"0\",\n        },\n{\n            'v': 1.0,\n            'f': \"1.0\",\n        },\n{\n            'v': 1,\n            'f': \"1\",\n        },\n{\n            'v': 0.0,\n            'f': \"0.0\",\n        },\n{\n            'v': 3.0,\n            'f': \"3.0\",\n        },\n{\n            'v': 0,\n            'f': \"0\",\n        },\n{\n            'v': 0,\n            'f': \"0\",\n        },\n\"no\"],\n [{\n            'v': 22,\n            'f': \"22\",\n        },\n{\n            'v': 58,\n            'f': \"58\",\n        },\n\"male\",\n{\n            'v': 2,\n            'f': \"2\",\n        },\n{\n            'v': 120,\n            'f': \"120\",\n        },\n{\n            'v': 284,\n            'f': \"284\",\n        },\n{\n            'v': 0,\n            'f': \"0\",\n        },\n{\n            'v': 2,\n            'f': \"2\",\n        },\n{\n            'v': 160,\n            'f': \"160\",\n        },\n{\n            'v': 0,\n            'f': \"0\",\n        },\n{\n            'v': 1.8,\n            'f': \"1.8\",\n        },\n{\n            'v': 2,\n            'f': \"2\",\n        },\n{\n            'v': 0.0,\n            'f': \"0.0\",\n        },\n{\n            'v': 3.0,\n            'f': \"3.0\",\n        },\n{\n            'v': 1,\n            'f': \"1\",\n        },\n{\n            'v': 0,\n            'f': \"0\",\n        },\n\"yes\"],\n [{\n            'v': 23,\n            'f': \"23\",\n        },\n{\n            'v': 58,\n            'f': \"58\",\n        },\n\"male\",\n{\n            'v': 3,\n            'f': \"3\",\n        },\n{\n            'v': 132,\n            'f': \"132\",\n        },\n{\n            'v': 224,\n            'f': \"224\",\n        },\n{\n            'v': 0,\n            'f': \"0\",\n        },\n{\n            'v': 2,\n            'f': \"2\",\n        },\n{\n            'v': 173,\n            'f': \"173\",\n        },\n{\n            'v': 0,\n            'f': \"0\",\n        },\n{\n            'v': 3.2,\n            'f': \"3.2\",\n        },\n{\n            'v': 1,\n            'f': \"1\",\n        },\n{\n            'v': 2.0,\n            'f': \"2.0\",\n        },\n{\n            'v': 7.0,\n            'f': \"7.0\",\n        },\n{\n            'v': 3,\n            'f': \"3\",\n        },\n{\n            'v': 0,\n            'f': \"0\",\n        },\n\"yes\"],\n [{\n            'v': 24,\n            'f': \"24\",\n        },\n{\n            'v': 60,\n            'f': \"60\",\n        },\n\"male\",\n{\n            'v': 4,\n            'f': \"4\",\n        },\n{\n            'v': 130,\n            'f': \"130\",\n        },\n{\n            'v': 206,\n            'f': \"206\",\n        },\n{\n            'v': 0,\n            'f': \"0\",\n        },\n{\n            'v': 2,\n            'f': \"2\",\n        },\n{\n            'v': 132,\n            'f': \"132\",\n        },\n{\n            'v': 1,\n            'f': \"1\",\n        },\n{\n            'v': 2.4,\n            'f': \"2.4\",\n        },\n{\n            'v': 2,\n            'f': \"2\",\n        },\n{\n            'v': 2.0,\n            'f': \"2.0\",\n        },\n{\n            'v': 7.0,\n            'f': \"7.0\",\n        },\n{\n            'v': 4,\n            'f': \"4\",\n        },\n{\n            'v': 1,\n            'f': \"1\",\n        },\n\"yes\"],\n [{\n            'v': 25,\n            'f': \"25\",\n        },\n{\n            'v': 50,\n            'f': \"50\",\n        },\n\"female\",\n{\n            'v': 3,\n            'f': \"3\",\n        },\n{\n            'v': 120,\n            'f': \"120\",\n        },\n{\n            'v': 219,\n            'f': \"219\",\n        },\n{\n            'v': 0,\n            'f': \"0\",\n        },\n{\n            'v': 0,\n            'f': \"0\",\n        },\n{\n            'v': 158,\n            'f': \"158\",\n        },\n{\n            'v': 0,\n            'f': \"0\",\n        },\n{\n            'v': 1.6,\n            'f': \"1.6\",\n        },\n{\n            'v': 2,\n            'f': \"2\",\n        },\n{\n            'v': 0.0,\n            'f': \"0.0\",\n        },\n{\n            'v': 3.0,\n            'f': \"3.0\",\n        },\n{\n            'v': 0,\n            'f': \"0\",\n        },\n{\n            'v': 0,\n            'f': \"0\",\n        },\n\"no\"],\n [{\n            'v': 26,\n            'f': \"26\",\n        },\n{\n            'v': 58,\n            'f': \"58\",\n        },\n\"female\",\n{\n            'v': 3,\n            'f': \"3\",\n        },\n{\n            'v': 120,\n            'f': \"120\",\n        },\n{\n            'v': 340,\n            'f': \"340\",\n        },\n{\n            'v': 0,\n            'f': \"0\",\n        },\n{\n            'v': 0,\n            'f': \"0\",\n        },\n{\n            'v': 172,\n            'f': \"172\",\n        },\n{\n            'v': 0,\n            'f': \"0\",\n        },\n{\n            'v': 0.0,\n            'f': \"0.0\",\n        },\n{\n            'v': 1,\n            'f': \"1\",\n        },\n{\n            'v': 0.0,\n            'f': \"0.0\",\n        },\n{\n            'v': 3.0,\n            'f': \"3.0\",\n        },\n{\n            'v': 0,\n            'f': \"0\",\n        },\n{\n            'v': 0,\n            'f': \"0\",\n        },\n\"no\"],\n [{\n            'v': 27,\n            'f': \"27\",\n        },\n{\n            'v': 66,\n            'f': \"66\",\n        },\n\"female\",\n{\n            'v': 1,\n            'f': \"1\",\n        },\n{\n            'v': 150,\n            'f': \"150\",\n        },\n{\n            'v': 226,\n            'f': \"226\",\n        },\n{\n            'v': 0,\n            'f': \"0\",\n        },\n{\n            'v': 0,\n            'f': \"0\",\n        },\n{\n            'v': 114,\n            'f': \"114\",\n        },\n{\n            'v': 0,\n            'f': \"0\",\n        },\n{\n            'v': 2.6,\n            'f': \"2.6\",\n        },\n{\n            'v': 3,\n            'f': \"3\",\n        },\n{\n            'v': 0.0,\n            'f': \"0.0\",\n        },\n{\n            'v': 3.0,\n            'f': \"3.0\",\n        },\n{\n            'v': 0,\n            'f': \"0\",\n        },\n{\n            'v': 0,\n            'f': \"0\",\n        },\n\"no\"],\n [{\n            'v': 28,\n            'f': \"28\",\n        },\n{\n            'v': 43,\n            'f': \"43\",\n        },\n\"male\",\n{\n            'v': 4,\n            'f': \"4\",\n        },\n{\n            'v': 150,\n            'f': \"150\",\n        },\n{\n            'v': 247,\n            'f': \"247\",\n        },\n{\n            'v': 0,\n            'f': \"0\",\n        },\n{\n            'v': 0,\n            'f': \"0\",\n        },\n{\n            'v': 171,\n            'f': \"171\",\n        },\n{\n            'v': 0,\n            'f': \"0\",\n        },\n{\n            'v': 1.5,\n            'f': \"1.5\",\n        },\n{\n            'v': 1,\n            'f': \"1\",\n        },\n{\n            'v': 0.0,\n            'f': \"0.0\",\n        },\n{\n            'v': 3.0,\n            'f': \"3.0\",\n        },\n{\n            'v': 0,\n            'f': \"0\",\n        },\n{\n            'v': 0,\n            'f': \"0\",\n        },\n\"no\"],\n [{\n            'v': 29,\n            'f': \"29\",\n        },\n{\n            'v': 40,\n            'f': \"40\",\n        },\n\"male\",\n{\n            'v': 4,\n            'f': \"4\",\n        },\n{\n            'v': 110,\n            'f': \"110\",\n        },\n{\n            'v': 167,\n            'f': \"167\",\n        },\n{\n            'v': 0,\n            'f': \"0\",\n        },\n{\n            'v': 2,\n            'f': \"2\",\n        },\n{\n            'v': 114,\n            'f': \"114\",\n        },\n{\n            'v': 1,\n            'f': \"1\",\n        },\n{\n            'v': 2.0,\n            'f': \"2.0\",\n        },\n{\n            'v': 2,\n            'f': \"2\",\n        },\n{\n            'v': 0.0,\n            'f': \"0.0\",\n        },\n{\n            'v': 7.0,\n            'f': \"7.0\",\n        },\n{\n            'v': 3,\n            'f': \"3\",\n        },\n{\n            'v': 1,\n            'f': \"1\",\n        },\n\"yes\"],\n [{\n            'v': 30,\n            'f': \"30\",\n        },\n{\n            'v': 69,\n            'f': \"69\",\n        },\n\"female\",\n{\n            'v': 1,\n            'f': \"1\",\n        },\n{\n            'v': 140,\n            'f': \"140\",\n        },\n{\n            'v': 239,\n            'f': \"239\",\n        },\n{\n            'v': 0,\n            'f': \"0\",\n        },\n{\n            'v': 0,\n            'f': \"0\",\n        },\n{\n            'v': 151,\n            'f': \"151\",\n        },\n{\n            'v': 0,\n            'f': \"0\",\n        },\n{\n            'v': 1.8,\n            'f': \"1.8\",\n        },\n{\n            'v': 1,\n            'f': \"1\",\n        },\n{\n            'v': 2.0,\n            'f': \"2.0\",\n        },\n{\n            'v': 3.0,\n            'f': \"3.0\",\n        },\n{\n            'v': 0,\n            'f': \"0\",\n        },\n{\n            'v': 0,\n            'f': \"0\",\n        },\n\"no\"],\n [{\n            'v': 31,\n            'f': \"31\",\n        },\n{\n            'v': 60,\n            'f': \"60\",\n        },\n\"male\",\n{\n            'v': 4,\n            'f': \"4\",\n        },\n{\n            'v': 117,\n            'f': \"117\",\n        },\n{\n            'v': 230,\n            'f': \"230\",\n        },\n{\n            'v': 1,\n            'f': \"1\",\n        },\n{\n            'v': 0,\n            'f': \"0\",\n        },\n{\n            'v': 160,\n            'f': \"160\",\n        },\n{\n            'v': 1,\n            'f': \"1\",\n        },\n{\n            'v': 1.4,\n            'f': \"1.4\",\n        },\n{\n            'v': 1,\n            'f': \"1\",\n        },\n{\n            'v': 2.0,\n            'f': \"2.0\",\n        },\n{\n            'v': 7.0,\n            'f': \"7.0\",\n        },\n{\n            'v': 2,\n            'f': \"2\",\n        },\n{\n            'v': 1,\n            'f': \"1\",\n        },\n\"yes\"],\n [{\n            'v': 32,\n            'f': \"32\",\n        },\n{\n            'v': 64,\n            'f': \"64\",\n        },\n\"male\",\n{\n            'v': 3,\n            'f': \"3\",\n        },\n{\n            'v': 140,\n            'f': \"140\",\n        },\n{\n            'v': 335,\n            'f': \"335\",\n        },\n{\n            'v': 0,\n            'f': \"0\",\n        },\n{\n            'v': 0,\n            'f': \"0\",\n        },\n{\n            'v': 158,\n            'f': \"158\",\n        },\n{\n            'v': 0,\n            'f': \"0\",\n        },\n{\n            'v': 0.0,\n            'f': \"0.0\",\n        },\n{\n            'v': 1,\n            'f': \"1\",\n        },\n{\n            'v': 0.0,\n            'f': \"0.0\",\n        },\n{\n            'v': 3.0,\n            'f': \"3.0\",\n        },\n{\n            'v': 1,\n            'f': \"1\",\n        },\n{\n            'v': 0,\n            'f': \"0\",\n        },\n\"yes\"],\n [{\n            'v': 33,\n            'f': \"33\",\n        },\n{\n            'v': 59,\n            'f': \"59\",\n        },\n\"male\",\n{\n            'v': 4,\n            'f': \"4\",\n        },\n{\n            'v': 135,\n            'f': \"135\",\n        },\n{\n            'v': 234,\n            'f': \"234\",\n        },\n{\n            'v': 0,\n            'f': \"0\",\n        },\n{\n            'v': 0,\n            'f': \"0\",\n        },\n{\n            'v': 161,\n            'f': \"161\",\n        },\n{\n            'v': 0,\n            'f': \"0\",\n        },\n{\n            'v': 0.5,\n            'f': \"0.5\",\n        },\n{\n            'v': 2,\n            'f': \"2\",\n        },\n{\n            'v': 0.0,\n            'f': \"0.0\",\n        },\n{\n            'v': 7.0,\n            'f': \"7.0\",\n        },\n{\n            'v': 0,\n            'f': \"0\",\n        },\n{\n            'v': 0,\n            'f': \"0\",\n        },\n\"no\"],\n [{\n            'v': 34,\n            'f': \"34\",\n        },\n{\n            'v': 44,\n            'f': \"44\",\n        },\n\"male\",\n{\n            'v': 3,\n            'f': \"3\",\n        },\n{\n            'v': 130,\n            'f': \"130\",\n        },\n{\n            'v': 233,\n            'f': \"233\",\n        },\n{\n            'v': 0,\n            'f': \"0\",\n        },\n{\n            'v': 0,\n            'f': \"0\",\n        },\n{\n            'v': 179,\n            'f': \"179\",\n        },\n{\n            'v': 1,\n            'f': \"1\",\n        },\n{\n            'v': 0.4,\n            'f': \"0.4\",\n        },\n{\n            'v': 1,\n            'f': \"1\",\n        },\n{\n            'v': 0.0,\n            'f': \"0.0\",\n        },\n{\n            'v': 3.0,\n            'f': \"3.0\",\n        },\n{\n            'v': 0,\n            'f': \"0\",\n        },\n{\n            'v': 1,\n            'f': \"1\",\n        },\n\"no\"],\n [{\n            'v': 35,\n            'f': \"35\",\n        },\n{\n            'v': 42,\n            'f': \"42\",\n        },\n\"male\",\n{\n            'v': 4,\n            'f': \"4\",\n        },\n{\n            'v': 140,\n            'f': \"140\",\n        },\n{\n            'v': 226,\n            'f': \"226\",\n        },\n{\n            'v': 0,\n            'f': \"0\",\n        },\n{\n            'v': 0,\n            'f': \"0\",\n        },\n{\n            'v': 178,\n            'f': \"178\",\n        },\n{\n            'v': 0,\n            'f': \"0\",\n        },\n{\n            'v': 0.0,\n            'f': \"0.0\",\n        },\n{\n            'v': 1,\n            'f': \"1\",\n        },\n{\n            'v': 0.0,\n            'f': \"0.0\",\n        },\n{\n            'v': 3.0,\n            'f': \"3.0\",\n        },\n{\n            'v': 0,\n            'f': \"0\",\n        },\n{\n            'v': 0,\n            'f': \"0\",\n        },\n\"no\"],\n [{\n            'v': 36,\n            'f': \"36\",\n        },\n{\n            'v': 43,\n            'f': \"43\",\n        },\n\"male\",\n{\n            'v': 4,\n            'f': \"4\",\n        },\n{\n            'v': 120,\n            'f': \"120\",\n        },\n{\n            'v': 177,\n            'f': \"177\",\n        },\n{\n            'v': 0,\n            'f': \"0\",\n        },\n{\n            'v': 2,\n            'f': \"2\",\n        },\n{\n            'v': 120,\n            'f': \"120\",\n        },\n{\n            'v': 1,\n            'f': \"1\",\n        },\n{\n            'v': 2.5,\n            'f': \"2.5\",\n        },\n{\n            'v': 2,\n            'f': \"2\",\n        },\n{\n            'v': 0.0,\n            'f': \"0.0\",\n        },\n{\n            'v': 7.0,\n            'f': \"7.0\",\n        },\n{\n            'v': 3,\n            'f': \"3\",\n        },\n{\n            'v': 1,\n            'f': \"1\",\n        },\n\"yes\"],\n [{\n            'v': 37,\n            'f': \"37\",\n        },\n{\n            'v': 57,\n            'f': \"57\",\n        },\n\"male\",\n{\n            'v': 4,\n            'f': \"4\",\n        },\n{\n            'v': 150,\n            'f': \"150\",\n        },\n{\n            'v': 276,\n            'f': \"276\",\n        },\n{\n            'v': 0,\n            'f': \"0\",\n        },\n{\n            'v': 2,\n            'f': \"2\",\n        },\n{\n            'v': 112,\n            'f': \"112\",\n        },\n{\n            'v': 1,\n            'f': \"1\",\n        },\n{\n            'v': 0.6,\n            'f': \"0.6\",\n        },\n{\n            'v': 2,\n            'f': \"2\",\n        },\n{\n            'v': 1.0,\n            'f': \"1.0\",\n        },\n{\n            'v': 6.0,\n            'f': \"6.0\",\n        },\n{\n            'v': 1,\n            'f': \"1\",\n        },\n{\n            'v': 1,\n            'f': \"1\",\n        },\n\"yes\"],\n [{\n            'v': 38,\n            'f': \"38\",\n        },\n{\n            'v': 55,\n            'f': \"55\",\n        },\n\"male\",\n{\n            'v': 4,\n            'f': \"4\",\n        },\n{\n            'v': 132,\n            'f': \"132\",\n        },\n{\n            'v': 353,\n            'f': \"353\",\n        },\n{\n            'v': 0,\n            'f': \"0\",\n        },\n{\n            'v': 0,\n            'f': \"0\",\n        },\n{\n            'v': 132,\n            'f': \"132\",\n        },\n{\n            'v': 1,\n            'f': \"1\",\n        },\n{\n            'v': 1.2,\n            'f': \"1.2\",\n        },\n{\n            'v': 2,\n            'f': \"2\",\n        },\n{\n            'v': 1.0,\n            'f': \"1.0\",\n        },\n{\n            'v': 7.0,\n            'f': \"7.0\",\n        },\n{\n            'v': 3,\n            'f': \"3\",\n        },\n{\n            'v': 1,\n            'f': \"1\",\n        },\n\"yes\"],\n [{\n            'v': 39,\n            'f': \"39\",\n        },\n{\n            'v': 61,\n            'f': \"61\",\n        },\n\"male\",\n{\n            'v': 3,\n            'f': \"3\",\n        },\n{\n            'v': 150,\n            'f': \"150\",\n        },\n{\n            'v': 243,\n            'f': \"243\",\n        },\n{\n            'v': 1,\n            'f': \"1\",\n        },\n{\n            'v': 0,\n            'f': \"0\",\n        },\n{\n            'v': 137,\n            'f': \"137\",\n        },\n{\n            'v': 1,\n            'f': \"1\",\n        },\n{\n            'v': 1.0,\n            'f': \"1.0\",\n        },\n{\n            'v': 2,\n            'f': \"2\",\n        },\n{\n            'v': 0.0,\n            'f': \"0.0\",\n        },\n{\n            'v': 3.0,\n            'f': \"3.0\",\n        },\n{\n            'v': 0,\n            'f': \"0\",\n        },\n{\n            'v': 1,\n            'f': \"1\",\n        },\n\"no\"],\n [{\n            'v': 40,\n            'f': \"40\",\n        },\n{\n            'v': 65,\n            'f': \"65\",\n        },\n\"female\",\n{\n            'v': 4,\n            'f': \"4\",\n        },\n{\n            'v': 150,\n            'f': \"150\",\n        },\n{\n            'v': 225,\n            'f': \"225\",\n        },\n{\n            'v': 0,\n            'f': \"0\",\n        },\n{\n            'v': 2,\n            'f': \"2\",\n        },\n{\n            'v': 114,\n            'f': \"114\",\n        },\n{\n            'v': 0,\n            'f': \"0\",\n        },\n{\n            'v': 1.0,\n            'f': \"1.0\",\n        },\n{\n            'v': 2,\n            'f': \"2\",\n        },\n{\n            'v': 3.0,\n            'f': \"3.0\",\n        },\n{\n            'v': 7.0,\n            'f': \"7.0\",\n        },\n{\n            'v': 4,\n            'f': \"4\",\n        },\n{\n            'v': 0,\n            'f': \"0\",\n        },\n\"yes\"],\n [{\n            'v': 41,\n            'f': \"41\",\n        },\n{\n            'v': 40,\n            'f': \"40\",\n        },\n\"male\",\n{\n            'v': 1,\n            'f': \"1\",\n        },\n{\n            'v': 140,\n            'f': \"140\",\n        },\n{\n            'v': 199,\n            'f': \"199\",\n        },\n{\n            'v': 0,\n            'f': \"0\",\n        },\n{\n            'v': 0,\n            'f': \"0\",\n        },\n{\n            'v': 178,\n            'f': \"178\",\n        },\n{\n            'v': 1,\n            'f': \"1\",\n        },\n{\n            'v': 1.4,\n            'f': \"1.4\",\n        },\n{\n            'v': 1,\n            'f': \"1\",\n        },\n{\n            'v': 0.0,\n            'f': \"0.0\",\n        },\n{\n            'v': 7.0,\n            'f': \"7.0\",\n        },\n{\n            'v': 0,\n            'f': \"0\",\n        },\n{\n            'v': 1,\n            'f': \"1\",\n        },\n\"no\"],\n [{\n            'v': 42,\n            'f': \"42\",\n        },\n{\n            'v': 71,\n            'f': \"71\",\n        },\n\"female\",\n{\n            'v': 2,\n            'f': \"2\",\n        },\n{\n            'v': 160,\n            'f': \"160\",\n        },\n{\n            'v': 302,\n            'f': \"302\",\n        },\n{\n            'v': 0,\n            'f': \"0\",\n        },\n{\n            'v': 0,\n            'f': \"0\",\n        },\n{\n            'v': 162,\n            'f': \"162\",\n        },\n{\n            'v': 0,\n            'f': \"0\",\n        },\n{\n            'v': 0.4,\n            'f': \"0.4\",\n        },\n{\n            'v': 1,\n            'f': \"1\",\n        },\n{\n            'v': 2.0,\n            'f': \"2.0\",\n        },\n{\n            'v': 3.0,\n            'f': \"3.0\",\n        },\n{\n            'v': 0,\n            'f': \"0\",\n        },\n{\n            'v': 0,\n            'f': \"0\",\n        },\n\"no\"],\n [{\n            'v': 43,\n            'f': \"43\",\n        },\n{\n            'v': 59,\n            'f': \"59\",\n        },\n\"male\",\n{\n            'v': 3,\n            'f': \"3\",\n        },\n{\n            'v': 150,\n            'f': \"150\",\n        },\n{\n            'v': 212,\n            'f': \"212\",\n        },\n{\n            'v': 1,\n            'f': \"1\",\n        },\n{\n            'v': 0,\n            'f': \"0\",\n        },\n{\n            'v': 157,\n            'f': \"157\",\n        },\n{\n            'v': 0,\n            'f': \"0\",\n        },\n{\n            'v': 1.6,\n            'f': \"1.6\",\n        },\n{\n            'v': 1,\n            'f': \"1\",\n        },\n{\n            'v': 0.0,\n            'f': \"0.0\",\n        },\n{\n            'v': 3.0,\n            'f': \"3.0\",\n        },\n{\n            'v': 0,\n            'f': \"0\",\n        },\n{\n            'v': 0,\n            'f': \"0\",\n        },\n\"no\"],\n [{\n            'v': 44,\n            'f': \"44\",\n        },\n{\n            'v': 61,\n            'f': \"61\",\n        },\n\"female\",\n{\n            'v': 4,\n            'f': \"4\",\n        },\n{\n            'v': 130,\n            'f': \"130\",\n        },\n{\n            'v': 330,\n            'f': \"330\",\n        },\n{\n            'v': 0,\n            'f': \"0\",\n        },\n{\n            'v': 2,\n            'f': \"2\",\n        },\n{\n            'v': 169,\n            'f': \"169\",\n        },\n{\n            'v': 0,\n            'f': \"0\",\n        },\n{\n            'v': 0.0,\n            'f': \"0.0\",\n        },\n{\n            'v': 1,\n            'f': \"1\",\n        },\n{\n            'v': 0.0,\n            'f': \"0.0\",\n        },\n{\n            'v': 3.0,\n            'f': \"3.0\",\n        },\n{\n            'v': 1,\n            'f': \"1\",\n        },\n{\n            'v': 0,\n            'f': \"0\",\n        },\n\"yes\"],\n [{\n            'v': 45,\n            'f': \"45\",\n        },\n{\n            'v': 58,\n            'f': \"58\",\n        },\n\"male\",\n{\n            'v': 3,\n            'f': \"3\",\n        },\n{\n            'v': 112,\n            'f': \"112\",\n        },\n{\n            'v': 230,\n            'f': \"230\",\n        },\n{\n            'v': 0,\n            'f': \"0\",\n        },\n{\n            'v': 2,\n            'f': \"2\",\n        },\n{\n            'v': 165,\n            'f': \"165\",\n        },\n{\n            'v': 0,\n            'f': \"0\",\n        },\n{\n            'v': 2.5,\n            'f': \"2.5\",\n        },\n{\n            'v': 2,\n            'f': \"2\",\n        },\n{\n            'v': 1.0,\n            'f': \"1.0\",\n        },\n{\n            'v': 7.0,\n            'f': \"7.0\",\n        },\n{\n            'v': 4,\n            'f': \"4\",\n        },\n{\n            'v': 0,\n            'f': \"0\",\n        },\n\"yes\"],\n [{\n            'v': 46,\n            'f': \"46\",\n        },\n{\n            'v': 51,\n            'f': \"51\",\n        },\n\"male\",\n{\n            'v': 3,\n            'f': \"3\",\n        },\n{\n            'v': 110,\n            'f': \"110\",\n        },\n{\n            'v': 175,\n            'f': \"175\",\n        },\n{\n            'v': 0,\n            'f': \"0\",\n        },\n{\n            'v': 0,\n            'f': \"0\",\n        },\n{\n            'v': 123,\n            'f': \"123\",\n        },\n{\n            'v': 0,\n            'f': \"0\",\n        },\n{\n            'v': 0.6,\n            'f': \"0.6\",\n        },\n{\n            'v': 1,\n            'f': \"1\",\n        },\n{\n            'v': 0.0,\n            'f': \"0.0\",\n        },\n{\n            'v': 3.0,\n            'f': \"3.0\",\n        },\n{\n            'v': 0,\n            'f': \"0\",\n        },\n{\n            'v': 0,\n            'f': \"0\",\n        },\n\"no\"],\n [{\n            'v': 47,\n            'f': \"47\",\n        },\n{\n            'v': 50,\n            'f': \"50\",\n        },\n\"male\",\n{\n            'v': 4,\n            'f': \"4\",\n        },\n{\n            'v': 150,\n            'f': \"150\",\n        },\n{\n            'v': 243,\n            'f': \"243\",\n        },\n{\n            'v': 0,\n            'f': \"0\",\n        },\n{\n            'v': 2,\n            'f': \"2\",\n        },\n{\n            'v': 128,\n            'f': \"128\",\n        },\n{\n            'v': 0,\n            'f': \"0\",\n        },\n{\n            'v': 2.6,\n            'f': \"2.6\",\n        },\n{\n            'v': 2,\n            'f': \"2\",\n        },\n{\n            'v': 0.0,\n            'f': \"0.0\",\n        },\n{\n            'v': 7.0,\n            'f': \"7.0\",\n        },\n{\n            'v': 4,\n            'f': \"4\",\n        },\n{\n            'v': 0,\n            'f': \"0\",\n        },\n\"yes\"],\n [{\n            'v': 48,\n            'f': \"48\",\n        },\n{\n            'v': 65,\n            'f': \"65\",\n        },\n\"female\",\n{\n            'v': 3,\n            'f': \"3\",\n        },\n{\n            'v': 140,\n            'f': \"140\",\n        },\n{\n            'v': 417,\n            'f': \"417\",\n        },\n{\n            'v': 1,\n            'f': \"1\",\n        },\n{\n            'v': 2,\n            'f': \"2\",\n        },\n{\n            'v': 157,\n            'f': \"157\",\n        },\n{\n            'v': 0,\n            'f': \"0\",\n        },\n{\n            'v': 0.8,\n            'f': \"0.8\",\n        },\n{\n            'v': 1,\n            'f': \"1\",\n        },\n{\n            'v': 1.0,\n            'f': \"1.0\",\n        },\n{\n            'v': 3.0,\n            'f': \"3.0\",\n        },\n{\n            'v': 0,\n            'f': \"0\",\n        },\n{\n            'v': 0,\n            'f': \"0\",\n        },\n\"no\"],\n [{\n            'v': 49,\n            'f': \"49\",\n        },\n{\n            'v': 53,\n            'f': \"53\",\n        },\n\"male\",\n{\n            'v': 3,\n            'f': \"3\",\n        },\n{\n            'v': 130,\n            'f': \"130\",\n        },\n{\n            'v': 197,\n            'f': \"197\",\n        },\n{\n            'v': 1,\n            'f': \"1\",\n        },\n{\n            'v': 2,\n            'f': \"2\",\n        },\n{\n            'v': 152,\n            'f': \"152\",\n        },\n{\n            'v': 0,\n            'f': \"0\",\n        },\n{\n            'v': 1.2,\n            'f': \"1.2\",\n        },\n{\n            'v': 3,\n            'f': \"3\",\n        },\n{\n            'v': 0.0,\n            'f': \"0.0\",\n        },\n{\n            'v': 3.0,\n            'f': \"3.0\",\n        },\n{\n            'v': 0,\n            'f': \"0\",\n        },\n{\n            'v': 0,\n            'f': \"0\",\n        },\n\"no\"],\n [{\n            'v': 50,\n            'f': \"50\",\n        },\n{\n            'v': 41,\n            'f': \"41\",\n        },\n\"female\",\n{\n            'v': 2,\n            'f': \"2\",\n        },\n{\n            'v': 105,\n            'f': \"105\",\n        },\n{\n            'v': 198,\n            'f': \"198\",\n        },\n{\n            'v': 0,\n            'f': \"0\",\n        },\n{\n            'v': 0,\n            'f': \"0\",\n        },\n{\n            'v': 168,\n            'f': \"168\",\n        },\n{\n            'v': 0,\n            'f': \"0\",\n        },\n{\n            'v': 0.0,\n            'f': \"0.0\",\n        },\n{\n            'v': 1,\n            'f': \"1\",\n        },\n{\n            'v': 1.0,\n            'f': \"1.0\",\n        },\n{\n            'v': 3.0,\n            'f': \"3.0\",\n        },\n{\n            'v': 0,\n            'f': \"0\",\n        },\n{\n            'v': 0,\n            'f': \"0\",\n        },\n\"no\"],\n [{\n            'v': 51,\n            'f': \"51\",\n        },\n{\n            'v': 65,\n            'f': \"65\",\n        },\n\"male\",\n{\n            'v': 4,\n            'f': \"4\",\n        },\n{\n            'v': 120,\n            'f': \"120\",\n        },\n{\n            'v': 177,\n            'f': \"177\",\n        },\n{\n            'v': 0,\n            'f': \"0\",\n        },\n{\n            'v': 0,\n            'f': \"0\",\n        },\n{\n            'v': 140,\n            'f': \"140\",\n        },\n{\n            'v': 0,\n            'f': \"0\",\n        },\n{\n            'v': 0.4,\n            'f': \"0.4\",\n        },\n{\n            'v': 1,\n            'f': \"1\",\n        },\n{\n            'v': 0.0,\n            'f': \"0.0\",\n        },\n{\n            'v': 7.0,\n            'f': \"7.0\",\n        },\n{\n            'v': 0,\n            'f': \"0\",\n        },\n{\n            'v': 0,\n            'f': \"0\",\n        },\n\"no\"],\n [{\n            'v': 52,\n            'f': \"52\",\n        },\n{\n            'v': 44,\n            'f': \"44\",\n        },\n\"male\",\n{\n            'v': 4,\n            'f': \"4\",\n        },\n{\n            'v': 112,\n            'f': \"112\",\n        },\n{\n            'v': 290,\n            'f': \"290\",\n        },\n{\n            'v': 0,\n            'f': \"0\",\n        },\n{\n            'v': 2,\n            'f': \"2\",\n        },\n{\n            'v': 153,\n            'f': \"153\",\n        },\n{\n            'v': 0,\n            'f': \"0\",\n        },\n{\n            'v': 0.0,\n            'f': \"0.0\",\n        },\n{\n            'v': 1,\n            'f': \"1\",\n        },\n{\n            'v': 1.0,\n            'f': \"1.0\",\n        },\n{\n            'v': 3.0,\n            'f': \"3.0\",\n        },\n{\n            'v': 2,\n            'f': \"2\",\n        },\n{\n            'v': 0,\n            'f': \"0\",\n        },\n\"yes\"],\n [{\n            'v': 53,\n            'f': \"53\",\n        },\n{\n            'v': 44,\n            'f': \"44\",\n        },\n\"male\",\n{\n            'v': 2,\n            'f': \"2\",\n        },\n{\n            'v': 130,\n            'f': \"130\",\n        },\n{\n            'v': 219,\n            'f': \"219\",\n        },\n{\n            'v': 0,\n            'f': \"0\",\n        },\n{\n            'v': 2,\n            'f': \"2\",\n        },\n{\n            'v': 188,\n            'f': \"188\",\n        },\n{\n            'v': 0,\n            'f': \"0\",\n        },\n{\n            'v': 0.0,\n            'f': \"0.0\",\n        },\n{\n            'v': 1,\n            'f': \"1\",\n        },\n{\n            'v': 0.0,\n            'f': \"0.0\",\n        },\n{\n            'v': 3.0,\n            'f': \"3.0\",\n        },\n{\n            'v': 0,\n            'f': \"0\",\n        },\n{\n            'v': 0,\n            'f': \"0\",\n        },\n\"no\"],\n [{\n            'v': 54,\n            'f': \"54\",\n        },\n{\n            'v': 60,\n            'f': \"60\",\n        },\n\"male\",\n{\n            'v': 4,\n            'f': \"4\",\n        },\n{\n            'v': 130,\n            'f': \"130\",\n        },\n{\n            'v': 253,\n            'f': \"253\",\n        },\n{\n            'v': 0,\n            'f': \"0\",\n        },\n{\n            'v': 0,\n            'f': \"0\",\n        },\n{\n            'v': 144,\n            'f': \"144\",\n        },\n{\n            'v': 1,\n            'f': \"1\",\n        },\n{\n            'v': 1.4,\n            'f': \"1.4\",\n        },\n{\n            'v': 1,\n            'f': \"1\",\n        },\n{\n            'v': 1.0,\n            'f': \"1.0\",\n        },\n{\n            'v': 7.0,\n            'f': \"7.0\",\n        },\n{\n            'v': 1,\n            'f': \"1\",\n        },\n{\n            'v': 1,\n            'f': \"1\",\n        },\n\"yes\"],\n [{\n            'v': 55,\n            'f': \"55\",\n        },\n{\n            'v': 54,\n            'f': \"54\",\n        },\n\"male\",\n{\n            'v': 4,\n            'f': \"4\",\n        },\n{\n            'v': 124,\n            'f': \"124\",\n        },\n{\n            'v': 266,\n            'f': \"266\",\n        },\n{\n            'v': 0,\n            'f': \"0\",\n        },\n{\n            'v': 2,\n            'f': \"2\",\n        },\n{\n            'v': 109,\n            'f': \"109\",\n        },\n{\n            'v': 1,\n            'f': \"1\",\n        },\n{\n            'v': 2.2,\n            'f': \"2.2\",\n        },\n{\n            'v': 2,\n            'f': \"2\",\n        },\n{\n            'v': 1.0,\n            'f': \"1.0\",\n        },\n{\n            'v': 7.0,\n            'f': \"7.0\",\n        },\n{\n            'v': 1,\n            'f': \"1\",\n        },\n{\n            'v': 1,\n            'f': \"1\",\n        },\n\"yes\"],\n [{\n            'v': 56,\n            'f': \"56\",\n        },\n{\n            'v': 50,\n            'f': \"50\",\n        },\n\"male\",\n{\n            'v': 3,\n            'f': \"3\",\n        },\n{\n            'v': 140,\n            'f': \"140\",\n        },\n{\n            'v': 233,\n            'f': \"233\",\n        },\n{\n            'v': 0,\n            'f': \"0\",\n        },\n{\n            'v': 0,\n            'f': \"0\",\n        },\n{\n            'v': 163,\n            'f': \"163\",\n        },\n{\n            'v': 0,\n            'f': \"0\",\n        },\n{\n            'v': 0.6,\n            'f': \"0.6\",\n        },\n{\n            'v': 2,\n            'f': \"2\",\n        },\n{\n            'v': 1.0,\n            'f': \"1.0\",\n        },\n{\n            'v': 7.0,\n            'f': \"7.0\",\n        },\n{\n            'v': 1,\n            'f': \"1\",\n        },\n{\n            'v': 0,\n            'f': \"0\",\n        },\n\"yes\"],\n [{\n            'v': 57,\n            'f': \"57\",\n        },\n{\n            'v': 41,\n            'f': \"41\",\n        },\n\"male\",\n{\n            'v': 4,\n            'f': \"4\",\n        },\n{\n            'v': 110,\n            'f': \"110\",\n        },\n{\n            'v': 172,\n            'f': \"172\",\n        },\n{\n            'v': 0,\n            'f': \"0\",\n        },\n{\n            'v': 2,\n            'f': \"2\",\n        },\n{\n            'v': 158,\n            'f': \"158\",\n        },\n{\n            'v': 0,\n            'f': \"0\",\n        },\n{\n            'v': 0.0,\n            'f': \"0.0\",\n        },\n{\n            'v': 1,\n            'f': \"1\",\n        },\n{\n            'v': 0.0,\n            'f': \"0.0\",\n        },\n{\n            'v': 7.0,\n            'f': \"7.0\",\n        },\n{\n            'v': 1,\n            'f': \"1\",\n        },\n{\n            'v': 0,\n            'f': \"0\",\n        },\n\"yes\"],\n [{\n            'v': 58,\n            'f': \"58\",\n        },\n{\n            'v': 54,\n            'f': \"54\",\n        },\n\"male\",\n{\n            'v': 3,\n            'f': \"3\",\n        },\n{\n            'v': 125,\n            'f': \"125\",\n        },\n{\n            'v': 273,\n            'f': \"273\",\n        },\n{\n            'v': 0,\n            'f': \"0\",\n        },\n{\n            'v': 2,\n            'f': \"2\",\n        },\n{\n            'v': 152,\n            'f': \"152\",\n        },\n{\n            'v': 0,\n            'f': \"0\",\n        },\n{\n            'v': 0.5,\n            'f': \"0.5\",\n        },\n{\n            'v': 3,\n            'f': \"3\",\n        },\n{\n            'v': 1.0,\n            'f': \"1.0\",\n        },\n{\n            'v': 3.0,\n            'f': \"3.0\",\n        },\n{\n            'v': 0,\n            'f': \"0\",\n        },\n{\n            'v': 0,\n            'f': \"0\",\n        },\n\"no\"],\n [{\n            'v': 59,\n            'f': \"59\",\n        },\n{\n            'v': 51,\n            'f': \"51\",\n        },\n\"male\",\n{\n            'v': 1,\n            'f': \"1\",\n        },\n{\n            'v': 125,\n            'f': \"125\",\n        },\n{\n            'v': 213,\n            'f': \"213\",\n        },\n{\n            'v': 0,\n            'f': \"0\",\n        },\n{\n            'v': 2,\n            'f': \"2\",\n        },\n{\n            'v': 125,\n            'f': \"125\",\n        },\n{\n            'v': 1,\n            'f': \"1\",\n        },\n{\n            'v': 1.4,\n            'f': \"1.4\",\n        },\n{\n            'v': 1,\n            'f': \"1\",\n        },\n{\n            'v': 1.0,\n            'f': \"1.0\",\n        },\n{\n            'v': 3.0,\n            'f': \"3.0\",\n        },\n{\n            'v': 0,\n            'f': \"0\",\n        },\n{\n            'v': 1,\n            'f': \"1\",\n        },\n\"no\"],\n [{\n            'v': 60,\n            'f': \"60\",\n        },\n{\n            'v': 51,\n            'f': \"51\",\n        },\n\"female\",\n{\n            'v': 4,\n            'f': \"4\",\n        },\n{\n            'v': 130,\n            'f': \"130\",\n        },\n{\n            'v': 305,\n            'f': \"305\",\n        },\n{\n            'v': 0,\n            'f': \"0\",\n        },\n{\n            'v': 0,\n            'f': \"0\",\n        },\n{\n            'v': 142,\n            'f': \"142\",\n        },\n{\n            'v': 1,\n            'f': \"1\",\n        },\n{\n            'v': 1.2,\n            'f': \"1.2\",\n        },\n{\n            'v': 2,\n            'f': \"2\",\n        },\n{\n            'v': 0.0,\n            'f': \"0.0\",\n        },\n{\n            'v': 7.0,\n            'f': \"7.0\",\n        },\n{\n            'v': 2,\n            'f': \"2\",\n        },\n{\n            'v': 1,\n            'f': \"1\",\n        },\n\"yes\"],\n [{\n            'v': 61,\n            'f': \"61\",\n        },\n{\n            'v': 46,\n            'f': \"46\",\n        },\n\"female\",\n{\n            'v': 3,\n            'f': \"3\",\n        },\n{\n            'v': 142,\n            'f': \"142\",\n        },\n{\n            'v': 177,\n            'f': \"177\",\n        },\n{\n            'v': 0,\n            'f': \"0\",\n        },\n{\n            'v': 2,\n            'f': \"2\",\n        },\n{\n            'v': 160,\n            'f': \"160\",\n        },\n{\n            'v': 1,\n            'f': \"1\",\n        },\n{\n            'v': 1.4,\n            'f': \"1.4\",\n        },\n{\n            'v': 3,\n            'f': \"3\",\n        },\n{\n            'v': 0.0,\n            'f': \"0.0\",\n        },\n{\n            'v': 3.0,\n            'f': \"3.0\",\n        },\n{\n            'v': 0,\n            'f': \"0\",\n        },\n{\n            'v': 1,\n            'f': \"1\",\n        },\n\"no\"],\n [{\n            'v': 62,\n            'f': \"62\",\n        },\n{\n            'v': 58,\n            'f': \"58\",\n        },\n\"male\",\n{\n            'v': 4,\n            'f': \"4\",\n        },\n{\n            'v': 128,\n            'f': \"128\",\n        },\n{\n            'v': 216,\n            'f': \"216\",\n        },\n{\n            'v': 0,\n            'f': \"0\",\n        },\n{\n            'v': 2,\n            'f': \"2\",\n        },\n{\n            'v': 131,\n            'f': \"131\",\n        },\n{\n            'v': 1,\n            'f': \"1\",\n        },\n{\n            'v': 2.2,\n            'f': \"2.2\",\n        },\n{\n            'v': 2,\n            'f': \"2\",\n        },\n{\n            'v': 3.0,\n            'f': \"3.0\",\n        },\n{\n            'v': 7.0,\n            'f': \"7.0\",\n        },\n{\n            'v': 1,\n            'f': \"1\",\n        },\n{\n            'v': 1,\n            'f': \"1\",\n        },\n\"yes\"],\n [{\n            'v': 63,\n            'f': \"63\",\n        },\n{\n            'v': 54,\n            'f': \"54\",\n        },\n\"female\",\n{\n            'v': 3,\n            'f': \"3\",\n        },\n{\n            'v': 135,\n            'f': \"135\",\n        },\n{\n            'v': 304,\n            'f': \"304\",\n        },\n{\n            'v': 1,\n            'f': \"1\",\n        },\n{\n            'v': 0,\n            'f': \"0\",\n        },\n{\n            'v': 170,\n            'f': \"170\",\n        },\n{\n            'v': 0,\n            'f': \"0\",\n        },\n{\n            'v': 0.0,\n            'f': \"0.0\",\n        },\n{\n            'v': 1,\n            'f': \"1\",\n        },\n{\n            'v': 0.0,\n            'f': \"0.0\",\n        },\n{\n            'v': 3.0,\n            'f': \"3.0\",\n        },\n{\n            'v': 0,\n            'f': \"0\",\n        },\n{\n            'v': 0,\n            'f': \"0\",\n        },\n\"no\"],\n [{\n            'v': 64,\n            'f': \"64\",\n        },\n{\n            'v': 54,\n            'f': \"54\",\n        },\n\"male\",\n{\n            'v': 4,\n            'f': \"4\",\n        },\n{\n            'v': 120,\n            'f': \"120\",\n        },\n{\n            'v': 188,\n            'f': \"188\",\n        },\n{\n            'v': 0,\n            'f': \"0\",\n        },\n{\n            'v': 0,\n            'f': \"0\",\n        },\n{\n            'v': 113,\n            'f': \"113\",\n        },\n{\n            'v': 0,\n            'f': \"0\",\n        },\n{\n            'v': 1.4,\n            'f': \"1.4\",\n        },\n{\n            'v': 2,\n            'f': \"2\",\n        },\n{\n            'v': 1.0,\n            'f': \"1.0\",\n        },\n{\n            'v': 7.0,\n            'f': \"7.0\",\n        },\n{\n            'v': 2,\n            'f': \"2\",\n        },\n{\n            'v': 0,\n            'f': \"0\",\n        },\n\"yes\"],\n [{\n            'v': 65,\n            'f': \"65\",\n        },\n{\n            'v': 60,\n            'f': \"60\",\n        },\n\"male\",\n{\n            'v': 4,\n            'f': \"4\",\n        },\n{\n            'v': 145,\n            'f': \"145\",\n        },\n{\n            'v': 282,\n            'f': \"282\",\n        },\n{\n            'v': 0,\n            'f': \"0\",\n        },\n{\n            'v': 2,\n            'f': \"2\",\n        },\n{\n            'v': 142,\n            'f': \"142\",\n        },\n{\n            'v': 1,\n            'f': \"1\",\n        },\n{\n            'v': 2.8,\n            'f': \"2.8\",\n        },\n{\n            'v': 2,\n            'f': \"2\",\n        },\n{\n            'v': 2.0,\n            'f': \"2.0\",\n        },\n{\n            'v': 7.0,\n            'f': \"7.0\",\n        },\n{\n            'v': 2,\n            'f': \"2\",\n        },\n{\n            'v': 1,\n            'f': \"1\",\n        },\n\"yes\"],\n [{\n            'v': 66,\n            'f': \"66\",\n        },\n{\n            'v': 60,\n            'f': \"60\",\n        },\n\"male\",\n{\n            'v': 3,\n            'f': \"3\",\n        },\n{\n            'v': 140,\n            'f': \"140\",\n        },\n{\n            'v': 185,\n            'f': \"185\",\n        },\n{\n            'v': 0,\n            'f': \"0\",\n        },\n{\n            'v': 2,\n            'f': \"2\",\n        },\n{\n            'v': 155,\n            'f': \"155\",\n        },\n{\n            'v': 0,\n            'f': \"0\",\n        },\n{\n            'v': 3.0,\n            'f': \"3.0\",\n        },\n{\n            'v': 2,\n            'f': \"2\",\n        },\n{\n            'v': 0.0,\n            'f': \"0.0\",\n        },\n{\n            'v': 3.0,\n            'f': \"3.0\",\n        },\n{\n            'v': 1,\n            'f': \"1\",\n        },\n{\n            'v': 0,\n            'f': \"0\",\n        },\n\"yes\"],\n [{\n            'v': 67,\n            'f': \"67\",\n        },\n{\n            'v': 54,\n            'f': \"54\",\n        },\n\"male\",\n{\n            'v': 3,\n            'f': \"3\",\n        },\n{\n            'v': 150,\n            'f': \"150\",\n        },\n{\n            'v': 232,\n            'f': \"232\",\n        },\n{\n            'v': 0,\n            'f': \"0\",\n        },\n{\n            'v': 2,\n            'f': \"2\",\n        },\n{\n            'v': 165,\n            'f': \"165\",\n        },\n{\n            'v': 0,\n            'f': \"0\",\n        },\n{\n            'v': 1.6,\n            'f': \"1.6\",\n        },\n{\n            'v': 1,\n            'f': \"1\",\n        },\n{\n            'v': 0.0,\n            'f': \"0.0\",\n        },\n{\n            'v': 7.0,\n            'f': \"7.0\",\n        },\n{\n            'v': 0,\n            'f': \"0\",\n        },\n{\n            'v': 0,\n            'f': \"0\",\n        },\n\"no\"],\n [{\n            'v': 68,\n            'f': \"68\",\n        },\n{\n            'v': 59,\n            'f': \"59\",\n        },\n\"male\",\n{\n            'v': 4,\n            'f': \"4\",\n        },\n{\n            'v': 170,\n            'f': \"170\",\n        },\n{\n            'v': 326,\n            'f': \"326\",\n        },\n{\n            'v': 0,\n            'f': \"0\",\n        },\n{\n            'v': 2,\n            'f': \"2\",\n        },\n{\n            'v': 140,\n            'f': \"140\",\n        },\n{\n            'v': 1,\n            'f': \"1\",\n        },\n{\n            'v': 3.4,\n            'f': \"3.4\",\n        },\n{\n            'v': 3,\n            'f': \"3\",\n        },\n{\n            'v': 0.0,\n            'f': \"0.0\",\n        },\n{\n            'v': 7.0,\n            'f': \"7.0\",\n        },\n{\n            'v': 2,\n            'f': \"2\",\n        },\n{\n            'v': 1,\n            'f': \"1\",\n        },\n\"yes\"],\n [{\n            'v': 69,\n            'f': \"69\",\n        },\n{\n            'v': 46,\n            'f': \"46\",\n        },\n\"male\",\n{\n            'v': 3,\n            'f': \"3\",\n        },\n{\n            'v': 150,\n            'f': \"150\",\n        },\n{\n            'v': 231,\n            'f': \"231\",\n        },\n{\n            'v': 0,\n            'f': \"0\",\n        },\n{\n            'v': 0,\n            'f': \"0\",\n        },\n{\n            'v': 147,\n            'f': \"147\",\n        },\n{\n            'v': 0,\n            'f': \"0\",\n        },\n{\n            'v': 3.6,\n            'f': \"3.6\",\n        },\n{\n            'v': 2,\n            'f': \"2\",\n        },\n{\n            'v': 0.0,\n            'f': \"0.0\",\n        },\n{\n            'v': 3.0,\n            'f': \"3.0\",\n        },\n{\n            'v': 1,\n            'f': \"1\",\n        },\n{\n            'v': 0,\n            'f': \"0\",\n        },\n\"yes\"],\n [{\n            'v': 70,\n            'f': \"70\",\n        },\n{\n            'v': 65,\n            'f': \"65\",\n        },\n\"female\",\n{\n            'v': 3,\n            'f': \"3\",\n        },\n{\n            'v': 155,\n            'f': \"155\",\n        },\n{\n            'v': 269,\n            'f': \"269\",\n        },\n{\n            'v': 0,\n            'f': \"0\",\n        },\n{\n            'v': 0,\n            'f': \"0\",\n        },\n{\n            'v': 148,\n            'f': \"148\",\n        },\n{\n            'v': 0,\n            'f': \"0\",\n        },\n{\n            'v': 0.8,\n            'f': \"0.8\",\n        },\n{\n            'v': 1,\n            'f': \"1\",\n        },\n{\n            'v': 0.0,\n            'f': \"0.0\",\n        },\n{\n            'v': 3.0,\n            'f': \"3.0\",\n        },\n{\n            'v': 0,\n            'f': \"0\",\n        },\n{\n            'v': 0,\n            'f': \"0\",\n        },\n\"no\"],\n [{\n            'v': 71,\n            'f': \"71\",\n        },\n{\n            'v': 67,\n            'f': \"67\",\n        },\n\"male\",\n{\n            'v': 4,\n            'f': \"4\",\n        },\n{\n            'v': 125,\n            'f': \"125\",\n        },\n{\n            'v': 254,\n            'f': \"254\",\n        },\n{\n            'v': 1,\n            'f': \"1\",\n        },\n{\n            'v': 0,\n            'f': \"0\",\n        },\n{\n            'v': 163,\n            'f': \"163\",\n        },\n{\n            'v': 0,\n            'f': \"0\",\n        },\n{\n            'v': 0.2,\n            'f': \"0.2\",\n        },\n{\n            'v': 2,\n            'f': \"2\",\n        },\n{\n            'v': 2.0,\n            'f': \"2.0\",\n        },\n{\n            'v': 7.0,\n            'f': \"7.0\",\n        },\n{\n            'v': 3,\n            'f': \"3\",\n        },\n{\n            'v': 0,\n            'f': \"0\",\n        },\n\"yes\"],\n [{\n            'v': 72,\n            'f': \"72\",\n        },\n{\n            'v': 62,\n            'f': \"62\",\n        },\n\"male\",\n{\n            'v': 4,\n            'f': \"4\",\n        },\n{\n            'v': 120,\n            'f': \"120\",\n        },\n{\n            'v': 267,\n            'f': \"267\",\n        },\n{\n            'v': 0,\n            'f': \"0\",\n        },\n{\n            'v': 0,\n            'f': \"0\",\n        },\n{\n            'v': 99,\n            'f': \"99\",\n        },\n{\n            'v': 1,\n            'f': \"1\",\n        },\n{\n            'v': 1.8,\n            'f': \"1.8\",\n        },\n{\n            'v': 2,\n            'f': \"2\",\n        },\n{\n            'v': 2.0,\n            'f': \"2.0\",\n        },\n{\n            'v': 7.0,\n            'f': \"7.0\",\n        },\n{\n            'v': 1,\n            'f': \"1\",\n        },\n{\n            'v': 1,\n            'f': \"1\",\n        },\n\"yes\"],\n [{\n            'v': 73,\n            'f': \"73\",\n        },\n{\n            'v': 65,\n            'f': \"65\",\n        },\n\"male\",\n{\n            'v': 4,\n            'f': \"4\",\n        },\n{\n            'v': 110,\n            'f': \"110\",\n        },\n{\n            'v': 248,\n            'f': \"248\",\n        },\n{\n            'v': 0,\n            'f': \"0\",\n        },\n{\n            'v': 2,\n            'f': \"2\",\n        },\n{\n            'v': 158,\n            'f': \"158\",\n        },\n{\n            'v': 0,\n            'f': \"0\",\n        },\n{\n            'v': 0.6,\n            'f': \"0.6\",\n        },\n{\n            'v': 1,\n            'f': \"1\",\n        },\n{\n            'v': 2.0,\n            'f': \"2.0\",\n        },\n{\n            'v': 6.0,\n            'f': \"6.0\",\n        },\n{\n            'v': 1,\n            'f': \"1\",\n        },\n{\n            'v': 0,\n            'f': \"0\",\n        },\n\"yes\"],\n [{\n            'v': 74,\n            'f': \"74\",\n        },\n{\n            'v': 44,\n            'f': \"44\",\n        },\n\"male\",\n{\n            'v': 4,\n            'f': \"4\",\n        },\n{\n            'v': 110,\n            'f': \"110\",\n        },\n{\n            'v': 197,\n            'f': \"197\",\n        },\n{\n            'v': 0,\n            'f': \"0\",\n        },\n{\n            'v': 2,\n            'f': \"2\",\n        },\n{\n            'v': 177,\n            'f': \"177\",\n        },\n{\n            'v': 0,\n            'f': \"0\",\n        },\n{\n            'v': 0.0,\n            'f': \"0.0\",\n        },\n{\n            'v': 1,\n            'f': \"1\",\n        },\n{\n            'v': 1.0,\n            'f': \"1.0\",\n        },\n{\n            'v': 3.0,\n            'f': \"3.0\",\n        },\n{\n            'v': 1,\n            'f': \"1\",\n        },\n{\n            'v': 0,\n            'f': \"0\",\n        },\n\"yes\"],\n [{\n            'v': 75,\n            'f': \"75\",\n        },\n{\n            'v': 65,\n            'f': \"65\",\n        },\n\"female\",\n{\n            'v': 3,\n            'f': \"3\",\n        },\n{\n            'v': 160,\n            'f': \"160\",\n        },\n{\n            'v': 360,\n            'f': \"360\",\n        },\n{\n            'v': 0,\n            'f': \"0\",\n        },\n{\n            'v': 2,\n            'f': \"2\",\n        },\n{\n            'v': 151,\n            'f': \"151\",\n        },\n{\n            'v': 0,\n            'f': \"0\",\n        },\n{\n            'v': 0.8,\n            'f': \"0.8\",\n        },\n{\n            'v': 1,\n            'f': \"1\",\n        },\n{\n            'v': 0.0,\n            'f': \"0.0\",\n        },\n{\n            'v': 3.0,\n            'f': \"3.0\",\n        },\n{\n            'v': 0,\n            'f': \"0\",\n        },\n{\n            'v': 0,\n            'f': \"0\",\n        },\n\"no\"],\n [{\n            'v': 76,\n            'f': \"76\",\n        },\n{\n            'v': 60,\n            'f': \"60\",\n        },\n\"male\",\n{\n            'v': 4,\n            'f': \"4\",\n        },\n{\n            'v': 125,\n            'f': \"125\",\n        },\n{\n            'v': 258,\n            'f': \"258\",\n        },\n{\n            'v': 0,\n            'f': \"0\",\n        },\n{\n            'v': 2,\n            'f': \"2\",\n        },\n{\n            'v': 141,\n            'f': \"141\",\n        },\n{\n            'v': 1,\n            'f': \"1\",\n        },\n{\n            'v': 2.8,\n            'f': \"2.8\",\n        },\n{\n            'v': 2,\n            'f': \"2\",\n        },\n{\n            'v': 1.0,\n            'f': \"1.0\",\n        },\n{\n            'v': 7.0,\n            'f': \"7.0\",\n        },\n{\n            'v': 1,\n            'f': \"1\",\n        },\n{\n            'v': 1,\n            'f': \"1\",\n        },\n\"yes\"],\n [{\n            'v': 77,\n            'f': \"77\",\n        },\n{\n            'v': 51,\n            'f': \"51\",\n        },\n\"female\",\n{\n            'v': 3,\n            'f': \"3\",\n        },\n{\n            'v': 140,\n            'f': \"140\",\n        },\n{\n            'v': 308,\n            'f': \"308\",\n        },\n{\n            'v': 0,\n            'f': \"0\",\n        },\n{\n            'v': 2,\n            'f': \"2\",\n        },\n{\n            'v': 142,\n            'f': \"142\",\n        },\n{\n            'v': 0,\n            'f': \"0\",\n        },\n{\n            'v': 1.5,\n            'f': \"1.5\",\n        },\n{\n            'v': 1,\n            'f': \"1\",\n        },\n{\n            'v': 1.0,\n            'f': \"1.0\",\n        },\n{\n            'v': 3.0,\n            'f': \"3.0\",\n        },\n{\n            'v': 0,\n            'f': \"0\",\n        },\n{\n            'v': 0,\n            'f': \"0\",\n        },\n\"no\"],\n [{\n            'v': 78,\n            'f': \"78\",\n        },\n{\n            'v': 48,\n            'f': \"48\",\n        },\n\"male\",\n{\n            'v': 2,\n            'f': \"2\",\n        },\n{\n            'v': 130,\n            'f': \"130\",\n        },\n{\n            'v': 245,\n            'f': \"245\",\n        },\n{\n            'v': 0,\n            'f': \"0\",\n        },\n{\n            'v': 2,\n            'f': \"2\",\n        },\n{\n            'v': 180,\n            'f': \"180\",\n        },\n{\n            'v': 0,\n            'f': \"0\",\n        },\n{\n            'v': 0.2,\n            'f': \"0.2\",\n        },\n{\n            'v': 2,\n            'f': \"2\",\n        },\n{\n            'v': 0.0,\n            'f': \"0.0\",\n        },\n{\n            'v': 3.0,\n            'f': \"3.0\",\n        },\n{\n            'v': 0,\n            'f': \"0\",\n        },\n{\n            'v': 0,\n            'f': \"0\",\n        },\n\"no\"],\n [{\n            'v': 79,\n            'f': \"79\",\n        },\n{\n            'v': 58,\n            'f': \"58\",\n        },\n\"male\",\n{\n            'v': 4,\n            'f': \"4\",\n        },\n{\n            'v': 150,\n            'f': \"150\",\n        },\n{\n            'v': 270,\n            'f': \"270\",\n        },\n{\n            'v': 0,\n            'f': \"0\",\n        },\n{\n            'v': 2,\n            'f': \"2\",\n        },\n{\n            'v': 111,\n            'f': \"111\",\n        },\n{\n            'v': 1,\n            'f': \"1\",\n        },\n{\n            'v': 0.8,\n            'f': \"0.8\",\n        },\n{\n            'v': 1,\n            'f': \"1\",\n        },\n{\n            'v': 0.0,\n            'f': \"0.0\",\n        },\n{\n            'v': 7.0,\n            'f': \"7.0\",\n        },\n{\n            'v': 3,\n            'f': \"3\",\n        },\n{\n            'v': 1,\n            'f': \"1\",\n        },\n\"yes\"],\n [{\n            'v': 80,\n            'f': \"80\",\n        },\n{\n            'v': 45,\n            'f': \"45\",\n        },\n\"male\",\n{\n            'v': 4,\n            'f': \"4\",\n        },\n{\n            'v': 104,\n            'f': \"104\",\n        },\n{\n            'v': 208,\n            'f': \"208\",\n        },\n{\n            'v': 0,\n            'f': \"0\",\n        },\n{\n            'v': 2,\n            'f': \"2\",\n        },\n{\n            'v': 148,\n            'f': \"148\",\n        },\n{\n            'v': 1,\n            'f': \"1\",\n        },\n{\n            'v': 3.0,\n            'f': \"3.0\",\n        },\n{\n            'v': 2,\n            'f': \"2\",\n        },\n{\n            'v': 0.0,\n            'f': \"0.0\",\n        },\n{\n            'v': 3.0,\n            'f': \"3.0\",\n        },\n{\n            'v': 0,\n            'f': \"0\",\n        },\n{\n            'v': 1,\n            'f': \"1\",\n        },\n\"no\"],\n [{\n            'v': 81,\n            'f': \"81\",\n        },\n{\n            'v': 53,\n            'f': \"53\",\n        },\n\"female\",\n{\n            'v': 4,\n            'f': \"4\",\n        },\n{\n            'v': 130,\n            'f': \"130\",\n        },\n{\n            'v': 264,\n            'f': \"264\",\n        },\n{\n            'v': 0,\n            'f': \"0\",\n        },\n{\n            'v': 2,\n            'f': \"2\",\n        },\n{\n            'v': 143,\n            'f': \"143\",\n        },\n{\n            'v': 0,\n            'f': \"0\",\n        },\n{\n            'v': 0.4,\n            'f': \"0.4\",\n        },\n{\n            'v': 2,\n            'f': \"2\",\n        },\n{\n            'v': 0.0,\n            'f': \"0.0\",\n        },\n{\n            'v': 3.0,\n            'f': \"3.0\",\n        },\n{\n            'v': 0,\n            'f': \"0\",\n        },\n{\n            'v': 0,\n            'f': \"0\",\n        },\n\"no\"],\n [{\n            'v': 82,\n            'f': \"82\",\n        },\n{\n            'v': 39,\n            'f': \"39\",\n        },\n\"male\",\n{\n            'v': 3,\n            'f': \"3\",\n        },\n{\n            'v': 140,\n            'f': \"140\",\n        },\n{\n            'v': 321,\n            'f': \"321\",\n        },\n{\n            'v': 0,\n            'f': \"0\",\n        },\n{\n            'v': 2,\n            'f': \"2\",\n        },\n{\n            'v': 182,\n            'f': \"182\",\n        },\n{\n            'v': 0,\n            'f': \"0\",\n        },\n{\n            'v': 0.0,\n            'f': \"0.0\",\n        },\n{\n            'v': 1,\n            'f': \"1\",\n        },\n{\n            'v': 0.0,\n            'f': \"0.0\",\n        },\n{\n            'v': 3.0,\n            'f': \"3.0\",\n        },\n{\n            'v': 0,\n            'f': \"0\",\n        },\n{\n            'v': 0,\n            'f': \"0\",\n        },\n\"no\"],\n [{\n            'v': 83,\n            'f': \"83\",\n        },\n{\n            'v': 68,\n            'f': \"68\",\n        },\n\"male\",\n{\n            'v': 3,\n            'f': \"3\",\n        },\n{\n            'v': 180,\n            'f': \"180\",\n        },\n{\n            'v': 274,\n            'f': \"274\",\n        },\n{\n            'v': 1,\n            'f': \"1\",\n        },\n{\n            'v': 2,\n            'f': \"2\",\n        },\n{\n            'v': 150,\n            'f': \"150\",\n        },\n{\n            'v': 1,\n            'f': \"1\",\n        },\n{\n            'v': 1.6,\n            'f': \"1.6\",\n        },\n{\n            'v': 2,\n            'f': \"2\",\n        },\n{\n            'v': 0.0,\n            'f': \"0.0\",\n        },\n{\n            'v': 7.0,\n            'f': \"7.0\",\n        },\n{\n            'v': 3,\n            'f': \"3\",\n        },\n{\n            'v': 1,\n            'f': \"1\",\n        },\n\"yes\"],\n [{\n            'v': 84,\n            'f': \"84\",\n        },\n{\n            'v': 52,\n            'f': \"52\",\n        },\n\"male\",\n{\n            'v': 2,\n            'f': \"2\",\n        },\n{\n            'v': 120,\n            'f': \"120\",\n        },\n{\n            'v': 325,\n            'f': \"325\",\n        },\n{\n            'v': 0,\n            'f': \"0\",\n        },\n{\n            'v': 0,\n            'f': \"0\",\n        },\n{\n            'v': 172,\n            'f': \"172\",\n        },\n{\n            'v': 0,\n            'f': \"0\",\n        },\n{\n            'v': 0.2,\n            'f': \"0.2\",\n        },\n{\n            'v': 1,\n            'f': \"1\",\n        },\n{\n            'v': 0.0,\n            'f': \"0.0\",\n        },\n{\n            'v': 3.0,\n            'f': \"3.0\",\n        },\n{\n            'v': 0,\n            'f': \"0\",\n        },\n{\n            'v': 0,\n            'f': \"0\",\n        },\n\"no\"],\n [{\n            'v': 85,\n            'f': \"85\",\n        },\n{\n            'v': 44,\n            'f': \"44\",\n        },\n\"male\",\n{\n            'v': 3,\n            'f': \"3\",\n        },\n{\n            'v': 140,\n            'f': \"140\",\n        },\n{\n            'v': 235,\n            'f': \"235\",\n        },\n{\n            'v': 0,\n            'f': \"0\",\n        },\n{\n            'v': 2,\n            'f': \"2\",\n        },\n{\n            'v': 180,\n            'f': \"180\",\n        },\n{\n            'v': 0,\n            'f': \"0\",\n        },\n{\n            'v': 0.0,\n            'f': \"0.0\",\n        },\n{\n            'v': 1,\n            'f': \"1\",\n        },\n{\n            'v': 0.0,\n            'f': \"0.0\",\n        },\n{\n            'v': 3.0,\n            'f': \"3.0\",\n        },\n{\n            'v': 0,\n            'f': \"0\",\n        },\n{\n            'v': 0,\n            'f': \"0\",\n        },\n\"no\"],\n [{\n            'v': 86,\n            'f': \"86\",\n        },\n{\n            'v': 47,\n            'f': \"47\",\n        },\n\"male\",\n{\n            'v': 3,\n            'f': \"3\",\n        },\n{\n            'v': 138,\n            'f': \"138\",\n        },\n{\n            'v': 257,\n            'f': \"257\",\n        },\n{\n            'v': 0,\n            'f': \"0\",\n        },\n{\n            'v': 2,\n            'f': \"2\",\n        },\n{\n            'v': 156,\n            'f': \"156\",\n        },\n{\n            'v': 0,\n            'f': \"0\",\n        },\n{\n            'v': 0.0,\n            'f': \"0.0\",\n        },\n{\n            'v': 1,\n            'f': \"1\",\n        },\n{\n            'v': 0.0,\n            'f': \"0.0\",\n        },\n{\n            'v': 3.0,\n            'f': \"3.0\",\n        },\n{\n            'v': 0,\n            'f': \"0\",\n        },\n{\n            'v': 0,\n            'f': \"0\",\n        },\n\"no\"],\n [{\n            'v': 87,\n            'f': \"87\",\n        },\n{\n            'v': 53,\n            'f': \"53\",\n        },\n\"female\",\n{\n            'v': 3,\n            'f': \"3\",\n        },\n{\n            'v': 128,\n            'f': \"128\",\n        },\n{\n            'v': 216,\n            'f': \"216\",\n        },\n{\n            'v': 0,\n            'f': \"0\",\n        },\n{\n            'v': 2,\n            'f': \"2\",\n        },\n{\n            'v': 115,\n            'f': \"115\",\n        },\n{\n            'v': 0,\n            'f': \"0\",\n        },\n{\n            'v': 0.0,\n            'f': \"0.0\",\n        },\n{\n            'v': 1,\n            'f': \"1\",\n        },\n{\n            'v': 0.0,\n            'f': \"0.0\",\n        },\n{\n            'v': NaN,\n            'f': \"NaN\",\n        },\n{\n            'v': 0,\n            'f': \"0\",\n        },\n{\n            'v': 0,\n            'f': \"0\",\n        },\n\"no\"],\n [{\n            'v': 88,\n            'f': \"88\",\n        },\n{\n            'v': 53,\n            'f': \"53\",\n        },\n\"female\",\n{\n            'v': 4,\n            'f': \"4\",\n        },\n{\n            'v': 138,\n            'f': \"138\",\n        },\n{\n            'v': 234,\n            'f': \"234\",\n        },\n{\n            'v': 0,\n            'f': \"0\",\n        },\n{\n            'v': 2,\n            'f': \"2\",\n        },\n{\n            'v': 160,\n            'f': \"160\",\n        },\n{\n            'v': 0,\n            'f': \"0\",\n        },\n{\n            'v': 0.0,\n            'f': \"0.0\",\n        },\n{\n            'v': 1,\n            'f': \"1\",\n        },\n{\n            'v': 0.0,\n            'f': \"0.0\",\n        },\n{\n            'v': 3.0,\n            'f': \"3.0\",\n        },\n{\n            'v': 0,\n            'f': \"0\",\n        },\n{\n            'v': 0,\n            'f': \"0\",\n        },\n\"no\"],\n [{\n            'v': 89,\n            'f': \"89\",\n        },\n{\n            'v': 51,\n            'f': \"51\",\n        },\n\"female\",\n{\n            'v': 3,\n            'f': \"3\",\n        },\n{\n            'v': 130,\n            'f': \"130\",\n        },\n{\n            'v': 256,\n            'f': \"256\",\n        },\n{\n            'v': 0,\n            'f': \"0\",\n        },\n{\n            'v': 2,\n            'f': \"2\",\n        },\n{\n            'v': 149,\n            'f': \"149\",\n        },\n{\n            'v': 0,\n            'f': \"0\",\n        },\n{\n            'v': 0.5,\n            'f': \"0.5\",\n        },\n{\n            'v': 1,\n            'f': \"1\",\n        },\n{\n            'v': 0.0,\n            'f': \"0.0\",\n        },\n{\n            'v': 3.0,\n            'f': \"3.0\",\n        },\n{\n            'v': 0,\n            'f': \"0\",\n        },\n{\n            'v': 0,\n            'f': \"0\",\n        },\n\"no\"],\n [{\n            'v': 90,\n            'f': \"90\",\n        },\n{\n            'v': 66,\n            'f': \"66\",\n        },\n\"male\",\n{\n            'v': 4,\n            'f': \"4\",\n        },\n{\n            'v': 120,\n            'f': \"120\",\n        },\n{\n            'v': 302,\n            'f': \"302\",\n        },\n{\n            'v': 0,\n            'f': \"0\",\n        },\n{\n            'v': 2,\n            'f': \"2\",\n        },\n{\n            'v': 151,\n            'f': \"151\",\n        },\n{\n            'v': 0,\n            'f': \"0\",\n        },\n{\n            'v': 0.4,\n            'f': \"0.4\",\n        },\n{\n            'v': 2,\n            'f': \"2\",\n        },\n{\n            'v': 0.0,\n            'f': \"0.0\",\n        },\n{\n            'v': 3.0,\n            'f': \"3.0\",\n        },\n{\n            'v': 0,\n            'f': \"0\",\n        },\n{\n            'v': 0,\n            'f': \"0\",\n        },\n\"no\"],\n [{\n            'v': 91,\n            'f': \"91\",\n        },\n{\n            'v': 62,\n            'f': \"62\",\n        },\n\"female\",\n{\n            'v': 4,\n            'f': \"4\",\n        },\n{\n            'v': 160,\n            'f': \"160\",\n        },\n{\n            'v': 164,\n            'f': \"164\",\n        },\n{\n            'v': 0,\n            'f': \"0\",\n        },\n{\n            'v': 2,\n            'f': \"2\",\n        },\n{\n            'v': 145,\n            'f': \"145\",\n        },\n{\n            'v': 0,\n            'f': \"0\",\n        },\n{\n            'v': 6.2,\n            'f': \"6.2\",\n        },\n{\n            'v': 3,\n            'f': \"3\",\n        },\n{\n            'v': 3.0,\n            'f': \"3.0\",\n        },\n{\n            'v': 7.0,\n            'f': \"7.0\",\n        },\n{\n            'v': 3,\n            'f': \"3\",\n        },\n{\n            'v': 0,\n            'f': \"0\",\n        },\n\"yes\"],\n [{\n            'v': 92,\n            'f': \"92\",\n        },\n{\n            'v': 62,\n            'f': \"62\",\n        },\n\"male\",\n{\n            'v': 3,\n            'f': \"3\",\n        },\n{\n            'v': 130,\n            'f': \"130\",\n        },\n{\n            'v': 231,\n            'f': \"231\",\n        },\n{\n            'v': 0,\n            'f': \"0\",\n        },\n{\n            'v': 0,\n            'f': \"0\",\n        },\n{\n            'v': 146,\n            'f': \"146\",\n        },\n{\n            'v': 0,\n            'f': \"0\",\n        },\n{\n            'v': 1.8,\n            'f': \"1.8\",\n        },\n{\n            'v': 2,\n            'f': \"2\",\n        },\n{\n            'v': 3.0,\n            'f': \"3.0\",\n        },\n{\n            'v': 7.0,\n            'f': \"7.0\",\n        },\n{\n            'v': 0,\n            'f': \"0\",\n        },\n{\n            'v': 0,\n            'f': \"0\",\n        },\n\"no\"],\n [{\n            'v': 93,\n            'f': \"93\",\n        },\n{\n            'v': 44,\n            'f': \"44\",\n        },\n\"female\",\n{\n            'v': 3,\n            'f': \"3\",\n        },\n{\n            'v': 108,\n            'f': \"108\",\n        },\n{\n            'v': 141,\n            'f': \"141\",\n        },\n{\n            'v': 0,\n            'f': \"0\",\n        },\n{\n            'v': 0,\n            'f': \"0\",\n        },\n{\n            'v': 175,\n            'f': \"175\",\n        },\n{\n            'v': 0,\n            'f': \"0\",\n        },\n{\n            'v': 0.6,\n            'f': \"0.6\",\n        },\n{\n            'v': 2,\n            'f': \"2\",\n        },\n{\n            'v': 0.0,\n            'f': \"0.0\",\n        },\n{\n            'v': 3.0,\n            'f': \"3.0\",\n        },\n{\n            'v': 0,\n            'f': \"0\",\n        },\n{\n            'v': 0,\n            'f': \"0\",\n        },\n\"no\"],\n [{\n            'v': 94,\n            'f': \"94\",\n        },\n{\n            'v': 63,\n            'f': \"63\",\n        },\n\"female\",\n{\n            'v': 3,\n            'f': \"3\",\n        },\n{\n            'v': 135,\n            'f': \"135\",\n        },\n{\n            'v': 252,\n            'f': \"252\",\n        },\n{\n            'v': 0,\n            'f': \"0\",\n        },\n{\n            'v': 2,\n            'f': \"2\",\n        },\n{\n            'v': 172,\n            'f': \"172\",\n        },\n{\n            'v': 0,\n            'f': \"0\",\n        },\n{\n            'v': 0.0,\n            'f': \"0.0\",\n        },\n{\n            'v': 1,\n            'f': \"1\",\n        },\n{\n            'v': 0.0,\n            'f': \"0.0\",\n        },\n{\n            'v': 3.0,\n            'f': \"3.0\",\n        },\n{\n            'v': 0,\n            'f': \"0\",\n        },\n{\n            'v': 0,\n            'f': \"0\",\n        },\n\"no\"],\n [{\n            'v': 95,\n            'f': \"95\",\n        },\n{\n            'v': 52,\n            'f': \"52\",\n        },\n\"male\",\n{\n            'v': 4,\n            'f': \"4\",\n        },\n{\n            'v': 128,\n            'f': \"128\",\n        },\n{\n            'v': 255,\n            'f': \"255\",\n        },\n{\n            'v': 0,\n            'f': \"0\",\n        },\n{\n            'v': 0,\n            'f': \"0\",\n        },\n{\n            'v': 161,\n            'f': \"161\",\n        },\n{\n            'v': 1,\n            'f': \"1\",\n        },\n{\n            'v': 0.0,\n            'f': \"0.0\",\n        },\n{\n            'v': 1,\n            'f': \"1\",\n        },\n{\n            'v': 1.0,\n            'f': \"1.0\",\n        },\n{\n            'v': 7.0,\n            'f': \"7.0\",\n        },\n{\n            'v': 1,\n            'f': \"1\",\n        },\n{\n            'v': 1,\n            'f': \"1\",\n        },\n\"yes\"],\n [{\n            'v': 96,\n            'f': \"96\",\n        },\n{\n            'v': 59,\n            'f': \"59\",\n        },\n\"male\",\n{\n            'v': 4,\n            'f': \"4\",\n        },\n{\n            'v': 110,\n            'f': \"110\",\n        },\n{\n            'v': 239,\n            'f': \"239\",\n        },\n{\n            'v': 0,\n            'f': \"0\",\n        },\n{\n            'v': 2,\n            'f': \"2\",\n        },\n{\n            'v': 142,\n            'f': \"142\",\n        },\n{\n            'v': 1,\n            'f': \"1\",\n        },\n{\n            'v': 1.2,\n            'f': \"1.2\",\n        },\n{\n            'v': 2,\n            'f': \"2\",\n        },\n{\n            'v': 1.0,\n            'f': \"1.0\",\n        },\n{\n            'v': 7.0,\n            'f': \"7.0\",\n        },\n{\n            'v': 2,\n            'f': \"2\",\n        },\n{\n            'v': 1,\n            'f': \"1\",\n        },\n\"yes\"],\n [{\n            'v': 97,\n            'f': \"97\",\n        },\n{\n            'v': 60,\n            'f': \"60\",\n        },\n\"female\",\n{\n            'v': 4,\n            'f': \"4\",\n        },\n{\n            'v': 150,\n            'f': \"150\",\n        },\n{\n            'v': 258,\n            'f': \"258\",\n        },\n{\n            'v': 0,\n            'f': \"0\",\n        },\n{\n            'v': 2,\n            'f': \"2\",\n        },\n{\n            'v': 157,\n            'f': \"157\",\n        },\n{\n            'v': 0,\n            'f': \"0\",\n        },\n{\n            'v': 2.6,\n            'f': \"2.6\",\n        },\n{\n            'v': 2,\n            'f': \"2\",\n        },\n{\n            'v': 2.0,\n            'f': \"2.0\",\n        },\n{\n            'v': 7.0,\n            'f': \"7.0\",\n        },\n{\n            'v': 3,\n            'f': \"3\",\n        },\n{\n            'v': 0,\n            'f': \"0\",\n        },\n\"yes\"],\n [{\n            'v': 98,\n            'f': \"98\",\n        },\n{\n            'v': 52,\n            'f': \"52\",\n        },\n\"male\",\n{\n            'v': 2,\n            'f': \"2\",\n        },\n{\n            'v': 134,\n            'f': \"134\",\n        },\n{\n            'v': 201,\n            'f': \"201\",\n        },\n{\n            'v': 0,\n            'f': \"0\",\n        },\n{\n            'v': 0,\n            'f': \"0\",\n        },\n{\n            'v': 158,\n            'f': \"158\",\n        },\n{\n            'v': 0,\n            'f': \"0\",\n        },\n{\n            'v': 0.8,\n            'f': \"0.8\",\n        },\n{\n            'v': 1,\n            'f': \"1\",\n        },\n{\n            'v': 1.0,\n            'f': \"1.0\",\n        },\n{\n            'v': 3.0,\n            'f': \"3.0\",\n        },\n{\n            'v': 0,\n            'f': \"0\",\n        },\n{\n            'v': 0,\n            'f': \"0\",\n        },\n\"no\"],\n [{\n            'v': 99,\n            'f': \"99\",\n        },\n{\n            'v': 48,\n            'f': \"48\",\n        },\n\"male\",\n{\n            'v': 4,\n            'f': \"4\",\n        },\n{\n            'v': 122,\n            'f': \"122\",\n        },\n{\n            'v': 222,\n            'f': \"222\",\n        },\n{\n            'v': 0,\n            'f': \"0\",\n        },\n{\n            'v': 2,\n            'f': \"2\",\n        },\n{\n            'v': 186,\n            'f': \"186\",\n        },\n{\n            'v': 0,\n            'f': \"0\",\n        },\n{\n            'v': 0.0,\n            'f': \"0.0\",\n        },\n{\n            'v': 1,\n            'f': \"1\",\n        },\n{\n            'v': 0.0,\n            'f': \"0.0\",\n        },\n{\n            'v': 3.0,\n            'f': \"3.0\",\n        },\n{\n            'v': 0,\n            'f': \"0\",\n        },\n{\n            'v': 0,\n            'f': \"0\",\n        },\n\"no\"],\n [{\n            'v': 100,\n            'f': \"100\",\n        },\n{\n            'v': 45,\n            'f': \"45\",\n        },\n\"male\",\n{\n            'v': 4,\n            'f': \"4\",\n        },\n{\n            'v': 115,\n            'f': \"115\",\n        },\n{\n            'v': 260,\n            'f': \"260\",\n        },\n{\n            'v': 0,\n            'f': \"0\",\n        },\n{\n            'v': 2,\n            'f': \"2\",\n        },\n{\n            'v': 185,\n            'f': \"185\",\n        },\n{\n            'v': 0,\n            'f': \"0\",\n        },\n{\n            'v': 0.0,\n            'f': \"0.0\",\n        },\n{\n            'v': 1,\n            'f': \"1\",\n        },\n{\n            'v': 0.0,\n            'f': \"0.0\",\n        },\n{\n            'v': 3.0,\n            'f': \"3.0\",\n        },\n{\n            'v': 0,\n            'f': \"0\",\n        },\n{\n            'v': 0,\n            'f': \"0\",\n        },\n\"no\"],\n [{\n            'v': 101,\n            'f': \"101\",\n        },\n{\n            'v': 34,\n            'f': \"34\",\n        },\n\"male\",\n{\n            'v': 1,\n            'f': \"1\",\n        },\n{\n            'v': 118,\n            'f': \"118\",\n        },\n{\n            'v': 182,\n            'f': \"182\",\n        },\n{\n            'v': 0,\n            'f': \"0\",\n        },\n{\n            'v': 2,\n            'f': \"2\",\n        },\n{\n            'v': 174,\n            'f': \"174\",\n        },\n{\n            'v': 0,\n            'f': \"0\",\n        },\n{\n            'v': 0.0,\n            'f': \"0.0\",\n        },\n{\n            'v': 1,\n            'f': \"1\",\n        },\n{\n            'v': 0.0,\n            'f': \"0.0\",\n        },\n{\n            'v': 3.0,\n            'f': \"3.0\",\n        },\n{\n            'v': 0,\n            'f': \"0\",\n        },\n{\n            'v': 0,\n            'f': \"0\",\n        },\n\"no\"],\n [{\n            'v': 102,\n            'f': \"102\",\n        },\n{\n            'v': 57,\n            'f': \"57\",\n        },\n\"female\",\n{\n            'v': 4,\n            'f': \"4\",\n        },\n{\n            'v': 128,\n            'f': \"128\",\n        },\n{\n            'v': 303,\n            'f': \"303\",\n        },\n{\n            'v': 0,\n            'f': \"0\",\n        },\n{\n            'v': 2,\n            'f': \"2\",\n        },\n{\n            'v': 159,\n            'f': \"159\",\n        },\n{\n            'v': 0,\n            'f': \"0\",\n        },\n{\n            'v': 0.0,\n            'f': \"0.0\",\n        },\n{\n            'v': 1,\n            'f': \"1\",\n        },\n{\n            'v': 1.0,\n            'f': \"1.0\",\n        },\n{\n            'v': 3.0,\n            'f': \"3.0\",\n        },\n{\n            'v': 0,\n            'f': \"0\",\n        },\n{\n            'v': 0,\n            'f': \"0\",\n        },\n\"no\"],\n [{\n            'v': 103,\n            'f': \"103\",\n        },\n{\n            'v': 71,\n            'f': \"71\",\n        },\n\"female\",\n{\n            'v': 3,\n            'f': \"3\",\n        },\n{\n            'v': 110,\n            'f': \"110\",\n        },\n{\n            'v': 265,\n            'f': \"265\",\n        },\n{\n            'v': 1,\n            'f': \"1\",\n        },\n{\n            'v': 2,\n            'f': \"2\",\n        },\n{\n            'v': 130,\n            'f': \"130\",\n        },\n{\n            'v': 0,\n            'f': \"0\",\n        },\n{\n            'v': 0.0,\n            'f': \"0.0\",\n        },\n{\n            'v': 1,\n            'f': \"1\",\n        },\n{\n            'v': 1.0,\n            'f': \"1.0\",\n        },\n{\n            'v': 3.0,\n            'f': \"3.0\",\n        },\n{\n            'v': 0,\n            'f': \"0\",\n        },\n{\n            'v': 0,\n            'f': \"0\",\n        },\n\"no\"],\n [{\n            'v': 104,\n            'f': \"104\",\n        },\n{\n            'v': 49,\n            'f': \"49\",\n        },\n\"male\",\n{\n            'v': 3,\n            'f': \"3\",\n        },\n{\n            'v': 120,\n            'f': \"120\",\n        },\n{\n            'v': 188,\n            'f': \"188\",\n        },\n{\n            'v': 0,\n            'f': \"0\",\n        },\n{\n            'v': 0,\n            'f': \"0\",\n        },\n{\n            'v': 139,\n            'f': \"139\",\n        },\n{\n            'v': 0,\n            'f': \"0\",\n        },\n{\n            'v': 2.0,\n            'f': \"2.0\",\n        },\n{\n            'v': 2,\n            'f': \"2\",\n        },\n{\n            'v': 3.0,\n            'f': \"3.0\",\n        },\n{\n            'v': 7.0,\n            'f': \"7.0\",\n        },\n{\n            'v': 3,\n            'f': \"3\",\n        },\n{\n            'v': 0,\n            'f': \"0\",\n        },\n\"yes\"],\n [{\n            'v': 105,\n            'f': \"105\",\n        },\n{\n            'v': 54,\n            'f': \"54\",\n        },\n\"male\",\n{\n            'v': 2,\n            'f': \"2\",\n        },\n{\n            'v': 108,\n            'f': \"108\",\n        },\n{\n            'v': 309,\n            'f': \"309\",\n        },\n{\n            'v': 0,\n            'f': \"0\",\n        },\n{\n            'v': 0,\n            'f': \"0\",\n        },\n{\n            'v': 156,\n            'f': \"156\",\n        },\n{\n            'v': 0,\n            'f': \"0\",\n        },\n{\n            'v': 0.0,\n            'f': \"0.0\",\n        },\n{\n            'v': 1,\n            'f': \"1\",\n        },\n{\n            'v': 0.0,\n            'f': \"0.0\",\n        },\n{\n            'v': 7.0,\n            'f': \"7.0\",\n        },\n{\n            'v': 0,\n            'f': \"0\",\n        },\n{\n            'v': 0,\n            'f': \"0\",\n        },\n\"no\"],\n [{\n            'v': 106,\n            'f': \"106\",\n        },\n{\n            'v': 59,\n            'f': \"59\",\n        },\n\"male\",\n{\n            'v': 4,\n            'f': \"4\",\n        },\n{\n            'v': 140,\n            'f': \"140\",\n        },\n{\n            'v': 177,\n            'f': \"177\",\n        },\n{\n            'v': 0,\n            'f': \"0\",\n        },\n{\n            'v': 0,\n            'f': \"0\",\n        },\n{\n            'v': 162,\n            'f': \"162\",\n        },\n{\n            'v': 1,\n            'f': \"1\",\n        },\n{\n            'v': 0.0,\n            'f': \"0.0\",\n        },\n{\n            'v': 1,\n            'f': \"1\",\n        },\n{\n            'v': 1.0,\n            'f': \"1.0\",\n        },\n{\n            'v': 7.0,\n            'f': \"7.0\",\n        },\n{\n            'v': 2,\n            'f': \"2\",\n        },\n{\n            'v': 1,\n            'f': \"1\",\n        },\n\"yes\"],\n [{\n            'v': 107,\n            'f': \"107\",\n        },\n{\n            'v': 57,\n            'f': \"57\",\n        },\n\"male\",\n{\n            'v': 3,\n            'f': \"3\",\n        },\n{\n            'v': 128,\n            'f': \"128\",\n        },\n{\n            'v': 229,\n            'f': \"229\",\n        },\n{\n            'v': 0,\n            'f': \"0\",\n        },\n{\n            'v': 2,\n            'f': \"2\",\n        },\n{\n            'v': 150,\n            'f': \"150\",\n        },\n{\n            'v': 0,\n            'f': \"0\",\n        },\n{\n            'v': 0.4,\n            'f': \"0.4\",\n        },\n{\n            'v': 2,\n            'f': \"2\",\n        },\n{\n            'v': 1.0,\n            'f': \"1.0\",\n        },\n{\n            'v': 7.0,\n            'f': \"7.0\",\n        },\n{\n            'v': 1,\n            'f': \"1\",\n        },\n{\n            'v': 0,\n            'f': \"0\",\n        },\n\"yes\"],\n [{\n            'v': 108,\n            'f': \"108\",\n        },\n{\n            'v': 61,\n            'f': \"61\",\n        },\n\"male\",\n{\n            'v': 4,\n            'f': \"4\",\n        },\n{\n            'v': 120,\n            'f': \"120\",\n        },\n{\n            'v': 260,\n            'f': \"260\",\n        },\n{\n            'v': 0,\n            'f': \"0\",\n        },\n{\n            'v': 0,\n            'f': \"0\",\n        },\n{\n            'v': 140,\n            'f': \"140\",\n        },\n{\n            'v': 1,\n            'f': \"1\",\n        },\n{\n            'v': 3.6,\n            'f': \"3.6\",\n        },\n{\n            'v': 2,\n            'f': \"2\",\n        },\n{\n            'v': 1.0,\n            'f': \"1.0\",\n        },\n{\n            'v': 7.0,\n            'f': \"7.0\",\n        },\n{\n            'v': 2,\n            'f': \"2\",\n        },\n{\n            'v': 1,\n            'f': \"1\",\n        },\n\"yes\"],\n [{\n            'v': 109,\n            'f': \"109\",\n        },\n{\n            'v': 39,\n            'f': \"39\",\n        },\n\"male\",\n{\n            'v': 4,\n            'f': \"4\",\n        },\n{\n            'v': 118,\n            'f': \"118\",\n        },\n{\n            'v': 219,\n            'f': \"219\",\n        },\n{\n            'v': 0,\n            'f': \"0\",\n        },\n{\n            'v': 0,\n            'f': \"0\",\n        },\n{\n            'v': 140,\n            'f': \"140\",\n        },\n{\n            'v': 0,\n            'f': \"0\",\n        },\n{\n            'v': 1.2,\n            'f': \"1.2\",\n        },\n{\n            'v': 2,\n            'f': \"2\",\n        },\n{\n            'v': 0.0,\n            'f': \"0.0\",\n        },\n{\n            'v': 7.0,\n            'f': \"7.0\",\n        },\n{\n            'v': 3,\n            'f': \"3\",\n        },\n{\n            'v': 0,\n            'f': \"0\",\n        },\n\"yes\"],\n [{\n            'v': 110,\n            'f': \"110\",\n        },\n{\n            'v': 61,\n            'f': \"61\",\n        },\n\"female\",\n{\n            'v': 4,\n            'f': \"4\",\n        },\n{\n            'v': 145,\n            'f': \"145\",\n        },\n{\n            'v': 307,\n            'f': \"307\",\n        },\n{\n            'v': 0,\n            'f': \"0\",\n        },\n{\n            'v': 2,\n            'f': \"2\",\n        },\n{\n            'v': 146,\n            'f': \"146\",\n        },\n{\n            'v': 1,\n            'f': \"1\",\n        },\n{\n            'v': 1.0,\n            'f': \"1.0\",\n        },\n{\n            'v': 2,\n            'f': \"2\",\n        },\n{\n            'v': 0.0,\n            'f': \"0.0\",\n        },\n{\n            'v': 7.0,\n            'f': \"7.0\",\n        },\n{\n            'v': 1,\n            'f': \"1\",\n        },\n{\n            'v': 1,\n            'f': \"1\",\n        },\n\"yes\"],\n [{\n            'v': 111,\n            'f': \"111\",\n        },\n{\n            'v': 56,\n            'f': \"56\",\n        },\n\"male\",\n{\n            'v': 4,\n            'f': \"4\",\n        },\n{\n            'v': 125,\n            'f': \"125\",\n        },\n{\n            'v': 249,\n            'f': \"249\",\n        },\n{\n            'v': 1,\n            'f': \"1\",\n        },\n{\n            'v': 2,\n            'f': \"2\",\n        },\n{\n            'v': 144,\n            'f': \"144\",\n        },\n{\n            'v': 1,\n            'f': \"1\",\n        },\n{\n            'v': 1.2,\n            'f': \"1.2\",\n        },\n{\n            'v': 2,\n            'f': \"2\",\n        },\n{\n            'v': 1.0,\n            'f': \"1.0\",\n        },\n{\n            'v': 3.0,\n            'f': \"3.0\",\n        },\n{\n            'v': 1,\n            'f': \"1\",\n        },\n{\n            'v': 1,\n            'f': \"1\",\n        },\n\"yes\"],\n [{\n            'v': 112,\n            'f': \"112\",\n        },\n{\n            'v': 52,\n            'f': \"52\",\n        },\n\"male\",\n{\n            'v': 1,\n            'f': \"1\",\n        },\n{\n            'v': 118,\n            'f': \"118\",\n        },\n{\n            'v': 186,\n            'f': \"186\",\n        },\n{\n            'v': 0,\n            'f': \"0\",\n        },\n{\n            'v': 2,\n            'f': \"2\",\n        },\n{\n            'v': 190,\n            'f': \"190\",\n        },\n{\n            'v': 0,\n            'f': \"0\",\n        },\n{\n            'v': 0.0,\n            'f': \"0.0\",\n        },\n{\n            'v': 2,\n            'f': \"2\",\n        },\n{\n            'v': 0.0,\n            'f': \"0.0\",\n        },\n{\n            'v': 6.0,\n            'f': \"6.0\",\n        },\n{\n            'v': 0,\n            'f': \"0\",\n        },\n{\n            'v': 0,\n            'f': \"0\",\n        },\n\"no\"],\n [{\n            'v': 113,\n            'f': \"113\",\n        },\n{\n            'v': 43,\n            'f': \"43\",\n        },\n\"female\",\n{\n            'v': 4,\n            'f': \"4\",\n        },\n{\n            'v': 132,\n            'f': \"132\",\n        },\n{\n            'v': 341,\n            'f': \"341\",\n        },\n{\n            'v': 1,\n            'f': \"1\",\n        },\n{\n            'v': 2,\n            'f': \"2\",\n        },\n{\n            'v': 136,\n            'f': \"136\",\n        },\n{\n            'v': 1,\n            'f': \"1\",\n        },\n{\n            'v': 3.0,\n            'f': \"3.0\",\n        },\n{\n            'v': 2,\n            'f': \"2\",\n        },\n{\n            'v': 0.0,\n            'f': \"0.0\",\n        },\n{\n            'v': 7.0,\n            'f': \"7.0\",\n        },\n{\n            'v': 2,\n            'f': \"2\",\n        },\n{\n            'v': 1,\n            'f': \"1\",\n        },\n\"yes\"],\n [{\n            'v': 114,\n            'f': \"114\",\n        },\n{\n            'v': 62,\n            'f': \"62\",\n        },\n\"female\",\n{\n            'v': 3,\n            'f': \"3\",\n        },\n{\n            'v': 130,\n            'f': \"130\",\n        },\n{\n            'v': 263,\n            'f': \"263\",\n        },\n{\n            'v': 0,\n            'f': \"0\",\n        },\n{\n            'v': 0,\n            'f': \"0\",\n        },\n{\n            'v': 97,\n            'f': \"97\",\n        },\n{\n            'v': 0,\n            'f': \"0\",\n        },\n{\n            'v': 1.2,\n            'f': \"1.2\",\n        },\n{\n            'v': 2,\n            'f': \"2\",\n        },\n{\n            'v': 1.0,\n            'f': \"1.0\",\n        },\n{\n            'v': 7.0,\n            'f': \"7.0\",\n        },\n{\n            'v': 2,\n            'f': \"2\",\n        },\n{\n            'v': 0,\n            'f': \"0\",\n        },\n\"yes\"],\n [{\n            'v': 115,\n            'f': \"115\",\n        },\n{\n            'v': 41,\n            'f': \"41\",\n        },\n\"male\",\n{\n            'v': 2,\n            'f': \"2\",\n        },\n{\n            'v': 135,\n            'f': \"135\",\n        },\n{\n            'v': 203,\n            'f': \"203\",\n        },\n{\n            'v': 0,\n            'f': \"0\",\n        },\n{\n            'v': 0,\n            'f': \"0\",\n        },\n{\n            'v': 132,\n            'f': \"132\",\n        },\n{\n            'v': 0,\n            'f': \"0\",\n        },\n{\n            'v': 0.0,\n            'f': \"0.0\",\n        },\n{\n            'v': 2,\n            'f': \"2\",\n        },\n{\n            'v': 0.0,\n            'f': \"0.0\",\n        },\n{\n            'v': 6.0,\n            'f': \"6.0\",\n        },\n{\n            'v': 0,\n            'f': \"0\",\n        },\n{\n            'v': 0,\n            'f': \"0\",\n        },\n\"no\"],\n [{\n            'v': 116,\n            'f': \"116\",\n        },\n{\n            'v': 58,\n            'f': \"58\",\n        },\n\"male\",\n{\n            'v': 3,\n            'f': \"3\",\n        },\n{\n            'v': 140,\n            'f': \"140\",\n        },\n{\n            'v': 211,\n            'f': \"211\",\n        },\n{\n            'v': 1,\n            'f': \"1\",\n        },\n{\n            'v': 2,\n            'f': \"2\",\n        },\n{\n            'v': 165,\n            'f': \"165\",\n        },\n{\n            'v': 0,\n            'f': \"0\",\n        },\n{\n            'v': 0.0,\n            'f': \"0.0\",\n        },\n{\n            'v': 1,\n            'f': \"1\",\n        },\n{\n            'v': 0.0,\n            'f': \"0.0\",\n        },\n{\n            'v': 3.0,\n            'f': \"3.0\",\n        },\n{\n            'v': 0,\n            'f': \"0\",\n        },\n{\n            'v': 0,\n            'f': \"0\",\n        },\n\"no\"],\n [{\n            'v': 117,\n            'f': \"117\",\n        },\n{\n            'v': 35,\n            'f': \"35\",\n        },\n\"female\",\n{\n            'v': 4,\n            'f': \"4\",\n        },\n{\n            'v': 138,\n            'f': \"138\",\n        },\n{\n            'v': 183,\n            'f': \"183\",\n        },\n{\n            'v': 0,\n            'f': \"0\",\n        },\n{\n            'v': 0,\n            'f': \"0\",\n        },\n{\n            'v': 182,\n            'f': \"182\",\n        },\n{\n            'v': 0,\n            'f': \"0\",\n        },\n{\n            'v': 1.4,\n            'f': \"1.4\",\n        },\n{\n            'v': 1,\n            'f': \"1\",\n        },\n{\n            'v': 0.0,\n            'f': \"0.0\",\n        },\n{\n            'v': 3.0,\n            'f': \"3.0\",\n        },\n{\n            'v': 0,\n            'f': \"0\",\n        },\n{\n            'v': 0,\n            'f': \"0\",\n        },\n\"no\"],\n [{\n            'v': 118,\n            'f': \"118\",\n        },\n{\n            'v': 63,\n            'f': \"63\",\n        },\n\"male\",\n{\n            'v': 4,\n            'f': \"4\",\n        },\n{\n            'v': 130,\n            'f': \"130\",\n        },\n{\n            'v': 330,\n            'f': \"330\",\n        },\n{\n            'v': 1,\n            'f': \"1\",\n        },\n{\n            'v': 2,\n            'f': \"2\",\n        },\n{\n            'v': 132,\n            'f': \"132\",\n        },\n{\n            'v': 1,\n            'f': \"1\",\n        },\n{\n            'v': 1.8,\n            'f': \"1.8\",\n        },\n{\n            'v': 1,\n            'f': \"1\",\n        },\n{\n            'v': 3.0,\n            'f': \"3.0\",\n        },\n{\n            'v': 7.0,\n            'f': \"7.0\",\n        },\n{\n            'v': 3,\n            'f': \"3\",\n        },\n{\n            'v': 1,\n            'f': \"1\",\n        },\n\"yes\"],\n [{\n            'v': 119,\n            'f': \"119\",\n        },\n{\n            'v': 65,\n            'f': \"65\",\n        },\n\"male\",\n{\n            'v': 4,\n            'f': \"4\",\n        },\n{\n            'v': 135,\n            'f': \"135\",\n        },\n{\n            'v': 254,\n            'f': \"254\",\n        },\n{\n            'v': 0,\n            'f': \"0\",\n        },\n{\n            'v': 2,\n            'f': \"2\",\n        },\n{\n            'v': 127,\n            'f': \"127\",\n        },\n{\n            'v': 0,\n            'f': \"0\",\n        },\n{\n            'v': 2.8,\n            'f': \"2.8\",\n        },\n{\n            'v': 2,\n            'f': \"2\",\n        },\n{\n            'v': 1.0,\n            'f': \"1.0\",\n        },\n{\n            'v': 7.0,\n            'f': \"7.0\",\n        },\n{\n            'v': 2,\n            'f': \"2\",\n        },\n{\n            'v': 0,\n            'f': \"0\",\n        },\n\"yes\"],\n [{\n            'v': 120,\n            'f': \"120\",\n        },\n{\n            'v': 48,\n            'f': \"48\",\n        },\n\"male\",\n{\n            'v': 4,\n            'f': \"4\",\n        },\n{\n            'v': 130,\n            'f': \"130\",\n        },\n{\n            'v': 256,\n            'f': \"256\",\n        },\n{\n            'v': 1,\n            'f': \"1\",\n        },\n{\n            'v': 2,\n            'f': \"2\",\n        },\n{\n            'v': 150,\n            'f': \"150\",\n        },\n{\n            'v': 1,\n            'f': \"1\",\n        },\n{\n            'v': 0.0,\n            'f': \"0.0\",\n        },\n{\n            'v': 1,\n            'f': \"1\",\n        },\n{\n            'v': 2.0,\n            'f': \"2.0\",\n        },\n{\n            'v': 7.0,\n            'f': \"7.0\",\n        },\n{\n            'v': 3,\n            'f': \"3\",\n        },\n{\n            'v': 1,\n            'f': \"1\",\n        },\n\"yes\"],\n [{\n            'v': 121,\n            'f': \"121\",\n        },\n{\n            'v': 63,\n            'f': \"63\",\n        },\n\"female\",\n{\n            'v': 4,\n            'f': \"4\",\n        },\n{\n            'v': 150,\n            'f': \"150\",\n        },\n{\n            'v': 407,\n            'f': \"407\",\n        },\n{\n            'v': 0,\n            'f': \"0\",\n        },\n{\n            'v': 2,\n            'f': \"2\",\n        },\n{\n            'v': 154,\n            'f': \"154\",\n        },\n{\n            'v': 0,\n            'f': \"0\",\n        },\n{\n            'v': 4.0,\n            'f': \"4.0\",\n        },\n{\n            'v': 2,\n            'f': \"2\",\n        },\n{\n            'v': 3.0,\n            'f': \"3.0\",\n        },\n{\n            'v': 7.0,\n            'f': \"7.0\",\n        },\n{\n            'v': 4,\n            'f': \"4\",\n        },\n{\n            'v': 0,\n            'f': \"0\",\n        },\n\"yes\"],\n [{\n            'v': 122,\n            'f': \"122\",\n        },\n{\n            'v': 51,\n            'f': \"51\",\n        },\n\"male\",\n{\n            'v': 3,\n            'f': \"3\",\n        },\n{\n            'v': 100,\n            'f': \"100\",\n        },\n{\n            'v': 222,\n            'f': \"222\",\n        },\n{\n            'v': 0,\n            'f': \"0\",\n        },\n{\n            'v': 0,\n            'f': \"0\",\n        },\n{\n            'v': 143,\n            'f': \"143\",\n        },\n{\n            'v': 1,\n            'f': \"1\",\n        },\n{\n            'v': 1.2,\n            'f': \"1.2\",\n        },\n{\n            'v': 2,\n            'f': \"2\",\n        },\n{\n            'v': 0.0,\n            'f': \"0.0\",\n        },\n{\n            'v': 3.0,\n            'f': \"3.0\",\n        },\n{\n            'v': 0,\n            'f': \"0\",\n        },\n{\n            'v': 1,\n            'f': \"1\",\n        },\n\"no\"],\n [{\n            'v': 123,\n            'f': \"123\",\n        },\n{\n            'v': 55,\n            'f': \"55\",\n        },\n\"male\",\n{\n            'v': 4,\n            'f': \"4\",\n        },\n{\n            'v': 140,\n            'f': \"140\",\n        },\n{\n            'v': 217,\n            'f': \"217\",\n        },\n{\n            'v': 0,\n            'f': \"0\",\n        },\n{\n            'v': 0,\n            'f': \"0\",\n        },\n{\n            'v': 111,\n            'f': \"111\",\n        },\n{\n            'v': 1,\n            'f': \"1\",\n        },\n{\n            'v': 5.6,\n            'f': \"5.6\",\n        },\n{\n            'v': 3,\n            'f': \"3\",\n        },\n{\n            'v': 0.0,\n            'f': \"0.0\",\n        },\n{\n            'v': 7.0,\n            'f': \"7.0\",\n        },\n{\n            'v': 3,\n            'f': \"3\",\n        },\n{\n            'v': 1,\n            'f': \"1\",\n        },\n\"yes\"],\n [{\n            'v': 124,\n            'f': \"124\",\n        },\n{\n            'v': 65,\n            'f': \"65\",\n        },\n\"male\",\n{\n            'v': 1,\n            'f': \"1\",\n        },\n{\n            'v': 138,\n            'f': \"138\",\n        },\n{\n            'v': 282,\n            'f': \"282\",\n        },\n{\n            'v': 1,\n            'f': \"1\",\n        },\n{\n            'v': 2,\n            'f': \"2\",\n        },\n{\n            'v': 174,\n            'f': \"174\",\n        },\n{\n            'v': 0,\n            'f': \"0\",\n        },\n{\n            'v': 1.4,\n            'f': \"1.4\",\n        },\n{\n            'v': 2,\n            'f': \"2\",\n        },\n{\n            'v': 1.0,\n            'f': \"1.0\",\n        },\n{\n            'v': 3.0,\n            'f': \"3.0\",\n        },\n{\n            'v': 1,\n            'f': \"1\",\n        },\n{\n            'v': 0,\n            'f': \"0\",\n        },\n\"yes\"],\n [{\n            'v': 125,\n            'f': \"125\",\n        },\n{\n            'v': 45,\n            'f': \"45\",\n        },\n\"female\",\n{\n            'v': 2,\n            'f': \"2\",\n        },\n{\n            'v': 130,\n            'f': \"130\",\n        },\n{\n            'v': 234,\n            'f': \"234\",\n        },\n{\n            'v': 0,\n            'f': \"0\",\n        },\n{\n            'v': 2,\n            'f': \"2\",\n        },\n{\n            'v': 175,\n            'f': \"175\",\n        },\n{\n            'v': 0,\n            'f': \"0\",\n        },\n{\n            'v': 0.6,\n            'f': \"0.6\",\n        },\n{\n            'v': 2,\n            'f': \"2\",\n        },\n{\n            'v': 0.0,\n            'f': \"0.0\",\n        },\n{\n            'v': 3.0,\n            'f': \"3.0\",\n        },\n{\n            'v': 0,\n            'f': \"0\",\n        },\n{\n            'v': 0,\n            'f': \"0\",\n        },\n\"no\"],\n [{\n            'v': 126,\n            'f': \"126\",\n        },\n{\n            'v': 56,\n            'f': \"56\",\n        },\n\"female\",\n{\n            'v': 4,\n            'f': \"4\",\n        },\n{\n            'v': 200,\n            'f': \"200\",\n        },\n{\n            'v': 288,\n            'f': \"288\",\n        },\n{\n            'v': 1,\n            'f': \"1\",\n        },\n{\n            'v': 2,\n            'f': \"2\",\n        },\n{\n            'v': 133,\n            'f': \"133\",\n        },\n{\n            'v': 1,\n            'f': \"1\",\n        },\n{\n            'v': 4.0,\n            'f': \"4.0\",\n        },\n{\n            'v': 3,\n            'f': \"3\",\n        },\n{\n            'v': 2.0,\n            'f': \"2.0\",\n        },\n{\n            'v': 7.0,\n            'f': \"7.0\",\n        },\n{\n            'v': 3,\n            'f': \"3\",\n        },\n{\n            'v': 1,\n            'f': \"1\",\n        },\n\"yes\"],\n [{\n            'v': 127,\n            'f': \"127\",\n        },\n{\n            'v': 54,\n            'f': \"54\",\n        },\n\"male\",\n{\n            'v': 4,\n            'f': \"4\",\n        },\n{\n            'v': 110,\n            'f': \"110\",\n        },\n{\n            'v': 239,\n            'f': \"239\",\n        },\n{\n            'v': 0,\n            'f': \"0\",\n        },\n{\n            'v': 0,\n            'f': \"0\",\n        },\n{\n            'v': 126,\n            'f': \"126\",\n        },\n{\n            'v': 1,\n            'f': \"1\",\n        },\n{\n            'v': 2.8,\n            'f': \"2.8\",\n        },\n{\n            'v': 2,\n            'f': \"2\",\n        },\n{\n            'v': 1.0,\n            'f': \"1.0\",\n        },\n{\n            'v': 7.0,\n            'f': \"7.0\",\n        },\n{\n            'v': 3,\n            'f': \"3\",\n        },\n{\n            'v': 1,\n            'f': \"1\",\n        },\n\"yes\"],\n [{\n            'v': 128,\n            'f': \"128\",\n        },\n{\n            'v': 44,\n            'f': \"44\",\n        },\n\"male\",\n{\n            'v': 2,\n            'f': \"2\",\n        },\n{\n            'v': 120,\n            'f': \"120\",\n        },\n{\n            'v': 220,\n            'f': \"220\",\n        },\n{\n            'v': 0,\n            'f': \"0\",\n        },\n{\n            'v': 0,\n            'f': \"0\",\n        },\n{\n            'v': 170,\n            'f': \"170\",\n        },\n{\n            'v': 0,\n            'f': \"0\",\n        },\n{\n            'v': 0.0,\n            'f': \"0.0\",\n        },\n{\n            'v': 1,\n            'f': \"1\",\n        },\n{\n            'v': 0.0,\n            'f': \"0.0\",\n        },\n{\n            'v': 3.0,\n            'f': \"3.0\",\n        },\n{\n            'v': 0,\n            'f': \"0\",\n        },\n{\n            'v': 0,\n            'f': \"0\",\n        },\n\"no\"],\n [{\n            'v': 129,\n            'f': \"129\",\n        },\n{\n            'v': 62,\n            'f': \"62\",\n        },\n\"female\",\n{\n            'v': 4,\n            'f': \"4\",\n        },\n{\n            'v': 124,\n            'f': \"124\",\n        },\n{\n            'v': 209,\n            'f': \"209\",\n        },\n{\n            'v': 0,\n            'f': \"0\",\n        },\n{\n            'v': 0,\n            'f': \"0\",\n        },\n{\n            'v': 163,\n            'f': \"163\",\n        },\n{\n            'v': 0,\n            'f': \"0\",\n        },\n{\n            'v': 0.0,\n            'f': \"0.0\",\n        },\n{\n            'v': 1,\n            'f': \"1\",\n        },\n{\n            'v': 0.0,\n            'f': \"0.0\",\n        },\n{\n            'v': 3.0,\n            'f': \"3.0\",\n        },\n{\n            'v': 0,\n            'f': \"0\",\n        },\n{\n            'v': 0,\n            'f': \"0\",\n        },\n\"no\"],\n [{\n            'v': 130,\n            'f': \"130\",\n        },\n{\n            'v': 54,\n            'f': \"54\",\n        },\n\"male\",\n{\n            'v': 3,\n            'f': \"3\",\n        },\n{\n            'v': 120,\n            'f': \"120\",\n        },\n{\n            'v': 258,\n            'f': \"258\",\n        },\n{\n            'v': 0,\n            'f': \"0\",\n        },\n{\n            'v': 2,\n            'f': \"2\",\n        },\n{\n            'v': 147,\n            'f': \"147\",\n        },\n{\n            'v': 0,\n            'f': \"0\",\n        },\n{\n            'v': 0.4,\n            'f': \"0.4\",\n        },\n{\n            'v': 2,\n            'f': \"2\",\n        },\n{\n            'v': 0.0,\n            'f': \"0.0\",\n        },\n{\n            'v': 7.0,\n            'f': \"7.0\",\n        },\n{\n            'v': 0,\n            'f': \"0\",\n        },\n{\n            'v': 0,\n            'f': \"0\",\n        },\n\"no\"],\n [{\n            'v': 131,\n            'f': \"131\",\n        },\n{\n            'v': 51,\n            'f': \"51\",\n        },\n\"male\",\n{\n            'v': 3,\n            'f': \"3\",\n        },\n{\n            'v': 94,\n            'f': \"94\",\n        },\n{\n            'v': 227,\n            'f': \"227\",\n        },\n{\n            'v': 0,\n            'f': \"0\",\n        },\n{\n            'v': 0,\n            'f': \"0\",\n        },\n{\n            'v': 154,\n            'f': \"154\",\n        },\n{\n            'v': 1,\n            'f': \"1\",\n        },\n{\n            'v': 0.0,\n            'f': \"0.0\",\n        },\n{\n            'v': 1,\n            'f': \"1\",\n        },\n{\n            'v': 1.0,\n            'f': \"1.0\",\n        },\n{\n            'v': 7.0,\n            'f': \"7.0\",\n        },\n{\n            'v': 0,\n            'f': \"0\",\n        },\n{\n            'v': 1,\n            'f': \"1\",\n        },\n\"no\"],\n [{\n            'v': 132,\n            'f': \"132\",\n        },\n{\n            'v': 29,\n            'f': \"29\",\n        },\n\"male\",\n{\n            'v': 2,\n            'f': \"2\",\n        },\n{\n            'v': 130,\n            'f': \"130\",\n        },\n{\n            'v': 204,\n            'f': \"204\",\n        },\n{\n            'v': 0,\n            'f': \"0\",\n        },\n{\n            'v': 2,\n            'f': \"2\",\n        },\n{\n            'v': 202,\n            'f': \"202\",\n        },\n{\n            'v': 0,\n            'f': \"0\",\n        },\n{\n            'v': 0.0,\n            'f': \"0.0\",\n        },\n{\n            'v': 1,\n            'f': \"1\",\n        },\n{\n            'v': 0.0,\n            'f': \"0.0\",\n        },\n{\n            'v': 3.0,\n            'f': \"3.0\",\n        },\n{\n            'v': 0,\n            'f': \"0\",\n        },\n{\n            'v': 0,\n            'f': \"0\",\n        },\n\"no\"],\n [{\n            'v': 133,\n            'f': \"133\",\n        },\n{\n            'v': 51,\n            'f': \"51\",\n        },\n\"male\",\n{\n            'v': 4,\n            'f': \"4\",\n        },\n{\n            'v': 140,\n            'f': \"140\",\n        },\n{\n            'v': 261,\n            'f': \"261\",\n        },\n{\n            'v': 0,\n            'f': \"0\",\n        },\n{\n            'v': 2,\n            'f': \"2\",\n        },\n{\n            'v': 186,\n            'f': \"186\",\n        },\n{\n            'v': 1,\n            'f': \"1\",\n        },\n{\n            'v': 0.0,\n            'f': \"0.0\",\n        },\n{\n            'v': 1,\n            'f': \"1\",\n        },\n{\n            'v': 0.0,\n            'f': \"0.0\",\n        },\n{\n            'v': 3.0,\n            'f': \"3.0\",\n        },\n{\n            'v': 0,\n            'f': \"0\",\n        },\n{\n            'v': 1,\n            'f': \"1\",\n        },\n\"no\"],\n [{\n            'v': 134,\n            'f': \"134\",\n        },\n{\n            'v': 43,\n            'f': \"43\",\n        },\n\"female\",\n{\n            'v': 3,\n            'f': \"3\",\n        },\n{\n            'v': 122,\n            'f': \"122\",\n        },\n{\n            'v': 213,\n            'f': \"213\",\n        },\n{\n            'v': 0,\n            'f': \"0\",\n        },\n{\n            'v': 0,\n            'f': \"0\",\n        },\n{\n            'v': 165,\n            'f': \"165\",\n        },\n{\n            'v': 0,\n            'f': \"0\",\n        },\n{\n            'v': 0.2,\n            'f': \"0.2\",\n        },\n{\n            'v': 2,\n            'f': \"2\",\n        },\n{\n            'v': 0.0,\n            'f': \"0.0\",\n        },\n{\n            'v': 3.0,\n            'f': \"3.0\",\n        },\n{\n            'v': 0,\n            'f': \"0\",\n        },\n{\n            'v': 0,\n            'f': \"0\",\n        },\n\"no\"],\n [{\n            'v': 135,\n            'f': \"135\",\n        },\n{\n            'v': 55,\n            'f': \"55\",\n        },\n\"female\",\n{\n            'v': 2,\n            'f': \"2\",\n        },\n{\n            'v': 135,\n            'f': \"135\",\n        },\n{\n            'v': 250,\n            'f': \"250\",\n        },\n{\n            'v': 0,\n            'f': \"0\",\n        },\n{\n            'v': 2,\n            'f': \"2\",\n        },\n{\n            'v': 161,\n            'f': \"161\",\n        },\n{\n            'v': 0,\n            'f': \"0\",\n        },\n{\n            'v': 1.4,\n            'f': \"1.4\",\n        },\n{\n            'v': 2,\n            'f': \"2\",\n        },\n{\n            'v': 0.0,\n            'f': \"0.0\",\n        },\n{\n            'v': 3.0,\n            'f': \"3.0\",\n        },\n{\n            'v': 0,\n            'f': \"0\",\n        },\n{\n            'v': 0,\n            'f': \"0\",\n        },\n\"no\"],\n [{\n            'v': 136,\n            'f': \"136\",\n        },\n{\n            'v': 70,\n            'f': \"70\",\n        },\n\"male\",\n{\n            'v': 4,\n            'f': \"4\",\n        },\n{\n            'v': 145,\n            'f': \"145\",\n        },\n{\n            'v': 174,\n            'f': \"174\",\n        },\n{\n            'v': 0,\n            'f': \"0\",\n        },\n{\n            'v': 0,\n            'f': \"0\",\n        },\n{\n            'v': 125,\n            'f': \"125\",\n        },\n{\n            'v': 1,\n            'f': \"1\",\n        },\n{\n            'v': 2.6,\n            'f': \"2.6\",\n        },\n{\n            'v': 3,\n            'f': \"3\",\n        },\n{\n            'v': 0.0,\n            'f': \"0.0\",\n        },\n{\n            'v': 7.0,\n            'f': \"7.0\",\n        },\n{\n            'v': 4,\n            'f': \"4\",\n        },\n{\n            'v': 1,\n            'f': \"1\",\n        },\n\"yes\"],\n [{\n            'v': 137,\n            'f': \"137\",\n        },\n{\n            'v': 62,\n            'f': \"62\",\n        },\n\"male\",\n{\n            'v': 2,\n            'f': \"2\",\n        },\n{\n            'v': 120,\n            'f': \"120\",\n        },\n{\n            'v': 281,\n            'f': \"281\",\n        },\n{\n            'v': 0,\n            'f': \"0\",\n        },\n{\n            'v': 2,\n            'f': \"2\",\n        },\n{\n            'v': 103,\n            'f': \"103\",\n        },\n{\n            'v': 0,\n            'f': \"0\",\n        },\n{\n            'v': 1.4,\n            'f': \"1.4\",\n        },\n{\n            'v': 2,\n            'f': \"2\",\n        },\n{\n            'v': 1.0,\n            'f': \"1.0\",\n        },\n{\n            'v': 7.0,\n            'f': \"7.0\",\n        },\n{\n            'v': 3,\n            'f': \"3\",\n        },\n{\n            'v': 0,\n            'f': \"0\",\n        },\n\"yes\"],\n [{\n            'v': 138,\n            'f': \"138\",\n        },\n{\n            'v': 35,\n            'f': \"35\",\n        },\n\"male\",\n{\n            'v': 4,\n            'f': \"4\",\n        },\n{\n            'v': 120,\n            'f': \"120\",\n        },\n{\n            'v': 198,\n            'f': \"198\",\n        },\n{\n            'v': 0,\n            'f': \"0\",\n        },\n{\n            'v': 0,\n            'f': \"0\",\n        },\n{\n            'v': 130,\n            'f': \"130\",\n        },\n{\n            'v': 1,\n            'f': \"1\",\n        },\n{\n            'v': 1.6,\n            'f': \"1.6\",\n        },\n{\n            'v': 2,\n            'f': \"2\",\n        },\n{\n            'v': 0.0,\n            'f': \"0.0\",\n        },\n{\n            'v': 7.0,\n            'f': \"7.0\",\n        },\n{\n            'v': 1,\n            'f': \"1\",\n        },\n{\n            'v': 1,\n            'f': \"1\",\n        },\n\"yes\"],\n [{\n            'v': 139,\n            'f': \"139\",\n        },\n{\n            'v': 51,\n            'f': \"51\",\n        },\n\"male\",\n{\n            'v': 3,\n            'f': \"3\",\n        },\n{\n            'v': 125,\n            'f': \"125\",\n        },\n{\n            'v': 245,\n            'f': \"245\",\n        },\n{\n            'v': 1,\n            'f': \"1\",\n        },\n{\n            'v': 2,\n            'f': \"2\",\n        },\n{\n            'v': 166,\n            'f': \"166\",\n        },\n{\n            'v': 0,\n            'f': \"0\",\n        },\n{\n            'v': 2.4,\n            'f': \"2.4\",\n        },\n{\n            'v': 2,\n            'f': \"2\",\n        },\n{\n            'v': 0.0,\n            'f': \"0.0\",\n        },\n{\n            'v': 3.0,\n            'f': \"3.0\",\n        },\n{\n            'v': 0,\n            'f': \"0\",\n        },\n{\n            'v': 0,\n            'f': \"0\",\n        },\n\"no\"],\n [{\n            'v': 140,\n            'f': \"140\",\n        },\n{\n            'v': 59,\n            'f': \"59\",\n        },\n\"male\",\n{\n            'v': 2,\n            'f': \"2\",\n        },\n{\n            'v': 140,\n            'f': \"140\",\n        },\n{\n            'v': 221,\n            'f': \"221\",\n        },\n{\n            'v': 0,\n            'f': \"0\",\n        },\n{\n            'v': 0,\n            'f': \"0\",\n        },\n{\n            'v': 164,\n            'f': \"164\",\n        },\n{\n            'v': 1,\n            'f': \"1\",\n        },\n{\n            'v': 0.0,\n            'f': \"0.0\",\n        },\n{\n            'v': 1,\n            'f': \"1\",\n        },\n{\n            'v': 0.0,\n            'f': \"0.0\",\n        },\n{\n            'v': 3.0,\n            'f': \"3.0\",\n        },\n{\n            'v': 0,\n            'f': \"0\",\n        },\n{\n            'v': 1,\n            'f': \"1\",\n        },\n\"no\"],\n [{\n            'v': 141,\n            'f': \"141\",\n        },\n{\n            'v': 59,\n            'f': \"59\",\n        },\n\"male\",\n{\n            'v': 1,\n            'f': \"1\",\n        },\n{\n            'v': 170,\n            'f': \"170\",\n        },\n{\n            'v': 288,\n            'f': \"288\",\n        },\n{\n            'v': 0,\n            'f': \"0\",\n        },\n{\n            'v': 2,\n            'f': \"2\",\n        },\n{\n            'v': 159,\n            'f': \"159\",\n        },\n{\n            'v': 0,\n            'f': \"0\",\n        },\n{\n            'v': 0.2,\n            'f': \"0.2\",\n        },\n{\n            'v': 2,\n            'f': \"2\",\n        },\n{\n            'v': 0.0,\n            'f': \"0.0\",\n        },\n{\n            'v': 7.0,\n            'f': \"7.0\",\n        },\n{\n            'v': 1,\n            'f': \"1\",\n        },\n{\n            'v': 0,\n            'f': \"0\",\n        },\n\"yes\"],\n [{\n            'v': 142,\n            'f': \"142\",\n        },\n{\n            'v': 52,\n            'f': \"52\",\n        },\n\"male\",\n{\n            'v': 2,\n            'f': \"2\",\n        },\n{\n            'v': 128,\n            'f': \"128\",\n        },\n{\n            'v': 205,\n            'f': \"205\",\n        },\n{\n            'v': 1,\n            'f': \"1\",\n        },\n{\n            'v': 0,\n            'f': \"0\",\n        },\n{\n            'v': 184,\n            'f': \"184\",\n        },\n{\n            'v': 0,\n            'f': \"0\",\n        },\n{\n            'v': 0.0,\n            'f': \"0.0\",\n        },\n{\n            'v': 1,\n            'f': \"1\",\n        },\n{\n            'v': 0.0,\n            'f': \"0.0\",\n        },\n{\n            'v': 3.0,\n            'f': \"3.0\",\n        },\n{\n            'v': 0,\n            'f': \"0\",\n        },\n{\n            'v': 0,\n            'f': \"0\",\n        },\n\"no\"],\n [{\n            'v': 143,\n            'f': \"143\",\n        },\n{\n            'v': 64,\n            'f': \"64\",\n        },\n\"male\",\n{\n            'v': 3,\n            'f': \"3\",\n        },\n{\n            'v': 125,\n            'f': \"125\",\n        },\n{\n            'v': 309,\n            'f': \"309\",\n        },\n{\n            'v': 0,\n            'f': \"0\",\n        },\n{\n            'v': 0,\n            'f': \"0\",\n        },\n{\n            'v': 131,\n            'f': \"131\",\n        },\n{\n            'v': 1,\n            'f': \"1\",\n        },\n{\n            'v': 1.8,\n            'f': \"1.8\",\n        },\n{\n            'v': 2,\n            'f': \"2\",\n        },\n{\n            'v': 0.0,\n            'f': \"0.0\",\n        },\n{\n            'v': 7.0,\n            'f': \"7.0\",\n        },\n{\n            'v': 1,\n            'f': \"1\",\n        },\n{\n            'v': 1,\n            'f': \"1\",\n        },\n\"yes\"],\n [{\n            'v': 144,\n            'f': \"144\",\n        },\n{\n            'v': 58,\n            'f': \"58\",\n        },\n\"male\",\n{\n            'v': 3,\n            'f': \"3\",\n        },\n{\n            'v': 105,\n            'f': \"105\",\n        },\n{\n            'v': 240,\n            'f': \"240\",\n        },\n{\n            'v': 0,\n            'f': \"0\",\n        },\n{\n            'v': 2,\n            'f': \"2\",\n        },\n{\n            'v': 154,\n            'f': \"154\",\n        },\n{\n            'v': 1,\n            'f': \"1\",\n        },\n{\n            'v': 0.6,\n            'f': \"0.6\",\n        },\n{\n            'v': 2,\n            'f': \"2\",\n        },\n{\n            'v': 0.0,\n            'f': \"0.0\",\n        },\n{\n            'v': 7.0,\n            'f': \"7.0\",\n        },\n{\n            'v': 0,\n            'f': \"0\",\n        },\n{\n            'v': 1,\n            'f': \"1\",\n        },\n\"no\"],\n [{\n            'v': 145,\n            'f': \"145\",\n        },\n{\n            'v': 47,\n            'f': \"47\",\n        },\n\"male\",\n{\n            'v': 3,\n            'f': \"3\",\n        },\n{\n            'v': 108,\n            'f': \"108\",\n        },\n{\n            'v': 243,\n            'f': \"243\",\n        },\n{\n            'v': 0,\n            'f': \"0\",\n        },\n{\n            'v': 0,\n            'f': \"0\",\n        },\n{\n            'v': 152,\n            'f': \"152\",\n        },\n{\n            'v': 0,\n            'f': \"0\",\n        },\n{\n            'v': 0.0,\n            'f': \"0.0\",\n        },\n{\n            'v': 1,\n            'f': \"1\",\n        },\n{\n            'v': 0.0,\n            'f': \"0.0\",\n        },\n{\n            'v': 3.0,\n            'f': \"3.0\",\n        },\n{\n            'v': 1,\n            'f': \"1\",\n        },\n{\n            'v': 0,\n            'f': \"0\",\n        },\n\"yes\"],\n [{\n            'v': 146,\n            'f': \"146\",\n        },\n{\n            'v': 57,\n            'f': \"57\",\n        },\n\"male\",\n{\n            'v': 4,\n            'f': \"4\",\n        },\n{\n            'v': 165,\n            'f': \"165\",\n        },\n{\n            'v': 289,\n            'f': \"289\",\n        },\n{\n            'v': 1,\n            'f': \"1\",\n        },\n{\n            'v': 2,\n            'f': \"2\",\n        },\n{\n            'v': 124,\n            'f': \"124\",\n        },\n{\n            'v': 0,\n            'f': \"0\",\n        },\n{\n            'v': 1.0,\n            'f': \"1.0\",\n        },\n{\n            'v': 2,\n            'f': \"2\",\n        },\n{\n            'v': 3.0,\n            'f': \"3.0\",\n        },\n{\n            'v': 7.0,\n            'f': \"7.0\",\n        },\n{\n            'v': 4,\n            'f': \"4\",\n        },\n{\n            'v': 0,\n            'f': \"0\",\n        },\n\"yes\"],\n [{\n            'v': 147,\n            'f': \"147\",\n        },\n{\n            'v': 41,\n            'f': \"41\",\n        },\n\"male\",\n{\n            'v': 3,\n            'f': \"3\",\n        },\n{\n            'v': 112,\n            'f': \"112\",\n        },\n{\n            'v': 250,\n            'f': \"250\",\n        },\n{\n            'v': 0,\n            'f': \"0\",\n        },\n{\n            'v': 0,\n            'f': \"0\",\n        },\n{\n            'v': 179,\n            'f': \"179\",\n        },\n{\n            'v': 0,\n            'f': \"0\",\n        },\n{\n            'v': 0.0,\n            'f': \"0.0\",\n        },\n{\n            'v': 1,\n            'f': \"1\",\n        },\n{\n            'v': 0.0,\n            'f': \"0.0\",\n        },\n{\n            'v': 3.0,\n            'f': \"3.0\",\n        },\n{\n            'v': 0,\n            'f': \"0\",\n        },\n{\n            'v': 0,\n            'f': \"0\",\n        },\n\"no\"],\n [{\n            'v': 148,\n            'f': \"148\",\n        },\n{\n            'v': 45,\n            'f': \"45\",\n        },\n\"male\",\n{\n            'v': 2,\n            'f': \"2\",\n        },\n{\n            'v': 128,\n            'f': \"128\",\n        },\n{\n            'v': 308,\n            'f': \"308\",\n        },\n{\n            'v': 0,\n            'f': \"0\",\n        },\n{\n            'v': 2,\n            'f': \"2\",\n        },\n{\n            'v': 170,\n            'f': \"170\",\n        },\n{\n            'v': 0,\n            'f': \"0\",\n        },\n{\n            'v': 0.0,\n            'f': \"0.0\",\n        },\n{\n            'v': 1,\n            'f': \"1\",\n        },\n{\n            'v': 0.0,\n            'f': \"0.0\",\n        },\n{\n            'v': 3.0,\n            'f': \"3.0\",\n        },\n{\n            'v': 0,\n            'f': \"0\",\n        },\n{\n            'v': 0,\n            'f': \"0\",\n        },\n\"no\"],\n [{\n            'v': 149,\n            'f': \"149\",\n        },\n{\n            'v': 60,\n            'f': \"60\",\n        },\n\"female\",\n{\n            'v': 3,\n            'f': \"3\",\n        },\n{\n            'v': 102,\n            'f': \"102\",\n        },\n{\n            'v': 318,\n            'f': \"318\",\n        },\n{\n            'v': 0,\n            'f': \"0\",\n        },\n{\n            'v': 0,\n            'f': \"0\",\n        },\n{\n            'v': 160,\n            'f': \"160\",\n        },\n{\n            'v': 0,\n            'f': \"0\",\n        },\n{\n            'v': 0.0,\n            'f': \"0.0\",\n        },\n{\n            'v': 1,\n            'f': \"1\",\n        },\n{\n            'v': 1.0,\n            'f': \"1.0\",\n        },\n{\n            'v': 3.0,\n            'f': \"3.0\",\n        },\n{\n            'v': 0,\n            'f': \"0\",\n        },\n{\n            'v': 0,\n            'f': \"0\",\n        },\n\"no\"],\n [{\n            'v': 150,\n            'f': \"150\",\n        },\n{\n            'v': 52,\n            'f': \"52\",\n        },\n\"male\",\n{\n            'v': 1,\n            'f': \"1\",\n        },\n{\n            'v': 152,\n            'f': \"152\",\n        },\n{\n            'v': 298,\n            'f': \"298\",\n        },\n{\n            'v': 1,\n            'f': \"1\",\n        },\n{\n            'v': 0,\n            'f': \"0\",\n        },\n{\n            'v': 178,\n            'f': \"178\",\n        },\n{\n            'v': 0,\n            'f': \"0\",\n        },\n{\n            'v': 1.2,\n            'f': \"1.2\",\n        },\n{\n            'v': 2,\n            'f': \"2\",\n        },\n{\n            'v': 0.0,\n            'f': \"0.0\",\n        },\n{\n            'v': 7.0,\n            'f': \"7.0\",\n        },\n{\n            'v': 0,\n            'f': \"0\",\n        },\n{\n            'v': 0,\n            'f': \"0\",\n        },\n\"no\"],\n [{\n            'v': 151,\n            'f': \"151\",\n        },\n{\n            'v': 42,\n            'f': \"42\",\n        },\n\"female\",\n{\n            'v': 4,\n            'f': \"4\",\n        },\n{\n            'v': 102,\n            'f': \"102\",\n        },\n{\n            'v': 265,\n            'f': \"265\",\n        },\n{\n            'v': 0,\n            'f': \"0\",\n        },\n{\n            'v': 2,\n            'f': \"2\",\n        },\n{\n            'v': 122,\n            'f': \"122\",\n        },\n{\n            'v': 0,\n            'f': \"0\",\n        },\n{\n            'v': 0.6,\n            'f': \"0.6\",\n        },\n{\n            'v': 2,\n            'f': \"2\",\n        },\n{\n            'v': 0.0,\n            'f': \"0.0\",\n        },\n{\n            'v': 3.0,\n            'f': \"3.0\",\n        },\n{\n            'v': 0,\n            'f': \"0\",\n        },\n{\n            'v': 0,\n            'f': \"0\",\n        },\n\"no\"],\n [{\n            'v': 152,\n            'f': \"152\",\n        },\n{\n            'v': 67,\n            'f': \"67\",\n        },\n\"female\",\n{\n            'v': 3,\n            'f': \"3\",\n        },\n{\n            'v': 115,\n            'f': \"115\",\n        },\n{\n            'v': 564,\n            'f': \"564\",\n        },\n{\n            'v': 0,\n            'f': \"0\",\n        },\n{\n            'v': 2,\n            'f': \"2\",\n        },\n{\n            'v': 160,\n            'f': \"160\",\n        },\n{\n            'v': 0,\n            'f': \"0\",\n        },\n{\n            'v': 1.6,\n            'f': \"1.6\",\n        },\n{\n            'v': 2,\n            'f': \"2\",\n        },\n{\n            'v': 0.0,\n            'f': \"0.0\",\n        },\n{\n            'v': 7.0,\n            'f': \"7.0\",\n        },\n{\n            'v': 0,\n            'f': \"0\",\n        },\n{\n            'v': 0,\n            'f': \"0\",\n        },\n\"no\"],\n [{\n            'v': 153,\n            'f': \"153\",\n        },\n{\n            'v': 55,\n            'f': \"55\",\n        },\n\"male\",\n{\n            'v': 4,\n            'f': \"4\",\n        },\n{\n            'v': 160,\n            'f': \"160\",\n        },\n{\n            'v': 289,\n            'f': \"289\",\n        },\n{\n            'v': 0,\n            'f': \"0\",\n        },\n{\n            'v': 2,\n            'f': \"2\",\n        },\n{\n            'v': 145,\n            'f': \"145\",\n        },\n{\n            'v': 1,\n            'f': \"1\",\n        },\n{\n            'v': 0.8,\n            'f': \"0.8\",\n        },\n{\n            'v': 2,\n            'f': \"2\",\n        },\n{\n            'v': 1.0,\n            'f': \"1.0\",\n        },\n{\n            'v': 7.0,\n            'f': \"7.0\",\n        },\n{\n            'v': 4,\n            'f': \"4\",\n        },\n{\n            'v': 1,\n            'f': \"1\",\n        },\n\"yes\"],\n [{\n            'v': 154,\n            'f': \"154\",\n        },\n{\n            'v': 64,\n            'f': \"64\",\n        },\n\"male\",\n{\n            'v': 4,\n            'f': \"4\",\n        },\n{\n            'v': 120,\n            'f': \"120\",\n        },\n{\n            'v': 246,\n            'f': \"246\",\n        },\n{\n            'v': 0,\n            'f': \"0\",\n        },\n{\n            'v': 2,\n            'f': \"2\",\n        },\n{\n            'v': 96,\n            'f': \"96\",\n        },\n{\n            'v': 1,\n            'f': \"1\",\n        },\n{\n            'v': 2.2,\n            'f': \"2.2\",\n        },\n{\n            'v': 3,\n            'f': \"3\",\n        },\n{\n            'v': 1.0,\n            'f': \"1.0\",\n        },\n{\n            'v': 3.0,\n            'f': \"3.0\",\n        },\n{\n            'v': 3,\n            'f': \"3\",\n        },\n{\n            'v': 1,\n            'f': \"1\",\n        },\n\"yes\"],\n [{\n            'v': 155,\n            'f': \"155\",\n        },\n{\n            'v': 70,\n            'f': \"70\",\n        },\n\"male\",\n{\n            'v': 4,\n            'f': \"4\",\n        },\n{\n            'v': 130,\n            'f': \"130\",\n        },\n{\n            'v': 322,\n            'f': \"322\",\n        },\n{\n            'v': 0,\n            'f': \"0\",\n        },\n{\n            'v': 2,\n            'f': \"2\",\n        },\n{\n            'v': 109,\n            'f': \"109\",\n        },\n{\n            'v': 0,\n            'f': \"0\",\n        },\n{\n            'v': 2.4,\n            'f': \"2.4\",\n        },\n{\n            'v': 2,\n            'f': \"2\",\n        },\n{\n            'v': 3.0,\n            'f': \"3.0\",\n        },\n{\n            'v': 3.0,\n            'f': \"3.0\",\n        },\n{\n            'v': 1,\n            'f': \"1\",\n        },\n{\n            'v': 0,\n            'f': \"0\",\n        },\n\"yes\"],\n [{\n            'v': 156,\n            'f': \"156\",\n        },\n{\n            'v': 51,\n            'f': \"51\",\n        },\n\"male\",\n{\n            'v': 4,\n            'f': \"4\",\n        },\n{\n            'v': 140,\n            'f': \"140\",\n        },\n{\n            'v': 299,\n            'f': \"299\",\n        },\n{\n            'v': 0,\n            'f': \"0\",\n        },\n{\n            'v': 0,\n            'f': \"0\",\n        },\n{\n            'v': 173,\n            'f': \"173\",\n        },\n{\n            'v': 1,\n            'f': \"1\",\n        },\n{\n            'v': 1.6,\n            'f': \"1.6\",\n        },\n{\n            'v': 1,\n            'f': \"1\",\n        },\n{\n            'v': 0.0,\n            'f': \"0.0\",\n        },\n{\n            'v': 7.0,\n            'f': \"7.0\",\n        },\n{\n            'v': 1,\n            'f': \"1\",\n        },\n{\n            'v': 1,\n            'f': \"1\",\n        },\n\"yes\"],\n [{\n            'v': 157,\n            'f': \"157\",\n        },\n{\n            'v': 58,\n            'f': \"58\",\n        },\n\"male\",\n{\n            'v': 4,\n            'f': \"4\",\n        },\n{\n            'v': 125,\n            'f': \"125\",\n        },\n{\n            'v': 300,\n            'f': \"300\",\n        },\n{\n            'v': 0,\n            'f': \"0\",\n        },\n{\n            'v': 2,\n            'f': \"2\",\n        },\n{\n            'v': 171,\n            'f': \"171\",\n        },\n{\n            'v': 0,\n            'f': \"0\",\n        },\n{\n            'v': 0.0,\n            'f': \"0.0\",\n        },\n{\n            'v': 1,\n            'f': \"1\",\n        },\n{\n            'v': 2.0,\n            'f': \"2.0\",\n        },\n{\n            'v': 7.0,\n            'f': \"7.0\",\n        },\n{\n            'v': 1,\n            'f': \"1\",\n        },\n{\n            'v': 0,\n            'f': \"0\",\n        },\n\"yes\"],\n [{\n            'v': 158,\n            'f': \"158\",\n        },\n{\n            'v': 60,\n            'f': \"60\",\n        },\n\"male\",\n{\n            'v': 4,\n            'f': \"4\",\n        },\n{\n            'v': 140,\n            'f': \"140\",\n        },\n{\n            'v': 293,\n            'f': \"293\",\n        },\n{\n            'v': 0,\n            'f': \"0\",\n        },\n{\n            'v': 2,\n            'f': \"2\",\n        },\n{\n            'v': 170,\n            'f': \"170\",\n        },\n{\n            'v': 0,\n            'f': \"0\",\n        },\n{\n            'v': 1.2,\n            'f': \"1.2\",\n        },\n{\n            'v': 2,\n            'f': \"2\",\n        },\n{\n            'v': 2.0,\n            'f': \"2.0\",\n        },\n{\n            'v': 7.0,\n            'f': \"7.0\",\n        },\n{\n            'v': 2,\n            'f': \"2\",\n        },\n{\n            'v': 0,\n            'f': \"0\",\n        },\n\"yes\"],\n [{\n            'v': 159,\n            'f': \"159\",\n        },\n{\n            'v': 68,\n            'f': \"68\",\n        },\n\"male\",\n{\n            'v': 3,\n            'f': \"3\",\n        },\n{\n            'v': 118,\n            'f': \"118\",\n        },\n{\n            'v': 277,\n            'f': \"277\",\n        },\n{\n            'v': 0,\n            'f': \"0\",\n        },\n{\n            'v': 0,\n            'f': \"0\",\n        },\n{\n            'v': 151,\n            'f': \"151\",\n        },\n{\n            'v': 0,\n            'f': \"0\",\n        },\n{\n            'v': 1.0,\n            'f': \"1.0\",\n        },\n{\n            'v': 1,\n            'f': \"1\",\n        },\n{\n            'v': 1.0,\n            'f': \"1.0\",\n        },\n{\n            'v': 7.0,\n            'f': \"7.0\",\n        },\n{\n            'v': 0,\n            'f': \"0\",\n        },\n{\n            'v': 0,\n            'f': \"0\",\n        },\n\"no\"],\n [{\n            'v': 160,\n            'f': \"160\",\n        },\n{\n            'v': 46,\n            'f': \"46\",\n        },\n\"male\",\n{\n            'v': 2,\n            'f': \"2\",\n        },\n{\n            'v': 101,\n            'f': \"101\",\n        },\n{\n            'v': 197,\n            'f': \"197\",\n        },\n{\n            'v': 1,\n            'f': \"1\",\n        },\n{\n            'v': 0,\n            'f': \"0\",\n        },\n{\n            'v': 156,\n            'f': \"156\",\n        },\n{\n            'v': 0,\n            'f': \"0\",\n        },\n{\n            'v': 0.0,\n            'f': \"0.0\",\n        },\n{\n            'v': 1,\n            'f': \"1\",\n        },\n{\n            'v': 0.0,\n            'f': \"0.0\",\n        },\n{\n            'v': 7.0,\n            'f': \"7.0\",\n        },\n{\n            'v': 0,\n            'f': \"0\",\n        },\n{\n            'v': 0,\n            'f': \"0\",\n        },\n\"no\"],\n [{\n            'v': 161,\n            'f': \"161\",\n        },\n{\n            'v': 77,\n            'f': \"77\",\n        },\n\"male\",\n{\n            'v': 4,\n            'f': \"4\",\n        },\n{\n            'v': 125,\n            'f': \"125\",\n        },\n{\n            'v': 304,\n            'f': \"304\",\n        },\n{\n            'v': 0,\n            'f': \"0\",\n        },\n{\n            'v': 2,\n            'f': \"2\",\n        },\n{\n            'v': 162,\n            'f': \"162\",\n        },\n{\n            'v': 1,\n            'f': \"1\",\n        },\n{\n            'v': 0.0,\n            'f': \"0.0\",\n        },\n{\n            'v': 1,\n            'f': \"1\",\n        },\n{\n            'v': 3.0,\n            'f': \"3.0\",\n        },\n{\n            'v': 3.0,\n            'f': \"3.0\",\n        },\n{\n            'v': 4,\n            'f': \"4\",\n        },\n{\n            'v': 1,\n            'f': \"1\",\n        },\n\"yes\"],\n [{\n            'v': 162,\n            'f': \"162\",\n        },\n{\n            'v': 54,\n            'f': \"54\",\n        },\n\"female\",\n{\n            'v': 3,\n            'f': \"3\",\n        },\n{\n            'v': 110,\n            'f': \"110\",\n        },\n{\n            'v': 214,\n            'f': \"214\",\n        },\n{\n            'v': 0,\n            'f': \"0\",\n        },\n{\n            'v': 0,\n            'f': \"0\",\n        },\n{\n            'v': 158,\n            'f': \"158\",\n        },\n{\n            'v': 0,\n            'f': \"0\",\n        },\n{\n            'v': 1.6,\n            'f': \"1.6\",\n        },\n{\n            'v': 2,\n            'f': \"2\",\n        },\n{\n            'v': 0.0,\n            'f': \"0.0\",\n        },\n{\n            'v': 3.0,\n            'f': \"3.0\",\n        },\n{\n            'v': 0,\n            'f': \"0\",\n        },\n{\n            'v': 0,\n            'f': \"0\",\n        },\n\"no\"],\n [{\n            'v': 163,\n            'f': \"163\",\n        },\n{\n            'v': 58,\n            'f': \"58\",\n        },\n\"female\",\n{\n            'v': 4,\n            'f': \"4\",\n        },\n{\n            'v': 100,\n            'f': \"100\",\n        },\n{\n            'v': 248,\n            'f': \"248\",\n        },\n{\n            'v': 0,\n            'f': \"0\",\n        },\n{\n            'v': 2,\n            'f': \"2\",\n        },\n{\n            'v': 122,\n            'f': \"122\",\n        },\n{\n            'v': 0,\n            'f': \"0\",\n        },\n{\n            'v': 1.0,\n            'f': \"1.0\",\n        },\n{\n            'v': 2,\n            'f': \"2\",\n        },\n{\n            'v': 0.0,\n            'f': \"0.0\",\n        },\n{\n            'v': 3.0,\n            'f': \"3.0\",\n        },\n{\n            'v': 0,\n            'f': \"0\",\n        },\n{\n            'v': 0,\n            'f': \"0\",\n        },\n\"no\"],\n [{\n            'v': 164,\n            'f': \"164\",\n        },\n{\n            'v': 48,\n            'f': \"48\",\n        },\n\"male\",\n{\n            'v': 3,\n            'f': \"3\",\n        },\n{\n            'v': 124,\n            'f': \"124\",\n        },\n{\n            'v': 255,\n            'f': \"255\",\n        },\n{\n            'v': 1,\n            'f': \"1\",\n        },\n{\n            'v': 0,\n            'f': \"0\",\n        },\n{\n            'v': 175,\n            'f': \"175\",\n        },\n{\n            'v': 0,\n            'f': \"0\",\n        },\n{\n            'v': 0.0,\n            'f': \"0.0\",\n        },\n{\n            'v': 1,\n            'f': \"1\",\n        },\n{\n            'v': 2.0,\n            'f': \"2.0\",\n        },\n{\n            'v': 3.0,\n            'f': \"3.0\",\n        },\n{\n            'v': 0,\n            'f': \"0\",\n        },\n{\n            'v': 0,\n            'f': \"0\",\n        },\n\"no\"],\n [{\n            'v': 165,\n            'f': \"165\",\n        },\n{\n            'v': 57,\n            'f': \"57\",\n        },\n\"male\",\n{\n            'v': 4,\n            'f': \"4\",\n        },\n{\n            'v': 132,\n            'f': \"132\",\n        },\n{\n            'v': 207,\n            'f': \"207\",\n        },\n{\n            'v': 0,\n            'f': \"0\",\n        },\n{\n            'v': 0,\n            'f': \"0\",\n        },\n{\n            'v': 168,\n            'f': \"168\",\n        },\n{\n            'v': 1,\n            'f': \"1\",\n        },\n{\n            'v': 0.0,\n            'f': \"0.0\",\n        },\n{\n            'v': 1,\n            'f': \"1\",\n        },\n{\n            'v': 0.0,\n            'f': \"0.0\",\n        },\n{\n            'v': 7.0,\n            'f': \"7.0\",\n        },\n{\n            'v': 0,\n            'f': \"0\",\n        },\n{\n            'v': 1,\n            'f': \"1\",\n        },\n\"no\"],\n [{\n            'v': 166,\n            'f': \"166\",\n        },\n{\n            'v': 52,\n            'f': \"52\",\n        },\n\"male\",\n{\n            'v': 3,\n            'f': \"3\",\n        },\n{\n            'v': 138,\n            'f': \"138\",\n        },\n{\n            'v': 223,\n            'f': \"223\",\n        },\n{\n            'v': 0,\n            'f': \"0\",\n        },\n{\n            'v': 0,\n            'f': \"0\",\n        },\n{\n            'v': 169,\n            'f': \"169\",\n        },\n{\n            'v': 0,\n            'f': \"0\",\n        },\n{\n            'v': 0.0,\n            'f': \"0.0\",\n        },\n{\n            'v': 1,\n            'f': \"1\",\n        },\n{\n            'v': NaN,\n            'f': \"NaN\",\n        },\n{\n            'v': 3.0,\n            'f': \"3.0\",\n        },\n{\n            'v': 0,\n            'f': \"0\",\n        },\n{\n            'v': 0,\n            'f': \"0\",\n        },\n\"no\"],\n [{\n            'v': 167,\n            'f': \"167\",\n        },\n{\n            'v': 54,\n            'f': \"54\",\n        },\n\"female\",\n{\n            'v': 2,\n            'f': \"2\",\n        },\n{\n            'v': 132,\n            'f': \"132\",\n        },\n{\n            'v': 288,\n            'f': \"288\",\n        },\n{\n            'v': 1,\n            'f': \"1\",\n        },\n{\n            'v': 2,\n            'f': \"2\",\n        },\n{\n            'v': 159,\n            'f': \"159\",\n        },\n{\n            'v': 1,\n            'f': \"1\",\n        },\n{\n            'v': 0.0,\n            'f': \"0.0\",\n        },\n{\n            'v': 1,\n            'f': \"1\",\n        },\n{\n            'v': 1.0,\n            'f': \"1.0\",\n        },\n{\n            'v': 3.0,\n            'f': \"3.0\",\n        },\n{\n            'v': 0,\n            'f': \"0\",\n        },\n{\n            'v': 1,\n            'f': \"1\",\n        },\n\"no\"],\n [{\n            'v': 168,\n            'f': \"168\",\n        },\n{\n            'v': 35,\n            'f': \"35\",\n        },\n\"male\",\n{\n            'v': 4,\n            'f': \"4\",\n        },\n{\n            'v': 126,\n            'f': \"126\",\n        },\n{\n            'v': 282,\n            'f': \"282\",\n        },\n{\n            'v': 0,\n            'f': \"0\",\n        },\n{\n            'v': 2,\n            'f': \"2\",\n        },\n{\n            'v': 156,\n            'f': \"156\",\n        },\n{\n            'v': 1,\n            'f': \"1\",\n        },\n{\n            'v': 0.0,\n            'f': \"0.0\",\n        },\n{\n            'v': 1,\n            'f': \"1\",\n        },\n{\n            'v': 0.0,\n            'f': \"0.0\",\n        },\n{\n            'v': 7.0,\n            'f': \"7.0\",\n        },\n{\n            'v': 1,\n            'f': \"1\",\n        },\n{\n            'v': 1,\n            'f': \"1\",\n        },\n\"yes\"],\n [{\n            'v': 169,\n            'f': \"169\",\n        },\n{\n            'v': 45,\n            'f': \"45\",\n        },\n\"female\",\n{\n            'v': 2,\n            'f': \"2\",\n        },\n{\n            'v': 112,\n            'f': \"112\",\n        },\n{\n            'v': 160,\n            'f': \"160\",\n        },\n{\n            'v': 0,\n            'f': \"0\",\n        },\n{\n            'v': 0,\n            'f': \"0\",\n        },\n{\n            'v': 138,\n            'f': \"138\",\n        },\n{\n            'v': 0,\n            'f': \"0\",\n        },\n{\n            'v': 0.0,\n            'f': \"0.0\",\n        },\n{\n            'v': 2,\n            'f': \"2\",\n        },\n{\n            'v': 0.0,\n            'f': \"0.0\",\n        },\n{\n            'v': 3.0,\n            'f': \"3.0\",\n        },\n{\n            'v': 0,\n            'f': \"0\",\n        },\n{\n            'v': 0,\n            'f': \"0\",\n        },\n\"no\"],\n [{\n            'v': 170,\n            'f': \"170\",\n        },\n{\n            'v': 70,\n            'f': \"70\",\n        },\n\"male\",\n{\n            'v': 3,\n            'f': \"3\",\n        },\n{\n            'v': 160,\n            'f': \"160\",\n        },\n{\n            'v': 269,\n            'f': \"269\",\n        },\n{\n            'v': 0,\n            'f': \"0\",\n        },\n{\n            'v': 0,\n            'f': \"0\",\n        },\n{\n            'v': 112,\n            'f': \"112\",\n        },\n{\n            'v': 1,\n            'f': \"1\",\n        },\n{\n            'v': 2.9,\n            'f': \"2.9\",\n        },\n{\n            'v': 2,\n            'f': \"2\",\n        },\n{\n            'v': 1.0,\n            'f': \"1.0\",\n        },\n{\n            'v': 7.0,\n            'f': \"7.0\",\n        },\n{\n            'v': 3,\n            'f': \"3\",\n        },\n{\n            'v': 1,\n            'f': \"1\",\n        },\n\"yes\"],\n [{\n            'v': 171,\n            'f': \"171\",\n        },\n{\n            'v': 53,\n            'f': \"53\",\n        },\n\"male\",\n{\n            'v': 4,\n            'f': \"4\",\n        },\n{\n            'v': 142,\n            'f': \"142\",\n        },\n{\n            'v': 226,\n            'f': \"226\",\n        },\n{\n            'v': 0,\n            'f': \"0\",\n        },\n{\n            'v': 2,\n            'f': \"2\",\n        },\n{\n            'v': 111,\n            'f': \"111\",\n        },\n{\n            'v': 1,\n            'f': \"1\",\n        },\n{\n            'v': 0.0,\n            'f': \"0.0\",\n        },\n{\n            'v': 1,\n            'f': \"1\",\n        },\n{\n            'v': 0.0,\n            'f': \"0.0\",\n        },\n{\n            'v': 7.0,\n            'f': \"7.0\",\n        },\n{\n            'v': 0,\n            'f': \"0\",\n        },\n{\n            'v': 1,\n            'f': \"1\",\n        },\n\"no\"],\n [{\n            'v': 172,\n            'f': \"172\",\n        },\n{\n            'v': 59,\n            'f': \"59\",\n        },\n\"female\",\n{\n            'v': 4,\n            'f': \"4\",\n        },\n{\n            'v': 174,\n            'f': \"174\",\n        },\n{\n            'v': 249,\n            'f': \"249\",\n        },\n{\n            'v': 0,\n            'f': \"0\",\n        },\n{\n            'v': 0,\n            'f': \"0\",\n        },\n{\n            'v': 143,\n            'f': \"143\",\n        },\n{\n            'v': 1,\n            'f': \"1\",\n        },\n{\n            'v': 0.0,\n            'f': \"0.0\",\n        },\n{\n            'v': 2,\n            'f': \"2\",\n        },\n{\n            'v': 0.0,\n            'f': \"0.0\",\n        },\n{\n            'v': 3.0,\n            'f': \"3.0\",\n        },\n{\n            'v': 1,\n            'f': \"1\",\n        },\n{\n            'v': 1,\n            'f': \"1\",\n        },\n\"yes\"],\n [{\n            'v': 173,\n            'f': \"173\",\n        },\n{\n            'v': 62,\n            'f': \"62\",\n        },\n\"female\",\n{\n            'v': 4,\n            'f': \"4\",\n        },\n{\n            'v': 140,\n            'f': \"140\",\n        },\n{\n            'v': 394,\n            'f': \"394\",\n        },\n{\n            'v': 0,\n            'f': \"0\",\n        },\n{\n            'v': 2,\n            'f': \"2\",\n        },\n{\n            'v': 157,\n            'f': \"157\",\n        },\n{\n            'v': 0,\n            'f': \"0\",\n        },\n{\n            'v': 1.2,\n            'f': \"1.2\",\n        },\n{\n            'v': 2,\n            'f': \"2\",\n        },\n{\n            'v': 0.0,\n            'f': \"0.0\",\n        },\n{\n            'v': 3.0,\n            'f': \"3.0\",\n        },\n{\n            'v': 0,\n            'f': \"0\",\n        },\n{\n            'v': 0,\n            'f': \"0\",\n        },\n\"no\"],\n [{\n            'v': 174,\n            'f': \"174\",\n        },\n{\n            'v': 64,\n            'f': \"64\",\n        },\n\"male\",\n{\n            'v': 4,\n            'f': \"4\",\n        },\n{\n            'v': 145,\n            'f': \"145\",\n        },\n{\n            'v': 212,\n            'f': \"212\",\n        },\n{\n            'v': 0,\n            'f': \"0\",\n        },\n{\n            'v': 2,\n            'f': \"2\",\n        },\n{\n            'v': 132,\n            'f': \"132\",\n        },\n{\n            'v': 0,\n            'f': \"0\",\n        },\n{\n            'v': 2.0,\n            'f': \"2.0\",\n        },\n{\n            'v': 2,\n            'f': \"2\",\n        },\n{\n            'v': 2.0,\n            'f': \"2.0\",\n        },\n{\n            'v': 6.0,\n            'f': \"6.0\",\n        },\n{\n            'v': 4,\n            'f': \"4\",\n        },\n{\n            'v': 0,\n            'f': \"0\",\n        },\n\"yes\"],\n [{\n            'v': 175,\n            'f': \"175\",\n        },\n{\n            'v': 57,\n            'f': \"57\",\n        },\n\"male\",\n{\n            'v': 4,\n            'f': \"4\",\n        },\n{\n            'v': 152,\n            'f': \"152\",\n        },\n{\n            'v': 274,\n            'f': \"274\",\n        },\n{\n            'v': 0,\n            'f': \"0\",\n        },\n{\n            'v': 0,\n            'f': \"0\",\n        },\n{\n            'v': 88,\n            'f': \"88\",\n        },\n{\n            'v': 1,\n            'f': \"1\",\n        },\n{\n            'v': 1.2,\n            'f': \"1.2\",\n        },\n{\n            'v': 2,\n            'f': \"2\",\n        },\n{\n            'v': 1.0,\n            'f': \"1.0\",\n        },\n{\n            'v': 7.0,\n            'f': \"7.0\",\n        },\n{\n            'v': 1,\n            'f': \"1\",\n        },\n{\n            'v': 1,\n            'f': \"1\",\n        },\n\"yes\"],\n [{\n            'v': 176,\n            'f': \"176\",\n        },\n{\n            'v': 52,\n            'f': \"52\",\n        },\n\"male\",\n{\n            'v': 4,\n            'f': \"4\",\n        },\n{\n            'v': 108,\n            'f': \"108\",\n        },\n{\n            'v': 233,\n            'f': \"233\",\n        },\n{\n            'v': 1,\n            'f': \"1\",\n        },\n{\n            'v': 0,\n            'f': \"0\",\n        },\n{\n            'v': 147,\n            'f': \"147\",\n        },\n{\n            'v': 0,\n            'f': \"0\",\n        },\n{\n            'v': 0.1,\n            'f': \"0.1\",\n        },\n{\n            'v': 1,\n            'f': \"1\",\n        },\n{\n            'v': 3.0,\n            'f': \"3.0\",\n        },\n{\n            'v': 7.0,\n            'f': \"7.0\",\n        },\n{\n            'v': 0,\n            'f': \"0\",\n        },\n{\n            'v': 0,\n            'f': \"0\",\n        },\n\"no\"],\n [{\n            'v': 177,\n            'f': \"177\",\n        },\n{\n            'v': 56,\n            'f': \"56\",\n        },\n\"male\",\n{\n            'v': 4,\n            'f': \"4\",\n        },\n{\n            'v': 132,\n            'f': \"132\",\n        },\n{\n            'v': 184,\n            'f': \"184\",\n        },\n{\n            'v': 0,\n            'f': \"0\",\n        },\n{\n            'v': 2,\n            'f': \"2\",\n        },\n{\n            'v': 105,\n            'f': \"105\",\n        },\n{\n            'v': 1,\n            'f': \"1\",\n        },\n{\n            'v': 2.1,\n            'f': \"2.1\",\n        },\n{\n            'v': 2,\n            'f': \"2\",\n        },\n{\n            'v': 1.0,\n            'f': \"1.0\",\n        },\n{\n            'v': 6.0,\n            'f': \"6.0\",\n        },\n{\n            'v': 1,\n            'f': \"1\",\n        },\n{\n            'v': 1,\n            'f': \"1\",\n        },\n\"yes\"],\n [{\n            'v': 178,\n            'f': \"178\",\n        },\n{\n            'v': 43,\n            'f': \"43\",\n        },\n\"male\",\n{\n            'v': 3,\n            'f': \"3\",\n        },\n{\n            'v': 130,\n            'f': \"130\",\n        },\n{\n            'v': 315,\n            'f': \"315\",\n        },\n{\n            'v': 0,\n            'f': \"0\",\n        },\n{\n            'v': 0,\n            'f': \"0\",\n        },\n{\n            'v': 162,\n            'f': \"162\",\n        },\n{\n            'v': 0,\n            'f': \"0\",\n        },\n{\n            'v': 1.9,\n            'f': \"1.9\",\n        },\n{\n            'v': 1,\n            'f': \"1\",\n        },\n{\n            'v': 1.0,\n            'f': \"1.0\",\n        },\n{\n            'v': 3.0,\n            'f': \"3.0\",\n        },\n{\n            'v': 0,\n            'f': \"0\",\n        },\n{\n            'v': 0,\n            'f': \"0\",\n        },\n\"no\"],\n [{\n            'v': 179,\n            'f': \"179\",\n        },\n{\n            'v': 53,\n            'f': \"53\",\n        },\n\"male\",\n{\n            'v': 3,\n            'f': \"3\",\n        },\n{\n            'v': 130,\n            'f': \"130\",\n        },\n{\n            'v': 246,\n            'f': \"246\",\n        },\n{\n            'v': 1,\n            'f': \"1\",\n        },\n{\n            'v': 2,\n            'f': \"2\",\n        },\n{\n            'v': 173,\n            'f': \"173\",\n        },\n{\n            'v': 0,\n            'f': \"0\",\n        },\n{\n            'v': 0.0,\n            'f': \"0.0\",\n        },\n{\n            'v': 1,\n            'f': \"1\",\n        },\n{\n            'v': 3.0,\n            'f': \"3.0\",\n        },\n{\n            'v': 3.0,\n            'f': \"3.0\",\n        },\n{\n            'v': 0,\n            'f': \"0\",\n        },\n{\n            'v': 0,\n            'f': \"0\",\n        },\n\"no\"],\n [{\n            'v': 180,\n            'f': \"180\",\n        },\n{\n            'v': 48,\n            'f': \"48\",\n        },\n\"male\",\n{\n            'v': 4,\n            'f': \"4\",\n        },\n{\n            'v': 124,\n            'f': \"124\",\n        },\n{\n            'v': 274,\n            'f': \"274\",\n        },\n{\n            'v': 0,\n            'f': \"0\",\n        },\n{\n            'v': 2,\n            'f': \"2\",\n        },\n{\n            'v': 166,\n            'f': \"166\",\n        },\n{\n            'v': 0,\n            'f': \"0\",\n        },\n{\n            'v': 0.5,\n            'f': \"0.5\",\n        },\n{\n            'v': 2,\n            'f': \"2\",\n        },\n{\n            'v': 0.0,\n            'f': \"0.0\",\n        },\n{\n            'v': 7.0,\n            'f': \"7.0\",\n        },\n{\n            'v': 3,\n            'f': \"3\",\n        },\n{\n            'v': 0,\n            'f': \"0\",\n        },\n\"yes\"],\n [{\n            'v': 181,\n            'f': \"181\",\n        },\n{\n            'v': 56,\n            'f': \"56\",\n        },\n\"female\",\n{\n            'v': 4,\n            'f': \"4\",\n        },\n{\n            'v': 134,\n            'f': \"134\",\n        },\n{\n            'v': 409,\n            'f': \"409\",\n        },\n{\n            'v': 0,\n            'f': \"0\",\n        },\n{\n            'v': 2,\n            'f': \"2\",\n        },\n{\n            'v': 150,\n            'f': \"150\",\n        },\n{\n            'v': 1,\n            'f': \"1\",\n        },\n{\n            'v': 1.9,\n            'f': \"1.9\",\n        },\n{\n            'v': 2,\n            'f': \"2\",\n        },\n{\n            'v': 2.0,\n            'f': \"2.0\",\n        },\n{\n            'v': 7.0,\n            'f': \"7.0\",\n        },\n{\n            'v': 2,\n            'f': \"2\",\n        },\n{\n            'v': 1,\n            'f': \"1\",\n        },\n\"yes\"],\n [{\n            'v': 182,\n            'f': \"182\",\n        },\n{\n            'v': 42,\n            'f': \"42\",\n        },\n\"male\",\n{\n            'v': 1,\n            'f': \"1\",\n        },\n{\n            'v': 148,\n            'f': \"148\",\n        },\n{\n            'v': 244,\n            'f': \"244\",\n        },\n{\n            'v': 0,\n            'f': \"0\",\n        },\n{\n            'v': 2,\n            'f': \"2\",\n        },\n{\n            'v': 178,\n            'f': \"178\",\n        },\n{\n            'v': 0,\n            'f': \"0\",\n        },\n{\n            'v': 0.8,\n            'f': \"0.8\",\n        },\n{\n            'v': 1,\n            'f': \"1\",\n        },\n{\n            'v': 2.0,\n            'f': \"2.0\",\n        },\n{\n            'v': 3.0,\n            'f': \"3.0\",\n        },\n{\n            'v': 0,\n            'f': \"0\",\n        },\n{\n            'v': 0,\n            'f': \"0\",\n        },\n\"no\"],\n [{\n            'v': 183,\n            'f': \"183\",\n        },\n{\n            'v': 59,\n            'f': \"59\",\n        },\n\"male\",\n{\n            'v': 1,\n            'f': \"1\",\n        },\n{\n            'v': 178,\n            'f': \"178\",\n        },\n{\n            'v': 270,\n            'f': \"270\",\n        },\n{\n            'v': 0,\n            'f': \"0\",\n        },\n{\n            'v': 2,\n            'f': \"2\",\n        },\n{\n            'v': 145,\n            'f': \"145\",\n        },\n{\n            'v': 0,\n            'f': \"0\",\n        },\n{\n            'v': 4.2,\n            'f': \"4.2\",\n        },\n{\n            'v': 3,\n            'f': \"3\",\n        },\n{\n            'v': 0.0,\n            'f': \"0.0\",\n        },\n{\n            'v': 7.0,\n            'f': \"7.0\",\n        },\n{\n            'v': 0,\n            'f': \"0\",\n        },\n{\n            'v': 0,\n            'f': \"0\",\n        },\n\"no\"],\n [{\n            'v': 184,\n            'f': \"184\",\n        },\n{\n            'v': 60,\n            'f': \"60\",\n        },\n\"female\",\n{\n            'v': 4,\n            'f': \"4\",\n        },\n{\n            'v': 158,\n            'f': \"158\",\n        },\n{\n            'v': 305,\n            'f': \"305\",\n        },\n{\n            'v': 0,\n            'f': \"0\",\n        },\n{\n            'v': 2,\n            'f': \"2\",\n        },\n{\n            'v': 161,\n            'f': \"161\",\n        },\n{\n            'v': 0,\n            'f': \"0\",\n        },\n{\n            'v': 0.0,\n            'f': \"0.0\",\n        },\n{\n            'v': 1,\n            'f': \"1\",\n        },\n{\n            'v': 0.0,\n            'f': \"0.0\",\n        },\n{\n            'v': 3.0,\n            'f': \"3.0\",\n        },\n{\n            'v': 1,\n            'f': \"1\",\n        },\n{\n            'v': 0,\n            'f': \"0\",\n        },\n\"yes\"],\n [{\n            'v': 185,\n            'f': \"185\",\n        },\n{\n            'v': 63,\n            'f': \"63\",\n        },\n\"female\",\n{\n            'v': 2,\n            'f': \"2\",\n        },\n{\n            'v': 140,\n            'f': \"140\",\n        },\n{\n            'v': 195,\n            'f': \"195\",\n        },\n{\n            'v': 0,\n            'f': \"0\",\n        },\n{\n            'v': 0,\n            'f': \"0\",\n        },\n{\n            'v': 179,\n            'f': \"179\",\n        },\n{\n            'v': 0,\n            'f': \"0\",\n        },\n{\n            'v': 0.0,\n            'f': \"0.0\",\n        },\n{\n            'v': 1,\n            'f': \"1\",\n        },\n{\n            'v': 2.0,\n            'f': \"2.0\",\n        },\n{\n            'v': 3.0,\n            'f': \"3.0\",\n        },\n{\n            'v': 0,\n            'f': \"0\",\n        },\n{\n            'v': 0,\n            'f': \"0\",\n        },\n\"no\"],\n [{\n            'v': 186,\n            'f': \"186\",\n        },\n{\n            'v': 42,\n            'f': \"42\",\n        },\n\"male\",\n{\n            'v': 3,\n            'f': \"3\",\n        },\n{\n            'v': 120,\n            'f': \"120\",\n        },\n{\n            'v': 240,\n            'f': \"240\",\n        },\n{\n            'v': 1,\n            'f': \"1\",\n        },\n{\n            'v': 0,\n            'f': \"0\",\n        },\n{\n            'v': 194,\n            'f': \"194\",\n        },\n{\n            'v': 0,\n            'f': \"0\",\n        },\n{\n            'v': 0.8,\n            'f': \"0.8\",\n        },\n{\n            'v': 3,\n            'f': \"3\",\n        },\n{\n            'v': 0.0,\n            'f': \"0.0\",\n        },\n{\n            'v': 7.0,\n            'f': \"7.0\",\n        },\n{\n            'v': 0,\n            'f': \"0\",\n        },\n{\n            'v': 0,\n            'f': \"0\",\n        },\n\"no\"],\n [{\n            'v': 187,\n            'f': \"187\",\n        },\n{\n            'v': 66,\n            'f': \"66\",\n        },\n\"male\",\n{\n            'v': 2,\n            'f': \"2\",\n        },\n{\n            'v': 160,\n            'f': \"160\",\n        },\n{\n            'v': 246,\n            'f': \"246\",\n        },\n{\n            'v': 0,\n            'f': \"0\",\n        },\n{\n            'v': 0,\n            'f': \"0\",\n        },\n{\n            'v': 120,\n            'f': \"120\",\n        },\n{\n            'v': 1,\n            'f': \"1\",\n        },\n{\n            'v': 0.0,\n            'f': \"0.0\",\n        },\n{\n            'v': 2,\n            'f': \"2\",\n        },\n{\n            'v': 3.0,\n            'f': \"3.0\",\n        },\n{\n            'v': 6.0,\n            'f': \"6.0\",\n        },\n{\n            'v': 2,\n            'f': \"2\",\n        },\n{\n            'v': 1,\n            'f': \"1\",\n        },\n\"yes\"],\n [{\n            'v': 188,\n            'f': \"188\",\n        },\n{\n            'v': 54,\n            'f': \"54\",\n        },\n\"male\",\n{\n            'v': 2,\n            'f': \"2\",\n        },\n{\n            'v': 192,\n            'f': \"192\",\n        },\n{\n            'v': 283,\n            'f': \"283\",\n        },\n{\n            'v': 0,\n            'f': \"0\",\n        },\n{\n            'v': 2,\n            'f': \"2\",\n        },\n{\n            'v': 195,\n            'f': \"195\",\n        },\n{\n            'v': 0,\n            'f': \"0\",\n        },\n{\n            'v': 0.0,\n            'f': \"0.0\",\n        },\n{\n            'v': 1,\n            'f': \"1\",\n        },\n{\n            'v': 1.0,\n            'f': \"1.0\",\n        },\n{\n            'v': 7.0,\n            'f': \"7.0\",\n        },\n{\n            'v': 1,\n            'f': \"1\",\n        },\n{\n            'v': 0,\n            'f': \"0\",\n        },\n\"yes\"],\n [{\n            'v': 189,\n            'f': \"189\",\n        },\n{\n            'v': 69,\n            'f': \"69\",\n        },\n\"male\",\n{\n            'v': 3,\n            'f': \"3\",\n        },\n{\n            'v': 140,\n            'f': \"140\",\n        },\n{\n            'v': 254,\n            'f': \"254\",\n        },\n{\n            'v': 0,\n            'f': \"0\",\n        },\n{\n            'v': 2,\n            'f': \"2\",\n        },\n{\n            'v': 146,\n            'f': \"146\",\n        },\n{\n            'v': 0,\n            'f': \"0\",\n        },\n{\n            'v': 2.0,\n            'f': \"2.0\",\n        },\n{\n            'v': 2,\n            'f': \"2\",\n        },\n{\n            'v': 3.0,\n            'f': \"3.0\",\n        },\n{\n            'v': 7.0,\n            'f': \"7.0\",\n        },\n{\n            'v': 2,\n            'f': \"2\",\n        },\n{\n            'v': 0,\n            'f': \"0\",\n        },\n\"yes\"],\n [{\n            'v': 190,\n            'f': \"190\",\n        },\n{\n            'v': 50,\n            'f': \"50\",\n        },\n\"male\",\n{\n            'v': 3,\n            'f': \"3\",\n        },\n{\n            'v': 129,\n            'f': \"129\",\n        },\n{\n            'v': 196,\n            'f': \"196\",\n        },\n{\n            'v': 0,\n            'f': \"0\",\n        },\n{\n            'v': 0,\n            'f': \"0\",\n        },\n{\n            'v': 163,\n            'f': \"163\",\n        },\n{\n            'v': 0,\n            'f': \"0\",\n        },\n{\n            'v': 0.0,\n            'f': \"0.0\",\n        },\n{\n            'v': 1,\n            'f': \"1\",\n        },\n{\n            'v': 0.0,\n            'f': \"0.0\",\n        },\n{\n            'v': 3.0,\n            'f': \"3.0\",\n        },\n{\n            'v': 0,\n            'f': \"0\",\n        },\n{\n            'v': 0,\n            'f': \"0\",\n        },\n\"no\"],\n [{\n            'v': 191,\n            'f': \"191\",\n        },\n{\n            'v': 51,\n            'f': \"51\",\n        },\n\"male\",\n{\n            'v': 4,\n            'f': \"4\",\n        },\n{\n            'v': 140,\n            'f': \"140\",\n        },\n{\n            'v': 298,\n            'f': \"298\",\n        },\n{\n            'v': 0,\n            'f': \"0\",\n        },\n{\n            'v': 0,\n            'f': \"0\",\n        },\n{\n            'v': 122,\n            'f': \"122\",\n        },\n{\n            'v': 1,\n            'f': \"1\",\n        },\n{\n            'v': 4.2,\n            'f': \"4.2\",\n        },\n{\n            'v': 2,\n            'f': \"2\",\n        },\n{\n            'v': 3.0,\n            'f': \"3.0\",\n        },\n{\n            'v': 7.0,\n            'f': \"7.0\",\n        },\n{\n            'v': 3,\n            'f': \"3\",\n        },\n{\n            'v': 1,\n            'f': \"1\",\n        },\n\"yes\"],\n [{\n            'v': 192,\n            'f': \"192\",\n        },\n{\n            'v': 43,\n            'f': \"43\",\n        },\n\"male\",\n{\n            'v': 4,\n            'f': \"4\",\n        },\n{\n            'v': 132,\n            'f': \"132\",\n        },\n{\n            'v': 247,\n            'f': \"247\",\n        },\n{\n            'v': 1,\n            'f': \"1\",\n        },\n{\n            'v': 2,\n            'f': \"2\",\n        },\n{\n            'v': 143,\n            'f': \"143\",\n        },\n{\n            'v': 1,\n            'f': \"1\",\n        },\n{\n            'v': 0.1,\n            'f': \"0.1\",\n        },\n{\n            'v': 2,\n            'f': \"2\",\n        },\n{\n            'v': NaN,\n            'f': \"NaN\",\n        },\n{\n            'v': 7.0,\n            'f': \"7.0\",\n        },\n{\n            'v': 1,\n            'f': \"1\",\n        },\n{\n            'v': 1,\n            'f': \"1\",\n        },\n\"yes\"],\n [{\n            'v': 193,\n            'f': \"193\",\n        },\n{\n            'v': 62,\n            'f': \"62\",\n        },\n\"female\",\n{\n            'v': 4,\n            'f': \"4\",\n        },\n{\n            'v': 138,\n            'f': \"138\",\n        },\n{\n            'v': 294,\n            'f': \"294\",\n        },\n{\n            'v': 1,\n            'f': \"1\",\n        },\n{\n            'v': 0,\n            'f': \"0\",\n        },\n{\n            'v': 106,\n            'f': \"106\",\n        },\n{\n            'v': 0,\n            'f': \"0\",\n        },\n{\n            'v': 1.9,\n            'f': \"1.9\",\n        },\n{\n            'v': 2,\n            'f': \"2\",\n        },\n{\n            'v': 3.0,\n            'f': \"3.0\",\n        },\n{\n            'v': 3.0,\n            'f': \"3.0\",\n        },\n{\n            'v': 2,\n            'f': \"2\",\n        },\n{\n            'v': 0,\n            'f': \"0\",\n        },\n\"yes\"],\n [{\n            'v': 194,\n            'f': \"194\",\n        },\n{\n            'v': 68,\n            'f': \"68\",\n        },\n\"female\",\n{\n            'v': 3,\n            'f': \"3\",\n        },\n{\n            'v': 120,\n            'f': \"120\",\n        },\n{\n            'v': 211,\n            'f': \"211\",\n        },\n{\n            'v': 0,\n            'f': \"0\",\n        },\n{\n            'v': 2,\n            'f': \"2\",\n        },\n{\n            'v': 115,\n            'f': \"115\",\n        },\n{\n            'v': 0,\n            'f': \"0\",\n        },\n{\n            'v': 1.5,\n            'f': \"1.5\",\n        },\n{\n            'v': 2,\n            'f': \"2\",\n        },\n{\n            'v': 0.0,\n            'f': \"0.0\",\n        },\n{\n            'v': 3.0,\n            'f': \"3.0\",\n        },\n{\n            'v': 0,\n            'f': \"0\",\n        },\n{\n            'v': 0,\n            'f': \"0\",\n        },\n\"no\"],\n [{\n            'v': 195,\n            'f': \"195\",\n        },\n{\n            'v': 67,\n            'f': \"67\",\n        },\n\"male\",\n{\n            'v': 4,\n            'f': \"4\",\n        },\n{\n            'v': 100,\n            'f': \"100\",\n        },\n{\n            'v': 299,\n            'f': \"299\",\n        },\n{\n            'v': 0,\n            'f': \"0\",\n        },\n{\n            'v': 2,\n            'f': \"2\",\n        },\n{\n            'v': 125,\n            'f': \"125\",\n        },\n{\n            'v': 1,\n            'f': \"1\",\n        },\n{\n            'v': 0.9,\n            'f': \"0.9\",\n        },\n{\n            'v': 2,\n            'f': \"2\",\n        },\n{\n            'v': 2.0,\n            'f': \"2.0\",\n        },\n{\n            'v': 3.0,\n            'f': \"3.0\",\n        },\n{\n            'v': 3,\n            'f': \"3\",\n        },\n{\n            'v': 1,\n            'f': \"1\",\n        },\n\"yes\"],\n [{\n            'v': 196,\n            'f': \"196\",\n        },\n{\n            'v': 69,\n            'f': \"69\",\n        },\n\"male\",\n{\n            'v': 1,\n            'f': \"1\",\n        },\n{\n            'v': 160,\n            'f': \"160\",\n        },\n{\n            'v': 234,\n            'f': \"234\",\n        },\n{\n            'v': 1,\n            'f': \"1\",\n        },\n{\n            'v': 2,\n            'f': \"2\",\n        },\n{\n            'v': 131,\n            'f': \"131\",\n        },\n{\n            'v': 0,\n            'f': \"0\",\n        },\n{\n            'v': 0.1,\n            'f': \"0.1\",\n        },\n{\n            'v': 2,\n            'f': \"2\",\n        },\n{\n            'v': 1.0,\n            'f': \"1.0\",\n        },\n{\n            'v': 3.0,\n            'f': \"3.0\",\n        },\n{\n            'v': 0,\n            'f': \"0\",\n        },\n{\n            'v': 0,\n            'f': \"0\",\n        },\n\"no\"],\n [{\n            'v': 197,\n            'f': \"197\",\n        },\n{\n            'v': 45,\n            'f': \"45\",\n        },\n\"female\",\n{\n            'v': 4,\n            'f': \"4\",\n        },\n{\n            'v': 138,\n            'f': \"138\",\n        },\n{\n            'v': 236,\n            'f': \"236\",\n        },\n{\n            'v': 0,\n            'f': \"0\",\n        },\n{\n            'v': 2,\n            'f': \"2\",\n        },\n{\n            'v': 152,\n            'f': \"152\",\n        },\n{\n            'v': 1,\n            'f': \"1\",\n        },\n{\n            'v': 0.2,\n            'f': \"0.2\",\n        },\n{\n            'v': 2,\n            'f': \"2\",\n        },\n{\n            'v': 0.0,\n            'f': \"0.0\",\n        },\n{\n            'v': 3.0,\n            'f': \"3.0\",\n        },\n{\n            'v': 0,\n            'f': \"0\",\n        },\n{\n            'v': 1,\n            'f': \"1\",\n        },\n\"no\"],\n [{\n            'v': 198,\n            'f': \"198\",\n        },\n{\n            'v': 50,\n            'f': \"50\",\n        },\n\"female\",\n{\n            'v': 2,\n            'f': \"2\",\n        },\n{\n            'v': 120,\n            'f': \"120\",\n        },\n{\n            'v': 244,\n            'f': \"244\",\n        },\n{\n            'v': 0,\n            'f': \"0\",\n        },\n{\n            'v': 0,\n            'f': \"0\",\n        },\n{\n            'v': 162,\n            'f': \"162\",\n        },\n{\n            'v': 0,\n            'f': \"0\",\n        },\n{\n            'v': 1.1,\n            'f': \"1.1\",\n        },\n{\n            'v': 1,\n            'f': \"1\",\n        },\n{\n            'v': 0.0,\n            'f': \"0.0\",\n        },\n{\n            'v': 3.0,\n            'f': \"3.0\",\n        },\n{\n            'v': 0,\n            'f': \"0\",\n        },\n{\n            'v': 0,\n            'f': \"0\",\n        },\n\"no\"],\n [{\n            'v': 199,\n            'f': \"199\",\n        },\n{\n            'v': 59,\n            'f': \"59\",\n        },\n\"male\",\n{\n            'v': 1,\n            'f': \"1\",\n        },\n{\n            'v': 160,\n            'f': \"160\",\n        },\n{\n            'v': 273,\n            'f': \"273\",\n        },\n{\n            'v': 0,\n            'f': \"0\",\n        },\n{\n            'v': 2,\n            'f': \"2\",\n        },\n{\n            'v': 125,\n            'f': \"125\",\n        },\n{\n            'v': 0,\n            'f': \"0\",\n        },\n{\n            'v': 0.0,\n            'f': \"0.0\",\n        },\n{\n            'v': 1,\n            'f': \"1\",\n        },\n{\n            'v': 0.0,\n            'f': \"0.0\",\n        },\n{\n            'v': 3.0,\n            'f': \"3.0\",\n        },\n{\n            'v': 1,\n            'f': \"1\",\n        },\n{\n            'v': 0,\n            'f': \"0\",\n        },\n\"yes\"],\n [{\n            'v': 200,\n            'f': \"200\",\n        },\n{\n            'v': 50,\n            'f': \"50\",\n        },\n\"female\",\n{\n            'v': 4,\n            'f': \"4\",\n        },\n{\n            'v': 110,\n            'f': \"110\",\n        },\n{\n            'v': 254,\n            'f': \"254\",\n        },\n{\n            'v': 0,\n            'f': \"0\",\n        },\n{\n            'v': 2,\n            'f': \"2\",\n        },\n{\n            'v': 159,\n            'f': \"159\",\n        },\n{\n            'v': 0,\n            'f': \"0\",\n        },\n{\n            'v': 0.0,\n            'f': \"0.0\",\n        },\n{\n            'v': 1,\n            'f': \"1\",\n        },\n{\n            'v': 0.0,\n            'f': \"0.0\",\n        },\n{\n            'v': 3.0,\n            'f': \"3.0\",\n        },\n{\n            'v': 0,\n            'f': \"0\",\n        },\n{\n            'v': 0,\n            'f': \"0\",\n        },\n\"no\"],\n [{\n            'v': 201,\n            'f': \"201\",\n        },\n{\n            'v': 64,\n            'f': \"64\",\n        },\n\"female\",\n{\n            'v': 4,\n            'f': \"4\",\n        },\n{\n            'v': 180,\n            'f': \"180\",\n        },\n{\n            'v': 325,\n            'f': \"325\",\n        },\n{\n            'v': 0,\n            'f': \"0\",\n        },\n{\n            'v': 0,\n            'f': \"0\",\n        },\n{\n            'v': 154,\n            'f': \"154\",\n        },\n{\n            'v': 1,\n            'f': \"1\",\n        },\n{\n            'v': 0.0,\n            'f': \"0.0\",\n        },\n{\n            'v': 1,\n            'f': \"1\",\n        },\n{\n            'v': 0.0,\n            'f': \"0.0\",\n        },\n{\n            'v': 3.0,\n            'f': \"3.0\",\n        },\n{\n            'v': 0,\n            'f': \"0\",\n        },\n{\n            'v': 1,\n            'f': \"1\",\n        },\n\"no\"],\n [{\n            'v': 202,\n            'f': \"202\",\n        },\n{\n            'v': 57,\n            'f': \"57\",\n        },\n\"male\",\n{\n            'v': 3,\n            'f': \"3\",\n        },\n{\n            'v': 150,\n            'f': \"150\",\n        },\n{\n            'v': 126,\n            'f': \"126\",\n        },\n{\n            'v': 1,\n            'f': \"1\",\n        },\n{\n            'v': 0,\n            'f': \"0\",\n        },\n{\n            'v': 173,\n            'f': \"173\",\n        },\n{\n            'v': 0,\n            'f': \"0\",\n        },\n{\n            'v': 0.2,\n            'f': \"0.2\",\n        },\n{\n            'v': 1,\n            'f': \"1\",\n        },\n{\n            'v': 1.0,\n            'f': \"1.0\",\n        },\n{\n            'v': 7.0,\n            'f': \"7.0\",\n        },\n{\n            'v': 0,\n            'f': \"0\",\n        },\n{\n            'v': 0,\n            'f': \"0\",\n        },\n\"no\"],\n [{\n            'v': 203,\n            'f': \"203\",\n        },\n{\n            'v': 64,\n            'f': \"64\",\n        },\n\"female\",\n{\n            'v': 3,\n            'f': \"3\",\n        },\n{\n            'v': 140,\n            'f': \"140\",\n        },\n{\n            'v': 313,\n            'f': \"313\",\n        },\n{\n            'v': 0,\n            'f': \"0\",\n        },\n{\n            'v': 0,\n            'f': \"0\",\n        },\n{\n            'v': 133,\n            'f': \"133\",\n        },\n{\n            'v': 0,\n            'f': \"0\",\n        },\n{\n            'v': 0.2,\n            'f': \"0.2\",\n        },\n{\n            'v': 1,\n            'f': \"1\",\n        },\n{\n            'v': 0.0,\n            'f': \"0.0\",\n        },\n{\n            'v': 7.0,\n            'f': \"7.0\",\n        },\n{\n            'v': 0,\n            'f': \"0\",\n        },\n{\n            'v': 0,\n            'f': \"0\",\n        },\n\"no\"],\n [{\n            'v': 204,\n            'f': \"204\",\n        },\n{\n            'v': 43,\n            'f': \"43\",\n        },\n\"male\",\n{\n            'v': 4,\n            'f': \"4\",\n        },\n{\n            'v': 110,\n            'f': \"110\",\n        },\n{\n            'v': 211,\n            'f': \"211\",\n        },\n{\n            'v': 0,\n            'f': \"0\",\n        },\n{\n            'v': 0,\n            'f': \"0\",\n        },\n{\n            'v': 161,\n            'f': \"161\",\n        },\n{\n            'v': 0,\n            'f': \"0\",\n        },\n{\n            'v': 0.0,\n            'f': \"0.0\",\n        },\n{\n            'v': 1,\n            'f': \"1\",\n        },\n{\n            'v': 0.0,\n            'f': \"0.0\",\n        },\n{\n            'v': 7.0,\n            'f': \"7.0\",\n        },\n{\n            'v': 0,\n            'f': \"0\",\n        },\n{\n            'v': 0,\n            'f': \"0\",\n        },\n\"no\"],\n [{\n            'v': 205,\n            'f': \"205\",\n        },\n{\n            'v': 45,\n            'f': \"45\",\n        },\n\"male\",\n{\n            'v': 4,\n            'f': \"4\",\n        },\n{\n            'v': 142,\n            'f': \"142\",\n        },\n{\n            'v': 309,\n            'f': \"309\",\n        },\n{\n            'v': 0,\n            'f': \"0\",\n        },\n{\n            'v': 2,\n            'f': \"2\",\n        },\n{\n            'v': 147,\n            'f': \"147\",\n        },\n{\n            'v': 1,\n            'f': \"1\",\n        },\n{\n            'v': 0.0,\n            'f': \"0.0\",\n        },\n{\n            'v': 2,\n            'f': \"2\",\n        },\n{\n            'v': 3.0,\n            'f': \"3.0\",\n        },\n{\n            'v': 7.0,\n            'f': \"7.0\",\n        },\n{\n            'v': 3,\n            'f': \"3\",\n        },\n{\n            'v': 1,\n            'f': \"1\",\n        },\n\"yes\"],\n [{\n            'v': 206,\n            'f': \"206\",\n        },\n{\n            'v': 58,\n            'f': \"58\",\n        },\n\"male\",\n{\n            'v': 4,\n            'f': \"4\",\n        },\n{\n            'v': 128,\n            'f': \"128\",\n        },\n{\n            'v': 259,\n            'f': \"259\",\n        },\n{\n            'v': 0,\n            'f': \"0\",\n        },\n{\n            'v': 2,\n            'f': \"2\",\n        },\n{\n            'v': 130,\n            'f': \"130\",\n        },\n{\n            'v': 1,\n            'f': \"1\",\n        },\n{\n            'v': 3.0,\n            'f': \"3.0\",\n        },\n{\n            'v': 2,\n            'f': \"2\",\n        },\n{\n            'v': 2.0,\n            'f': \"2.0\",\n        },\n{\n            'v': 7.0,\n            'f': \"7.0\",\n        },\n{\n            'v': 3,\n            'f': \"3\",\n        },\n{\n            'v': 1,\n            'f': \"1\",\n        },\n\"yes\"],\n [{\n            'v': 207,\n            'f': \"207\",\n        },\n{\n            'v': 50,\n            'f': \"50\",\n        },\n\"male\",\n{\n            'v': 4,\n            'f': \"4\",\n        },\n{\n            'v': 144,\n            'f': \"144\",\n        },\n{\n            'v': 200,\n            'f': \"200\",\n        },\n{\n            'v': 0,\n            'f': \"0\",\n        },\n{\n            'v': 2,\n            'f': \"2\",\n        },\n{\n            'v': 126,\n            'f': \"126\",\n        },\n{\n            'v': 1,\n            'f': \"1\",\n        },\n{\n            'v': 0.9,\n            'f': \"0.9\",\n        },\n{\n            'v': 2,\n            'f': \"2\",\n        },\n{\n            'v': 0.0,\n            'f': \"0.0\",\n        },\n{\n            'v': 7.0,\n            'f': \"7.0\",\n        },\n{\n            'v': 3,\n            'f': \"3\",\n        },\n{\n            'v': 1,\n            'f': \"1\",\n        },\n\"yes\"],\n [{\n            'v': 208,\n            'f': \"208\",\n        },\n{\n            'v': 55,\n            'f': \"55\",\n        },\n\"male\",\n{\n            'v': 2,\n            'f': \"2\",\n        },\n{\n            'v': 130,\n            'f': \"130\",\n        },\n{\n            'v': 262,\n            'f': \"262\",\n        },\n{\n            'v': 0,\n            'f': \"0\",\n        },\n{\n            'v': 0,\n            'f': \"0\",\n        },\n{\n            'v': 155,\n            'f': \"155\",\n        },\n{\n            'v': 0,\n            'f': \"0\",\n        },\n{\n            'v': 0.0,\n            'f': \"0.0\",\n        },\n{\n            'v': 1,\n            'f': \"1\",\n        },\n{\n            'v': 0.0,\n            'f': \"0.0\",\n        },\n{\n            'v': 3.0,\n            'f': \"3.0\",\n        },\n{\n            'v': 0,\n            'f': \"0\",\n        },\n{\n            'v': 0,\n            'f': \"0\",\n        },\n\"no\"],\n [{\n            'v': 209,\n            'f': \"209\",\n        },\n{\n            'v': 62,\n            'f': \"62\",\n        },\n\"female\",\n{\n            'v': 4,\n            'f': \"4\",\n        },\n{\n            'v': 150,\n            'f': \"150\",\n        },\n{\n            'v': 244,\n            'f': \"244\",\n        },\n{\n            'v': 0,\n            'f': \"0\",\n        },\n{\n            'v': 0,\n            'f': \"0\",\n        },\n{\n            'v': 154,\n            'f': \"154\",\n        },\n{\n            'v': 1,\n            'f': \"1\",\n        },\n{\n            'v': 1.4,\n            'f': \"1.4\",\n        },\n{\n            'v': 2,\n            'f': \"2\",\n        },\n{\n            'v': 0.0,\n            'f': \"0.0\",\n        },\n{\n            'v': 3.0,\n            'f': \"3.0\",\n        },\n{\n            'v': 1,\n            'f': \"1\",\n        },\n{\n            'v': 1,\n            'f': \"1\",\n        },\n\"yes\"],\n [{\n            'v': 210,\n            'f': \"210\",\n        },\n{\n            'v': 37,\n            'f': \"37\",\n        },\n\"female\",\n{\n            'v': 3,\n            'f': \"3\",\n        },\n{\n            'v': 120,\n            'f': \"120\",\n        },\n{\n            'v': 215,\n            'f': \"215\",\n        },\n{\n            'v': 0,\n            'f': \"0\",\n        },\n{\n            'v': 0,\n            'f': \"0\",\n        },\n{\n            'v': 170,\n            'f': \"170\",\n        },\n{\n            'v': 0,\n            'f': \"0\",\n        },\n{\n            'v': 0.0,\n            'f': \"0.0\",\n        },\n{\n            'v': 1,\n            'f': \"1\",\n        },\n{\n            'v': 0.0,\n            'f': \"0.0\",\n        },\n{\n            'v': 3.0,\n            'f': \"3.0\",\n        },\n{\n            'v': 0,\n            'f': \"0\",\n        },\n{\n            'v': 0,\n            'f': \"0\",\n        },\n\"no\"],\n [{\n            'v': 211,\n            'f': \"211\",\n        },\n{\n            'v': 38,\n            'f': \"38\",\n        },\n\"male\",\n{\n            'v': 1,\n            'f': \"1\",\n        },\n{\n            'v': 120,\n            'f': \"120\",\n        },\n{\n            'v': 231,\n            'f': \"231\",\n        },\n{\n            'v': 0,\n            'f': \"0\",\n        },\n{\n            'v': 0,\n            'f': \"0\",\n        },\n{\n            'v': 182,\n            'f': \"182\",\n        },\n{\n            'v': 1,\n            'f': \"1\",\n        },\n{\n            'v': 3.8,\n            'f': \"3.8\",\n        },\n{\n            'v': 2,\n            'f': \"2\",\n        },\n{\n            'v': 0.0,\n            'f': \"0.0\",\n        },\n{\n            'v': 7.0,\n            'f': \"7.0\",\n        },\n{\n            'v': 4,\n            'f': \"4\",\n        },\n{\n            'v': 1,\n            'f': \"1\",\n        },\n\"yes\"],\n [{\n            'v': 212,\n            'f': \"212\",\n        },\n{\n            'v': 41,\n            'f': \"41\",\n        },\n\"male\",\n{\n            'v': 3,\n            'f': \"3\",\n        },\n{\n            'v': 130,\n            'f': \"130\",\n        },\n{\n            'v': 214,\n            'f': \"214\",\n        },\n{\n            'v': 0,\n            'f': \"0\",\n        },\n{\n            'v': 2,\n            'f': \"2\",\n        },\n{\n            'v': 168,\n            'f': \"168\",\n        },\n{\n            'v': 0,\n            'f': \"0\",\n        },\n{\n            'v': 2.0,\n            'f': \"2.0\",\n        },\n{\n            'v': 2,\n            'f': \"2\",\n        },\n{\n            'v': 0.0,\n            'f': \"0.0\",\n        },\n{\n            'v': 3.0,\n            'f': \"3.0\",\n        },\n{\n            'v': 0,\n            'f': \"0\",\n        },\n{\n            'v': 0,\n            'f': \"0\",\n        },\n\"no\"],\n [{\n            'v': 213,\n            'f': \"213\",\n        },\n{\n            'v': 66,\n            'f': \"66\",\n        },\n\"female\",\n{\n            'v': 4,\n            'f': \"4\",\n        },\n{\n            'v': 178,\n            'f': \"178\",\n        },\n{\n            'v': 228,\n            'f': \"228\",\n        },\n{\n            'v': 1,\n            'f': \"1\",\n        },\n{\n            'v': 0,\n            'f': \"0\",\n        },\n{\n            'v': 165,\n            'f': \"165\",\n        },\n{\n            'v': 1,\n            'f': \"1\",\n        },\n{\n            'v': 1.0,\n            'f': \"1.0\",\n        },\n{\n            'v': 2,\n            'f': \"2\",\n        },\n{\n            'v': 2.0,\n            'f': \"2.0\",\n        },\n{\n            'v': 7.0,\n            'f': \"7.0\",\n        },\n{\n            'v': 3,\n            'f': \"3\",\n        },\n{\n            'v': 1,\n            'f': \"1\",\n        },\n\"yes\"],\n [{\n            'v': 214,\n            'f': \"214\",\n        },\n{\n            'v': 52,\n            'f': \"52\",\n        },\n\"male\",\n{\n            'v': 4,\n            'f': \"4\",\n        },\n{\n            'v': 112,\n            'f': \"112\",\n        },\n{\n            'v': 230,\n            'f': \"230\",\n        },\n{\n            'v': 0,\n            'f': \"0\",\n        },\n{\n            'v': 0,\n            'f': \"0\",\n        },\n{\n            'v': 160,\n            'f': \"160\",\n        },\n{\n            'v': 0,\n            'f': \"0\",\n        },\n{\n            'v': 0.0,\n            'f': \"0.0\",\n        },\n{\n            'v': 1,\n            'f': \"1\",\n        },\n{\n            'v': 1.0,\n            'f': \"1.0\",\n        },\n{\n            'v': 3.0,\n            'f': \"3.0\",\n        },\n{\n            'v': 1,\n            'f': \"1\",\n        },\n{\n            'v': 0,\n            'f': \"0\",\n        },\n\"yes\"],\n [{\n            'v': 215,\n            'f': \"215\",\n        },\n{\n            'v': 56,\n            'f': \"56\",\n        },\n\"male\",\n{\n            'v': 1,\n            'f': \"1\",\n        },\n{\n            'v': 120,\n            'f': \"120\",\n        },\n{\n            'v': 193,\n            'f': \"193\",\n        },\n{\n            'v': 0,\n            'f': \"0\",\n        },\n{\n            'v': 2,\n            'f': \"2\",\n        },\n{\n            'v': 162,\n            'f': \"162\",\n        },\n{\n            'v': 0,\n            'f': \"0\",\n        },\n{\n            'v': 1.9,\n            'f': \"1.9\",\n        },\n{\n            'v': 2,\n            'f': \"2\",\n        },\n{\n            'v': 0.0,\n            'f': \"0.0\",\n        },\n{\n            'v': 7.0,\n            'f': \"7.0\",\n        },\n{\n            'v': 0,\n            'f': \"0\",\n        },\n{\n            'v': 0,\n            'f': \"0\",\n        },\n\"no\"],\n [{\n            'v': 216,\n            'f': \"216\",\n        },\n{\n            'v': 46,\n            'f': \"46\",\n        },\n\"female\",\n{\n            'v': 2,\n            'f': \"2\",\n        },\n{\n            'v': 105,\n            'f': \"105\",\n        },\n{\n            'v': 204,\n            'f': \"204\",\n        },\n{\n            'v': 0,\n            'f': \"0\",\n        },\n{\n            'v': 0,\n            'f': \"0\",\n        },\n{\n            'v': 172,\n            'f': \"172\",\n        },\n{\n            'v': 0,\n            'f': \"0\",\n        },\n{\n            'v': 0.0,\n            'f': \"0.0\",\n        },\n{\n            'v': 1,\n            'f': \"1\",\n        },\n{\n            'v': 0.0,\n            'f': \"0.0\",\n        },\n{\n            'v': 3.0,\n            'f': \"3.0\",\n        },\n{\n            'v': 0,\n            'f': \"0\",\n        },\n{\n            'v': 0,\n            'f': \"0\",\n        },\n\"no\"],\n [{\n            'v': 217,\n            'f': \"217\",\n        },\n{\n            'v': 46,\n            'f': \"46\",\n        },\n\"female\",\n{\n            'v': 4,\n            'f': \"4\",\n        },\n{\n            'v': 138,\n            'f': \"138\",\n        },\n{\n            'v': 243,\n            'f': \"243\",\n        },\n{\n            'v': 0,\n            'f': \"0\",\n        },\n{\n            'v': 2,\n            'f': \"2\",\n        },\n{\n            'v': 152,\n            'f': \"152\",\n        },\n{\n            'v': 1,\n            'f': \"1\",\n        },\n{\n            'v': 0.0,\n            'f': \"0.0\",\n        },\n{\n            'v': 2,\n            'f': \"2\",\n        },\n{\n            'v': 0.0,\n            'f': \"0.0\",\n        },\n{\n            'v': 3.0,\n            'f': \"3.0\",\n        },\n{\n            'v': 0,\n            'f': \"0\",\n        },\n{\n            'v': 1,\n            'f': \"1\",\n        },\n\"no\"],\n [{\n            'v': 218,\n            'f': \"218\",\n        },\n{\n            'v': 64,\n            'f': \"64\",\n        },\n\"female\",\n{\n            'v': 4,\n            'f': \"4\",\n        },\n{\n            'v': 130,\n            'f': \"130\",\n        },\n{\n            'v': 303,\n            'f': \"303\",\n        },\n{\n            'v': 0,\n            'f': \"0\",\n        },\n{\n            'v': 0,\n            'f': \"0\",\n        },\n{\n            'v': 122,\n            'f': \"122\",\n        },\n{\n            'v': 0,\n            'f': \"0\",\n        },\n{\n            'v': 2.0,\n            'f': \"2.0\",\n        },\n{\n            'v': 2,\n            'f': \"2\",\n        },\n{\n            'v': 2.0,\n            'f': \"2.0\",\n        },\n{\n            'v': 3.0,\n            'f': \"3.0\",\n        },\n{\n            'v': 0,\n            'f': \"0\",\n        },\n{\n            'v': 0,\n            'f': \"0\",\n        },\n\"no\"],\n [{\n            'v': 219,\n            'f': \"219\",\n        },\n{\n            'v': 59,\n            'f': \"59\",\n        },\n\"male\",\n{\n            'v': 4,\n            'f': \"4\",\n        },\n{\n            'v': 138,\n            'f': \"138\",\n        },\n{\n            'v': 271,\n            'f': \"271\",\n        },\n{\n            'v': 0,\n            'f': \"0\",\n        },\n{\n            'v': 2,\n            'f': \"2\",\n        },\n{\n            'v': 182,\n            'f': \"182\",\n        },\n{\n            'v': 0,\n            'f': \"0\",\n        },\n{\n            'v': 0.0,\n            'f': \"0.0\",\n        },\n{\n            'v': 1,\n            'f': \"1\",\n        },\n{\n            'v': 0.0,\n            'f': \"0.0\",\n        },\n{\n            'v': 3.0,\n            'f': \"3.0\",\n        },\n{\n            'v': 0,\n            'f': \"0\",\n        },\n{\n            'v': 0,\n            'f': \"0\",\n        },\n\"no\"],\n [{\n            'v': 220,\n            'f': \"220\",\n        },\n{\n            'v': 41,\n            'f': \"41\",\n        },\n\"female\",\n{\n            'v': 3,\n            'f': \"3\",\n        },\n{\n            'v': 112,\n            'f': \"112\",\n        },\n{\n            'v': 268,\n            'f': \"268\",\n        },\n{\n            'v': 0,\n            'f': \"0\",\n        },\n{\n            'v': 2,\n            'f': \"2\",\n        },\n{\n            'v': 172,\n            'f': \"172\",\n        },\n{\n            'v': 1,\n            'f': \"1\",\n        },\n{\n            'v': 0.0,\n            'f': \"0.0\",\n        },\n{\n            'v': 1,\n            'f': \"1\",\n        },\n{\n            'v': 0.0,\n            'f': \"0.0\",\n        },\n{\n            'v': 3.0,\n            'f': \"3.0\",\n        },\n{\n            'v': 0,\n            'f': \"0\",\n        },\n{\n            'v': 1,\n            'f': \"1\",\n        },\n\"no\"],\n [{\n            'v': 221,\n            'f': \"221\",\n        },\n{\n            'v': 54,\n            'f': \"54\",\n        },\n\"female\",\n{\n            'v': 3,\n            'f': \"3\",\n        },\n{\n            'v': 108,\n            'f': \"108\",\n        },\n{\n            'v': 267,\n            'f': \"267\",\n        },\n{\n            'v': 0,\n            'f': \"0\",\n        },\n{\n            'v': 2,\n            'f': \"2\",\n        },\n{\n            'v': 167,\n            'f': \"167\",\n        },\n{\n            'v': 0,\n            'f': \"0\",\n        },\n{\n            'v': 0.0,\n            'f': \"0.0\",\n        },\n{\n            'v': 1,\n            'f': \"1\",\n        },\n{\n            'v': 0.0,\n            'f': \"0.0\",\n        },\n{\n            'v': 3.0,\n            'f': \"3.0\",\n        },\n{\n            'v': 0,\n            'f': \"0\",\n        },\n{\n            'v': 0,\n            'f': \"0\",\n        },\n\"no\"],\n [{\n            'v': 222,\n            'f': \"222\",\n        },\n{\n            'v': 39,\n            'f': \"39\",\n        },\n\"female\",\n{\n            'v': 3,\n            'f': \"3\",\n        },\n{\n            'v': 94,\n            'f': \"94\",\n        },\n{\n            'v': 199,\n            'f': \"199\",\n        },\n{\n            'v': 0,\n            'f': \"0\",\n        },\n{\n            'v': 0,\n            'f': \"0\",\n        },\n{\n            'v': 179,\n            'f': \"179\",\n        },\n{\n            'v': 0,\n            'f': \"0\",\n        },\n{\n            'v': 0.0,\n            'f': \"0.0\",\n        },\n{\n            'v': 1,\n            'f': \"1\",\n        },\n{\n            'v': 0.0,\n            'f': \"0.0\",\n        },\n{\n            'v': 3.0,\n            'f': \"3.0\",\n        },\n{\n            'v': 0,\n            'f': \"0\",\n        },\n{\n            'v': 0,\n            'f': \"0\",\n        },\n\"no\"],\n [{\n            'v': 223,\n            'f': \"223\",\n        },\n{\n            'v': 53,\n            'f': \"53\",\n        },\n\"male\",\n{\n            'v': 4,\n            'f': \"4\",\n        },\n{\n            'v': 123,\n            'f': \"123\",\n        },\n{\n            'v': 282,\n            'f': \"282\",\n        },\n{\n            'v': 0,\n            'f': \"0\",\n        },\n{\n            'v': 0,\n            'f': \"0\",\n        },\n{\n            'v': 95,\n            'f': \"95\",\n        },\n{\n            'v': 1,\n            'f': \"1\",\n        },\n{\n            'v': 2.0,\n            'f': \"2.0\",\n        },\n{\n            'v': 2,\n            'f': \"2\",\n        },\n{\n            'v': 2.0,\n            'f': \"2.0\",\n        },\n{\n            'v': 7.0,\n            'f': \"7.0\",\n        },\n{\n            'v': 3,\n            'f': \"3\",\n        },\n{\n            'v': 1,\n            'f': \"1\",\n        },\n\"yes\"],\n [{\n            'v': 224,\n            'f': \"224\",\n        },\n{\n            'v': 63,\n            'f': \"63\",\n        },\n\"female\",\n{\n            'v': 4,\n            'f': \"4\",\n        },\n{\n            'v': 108,\n            'f': \"108\",\n        },\n{\n            'v': 269,\n            'f': \"269\",\n        },\n{\n            'v': 0,\n            'f': \"0\",\n        },\n{\n            'v': 0,\n            'f': \"0\",\n        },\n{\n            'v': 169,\n            'f': \"169\",\n        },\n{\n            'v': 1,\n            'f': \"1\",\n        },\n{\n            'v': 1.8,\n            'f': \"1.8\",\n        },\n{\n            'v': 2,\n            'f': \"2\",\n        },\n{\n            'v': 2.0,\n            'f': \"2.0\",\n        },\n{\n            'v': 3.0,\n            'f': \"3.0\",\n        },\n{\n            'v': 1,\n            'f': \"1\",\n        },\n{\n            'v': 1,\n            'f': \"1\",\n        },\n\"yes\"],\n [{\n            'v': 225,\n            'f': \"225\",\n        },\n{\n            'v': 34,\n            'f': \"34\",\n        },\n\"female\",\n{\n            'v': 2,\n            'f': \"2\",\n        },\n{\n            'v': 118,\n            'f': \"118\",\n        },\n{\n            'v': 210,\n            'f': \"210\",\n        },\n{\n            'v': 0,\n            'f': \"0\",\n        },\n{\n            'v': 0,\n            'f': \"0\",\n        },\n{\n            'v': 192,\n            'f': \"192\",\n        },\n{\n            'v': 0,\n            'f': \"0\",\n        },\n{\n            'v': 0.7,\n            'f': \"0.7\",\n        },\n{\n            'v': 1,\n            'f': \"1\",\n        },\n{\n            'v': 0.0,\n            'f': \"0.0\",\n        },\n{\n            'v': 3.0,\n            'f': \"3.0\",\n        },\n{\n            'v': 0,\n            'f': \"0\",\n        },\n{\n            'v': 0,\n            'f': \"0\",\n        },\n\"no\"],\n [{\n            'v': 226,\n            'f': \"226\",\n        },\n{\n            'v': 47,\n            'f': \"47\",\n        },\n\"male\",\n{\n            'v': 4,\n            'f': \"4\",\n        },\n{\n            'v': 112,\n            'f': \"112\",\n        },\n{\n            'v': 204,\n            'f': \"204\",\n        },\n{\n            'v': 0,\n            'f': \"0\",\n        },\n{\n            'v': 0,\n            'f': \"0\",\n        },\n{\n            'v': 143,\n            'f': \"143\",\n        },\n{\n            'v': 0,\n            'f': \"0\",\n        },\n{\n            'v': 0.1,\n            'f': \"0.1\",\n        },\n{\n            'v': 1,\n            'f': \"1\",\n        },\n{\n            'v': 0.0,\n            'f': \"0.0\",\n        },\n{\n            'v': 3.0,\n            'f': \"3.0\",\n        },\n{\n            'v': 0,\n            'f': \"0\",\n        },\n{\n            'v': 0,\n            'f': \"0\",\n        },\n\"no\"],\n [{\n            'v': 227,\n            'f': \"227\",\n        },\n{\n            'v': 67,\n            'f': \"67\",\n        },\n\"female\",\n{\n            'v': 3,\n            'f': \"3\",\n        },\n{\n            'v': 152,\n            'f': \"152\",\n        },\n{\n            'v': 277,\n            'f': \"277\",\n        },\n{\n            'v': 0,\n            'f': \"0\",\n        },\n{\n            'v': 0,\n            'f': \"0\",\n        },\n{\n            'v': 172,\n            'f': \"172\",\n        },\n{\n            'v': 0,\n            'f': \"0\",\n        },\n{\n            'v': 0.0,\n            'f': \"0.0\",\n        },\n{\n            'v': 1,\n            'f': \"1\",\n        },\n{\n            'v': 1.0,\n            'f': \"1.0\",\n        },\n{\n            'v': 3.0,\n            'f': \"3.0\",\n        },\n{\n            'v': 0,\n            'f': \"0\",\n        },\n{\n            'v': 0,\n            'f': \"0\",\n        },\n\"no\"],\n [{\n            'v': 228,\n            'f': \"228\",\n        },\n{\n            'v': 54,\n            'f': \"54\",\n        },\n\"male\",\n{\n            'v': 4,\n            'f': \"4\",\n        },\n{\n            'v': 110,\n            'f': \"110\",\n        },\n{\n            'v': 206,\n            'f': \"206\",\n        },\n{\n            'v': 0,\n            'f': \"0\",\n        },\n{\n            'v': 2,\n            'f': \"2\",\n        },\n{\n            'v': 108,\n            'f': \"108\",\n        },\n{\n            'v': 1,\n            'f': \"1\",\n        },\n{\n            'v': 0.0,\n            'f': \"0.0\",\n        },\n{\n            'v': 2,\n            'f': \"2\",\n        },\n{\n            'v': 1.0,\n            'f': \"1.0\",\n        },\n{\n            'v': 3.0,\n            'f': \"3.0\",\n        },\n{\n            'v': 3,\n            'f': \"3\",\n        },\n{\n            'v': 1,\n            'f': \"1\",\n        },\n\"yes\"],\n [{\n            'v': 229,\n            'f': \"229\",\n        },\n{\n            'v': 66,\n            'f': \"66\",\n        },\n\"male\",\n{\n            'v': 4,\n            'f': \"4\",\n        },\n{\n            'v': 112,\n            'f': \"112\",\n        },\n{\n            'v': 212,\n            'f': \"212\",\n        },\n{\n            'v': 0,\n            'f': \"0\",\n        },\n{\n            'v': 2,\n            'f': \"2\",\n        },\n{\n            'v': 132,\n            'f': \"132\",\n        },\n{\n            'v': 1,\n            'f': \"1\",\n        },\n{\n            'v': 0.1,\n            'f': \"0.1\",\n        },\n{\n            'v': 1,\n            'f': \"1\",\n        },\n{\n            'v': 1.0,\n            'f': \"1.0\",\n        },\n{\n            'v': 3.0,\n            'f': \"3.0\",\n        },\n{\n            'v': 2,\n            'f': \"2\",\n        },\n{\n            'v': 1,\n            'f': \"1\",\n        },\n\"yes\"],\n [{\n            'v': 230,\n            'f': \"230\",\n        },\n{\n            'v': 52,\n            'f': \"52\",\n        },\n\"female\",\n{\n            'v': 3,\n            'f': \"3\",\n        },\n{\n            'v': 136,\n            'f': \"136\",\n        },\n{\n            'v': 196,\n            'f': \"196\",\n        },\n{\n            'v': 0,\n            'f': \"0\",\n        },\n{\n            'v': 2,\n            'f': \"2\",\n        },\n{\n            'v': 169,\n            'f': \"169\",\n        },\n{\n            'v': 0,\n            'f': \"0\",\n        },\n{\n            'v': 0.1,\n            'f': \"0.1\",\n        },\n{\n            'v': 2,\n            'f': \"2\",\n        },\n{\n            'v': 0.0,\n            'f': \"0.0\",\n        },\n{\n            'v': 3.0,\n            'f': \"3.0\",\n        },\n{\n            'v': 0,\n            'f': \"0\",\n        },\n{\n            'v': 0,\n            'f': \"0\",\n        },\n\"no\"],\n [{\n            'v': 231,\n            'f': \"231\",\n        },\n{\n            'v': 55,\n            'f': \"55\",\n        },\n\"female\",\n{\n            'v': 4,\n            'f': \"4\",\n        },\n{\n            'v': 180,\n            'f': \"180\",\n        },\n{\n            'v': 327,\n            'f': \"327\",\n        },\n{\n            'v': 0,\n            'f': \"0\",\n        },\n{\n            'v': 1,\n            'f': \"1\",\n        },\n{\n            'v': 117,\n            'f': \"117\",\n        },\n{\n            'v': 1,\n            'f': \"1\",\n        },\n{\n            'v': 3.4,\n            'f': \"3.4\",\n        },\n{\n            'v': 2,\n            'f': \"2\",\n        },\n{\n            'v': 0.0,\n            'f': \"0.0\",\n        },\n{\n            'v': 3.0,\n            'f': \"3.0\",\n        },\n{\n            'v': 2,\n            'f': \"2\",\n        },\n{\n            'v': 1,\n            'f': \"1\",\n        },\n\"yes\"],\n [{\n            'v': 232,\n            'f': \"232\",\n        },\n{\n            'v': 49,\n            'f': \"49\",\n        },\n\"male\",\n{\n            'v': 3,\n            'f': \"3\",\n        },\n{\n            'v': 118,\n            'f': \"118\",\n        },\n{\n            'v': 149,\n            'f': \"149\",\n        },\n{\n            'v': 0,\n            'f': \"0\",\n        },\n{\n            'v': 2,\n            'f': \"2\",\n        },\n{\n            'v': 126,\n            'f': \"126\",\n        },\n{\n            'v': 0,\n            'f': \"0\",\n        },\n{\n            'v': 0.8,\n            'f': \"0.8\",\n        },\n{\n            'v': 1,\n            'f': \"1\",\n        },\n{\n            'v': 3.0,\n            'f': \"3.0\",\n        },\n{\n            'v': 3.0,\n            'f': \"3.0\",\n        },\n{\n            'v': 1,\n            'f': \"1\",\n        },\n{\n            'v': 0,\n            'f': \"0\",\n        },\n\"yes\"],\n [{\n            'v': 233,\n            'f': \"233\",\n        },\n{\n            'v': 74,\n            'f': \"74\",\n        },\n\"female\",\n{\n            'v': 2,\n            'f': \"2\",\n        },\n{\n            'v': 120,\n            'f': \"120\",\n        },\n{\n            'v': 269,\n            'f': \"269\",\n        },\n{\n            'v': 0,\n            'f': \"0\",\n        },\n{\n            'v': 2,\n            'f': \"2\",\n        },\n{\n            'v': 121,\n            'f': \"121\",\n        },\n{\n            'v': 1,\n            'f': \"1\",\n        },\n{\n            'v': 0.2,\n            'f': \"0.2\",\n        },\n{\n            'v': 1,\n            'f': \"1\",\n        },\n{\n            'v': 1.0,\n            'f': \"1.0\",\n        },\n{\n            'v': 3.0,\n            'f': \"3.0\",\n        },\n{\n            'v': 0,\n            'f': \"0\",\n        },\n{\n            'v': 1,\n            'f': \"1\",\n        },\n\"no\"],\n [{\n            'v': 234,\n            'f': \"234\",\n        },\n{\n            'v': 54,\n            'f': \"54\",\n        },\n\"female\",\n{\n            'v': 3,\n            'f': \"3\",\n        },\n{\n            'v': 160,\n            'f': \"160\",\n        },\n{\n            'v': 201,\n            'f': \"201\",\n        },\n{\n            'v': 0,\n            'f': \"0\",\n        },\n{\n            'v': 0,\n            'f': \"0\",\n        },\n{\n            'v': 163,\n            'f': \"163\",\n        },\n{\n            'v': 0,\n            'f': \"0\",\n        },\n{\n            'v': 0.0,\n            'f': \"0.0\",\n        },\n{\n            'v': 1,\n            'f': \"1\",\n        },\n{\n            'v': 1.0,\n            'f': \"1.0\",\n        },\n{\n            'v': 3.0,\n            'f': \"3.0\",\n        },\n{\n            'v': 0,\n            'f': \"0\",\n        },\n{\n            'v': 0,\n            'f': \"0\",\n        },\n\"no\"],\n [{\n            'v': 235,\n            'f': \"235\",\n        },\n{\n            'v': 54,\n            'f': \"54\",\n        },\n\"male\",\n{\n            'v': 4,\n            'f': \"4\",\n        },\n{\n            'v': 122,\n            'f': \"122\",\n        },\n{\n            'v': 286,\n            'f': \"286\",\n        },\n{\n            'v': 0,\n            'f': \"0\",\n        },\n{\n            'v': 2,\n            'f': \"2\",\n        },\n{\n            'v': 116,\n            'f': \"116\",\n        },\n{\n            'v': 1,\n            'f': \"1\",\n        },\n{\n            'v': 3.2,\n            'f': \"3.2\",\n        },\n{\n            'v': 2,\n            'f': \"2\",\n        },\n{\n            'v': 2.0,\n            'f': \"2.0\",\n        },\n{\n            'v': 3.0,\n            'f': \"3.0\",\n        },\n{\n            'v': 3,\n            'f': \"3\",\n        },\n{\n            'v': 1,\n            'f': \"1\",\n        },\n\"yes\"],\n [{\n            'v': 236,\n            'f': \"236\",\n        },\n{\n            'v': 56,\n            'f': \"56\",\n        },\n\"male\",\n{\n            'v': 4,\n            'f': \"4\",\n        },\n{\n            'v': 130,\n            'f': \"130\",\n        },\n{\n            'v': 283,\n            'f': \"283\",\n        },\n{\n            'v': 1,\n            'f': \"1\",\n        },\n{\n            'v': 2,\n            'f': \"2\",\n        },\n{\n            'v': 103,\n            'f': \"103\",\n        },\n{\n            'v': 1,\n            'f': \"1\",\n        },\n{\n            'v': 1.6,\n            'f': \"1.6\",\n        },\n{\n            'v': 3,\n            'f': \"3\",\n        },\n{\n            'v': 0.0,\n            'f': \"0.0\",\n        },\n{\n            'v': 7.0,\n            'f': \"7.0\",\n        },\n{\n            'v': 2,\n            'f': \"2\",\n        },\n{\n            'v': 1,\n            'f': \"1\",\n        },\n\"yes\"],\n [{\n            'v': 237,\n            'f': \"237\",\n        },\n{\n            'v': 46,\n            'f': \"46\",\n        },\n\"male\",\n{\n            'v': 4,\n            'f': \"4\",\n        },\n{\n            'v': 120,\n            'f': \"120\",\n        },\n{\n            'v': 249,\n            'f': \"249\",\n        },\n{\n            'v': 0,\n            'f': \"0\",\n        },\n{\n            'v': 2,\n            'f': \"2\",\n        },\n{\n            'v': 144,\n            'f': \"144\",\n        },\n{\n            'v': 0,\n            'f': \"0\",\n        },\n{\n            'v': 0.8,\n            'f': \"0.8\",\n        },\n{\n            'v': 1,\n            'f': \"1\",\n        },\n{\n            'v': 0.0,\n            'f': \"0.0\",\n        },\n{\n            'v': 7.0,\n            'f': \"7.0\",\n        },\n{\n            'v': 1,\n            'f': \"1\",\n        },\n{\n            'v': 0,\n            'f': \"0\",\n        },\n\"yes\"],\n [{\n            'v': 238,\n            'f': \"238\",\n        },\n{\n            'v': 49,\n            'f': \"49\",\n        },\n\"female\",\n{\n            'v': 2,\n            'f': \"2\",\n        },\n{\n            'v': 134,\n            'f': \"134\",\n        },\n{\n            'v': 271,\n            'f': \"271\",\n        },\n{\n            'v': 0,\n            'f': \"0\",\n        },\n{\n            'v': 0,\n            'f': \"0\",\n        },\n{\n            'v': 162,\n            'f': \"162\",\n        },\n{\n            'v': 0,\n            'f': \"0\",\n        },\n{\n            'v': 0.0,\n            'f': \"0.0\",\n        },\n{\n            'v': 2,\n            'f': \"2\",\n        },\n{\n            'v': 0.0,\n            'f': \"0.0\",\n        },\n{\n            'v': 3.0,\n            'f': \"3.0\",\n        },\n{\n            'v': 0,\n            'f': \"0\",\n        },\n{\n            'v': 0,\n            'f': \"0\",\n        },\n\"no\"],\n [{\n            'v': 239,\n            'f': \"239\",\n        },\n{\n            'v': 42,\n            'f': \"42\",\n        },\n\"male\",\n{\n            'v': 2,\n            'f': \"2\",\n        },\n{\n            'v': 120,\n            'f': \"120\",\n        },\n{\n            'v': 295,\n            'f': \"295\",\n        },\n{\n            'v': 0,\n            'f': \"0\",\n        },\n{\n            'v': 0,\n            'f': \"0\",\n        },\n{\n            'v': 162,\n            'f': \"162\",\n        },\n{\n            'v': 0,\n            'f': \"0\",\n        },\n{\n            'v': 0.0,\n            'f': \"0.0\",\n        },\n{\n            'v': 1,\n            'f': \"1\",\n        },\n{\n            'v': 0.0,\n            'f': \"0.0\",\n        },\n{\n            'v': 3.0,\n            'f': \"3.0\",\n        },\n{\n            'v': 0,\n            'f': \"0\",\n        },\n{\n            'v': 0,\n            'f': \"0\",\n        },\n\"no\"],\n [{\n            'v': 240,\n            'f': \"240\",\n        },\n{\n            'v': 41,\n            'f': \"41\",\n        },\n\"male\",\n{\n            'v': 2,\n            'f': \"2\",\n        },\n{\n            'v': 110,\n            'f': \"110\",\n        },\n{\n            'v': 235,\n            'f': \"235\",\n        },\n{\n            'v': 0,\n            'f': \"0\",\n        },\n{\n            'v': 0,\n            'f': \"0\",\n        },\n{\n            'v': 153,\n            'f': \"153\",\n        },\n{\n            'v': 0,\n            'f': \"0\",\n        },\n{\n            'v': 0.0,\n            'f': \"0.0\",\n        },\n{\n            'v': 1,\n            'f': \"1\",\n        },\n{\n            'v': 0.0,\n            'f': \"0.0\",\n        },\n{\n            'v': 3.0,\n            'f': \"3.0\",\n        },\n{\n            'v': 0,\n            'f': \"0\",\n        },\n{\n            'v': 0,\n            'f': \"0\",\n        },\n\"no\"],\n [{\n            'v': 241,\n            'f': \"241\",\n        },\n{\n            'v': 41,\n            'f': \"41\",\n        },\n\"female\",\n{\n            'v': 2,\n            'f': \"2\",\n        },\n{\n            'v': 126,\n            'f': \"126\",\n        },\n{\n            'v': 306,\n            'f': \"306\",\n        },\n{\n            'v': 0,\n            'f': \"0\",\n        },\n{\n            'v': 0,\n            'f': \"0\",\n        },\n{\n            'v': 163,\n            'f': \"163\",\n        },\n{\n            'v': 0,\n            'f': \"0\",\n        },\n{\n            'v': 0.0,\n            'f': \"0.0\",\n        },\n{\n            'v': 1,\n            'f': \"1\",\n        },\n{\n            'v': 0.0,\n            'f': \"0.0\",\n        },\n{\n            'v': 3.0,\n            'f': \"3.0\",\n        },\n{\n            'v': 0,\n            'f': \"0\",\n        },\n{\n            'v': 0,\n            'f': \"0\",\n        },\n\"no\"],\n [{\n            'v': 242,\n            'f': \"242\",\n        },\n{\n            'v': 49,\n            'f': \"49\",\n        },\n\"female\",\n{\n            'v': 4,\n            'f': \"4\",\n        },\n{\n            'v': 130,\n            'f': \"130\",\n        },\n{\n            'v': 269,\n            'f': \"269\",\n        },\n{\n            'v': 0,\n            'f': \"0\",\n        },\n{\n            'v': 0,\n            'f': \"0\",\n        },\n{\n            'v': 163,\n            'f': \"163\",\n        },\n{\n            'v': 0,\n            'f': \"0\",\n        },\n{\n            'v': 0.0,\n            'f': \"0.0\",\n        },\n{\n            'v': 1,\n            'f': \"1\",\n        },\n{\n            'v': 0.0,\n            'f': \"0.0\",\n        },\n{\n            'v': 3.0,\n            'f': \"3.0\",\n        },\n{\n            'v': 0,\n            'f': \"0\",\n        },\n{\n            'v': 0,\n            'f': \"0\",\n        },\n\"no\"],\n [{\n            'v': 243,\n            'f': \"243\",\n        },\n{\n            'v': 61,\n            'f': \"61\",\n        },\n\"male\",\n{\n            'v': 1,\n            'f': \"1\",\n        },\n{\n            'v': 134,\n            'f': \"134\",\n        },\n{\n            'v': 234,\n            'f': \"234\",\n        },\n{\n            'v': 0,\n            'f': \"0\",\n        },\n{\n            'v': 0,\n            'f': \"0\",\n        },\n{\n            'v': 145,\n            'f': \"145\",\n        },\n{\n            'v': 0,\n            'f': \"0\",\n        },\n{\n            'v': 2.6,\n            'f': \"2.6\",\n        },\n{\n            'v': 2,\n            'f': \"2\",\n        },\n{\n            'v': 2.0,\n            'f': \"2.0\",\n        },\n{\n            'v': 3.0,\n            'f': \"3.0\",\n        },\n{\n            'v': 2,\n            'f': \"2\",\n        },\n{\n            'v': 0,\n            'f': \"0\",\n        },\n\"yes\"],\n [{\n            'v': 244,\n            'f': \"244\",\n        },\n{\n            'v': 60,\n            'f': \"60\",\n        },\n\"female\",\n{\n            'v': 3,\n            'f': \"3\",\n        },\n{\n            'v': 120,\n            'f': \"120\",\n        },\n{\n            'v': 178,\n            'f': \"178\",\n        },\n{\n            'v': 1,\n            'f': \"1\",\n        },\n{\n            'v': 0,\n            'f': \"0\",\n        },\n{\n            'v': 96,\n            'f': \"96\",\n        },\n{\n            'v': 0,\n            'f': \"0\",\n        },\n{\n            'v': 0.0,\n            'f': \"0.0\",\n        },\n{\n            'v': 1,\n            'f': \"1\",\n        },\n{\n            'v': 0.0,\n            'f': \"0.0\",\n        },\n{\n            'v': 3.0,\n            'f': \"3.0\",\n        },\n{\n            'v': 0,\n            'f': \"0\",\n        },\n{\n            'v': 0,\n            'f': \"0\",\n        },\n\"no\"],\n [{\n            'v': 245,\n            'f': \"245\",\n        },\n{\n            'v': 67,\n            'f': \"67\",\n        },\n\"male\",\n{\n            'v': 4,\n            'f': \"4\",\n        },\n{\n            'v': 120,\n            'f': \"120\",\n        },\n{\n            'v': 237,\n            'f': \"237\",\n        },\n{\n            'v': 0,\n            'f': \"0\",\n        },\n{\n            'v': 0,\n            'f': \"0\",\n        },\n{\n            'v': 71,\n            'f': \"71\",\n        },\n{\n            'v': 0,\n            'f': \"0\",\n        },\n{\n            'v': 1.0,\n            'f': \"1.0\",\n        },\n{\n            'v': 2,\n            'f': \"2\",\n        },\n{\n            'v': 0.0,\n            'f': \"0.0\",\n        },\n{\n            'v': 3.0,\n            'f': \"3.0\",\n        },\n{\n            'v': 2,\n            'f': \"2\",\n        },\n{\n            'v': 0,\n            'f': \"0\",\n        },\n\"yes\"],\n [{\n            'v': 246,\n            'f': \"246\",\n        },\n{\n            'v': 58,\n            'f': \"58\",\n        },\n\"male\",\n{\n            'v': 4,\n            'f': \"4\",\n        },\n{\n            'v': 100,\n            'f': \"100\",\n        },\n{\n            'v': 234,\n            'f': \"234\",\n        },\n{\n            'v': 0,\n            'f': \"0\",\n        },\n{\n            'v': 0,\n            'f': \"0\",\n        },\n{\n            'v': 156,\n            'f': \"156\",\n        },\n{\n            'v': 0,\n            'f': \"0\",\n        },\n{\n            'v': 0.1,\n            'f': \"0.1\",\n        },\n{\n            'v': 1,\n            'f': \"1\",\n        },\n{\n            'v': 1.0,\n            'f': \"1.0\",\n        },\n{\n            'v': 7.0,\n            'f': \"7.0\",\n        },\n{\n            'v': 2,\n            'f': \"2\",\n        },\n{\n            'v': 0,\n            'f': \"0\",\n        },\n\"yes\"],\n [{\n            'v': 247,\n            'f': \"247\",\n        },\n{\n            'v': 47,\n            'f': \"47\",\n        },\n\"male\",\n{\n            'v': 4,\n            'f': \"4\",\n        },\n{\n            'v': 110,\n            'f': \"110\",\n        },\n{\n            'v': 275,\n            'f': \"275\",\n        },\n{\n            'v': 0,\n            'f': \"0\",\n        },\n{\n            'v': 2,\n            'f': \"2\",\n        },\n{\n            'v': 118,\n            'f': \"118\",\n        },\n{\n            'v': 1,\n            'f': \"1\",\n        },\n{\n            'v': 1.0,\n            'f': \"1.0\",\n        },\n{\n            'v': 2,\n            'f': \"2\",\n        },\n{\n            'v': 1.0,\n            'f': \"1.0\",\n        },\n{\n            'v': 3.0,\n            'f': \"3.0\",\n        },\n{\n            'v': 1,\n            'f': \"1\",\n        },\n{\n            'v': 1,\n            'f': \"1\",\n        },\n\"yes\"],\n [{\n            'v': 248,\n            'f': \"248\",\n        },\n{\n            'v': 52,\n            'f': \"52\",\n        },\n\"male\",\n{\n            'v': 4,\n            'f': \"4\",\n        },\n{\n            'v': 125,\n            'f': \"125\",\n        },\n{\n            'v': 212,\n            'f': \"212\",\n        },\n{\n            'v': 0,\n            'f': \"0\",\n        },\n{\n            'v': 0,\n            'f': \"0\",\n        },\n{\n            'v': 168,\n            'f': \"168\",\n        },\n{\n            'v': 0,\n            'f': \"0\",\n        },\n{\n            'v': 1.0,\n            'f': \"1.0\",\n        },\n{\n            'v': 1,\n            'f': \"1\",\n        },\n{\n            'v': 2.0,\n            'f': \"2.0\",\n        },\n{\n            'v': 7.0,\n            'f': \"7.0\",\n        },\n{\n            'v': 3,\n            'f': \"3\",\n        },\n{\n            'v': 0,\n            'f': \"0\",\n        },\n\"yes\"],\n [{\n            'v': 249,\n            'f': \"249\",\n        },\n{\n            'v': 62,\n            'f': \"62\",\n        },\n\"male\",\n{\n            'v': 2,\n            'f': \"2\",\n        },\n{\n            'v': 128,\n            'f': \"128\",\n        },\n{\n            'v': 208,\n            'f': \"208\",\n        },\n{\n            'v': 1,\n            'f': \"1\",\n        },\n{\n            'v': 2,\n            'f': \"2\",\n        },\n{\n            'v': 140,\n            'f': \"140\",\n        },\n{\n            'v': 0,\n            'f': \"0\",\n        },\n{\n            'v': 0.0,\n            'f': \"0.0\",\n        },\n{\n            'v': 1,\n            'f': \"1\",\n        },\n{\n            'v': 0.0,\n            'f': \"0.0\",\n        },\n{\n            'v': 3.0,\n            'f': \"3.0\",\n        },\n{\n            'v': 0,\n            'f': \"0\",\n        },\n{\n            'v': 0,\n            'f': \"0\",\n        },\n\"no\"],\n [{\n            'v': 250,\n            'f': \"250\",\n        },\n{\n            'v': 57,\n            'f': \"57\",\n        },\n\"male\",\n{\n            'v': 4,\n            'f': \"4\",\n        },\n{\n            'v': 110,\n            'f': \"110\",\n        },\n{\n            'v': 201,\n            'f': \"201\",\n        },\n{\n            'v': 0,\n            'f': \"0\",\n        },\n{\n            'v': 0,\n            'f': \"0\",\n        },\n{\n            'v': 126,\n            'f': \"126\",\n        },\n{\n            'v': 1,\n            'f': \"1\",\n        },\n{\n            'v': 1.5,\n            'f': \"1.5\",\n        },\n{\n            'v': 2,\n            'f': \"2\",\n        },\n{\n            'v': 0.0,\n            'f': \"0.0\",\n        },\n{\n            'v': 6.0,\n            'f': \"6.0\",\n        },\n{\n            'v': 0,\n            'f': \"0\",\n        },\n{\n            'v': 1,\n            'f': \"1\",\n        },\n\"no\"],\n [{\n            'v': 251,\n            'f': \"251\",\n        },\n{\n            'v': 58,\n            'f': \"58\",\n        },\n\"male\",\n{\n            'v': 4,\n            'f': \"4\",\n        },\n{\n            'v': 146,\n            'f': \"146\",\n        },\n{\n            'v': 218,\n            'f': \"218\",\n        },\n{\n            'v': 0,\n            'f': \"0\",\n        },\n{\n            'v': 0,\n            'f': \"0\",\n        },\n{\n            'v': 105,\n            'f': \"105\",\n        },\n{\n            'v': 0,\n            'f': \"0\",\n        },\n{\n            'v': 2.0,\n            'f': \"2.0\",\n        },\n{\n            'v': 2,\n            'f': \"2\",\n        },\n{\n            'v': 1.0,\n            'f': \"1.0\",\n        },\n{\n            'v': 7.0,\n            'f': \"7.0\",\n        },\n{\n            'v': 1,\n            'f': \"1\",\n        },\n{\n            'v': 0,\n            'f': \"0\",\n        },\n\"yes\"],\n [{\n            'v': 252,\n            'f': \"252\",\n        },\n{\n            'v': 64,\n            'f': \"64\",\n        },\n\"male\",\n{\n            'v': 4,\n            'f': \"4\",\n        },\n{\n            'v': 128,\n            'f': \"128\",\n        },\n{\n            'v': 263,\n            'f': \"263\",\n        },\n{\n            'v': 0,\n            'f': \"0\",\n        },\n{\n            'v': 0,\n            'f': \"0\",\n        },\n{\n            'v': 105,\n            'f': \"105\",\n        },\n{\n            'v': 1,\n            'f': \"1\",\n        },\n{\n            'v': 0.2,\n            'f': \"0.2\",\n        },\n{\n            'v': 2,\n            'f': \"2\",\n        },\n{\n            'v': 1.0,\n            'f': \"1.0\",\n        },\n{\n            'v': 7.0,\n            'f': \"7.0\",\n        },\n{\n            'v': 0,\n            'f': \"0\",\n        },\n{\n            'v': 1,\n            'f': \"1\",\n        },\n\"no\"],\n [{\n            'v': 253,\n            'f': \"253\",\n        },\n{\n            'v': 51,\n            'f': \"51\",\n        },\n\"female\",\n{\n            'v': 3,\n            'f': \"3\",\n        },\n{\n            'v': 120,\n            'f': \"120\",\n        },\n{\n            'v': 295,\n            'f': \"295\",\n        },\n{\n            'v': 0,\n            'f': \"0\",\n        },\n{\n            'v': 2,\n            'f': \"2\",\n        },\n{\n            'v': 157,\n            'f': \"157\",\n        },\n{\n            'v': 0,\n            'f': \"0\",\n        },\n{\n            'v': 0.6,\n            'f': \"0.6\",\n        },\n{\n            'v': 1,\n            'f': \"1\",\n        },\n{\n            'v': 0.0,\n            'f': \"0.0\",\n        },\n{\n            'v': 3.0,\n            'f': \"3.0\",\n        },\n{\n            'v': 0,\n            'f': \"0\",\n        },\n{\n            'v': 0,\n            'f': \"0\",\n        },\n\"no\"],\n [{\n            'v': 254,\n            'f': \"254\",\n        },\n{\n            'v': 43,\n            'f': \"43\",\n        },\n\"male\",\n{\n            'v': 4,\n            'f': \"4\",\n        },\n{\n            'v': 115,\n            'f': \"115\",\n        },\n{\n            'v': 303,\n            'f': \"303\",\n        },\n{\n            'v': 0,\n            'f': \"0\",\n        },\n{\n            'v': 0,\n            'f': \"0\",\n        },\n{\n            'v': 181,\n            'f': \"181\",\n        },\n{\n            'v': 0,\n            'f': \"0\",\n        },\n{\n            'v': 1.2,\n            'f': \"1.2\",\n        },\n{\n            'v': 2,\n            'f': \"2\",\n        },\n{\n            'v': 0.0,\n            'f': \"0.0\",\n        },\n{\n            'v': 3.0,\n            'f': \"3.0\",\n        },\n{\n            'v': 0,\n            'f': \"0\",\n        },\n{\n            'v': 0,\n            'f': \"0\",\n        },\n\"no\"],\n [{\n            'v': 255,\n            'f': \"255\",\n        },\n{\n            'v': 42,\n            'f': \"42\",\n        },\n\"female\",\n{\n            'v': 3,\n            'f': \"3\",\n        },\n{\n            'v': 120,\n            'f': \"120\",\n        },\n{\n            'v': 209,\n            'f': \"209\",\n        },\n{\n            'v': 0,\n            'f': \"0\",\n        },\n{\n            'v': 0,\n            'f': \"0\",\n        },\n{\n            'v': 173,\n            'f': \"173\",\n        },\n{\n            'v': 0,\n            'f': \"0\",\n        },\n{\n            'v': 0.0,\n            'f': \"0.0\",\n        },\n{\n            'v': 2,\n            'f': \"2\",\n        },\n{\n            'v': 0.0,\n            'f': \"0.0\",\n        },\n{\n            'v': 3.0,\n            'f': \"3.0\",\n        },\n{\n            'v': 0,\n            'f': \"0\",\n        },\n{\n            'v': 0,\n            'f': \"0\",\n        },\n\"no\"],\n [{\n            'v': 256,\n            'f': \"256\",\n        },\n{\n            'v': 67,\n            'f': \"67\",\n        },\n\"female\",\n{\n            'v': 4,\n            'f': \"4\",\n        },\n{\n            'v': 106,\n            'f': \"106\",\n        },\n{\n            'v': 223,\n            'f': \"223\",\n        },\n{\n            'v': 0,\n            'f': \"0\",\n        },\n{\n            'v': 0,\n            'f': \"0\",\n        },\n{\n            'v': 142,\n            'f': \"142\",\n        },\n{\n            'v': 0,\n            'f': \"0\",\n        },\n{\n            'v': 0.3,\n            'f': \"0.3\",\n        },\n{\n            'v': 1,\n            'f': \"1\",\n        },\n{\n            'v': 2.0,\n            'f': \"2.0\",\n        },\n{\n            'v': 3.0,\n            'f': \"3.0\",\n        },\n{\n            'v': 0,\n            'f': \"0\",\n        },\n{\n            'v': 0,\n            'f': \"0\",\n        },\n\"no\"],\n [{\n            'v': 257,\n            'f': \"257\",\n        },\n{\n            'v': 76,\n            'f': \"76\",\n        },\n\"female\",\n{\n            'v': 3,\n            'f': \"3\",\n        },\n{\n            'v': 140,\n            'f': \"140\",\n        },\n{\n            'v': 197,\n            'f': \"197\",\n        },\n{\n            'v': 0,\n            'f': \"0\",\n        },\n{\n            'v': 1,\n            'f': \"1\",\n        },\n{\n            'v': 116,\n            'f': \"116\",\n        },\n{\n            'v': 0,\n            'f': \"0\",\n        },\n{\n            'v': 1.1,\n            'f': \"1.1\",\n        },\n{\n            'v': 2,\n            'f': \"2\",\n        },\n{\n            'v': 0.0,\n            'f': \"0.0\",\n        },\n{\n            'v': 3.0,\n            'f': \"3.0\",\n        },\n{\n            'v': 0,\n            'f': \"0\",\n        },\n{\n            'v': 0,\n            'f': \"0\",\n        },\n\"no\"],\n [{\n            'v': 258,\n            'f': \"258\",\n        },\n{\n            'v': 70,\n            'f': \"70\",\n        },\n\"male\",\n{\n            'v': 2,\n            'f': \"2\",\n        },\n{\n            'v': 156,\n            'f': \"156\",\n        },\n{\n            'v': 245,\n            'f': \"245\",\n        },\n{\n            'v': 0,\n            'f': \"0\",\n        },\n{\n            'v': 2,\n            'f': \"2\",\n        },\n{\n            'v': 143,\n            'f': \"143\",\n        },\n{\n            'v': 0,\n            'f': \"0\",\n        },\n{\n            'v': 0.0,\n            'f': \"0.0\",\n        },\n{\n            'v': 1,\n            'f': \"1\",\n        },\n{\n            'v': 0.0,\n            'f': \"0.0\",\n        },\n{\n            'v': 3.0,\n            'f': \"3.0\",\n        },\n{\n            'v': 0,\n            'f': \"0\",\n        },\n{\n            'v': 0,\n            'f': \"0\",\n        },\n\"no\"],\n [{\n            'v': 259,\n            'f': \"259\",\n        },\n{\n            'v': 57,\n            'f': \"57\",\n        },\n\"male\",\n{\n            'v': 2,\n            'f': \"2\",\n        },\n{\n            'v': 124,\n            'f': \"124\",\n        },\n{\n            'v': 261,\n            'f': \"261\",\n        },\n{\n            'v': 0,\n            'f': \"0\",\n        },\n{\n            'v': 0,\n            'f': \"0\",\n        },\n{\n            'v': 141,\n            'f': \"141\",\n        },\n{\n            'v': 0,\n            'f': \"0\",\n        },\n{\n            'v': 0.3,\n            'f': \"0.3\",\n        },\n{\n            'v': 1,\n            'f': \"1\",\n        },\n{\n            'v': 0.0,\n            'f': \"0.0\",\n        },\n{\n            'v': 7.0,\n            'f': \"7.0\",\n        },\n{\n            'v': 1,\n            'f': \"1\",\n        },\n{\n            'v': 0,\n            'f': \"0\",\n        },\n\"yes\"],\n [{\n            'v': 260,\n            'f': \"260\",\n        },\n{\n            'v': 44,\n            'f': \"44\",\n        },\n\"female\",\n{\n            'v': 3,\n            'f': \"3\",\n        },\n{\n            'v': 118,\n            'f': \"118\",\n        },\n{\n            'v': 242,\n            'f': \"242\",\n        },\n{\n            'v': 0,\n            'f': \"0\",\n        },\n{\n            'v': 0,\n            'f': \"0\",\n        },\n{\n            'v': 149,\n            'f': \"149\",\n        },\n{\n            'v': 0,\n            'f': \"0\",\n        },\n{\n            'v': 0.3,\n            'f': \"0.3\",\n        },\n{\n            'v': 2,\n            'f': \"2\",\n        },\n{\n            'v': 1.0,\n            'f': \"1.0\",\n        },\n{\n            'v': 3.0,\n            'f': \"3.0\",\n        },\n{\n            'v': 0,\n            'f': \"0\",\n        },\n{\n            'v': 0,\n            'f': \"0\",\n        },\n\"no\"],\n [{\n            'v': 261,\n            'f': \"261\",\n        },\n{\n            'v': 58,\n            'f': \"58\",\n        },\n\"female\",\n{\n            'v': 2,\n            'f': \"2\",\n        },\n{\n            'v': 136,\n            'f': \"136\",\n        },\n{\n            'v': 319,\n            'f': \"319\",\n        },\n{\n            'v': 1,\n            'f': \"1\",\n        },\n{\n            'v': 2,\n            'f': \"2\",\n        },\n{\n            'v': 152,\n            'f': \"152\",\n        },\n{\n            'v': 0,\n            'f': \"0\",\n        },\n{\n            'v': 0.0,\n            'f': \"0.0\",\n        },\n{\n            'v': 1,\n            'f': \"1\",\n        },\n{\n            'v': 2.0,\n            'f': \"2.0\",\n        },\n{\n            'v': 3.0,\n            'f': \"3.0\",\n        },\n{\n            'v': 3,\n            'f': \"3\",\n        },\n{\n            'v': 0,\n            'f': \"0\",\n        },\n\"yes\"],\n [{\n            'v': 262,\n            'f': \"262\",\n        },\n{\n            'v': 60,\n            'f': \"60\",\n        },\n\"female\",\n{\n            'v': 1,\n            'f': \"1\",\n        },\n{\n            'v': 150,\n            'f': \"150\",\n        },\n{\n            'v': 240,\n            'f': \"240\",\n        },\n{\n            'v': 0,\n            'f': \"0\",\n        },\n{\n            'v': 0,\n            'f': \"0\",\n        },\n{\n            'v': 171,\n            'f': \"171\",\n        },\n{\n            'v': 0,\n            'f': \"0\",\n        },\n{\n            'v': 0.9,\n            'f': \"0.9\",\n        },\n{\n            'v': 1,\n            'f': \"1\",\n        },\n{\n            'v': 0.0,\n            'f': \"0.0\",\n        },\n{\n            'v': 3.0,\n            'f': \"3.0\",\n        },\n{\n            'v': 0,\n            'f': \"0\",\n        },\n{\n            'v': 0,\n            'f': \"0\",\n        },\n\"no\"],\n [{\n            'v': 263,\n            'f': \"263\",\n        },\n{\n            'v': 44,\n            'f': \"44\",\n        },\n\"male\",\n{\n            'v': 3,\n            'f': \"3\",\n        },\n{\n            'v': 120,\n            'f': \"120\",\n        },\n{\n            'v': 226,\n            'f': \"226\",\n        },\n{\n            'v': 0,\n            'f': \"0\",\n        },\n{\n            'v': 0,\n            'f': \"0\",\n        },\n{\n            'v': 169,\n            'f': \"169\",\n        },\n{\n            'v': 0,\n            'f': \"0\",\n        },\n{\n            'v': 0.0,\n            'f': \"0.0\",\n        },\n{\n            'v': 1,\n            'f': \"1\",\n        },\n{\n            'v': 0.0,\n            'f': \"0.0\",\n        },\n{\n            'v': 3.0,\n            'f': \"3.0\",\n        },\n{\n            'v': 0,\n            'f': \"0\",\n        },\n{\n            'v': 0,\n            'f': \"0\",\n        },\n\"no\"],\n [{\n            'v': 264,\n            'f': \"264\",\n        },\n{\n            'v': 61,\n            'f': \"61\",\n        },\n\"male\",\n{\n            'v': 4,\n            'f': \"4\",\n        },\n{\n            'v': 138,\n            'f': \"138\",\n        },\n{\n            'v': 166,\n            'f': \"166\",\n        },\n{\n            'v': 0,\n            'f': \"0\",\n        },\n{\n            'v': 2,\n            'f': \"2\",\n        },\n{\n            'v': 125,\n            'f': \"125\",\n        },\n{\n            'v': 1,\n            'f': \"1\",\n        },\n{\n            'v': 3.6,\n            'f': \"3.6\",\n        },\n{\n            'v': 2,\n            'f': \"2\",\n        },\n{\n            'v': 1.0,\n            'f': \"1.0\",\n        },\n{\n            'v': 3.0,\n            'f': \"3.0\",\n        },\n{\n            'v': 4,\n            'f': \"4\",\n        },\n{\n            'v': 1,\n            'f': \"1\",\n        },\n\"yes\"],\n [{\n            'v': 265,\n            'f': \"265\",\n        },\n{\n            'v': 42,\n            'f': \"42\",\n        },\n\"male\",\n{\n            'v': 4,\n            'f': \"4\",\n        },\n{\n            'v': 136,\n            'f': \"136\",\n        },\n{\n            'v': 315,\n            'f': \"315\",\n        },\n{\n            'v': 0,\n            'f': \"0\",\n        },\n{\n            'v': 0,\n            'f': \"0\",\n        },\n{\n            'v': 125,\n            'f': \"125\",\n        },\n{\n            'v': 1,\n            'f': \"1\",\n        },\n{\n            'v': 1.8,\n            'f': \"1.8\",\n        },\n{\n            'v': 2,\n            'f': \"2\",\n        },\n{\n            'v': 0.0,\n            'f': \"0.0\",\n        },\n{\n            'v': 6.0,\n            'f': \"6.0\",\n        },\n{\n            'v': 2,\n            'f': \"2\",\n        },\n{\n            'v': 1,\n            'f': \"1\",\n        },\n\"yes\"],\n [{\n            'v': 266,\n            'f': \"266\",\n        },\n{\n            'v': 52,\n            'f': \"52\",\n        },\n\"male\",\n{\n            'v': 4,\n            'f': \"4\",\n        },\n{\n            'v': 128,\n            'f': \"128\",\n        },\n{\n            'v': 204,\n            'f': \"204\",\n        },\n{\n            'v': 1,\n            'f': \"1\",\n        },\n{\n            'v': 0,\n            'f': \"0\",\n        },\n{\n            'v': 156,\n            'f': \"156\",\n        },\n{\n            'v': 1,\n            'f': \"1\",\n        },\n{\n            'v': 1.0,\n            'f': \"1.0\",\n        },\n{\n            'v': 2,\n            'f': \"2\",\n        },\n{\n            'v': 0.0,\n            'f': \"0.0\",\n        },\n{\n            'v': NaN,\n            'f': \"NaN\",\n        },\n{\n            'v': 2,\n            'f': \"2\",\n        },\n{\n            'v': 1,\n            'f': \"1\",\n        },\n\"yes\"],\n [{\n            'v': 267,\n            'f': \"267\",\n        },\n{\n            'v': 59,\n            'f': \"59\",\n        },\n\"male\",\n{\n            'v': 3,\n            'f': \"3\",\n        },\n{\n            'v': 126,\n            'f': \"126\",\n        },\n{\n            'v': 218,\n            'f': \"218\",\n        },\n{\n            'v': 1,\n            'f': \"1\",\n        },\n{\n            'v': 0,\n            'f': \"0\",\n        },\n{\n            'v': 134,\n            'f': \"134\",\n        },\n{\n            'v': 0,\n            'f': \"0\",\n        },\n{\n            'v': 2.2,\n            'f': \"2.2\",\n        },\n{\n            'v': 2,\n            'f': \"2\",\n        },\n{\n            'v': 1.0,\n            'f': \"1.0\",\n        },\n{\n            'v': 6.0,\n            'f': \"6.0\",\n        },\n{\n            'v': 2,\n            'f': \"2\",\n        },\n{\n            'v': 0,\n            'f': \"0\",\n        },\n\"yes\"],\n [{\n            'v': 268,\n            'f': \"268\",\n        },\n{\n            'v': 40,\n            'f': \"40\",\n        },\n\"male\",\n{\n            'v': 4,\n            'f': \"4\",\n        },\n{\n            'v': 152,\n            'f': \"152\",\n        },\n{\n            'v': 223,\n            'f': \"223\",\n        },\n{\n            'v': 0,\n            'f': \"0\",\n        },\n{\n            'v': 0,\n            'f': \"0\",\n        },\n{\n            'v': 181,\n            'f': \"181\",\n        },\n{\n            'v': 0,\n            'f': \"0\",\n        },\n{\n            'v': 0.0,\n            'f': \"0.0\",\n        },\n{\n            'v': 1,\n            'f': \"1\",\n        },\n{\n            'v': 0.0,\n            'f': \"0.0\",\n        },\n{\n            'v': 7.0,\n            'f': \"7.0\",\n        },\n{\n            'v': 1,\n            'f': \"1\",\n        },\n{\n            'v': 0,\n            'f': \"0\",\n        },\n\"yes\"],\n [{\n            'v': 269,\n            'f': \"269\",\n        },\n{\n            'v': 42,\n            'f': \"42\",\n        },\n\"male\",\n{\n            'v': 3,\n            'f': \"3\",\n        },\n{\n            'v': 130,\n            'f': \"130\",\n        },\n{\n            'v': 180,\n            'f': \"180\",\n        },\n{\n            'v': 0,\n            'f': \"0\",\n        },\n{\n            'v': 0,\n            'f': \"0\",\n        },\n{\n            'v': 150,\n            'f': \"150\",\n        },\n{\n            'v': 0,\n            'f': \"0\",\n        },\n{\n            'v': 0.0,\n            'f': \"0.0\",\n        },\n{\n            'v': 1,\n            'f': \"1\",\n        },\n{\n            'v': 0.0,\n            'f': \"0.0\",\n        },\n{\n            'v': 3.0,\n            'f': \"3.0\",\n        },\n{\n            'v': 0,\n            'f': \"0\",\n        },\n{\n            'v': 0,\n            'f': \"0\",\n        },\n\"no\"],\n [{\n            'v': 270,\n            'f': \"270\",\n        },\n{\n            'v': 61,\n            'f': \"61\",\n        },\n\"male\",\n{\n            'v': 4,\n            'f': \"4\",\n        },\n{\n            'v': 140,\n            'f': \"140\",\n        },\n{\n            'v': 207,\n            'f': \"207\",\n        },\n{\n            'v': 0,\n            'f': \"0\",\n        },\n{\n            'v': 2,\n            'f': \"2\",\n        },\n{\n            'v': 138,\n            'f': \"138\",\n        },\n{\n            'v': 1,\n            'f': \"1\",\n        },\n{\n            'v': 1.9,\n            'f': \"1.9\",\n        },\n{\n            'v': 1,\n            'f': \"1\",\n        },\n{\n            'v': 1.0,\n            'f': \"1.0\",\n        },\n{\n            'v': 7.0,\n            'f': \"7.0\",\n        },\n{\n            'v': 1,\n            'f': \"1\",\n        },\n{\n            'v': 1,\n            'f': \"1\",\n        },\n\"yes\"],\n [{\n            'v': 271,\n            'f': \"271\",\n        },\n{\n            'v': 66,\n            'f': \"66\",\n        },\n\"male\",\n{\n            'v': 4,\n            'f': \"4\",\n        },\n{\n            'v': 160,\n            'f': \"160\",\n        },\n{\n            'v': 228,\n            'f': \"228\",\n        },\n{\n            'v': 0,\n            'f': \"0\",\n        },\n{\n            'v': 2,\n            'f': \"2\",\n        },\n{\n            'v': 138,\n            'f': \"138\",\n        },\n{\n            'v': 0,\n            'f': \"0\",\n        },\n{\n            'v': 2.3,\n            'f': \"2.3\",\n        },\n{\n            'v': 1,\n            'f': \"1\",\n        },\n{\n            'v': 0.0,\n            'f': \"0.0\",\n        },\n{\n            'v': 6.0,\n            'f': \"6.0\",\n        },\n{\n            'v': 0,\n            'f': \"0\",\n        },\n{\n            'v': 0,\n            'f': \"0\",\n        },\n\"no\"],\n [{\n            'v': 272,\n            'f': \"272\",\n        },\n{\n            'v': 46,\n            'f': \"46\",\n        },\n\"male\",\n{\n            'v': 4,\n            'f': \"4\",\n        },\n{\n            'v': 140,\n            'f': \"140\",\n        },\n{\n            'v': 311,\n            'f': \"311\",\n        },\n{\n            'v': 0,\n            'f': \"0\",\n        },\n{\n            'v': 0,\n            'f': \"0\",\n        },\n{\n            'v': 120,\n            'f': \"120\",\n        },\n{\n            'v': 1,\n            'f': \"1\",\n        },\n{\n            'v': 1.8,\n            'f': \"1.8\",\n        },\n{\n            'v': 2,\n            'f': \"2\",\n        },\n{\n            'v': 2.0,\n            'f': \"2.0\",\n        },\n{\n            'v': 7.0,\n            'f': \"7.0\",\n        },\n{\n            'v': 2,\n            'f': \"2\",\n        },\n{\n            'v': 1,\n            'f': \"1\",\n        },\n\"yes\"],\n [{\n            'v': 273,\n            'f': \"273\",\n        },\n{\n            'v': 71,\n            'f': \"71\",\n        },\n\"female\",\n{\n            'v': 4,\n            'f': \"4\",\n        },\n{\n            'v': 112,\n            'f': \"112\",\n        },\n{\n            'v': 149,\n            'f': \"149\",\n        },\n{\n            'v': 0,\n            'f': \"0\",\n        },\n{\n            'v': 0,\n            'f': \"0\",\n        },\n{\n            'v': 125,\n            'f': \"125\",\n        },\n{\n            'v': 0,\n            'f': \"0\",\n        },\n{\n            'v': 1.6,\n            'f': \"1.6\",\n        },\n{\n            'v': 2,\n            'f': \"2\",\n        },\n{\n            'v': 0.0,\n            'f': \"0.0\",\n        },\n{\n            'v': 3.0,\n            'f': \"3.0\",\n        },\n{\n            'v': 0,\n            'f': \"0\",\n        },\n{\n            'v': 0,\n            'f': \"0\",\n        },\n\"no\"],\n [{\n            'v': 274,\n            'f': \"274\",\n        },\n{\n            'v': 59,\n            'f': \"59\",\n        },\n\"male\",\n{\n            'v': 1,\n            'f': \"1\",\n        },\n{\n            'v': 134,\n            'f': \"134\",\n        },\n{\n            'v': 204,\n            'f': \"204\",\n        },\n{\n            'v': 0,\n            'f': \"0\",\n        },\n{\n            'v': 0,\n            'f': \"0\",\n        },\n{\n            'v': 162,\n            'f': \"162\",\n        },\n{\n            'v': 0,\n            'f': \"0\",\n        },\n{\n            'v': 0.8,\n            'f': \"0.8\",\n        },\n{\n            'v': 1,\n            'f': \"1\",\n        },\n{\n            'v': 2.0,\n            'f': \"2.0\",\n        },\n{\n            'v': 3.0,\n            'f': \"3.0\",\n        },\n{\n            'v': 1,\n            'f': \"1\",\n        },\n{\n            'v': 0,\n            'f': \"0\",\n        },\n\"yes\"],\n [{\n            'v': 275,\n            'f': \"275\",\n        },\n{\n            'v': 64,\n            'f': \"64\",\n        },\n\"male\",\n{\n            'v': 1,\n            'f': \"1\",\n        },\n{\n            'v': 170,\n            'f': \"170\",\n        },\n{\n            'v': 227,\n            'f': \"227\",\n        },\n{\n            'v': 0,\n            'f': \"0\",\n        },\n{\n            'v': 2,\n            'f': \"2\",\n        },\n{\n            'v': 155,\n            'f': \"155\",\n        },\n{\n            'v': 0,\n            'f': \"0\",\n        },\n{\n            'v': 0.6,\n            'f': \"0.6\",\n        },\n{\n            'v': 2,\n            'f': \"2\",\n        },\n{\n            'v': 0.0,\n            'f': \"0.0\",\n        },\n{\n            'v': 7.0,\n            'f': \"7.0\",\n        },\n{\n            'v': 0,\n            'f': \"0\",\n        },\n{\n            'v': 0,\n            'f': \"0\",\n        },\n\"no\"],\n [{\n            'v': 276,\n            'f': \"276\",\n        },\n{\n            'v': 66,\n            'f': \"66\",\n        },\n\"female\",\n{\n            'v': 3,\n            'f': \"3\",\n        },\n{\n            'v': 146,\n            'f': \"146\",\n        },\n{\n            'v': 278,\n            'f': \"278\",\n        },\n{\n            'v': 0,\n            'f': \"0\",\n        },\n{\n            'v': 2,\n            'f': \"2\",\n        },\n{\n            'v': 152,\n            'f': \"152\",\n        },\n{\n            'v': 0,\n            'f': \"0\",\n        },\n{\n            'v': 0.0,\n            'f': \"0.0\",\n        },\n{\n            'v': 2,\n            'f': \"2\",\n        },\n{\n            'v': 1.0,\n            'f': \"1.0\",\n        },\n{\n            'v': 3.0,\n            'f': \"3.0\",\n        },\n{\n            'v': 0,\n            'f': \"0\",\n        },\n{\n            'v': 0,\n            'f': \"0\",\n        },\n\"no\"],\n [{\n            'v': 277,\n            'f': \"277\",\n        },\n{\n            'v': 39,\n            'f': \"39\",\n        },\n\"female\",\n{\n            'v': 3,\n            'f': \"3\",\n        },\n{\n            'v': 138,\n            'f': \"138\",\n        },\n{\n            'v': 220,\n            'f': \"220\",\n        },\n{\n            'v': 0,\n            'f': \"0\",\n        },\n{\n            'v': 0,\n            'f': \"0\",\n        },\n{\n            'v': 152,\n            'f': \"152\",\n        },\n{\n            'v': 0,\n            'f': \"0\",\n        },\n{\n            'v': 0.0,\n            'f': \"0.0\",\n        },\n{\n            'v': 2,\n            'f': \"2\",\n        },\n{\n            'v': 0.0,\n            'f': \"0.0\",\n        },\n{\n            'v': 3.0,\n            'f': \"3.0\",\n        },\n{\n            'v': 0,\n            'f': \"0\",\n        },\n{\n            'v': 0,\n            'f': \"0\",\n        },\n\"no\"],\n [{\n            'v': 278,\n            'f': \"278\",\n        },\n{\n            'v': 57,\n            'f': \"57\",\n        },\n\"male\",\n{\n            'v': 2,\n            'f': \"2\",\n        },\n{\n            'v': 154,\n            'f': \"154\",\n        },\n{\n            'v': 232,\n            'f': \"232\",\n        },\n{\n            'v': 0,\n            'f': \"0\",\n        },\n{\n            'v': 2,\n            'f': \"2\",\n        },\n{\n            'v': 164,\n            'f': \"164\",\n        },\n{\n            'v': 0,\n            'f': \"0\",\n        },\n{\n            'v': 0.0,\n            'f': \"0.0\",\n        },\n{\n            'v': 1,\n            'f': \"1\",\n        },\n{\n            'v': 1.0,\n            'f': \"1.0\",\n        },\n{\n            'v': 3.0,\n            'f': \"3.0\",\n        },\n{\n            'v': 1,\n            'f': \"1\",\n        },\n{\n            'v': 0,\n            'f': \"0\",\n        },\n\"yes\"],\n [{\n            'v': 279,\n            'f': \"279\",\n        },\n{\n            'v': 58,\n            'f': \"58\",\n        },\n\"female\",\n{\n            'v': 4,\n            'f': \"4\",\n        },\n{\n            'v': 130,\n            'f': \"130\",\n        },\n{\n            'v': 197,\n            'f': \"197\",\n        },\n{\n            'v': 0,\n            'f': \"0\",\n        },\n{\n            'v': 0,\n            'f': \"0\",\n        },\n{\n            'v': 131,\n            'f': \"131\",\n        },\n{\n            'v': 0,\n            'f': \"0\",\n        },\n{\n            'v': 0.6,\n            'f': \"0.6\",\n        },\n{\n            'v': 2,\n            'f': \"2\",\n        },\n{\n            'v': 0.0,\n            'f': \"0.0\",\n        },\n{\n            'v': 3.0,\n            'f': \"3.0\",\n        },\n{\n            'v': 0,\n            'f': \"0\",\n        },\n{\n            'v': 0,\n            'f': \"0\",\n        },\n\"no\"],\n [{\n            'v': 280,\n            'f': \"280\",\n        },\n{\n            'v': 57,\n            'f': \"57\",\n        },\n\"male\",\n{\n            'v': 4,\n            'f': \"4\",\n        },\n{\n            'v': 110,\n            'f': \"110\",\n        },\n{\n            'v': 335,\n            'f': \"335\",\n        },\n{\n            'v': 0,\n            'f': \"0\",\n        },\n{\n            'v': 0,\n            'f': \"0\",\n        },\n{\n            'v': 143,\n            'f': \"143\",\n        },\n{\n            'v': 1,\n            'f': \"1\",\n        },\n{\n            'v': 3.0,\n            'f': \"3.0\",\n        },\n{\n            'v': 2,\n            'f': \"2\",\n        },\n{\n            'v': 1.0,\n            'f': \"1.0\",\n        },\n{\n            'v': 7.0,\n            'f': \"7.0\",\n        },\n{\n            'v': 2,\n            'f': \"2\",\n        },\n{\n            'v': 1,\n            'f': \"1\",\n        },\n\"yes\"],\n [{\n            'v': 281,\n            'f': \"281\",\n        },\n{\n            'v': 47,\n            'f': \"47\",\n        },\n\"male\",\n{\n            'v': 3,\n            'f': \"3\",\n        },\n{\n            'v': 130,\n            'f': \"130\",\n        },\n{\n            'v': 253,\n            'f': \"253\",\n        },\n{\n            'v': 0,\n            'f': \"0\",\n        },\n{\n            'v': 0,\n            'f': \"0\",\n        },\n{\n            'v': 179,\n            'f': \"179\",\n        },\n{\n            'v': 0,\n            'f': \"0\",\n        },\n{\n            'v': 0.0,\n            'f': \"0.0\",\n        },\n{\n            'v': 1,\n            'f': \"1\",\n        },\n{\n            'v': 0.0,\n            'f': \"0.0\",\n        },\n{\n            'v': 3.0,\n            'f': \"3.0\",\n        },\n{\n            'v': 0,\n            'f': \"0\",\n        },\n{\n            'v': 0,\n            'f': \"0\",\n        },\n\"no\"],\n [{\n            'v': 282,\n            'f': \"282\",\n        },\n{\n            'v': 55,\n            'f': \"55\",\n        },\n\"female\",\n{\n            'v': 4,\n            'f': \"4\",\n        },\n{\n            'v': 128,\n            'f': \"128\",\n        },\n{\n            'v': 205,\n            'f': \"205\",\n        },\n{\n            'v': 0,\n            'f': \"0\",\n        },\n{\n            'v': 1,\n            'f': \"1\",\n        },\n{\n            'v': 130,\n            'f': \"130\",\n        },\n{\n            'v': 1,\n            'f': \"1\",\n        },\n{\n            'v': 2.0,\n            'f': \"2.0\",\n        },\n{\n            'v': 2,\n            'f': \"2\",\n        },\n{\n            'v': 1.0,\n            'f': \"1.0\",\n        },\n{\n            'v': 7.0,\n            'f': \"7.0\",\n        },\n{\n            'v': 3,\n            'f': \"3\",\n        },\n{\n            'v': 1,\n            'f': \"1\",\n        },\n\"yes\"],\n [{\n            'v': 283,\n            'f': \"283\",\n        },\n{\n            'v': 35,\n            'f': \"35\",\n        },\n\"male\",\n{\n            'v': 2,\n            'f': \"2\",\n        },\n{\n            'v': 122,\n            'f': \"122\",\n        },\n{\n            'v': 192,\n            'f': \"192\",\n        },\n{\n            'v': 0,\n            'f': \"0\",\n        },\n{\n            'v': 0,\n            'f': \"0\",\n        },\n{\n            'v': 174,\n            'f': \"174\",\n        },\n{\n            'v': 0,\n            'f': \"0\",\n        },\n{\n            'v': 0.0,\n            'f': \"0.0\",\n        },\n{\n            'v': 1,\n            'f': \"1\",\n        },\n{\n            'v': 0.0,\n            'f': \"0.0\",\n        },\n{\n            'v': 3.0,\n            'f': \"3.0\",\n        },\n{\n            'v': 0,\n            'f': \"0\",\n        },\n{\n            'v': 0,\n            'f': \"0\",\n        },\n\"no\"],\n [{\n            'v': 284,\n            'f': \"284\",\n        },\n{\n            'v': 61,\n            'f': \"61\",\n        },\n\"male\",\n{\n            'v': 4,\n            'f': \"4\",\n        },\n{\n            'v': 148,\n            'f': \"148\",\n        },\n{\n            'v': 203,\n            'f': \"203\",\n        },\n{\n            'v': 0,\n            'f': \"0\",\n        },\n{\n            'v': 0,\n            'f': \"0\",\n        },\n{\n            'v': 161,\n            'f': \"161\",\n        },\n{\n            'v': 0,\n            'f': \"0\",\n        },\n{\n            'v': 0.0,\n            'f': \"0.0\",\n        },\n{\n            'v': 1,\n            'f': \"1\",\n        },\n{\n            'v': 1.0,\n            'f': \"1.0\",\n        },\n{\n            'v': 7.0,\n            'f': \"7.0\",\n        },\n{\n            'v': 2,\n            'f': \"2\",\n        },\n{\n            'v': 0,\n            'f': \"0\",\n        },\n\"yes\"],\n [{\n            'v': 285,\n            'f': \"285\",\n        },\n{\n            'v': 58,\n            'f': \"58\",\n        },\n\"male\",\n{\n            'v': 4,\n            'f': \"4\",\n        },\n{\n            'v': 114,\n            'f': \"114\",\n        },\n{\n            'v': 318,\n            'f': \"318\",\n        },\n{\n            'v': 0,\n            'f': \"0\",\n        },\n{\n            'v': 1,\n            'f': \"1\",\n        },\n{\n            'v': 140,\n            'f': \"140\",\n        },\n{\n            'v': 0,\n            'f': \"0\",\n        },\n{\n            'v': 4.4,\n            'f': \"4.4\",\n        },\n{\n            'v': 3,\n            'f': \"3\",\n        },\n{\n            'v': 3.0,\n            'f': \"3.0\",\n        },\n{\n            'v': 6.0,\n            'f': \"6.0\",\n        },\n{\n            'v': 4,\n            'f': \"4\",\n        },\n{\n            'v': 0,\n            'f': \"0\",\n        },\n\"yes\"],\n [{\n            'v': 286,\n            'f': \"286\",\n        },\n{\n            'v': 58,\n            'f': \"58\",\n        },\n\"female\",\n{\n            'v': 4,\n            'f': \"4\",\n        },\n{\n            'v': 170,\n            'f': \"170\",\n        },\n{\n            'v': 225,\n            'f': \"225\",\n        },\n{\n            'v': 1,\n            'f': \"1\",\n        },\n{\n            'v': 2,\n            'f': \"2\",\n        },\n{\n            'v': 146,\n            'f': \"146\",\n        },\n{\n            'v': 1,\n            'f': \"1\",\n        },\n{\n            'v': 2.8,\n            'f': \"2.8\",\n        },\n{\n            'v': 2,\n            'f': \"2\",\n        },\n{\n            'v': 2.0,\n            'f': \"2.0\",\n        },\n{\n            'v': 6.0,\n            'f': \"6.0\",\n        },\n{\n            'v': 2,\n            'f': \"2\",\n        },\n{\n            'v': 1,\n            'f': \"1\",\n        },\n\"yes\"],\n [{\n            'v': 287,\n            'f': \"287\",\n        },\n{\n            'v': 58,\n            'f': \"58\",\n        },\n\"male\",\n{\n            'v': 2,\n            'f': \"2\",\n        },\n{\n            'v': 125,\n            'f': \"125\",\n        },\n{\n            'v': 220,\n            'f': \"220\",\n        },\n{\n            'v': 0,\n            'f': \"0\",\n        },\n{\n            'v': 0,\n            'f': \"0\",\n        },\n{\n            'v': 144,\n            'f': \"144\",\n        },\n{\n            'v': 0,\n            'f': \"0\",\n        },\n{\n            'v': 0.4,\n            'f': \"0.4\",\n        },\n{\n            'v': 2,\n            'f': \"2\",\n        },\n{\n            'v': NaN,\n            'f': \"NaN\",\n        },\n{\n            'v': 7.0,\n            'f': \"7.0\",\n        },\n{\n            'v': 0,\n            'f': \"0\",\n        },\n{\n            'v': 0,\n            'f': \"0\",\n        },\n\"no\"],\n [{\n            'v': 288,\n            'f': \"288\",\n        },\n{\n            'v': 56,\n            'f': \"56\",\n        },\n\"male\",\n{\n            'v': 2,\n            'f': \"2\",\n        },\n{\n            'v': 130,\n            'f': \"130\",\n        },\n{\n            'v': 221,\n            'f': \"221\",\n        },\n{\n            'v': 0,\n            'f': \"0\",\n        },\n{\n            'v': 2,\n            'f': \"2\",\n        },\n{\n            'v': 163,\n            'f': \"163\",\n        },\n{\n            'v': 0,\n            'f': \"0\",\n        },\n{\n            'v': 0.0,\n            'f': \"0.0\",\n        },\n{\n            'v': 1,\n            'f': \"1\",\n        },\n{\n            'v': 0.0,\n            'f': \"0.0\",\n        },\n{\n            'v': 7.0,\n            'f': \"7.0\",\n        },\n{\n            'v': 0,\n            'f': \"0\",\n        },\n{\n            'v': 0,\n            'f': \"0\",\n        },\n\"no\"],\n [{\n            'v': 289,\n            'f': \"289\",\n        },\n{\n            'v': 56,\n            'f': \"56\",\n        },\n\"male\",\n{\n            'v': 2,\n            'f': \"2\",\n        },\n{\n            'v': 120,\n            'f': \"120\",\n        },\n{\n            'v': 240,\n            'f': \"240\",\n        },\n{\n            'v': 0,\n            'f': \"0\",\n        },\n{\n            'v': 0,\n            'f': \"0\",\n        },\n{\n            'v': 169,\n            'f': \"169\",\n        },\n{\n            'v': 0,\n            'f': \"0\",\n        },\n{\n            'v': 0.0,\n            'f': \"0.0\",\n        },\n{\n            'v': 3,\n            'f': \"3\",\n        },\n{\n            'v': 0.0,\n            'f': \"0.0\",\n        },\n{\n            'v': 3.0,\n            'f': \"3.0\",\n        },\n{\n            'v': 0,\n            'f': \"0\",\n        },\n{\n            'v': 0,\n            'f': \"0\",\n        },\n\"no\"],\n [{\n            'v': 290,\n            'f': \"290\",\n        },\n{\n            'v': 67,\n            'f': \"67\",\n        },\n\"male\",\n{\n            'v': 3,\n            'f': \"3\",\n        },\n{\n            'v': 152,\n            'f': \"152\",\n        },\n{\n            'v': 212,\n            'f': \"212\",\n        },\n{\n            'v': 0,\n            'f': \"0\",\n        },\n{\n            'v': 2,\n            'f': \"2\",\n        },\n{\n            'v': 150,\n            'f': \"150\",\n        },\n{\n            'v': 0,\n            'f': \"0\",\n        },\n{\n            'v': 0.8,\n            'f': \"0.8\",\n        },\n{\n            'v': 2,\n            'f': \"2\",\n        },\n{\n            'v': 0.0,\n            'f': \"0.0\",\n        },\n{\n            'v': 7.0,\n            'f': \"7.0\",\n        },\n{\n            'v': 1,\n            'f': \"1\",\n        },\n{\n            'v': 0,\n            'f': \"0\",\n        },\n\"yes\"],\n [{\n            'v': 291,\n            'f': \"291\",\n        },\n{\n            'v': 55,\n            'f': \"55\",\n        },\n\"female\",\n{\n            'v': 2,\n            'f': \"2\",\n        },\n{\n            'v': 132,\n            'f': \"132\",\n        },\n{\n            'v': 342,\n            'f': \"342\",\n        },\n{\n            'v': 0,\n            'f': \"0\",\n        },\n{\n            'v': 0,\n            'f': \"0\",\n        },\n{\n            'v': 166,\n            'f': \"166\",\n        },\n{\n            'v': 0,\n            'f': \"0\",\n        },\n{\n            'v': 1.2,\n            'f': \"1.2\",\n        },\n{\n            'v': 1,\n            'f': \"1\",\n        },\n{\n            'v': 0.0,\n            'f': \"0.0\",\n        },\n{\n            'v': 3.0,\n            'f': \"3.0\",\n        },\n{\n            'v': 0,\n            'f': \"0\",\n        },\n{\n            'v': 0,\n            'f': \"0\",\n        },\n\"no\"],\n [{\n            'v': 292,\n            'f': \"292\",\n        },\n{\n            'v': 44,\n            'f': \"44\",\n        },\n\"male\",\n{\n            'v': 4,\n            'f': \"4\",\n        },\n{\n            'v': 120,\n            'f': \"120\",\n        },\n{\n            'v': 169,\n            'f': \"169\",\n        },\n{\n            'v': 0,\n            'f': \"0\",\n        },\n{\n            'v': 0,\n            'f': \"0\",\n        },\n{\n            'v': 144,\n            'f': \"144\",\n        },\n{\n            'v': 1,\n            'f': \"1\",\n        },\n{\n            'v': 2.8,\n            'f': \"2.8\",\n        },\n{\n            'v': 3,\n            'f': \"3\",\n        },\n{\n            'v': 0.0,\n            'f': \"0.0\",\n        },\n{\n            'v': 6.0,\n            'f': \"6.0\",\n        },\n{\n            'v': 2,\n            'f': \"2\",\n        },\n{\n            'v': 1,\n            'f': \"1\",\n        },\n\"yes\"],\n [{\n            'v': 293,\n            'f': \"293\",\n        },\n{\n            'v': 63,\n            'f': \"63\",\n        },\n\"male\",\n{\n            'v': 4,\n            'f': \"4\",\n        },\n{\n            'v': 140,\n            'f': \"140\",\n        },\n{\n            'v': 187,\n            'f': \"187\",\n        },\n{\n            'v': 0,\n            'f': \"0\",\n        },\n{\n            'v': 2,\n            'f': \"2\",\n        },\n{\n            'v': 144,\n            'f': \"144\",\n        },\n{\n            'v': 1,\n            'f': \"1\",\n        },\n{\n            'v': 4.0,\n            'f': \"4.0\",\n        },\n{\n            'v': 1,\n            'f': \"1\",\n        },\n{\n            'v': 2.0,\n            'f': \"2.0\",\n        },\n{\n            'v': 7.0,\n            'f': \"7.0\",\n        },\n{\n            'v': 2,\n            'f': \"2\",\n        },\n{\n            'v': 1,\n            'f': \"1\",\n        },\n\"yes\"],\n [{\n            'v': 294,\n            'f': \"294\",\n        },\n{\n            'v': 63,\n            'f': \"63\",\n        },\n\"female\",\n{\n            'v': 4,\n            'f': \"4\",\n        },\n{\n            'v': 124,\n            'f': \"124\",\n        },\n{\n            'v': 197,\n            'f': \"197\",\n        },\n{\n            'v': 0,\n            'f': \"0\",\n        },\n{\n            'v': 0,\n            'f': \"0\",\n        },\n{\n            'v': 136,\n            'f': \"136\",\n        },\n{\n            'v': 1,\n            'f': \"1\",\n        },\n{\n            'v': 0.0,\n            'f': \"0.0\",\n        },\n{\n            'v': 2,\n            'f': \"2\",\n        },\n{\n            'v': 0.0,\n            'f': \"0.0\",\n        },\n{\n            'v': 3.0,\n            'f': \"3.0\",\n        },\n{\n            'v': 1,\n            'f': \"1\",\n        },\n{\n            'v': 1,\n            'f': \"1\",\n        },\n\"yes\"],\n [{\n            'v': 295,\n            'f': \"295\",\n        },\n{\n            'v': 41,\n            'f': \"41\",\n        },\n\"male\",\n{\n            'v': 2,\n            'f': \"2\",\n        },\n{\n            'v': 120,\n            'f': \"120\",\n        },\n{\n            'v': 157,\n            'f': \"157\",\n        },\n{\n            'v': 0,\n            'f': \"0\",\n        },\n{\n            'v': 0,\n            'f': \"0\",\n        },\n{\n            'v': 182,\n            'f': \"182\",\n        },\n{\n            'v': 0,\n            'f': \"0\",\n        },\n{\n            'v': 0.0,\n            'f': \"0.0\",\n        },\n{\n            'v': 1,\n            'f': \"1\",\n        },\n{\n            'v': 0.0,\n            'f': \"0.0\",\n        },\n{\n            'v': 3.0,\n            'f': \"3.0\",\n        },\n{\n            'v': 0,\n            'f': \"0\",\n        },\n{\n            'v': 0,\n            'f': \"0\",\n        },\n\"no\"],\n [{\n            'v': 296,\n            'f': \"296\",\n        },\n{\n            'v': 59,\n            'f': \"59\",\n        },\n\"male\",\n{\n            'v': 4,\n            'f': \"4\",\n        },\n{\n            'v': 164,\n            'f': \"164\",\n        },\n{\n            'v': 176,\n            'f': \"176\",\n        },\n{\n            'v': 1,\n            'f': \"1\",\n        },\n{\n            'v': 2,\n            'f': \"2\",\n        },\n{\n            'v': 90,\n            'f': \"90\",\n        },\n{\n            'v': 0,\n            'f': \"0\",\n        },\n{\n            'v': 1.0,\n            'f': \"1.0\",\n        },\n{\n            'v': 2,\n            'f': \"2\",\n        },\n{\n            'v': 2.0,\n            'f': \"2.0\",\n        },\n{\n            'v': 6.0,\n            'f': \"6.0\",\n        },\n{\n            'v': 3,\n            'f': \"3\",\n        },\n{\n            'v': 0,\n            'f': \"0\",\n        },\n\"yes\"],\n [{\n            'v': 297,\n            'f': \"297\",\n        },\n{\n            'v': 57,\n            'f': \"57\",\n        },\n\"female\",\n{\n            'v': 4,\n            'f': \"4\",\n        },\n{\n            'v': 140,\n            'f': \"140\",\n        },\n{\n            'v': 241,\n            'f': \"241\",\n        },\n{\n            'v': 0,\n            'f': \"0\",\n        },\n{\n            'v': 0,\n            'f': \"0\",\n        },\n{\n            'v': 123,\n            'f': \"123\",\n        },\n{\n            'v': 1,\n            'f': \"1\",\n        },\n{\n            'v': 0.2,\n            'f': \"0.2\",\n        },\n{\n            'v': 2,\n            'f': \"2\",\n        },\n{\n            'v': 0.0,\n            'f': \"0.0\",\n        },\n{\n            'v': 7.0,\n            'f': \"7.0\",\n        },\n{\n            'v': 1,\n            'f': \"1\",\n        },\n{\n            'v': 1,\n            'f': \"1\",\n        },\n\"yes\"],\n [{\n            'v': 298,\n            'f': \"298\",\n        },\n{\n            'v': 45,\n            'f': \"45\",\n        },\n\"male\",\n{\n            'v': 1,\n            'f': \"1\",\n        },\n{\n            'v': 110,\n            'f': \"110\",\n        },\n{\n            'v': 264,\n            'f': \"264\",\n        },\n{\n            'v': 0,\n            'f': \"0\",\n        },\n{\n            'v': 0,\n            'f': \"0\",\n        },\n{\n            'v': 132,\n            'f': \"132\",\n        },\n{\n            'v': 0,\n            'f': \"0\",\n        },\n{\n            'v': 1.2,\n            'f': \"1.2\",\n        },\n{\n            'v': 2,\n            'f': \"2\",\n        },\n{\n            'v': 0.0,\n            'f': \"0.0\",\n        },\n{\n            'v': 7.0,\n            'f': \"7.0\",\n        },\n{\n            'v': 1,\n            'f': \"1\",\n        },\n{\n            'v': 0,\n            'f': \"0\",\n        },\n\"yes\"],\n [{\n            'v': 299,\n            'f': \"299\",\n        },\n{\n            'v': 68,\n            'f': \"68\",\n        },\n\"male\",\n{\n            'v': 4,\n            'f': \"4\",\n        },\n{\n            'v': 144,\n            'f': \"144\",\n        },\n{\n            'v': 193,\n            'f': \"193\",\n        },\n{\n            'v': 1,\n            'f': \"1\",\n        },\n{\n            'v': 0,\n            'f': \"0\",\n        },\n{\n            'v': 141,\n            'f': \"141\",\n        },\n{\n            'v': 0,\n            'f': \"0\",\n        },\n{\n            'v': 3.4,\n            'f': \"3.4\",\n        },\n{\n            'v': 2,\n            'f': \"2\",\n        },\n{\n            'v': 2.0,\n            'f': \"2.0\",\n        },\n{\n            'v': 7.0,\n            'f': \"7.0\",\n        },\n{\n            'v': 2,\n            'f': \"2\",\n        },\n{\n            'v': 0,\n            'f': \"0\",\n        },\n\"yes\"],\n [{\n            'v': 300,\n            'f': \"300\",\n        },\n{\n            'v': 57,\n            'f': \"57\",\n        },\n\"male\",\n{\n            'v': 4,\n            'f': \"4\",\n        },\n{\n            'v': 130,\n            'f': \"130\",\n        },\n{\n            'v': 131,\n            'f': \"131\",\n        },\n{\n            'v': 0,\n            'f': \"0\",\n        },\n{\n            'v': 0,\n            'f': \"0\",\n        },\n{\n            'v': 115,\n            'f': \"115\",\n        },\n{\n            'v': 1,\n            'f': \"1\",\n        },\n{\n            'v': 1.2,\n            'f': \"1.2\",\n        },\n{\n            'v': 2,\n            'f': \"2\",\n        },\n{\n            'v': 1.0,\n            'f': \"1.0\",\n        },\n{\n            'v': 7.0,\n            'f': \"7.0\",\n        },\n{\n            'v': 3,\n            'f': \"3\",\n        },\n{\n            'v': 1,\n            'f': \"1\",\n        },\n\"yes\"],\n [{\n            'v': 301,\n            'f': \"301\",\n        },\n{\n            'v': 57,\n            'f': \"57\",\n        },\n\"female\",\n{\n            'v': 2,\n            'f': \"2\",\n        },\n{\n            'v': 130,\n            'f': \"130\",\n        },\n{\n            'v': 236,\n            'f': \"236\",\n        },\n{\n            'v': 0,\n            'f': \"0\",\n        },\n{\n            'v': 2,\n            'f': \"2\",\n        },\n{\n            'v': 174,\n            'f': \"174\",\n        },\n{\n            'v': 0,\n            'f': \"0\",\n        },\n{\n            'v': 0.0,\n            'f': \"0.0\",\n        },\n{\n            'v': 2,\n            'f': \"2\",\n        },\n{\n            'v': 1.0,\n            'f': \"1.0\",\n        },\n{\n            'v': 3.0,\n            'f': \"3.0\",\n        },\n{\n            'v': 1,\n            'f': \"1\",\n        },\n{\n            'v': 0,\n            'f': \"0\",\n        },\n\"yes\"],\n [{\n            'v': 302,\n            'f': \"302\",\n        },\n{\n            'v': 38,\n            'f': \"38\",\n        },\n\"male\",\n{\n            'v': 3,\n            'f': \"3\",\n        },\n{\n            'v': 138,\n            'f': \"138\",\n        },\n{\n            'v': 175,\n            'f': \"175\",\n        },\n{\n            'v': 0,\n            'f': \"0\",\n        },\n{\n            'v': 0,\n            'f': \"0\",\n        },\n{\n            'v': 173,\n            'f': \"173\",\n        },\n{\n            'v': 0,\n            'f': \"0\",\n        },\n{\n            'v': 0.0,\n            'f': \"0.0\",\n        },\n{\n            'v': 1,\n            'f': \"1\",\n        },\n{\n            'v': NaN,\n            'f': \"NaN\",\n        },\n{\n            'v': 3.0,\n            'f': \"3.0\",\n        },\n{\n            'v': 0,\n            'f': \"0\",\n        },\n{\n            'v': 0,\n            'f': \"0\",\n        },\n\"no\"]],\n        columns: [[\"number\", \"index\"], [\"number\", \"age\"], [\"string\", \"gender\"], [\"number\", \"chest_pain\"], [\"number\", \"resting_blood_pressure\"], [\"number\", \"serum_cholestoral\"], [\"number\", \"fasting_blood_sugar\"], [\"number\", \"resting_electro\"], [\"number\", \"max_heart_rate\"], [\"number\", \"exer_angina\"], [\"number\", \"oldpeak\"], [\"number\", \"slope\"], [\"number\", \"num_vessels_flour\"], [\"number\", \"thal\"], [\"number\", \"heart_disease_severity\"], [\"number\", \"exter_angina\"], [\"string\", \"has_heart_disease\"]],\n        columnOptions: [{\"width\": \"1px\", \"className\": \"index_column\"}],\n        rowsPerPage: 25,\n        helpUrl: \"https://colab.research.google.com/notebooks/data_table.ipynb\",\n        suppressOutputScrolling: true,\n        minimumWidth: undefined,\n      });\n\n      function appendQuickchartButton(parentElement) {\n        let quickchartButtonContainerElement = document.createElement('div');\n        quickchartButtonContainerElement.innerHTML = `\n<div id=\"df-5f992847-ce62-409d-8e02-53635b312ad3\">\n  <button class=\"colab-df-quickchart\" onclick=\"quickchart('df-5f992847-ce62-409d-8e02-53635b312ad3')\"\n            title=\"Suggest charts\"\n            style=\"display:none;\">\n    \n<svg xmlns=\"http://www.w3.org/2000/svg\" height=\"24px\"viewBox=\"0 0 24 24\"\n     width=\"24px\">\n    <g>\n        <path d=\"M19 3H5c-1.1 0-2 .9-2 2v14c0 1.1.9 2 2 2h14c1.1 0 2-.9 2-2V5c0-1.1-.9-2-2-2zM9 17H7v-7h2v7zm4 0h-2V7h2v10zm4 0h-2v-4h2v4z\"/>\n    </g>\n</svg>\n  </button>\n  \n<style>\n  .colab-df-quickchart {\n      --bg-color: #E8F0FE;\n      --fill-color: #1967D2;\n      --hover-bg-color: #E2EBFA;\n      --hover-fill-color: #174EA6;\n      --disabled-fill-color: #AAA;\n      --disabled-bg-color: #DDD;\n  }\n\n  [theme=dark] .colab-df-quickchart {\n      --bg-color: #3B4455;\n      --fill-color: #D2E3FC;\n      --hover-bg-color: #434B5C;\n      --hover-fill-color: #FFFFFF;\n      --disabled-bg-color: #3B4455;\n      --disabled-fill-color: #666;\n  }\n\n  .colab-df-quickchart {\n    background-color: var(--bg-color);\n    border: none;\n    border-radius: 50%;\n    cursor: pointer;\n    display: none;\n    fill: var(--fill-color);\n    height: 32px;\n    padding: 0;\n    width: 32px;\n  }\n\n  .colab-df-quickchart:hover {\n    background-color: var(--hover-bg-color);\n    box-shadow: 0 1px 2px rgba(60, 64, 67, 0.3), 0 1px 3px 1px rgba(60, 64, 67, 0.15);\n    fill: var(--button-hover-fill-color);\n  }\n\n  .colab-df-quickchart-complete:disabled,\n  .colab-df-quickchart-complete:disabled:hover {\n    background-color: var(--disabled-bg-color);\n    fill: var(--disabled-fill-color);\n    box-shadow: none;\n  }\n\n  .colab-df-spinner {\n    border: 2px solid var(--fill-color);\n    border-color: transparent;\n    border-bottom-color: var(--fill-color);\n    animation:\n      spin 1s steps(1) infinite;\n  }\n\n  @keyframes spin {\n    0% {\n      border-color: transparent;\n      border-bottom-color: var(--fill-color);\n      border-left-color: var(--fill-color);\n    }\n    20% {\n      border-color: transparent;\n      border-left-color: var(--fill-color);\n      border-top-color: var(--fill-color);\n    }\n    30% {\n      border-color: transparent;\n      border-left-color: var(--fill-color);\n      border-top-color: var(--fill-color);\n      border-right-color: var(--fill-color);\n    }\n    40% {\n      border-color: transparent;\n      border-right-color: var(--fill-color);\n      border-top-color: var(--fill-color);\n    }\n    60% {\n      border-color: transparent;\n      border-right-color: var(--fill-color);\n    }\n    80% {\n      border-color: transparent;\n      border-right-color: var(--fill-color);\n      border-bottom-color: var(--fill-color);\n    }\n    90% {\n      border-color: transparent;\n      border-bottom-color: var(--fill-color);\n    }\n  }\n</style>\n\n  <script>\n    async function quickchart(key) {\n      const quickchartButtonEl =\n        document.querySelector('#' + key + ' button');\n      quickchartButtonEl.disabled = true;  // To prevent multiple clicks.\n      quickchartButtonEl.classList.add('colab-df-spinner');\n      try {\n        const charts = await google.colab.kernel.invokeFunction(\n            'suggestCharts', [key], {});\n      } catch (error) {\n        console.error('Error during call to suggestCharts:', error);\n      }\n      quickchartButtonEl.classList.remove('colab-df-spinner');\n      quickchartButtonEl.classList.add('colab-df-quickchart-complete');\n    }\n    (() => {\n      let quickchartButtonEl =\n        document.querySelector('#df-5f992847-ce62-409d-8e02-53635b312ad3 button');\n      quickchartButtonEl.style.display =\n        google.colab.kernel.accessAllowed ? 'block' : 'none';\n    })();\n  </script>\n</div>`;\n        parentElement.appendChild(quickchartButtonContainerElement);\n      }\n\n      appendQuickchartButton(table);\n    ",
            "text/plain": [
              "<google.colab.data_table.DataTable object>"
            ]
          },
          "metadata": {},
          "execution_count": 6
        }
      ]
    },
    {
      "cell_type": "code",
      "metadata": {
        "id": "zpDIuaM_1URJ",
        "colab": {
          "base_uri": "https://localhost:8080/"
        },
        "outputId": "82adc763-78f8-4a79-df05-8b94694d6199"
      },
      "source": [
        "#Ejercicio 3.3) Imprimir los primeros 3 registros con head, y los últomos 3 con tail\n",
        "\n",
        "# head\n",
        "\n",
        "print(d_hd.head(3))\n",
        "\n",
        "\n",
        "\n",
        "\n",
        "\n"
      ],
      "execution_count": null,
      "outputs": [
        {
          "output_type": "stream",
          "name": "stdout",
          "text": [
            "   age gender  chest_pain  resting_blood_pressure  serum_cholestoral  \\\n",
            "0   63   male           1                     145                233   \n",
            "1   67   male           4                     160                286   \n",
            "2   67   male           4                     120                229   \n",
            "\n",
            "   fasting_blood_sugar  resting_electro  max_heart_rate  exer_angina  oldpeak  \\\n",
            "0                    1                2             150            0      2.3   \n",
            "1                    0                2             108            1      1.5   \n",
            "2                    0                2             129            1      2.6   \n",
            "\n",
            "   slope  num_vessels_flour  thal  heart_disease_severity  exter_angina  \\\n",
            "0      3                0.0   6.0                       0             0   \n",
            "1      2                3.0   3.0                       2             1   \n",
            "2      2                2.0   7.0                       1             1   \n",
            "\n",
            "  has_heart_disease  \n",
            "0                no  \n",
            "1               yes  \n",
            "2               yes  \n"
          ]
        }
      ]
    },
    {
      "cell_type": "code",
      "metadata": {
        "id": "_Yqaww6b5z71",
        "colab": {
          "base_uri": "https://localhost:8080/"
        },
        "outputId": "4eed449c-8610-4b95-f111-70e91b5d992b"
      },
      "source": [
        "#tail\n",
        "\n",
        "print(d_hd.tail(3))\n"
      ],
      "execution_count": null,
      "outputs": [
        {
          "output_type": "stream",
          "name": "stdout",
          "text": [
            "     age  gender  chest_pain  resting_blood_pressure  serum_cholestoral  \\\n",
            "300   57    male           4                     130                131   \n",
            "301   57  female           2                     130                236   \n",
            "302   38    male           3                     138                175   \n",
            "\n",
            "     fasting_blood_sugar  resting_electro  max_heart_rate  exer_angina  \\\n",
            "300                    0                0             115            1   \n",
            "301                    0                2             174            0   \n",
            "302                    0                0             173            0   \n",
            "\n",
            "     oldpeak  slope  num_vessels_flour  thal  heart_disease_severity  \\\n",
            "300      1.2      2                1.0   7.0                       3   \n",
            "301      0.0      2                1.0   3.0                       1   \n",
            "302      0.0      1                NaN   3.0                       0   \n",
            "\n",
            "     exter_angina has_heart_disease  \n",
            "300             1               yes  \n",
            "301             0               yes  \n",
            "302             0                no  \n"
          ]
        }
      ]
    },
    {
      "cell_type": "code",
      "metadata": {
        "id": "TPdrF7xeERO2",
        "colab": {
          "base_uri": "https://localhost:8080/"
        },
        "outputId": "c4f28a73-7471-47da-91d6-a31100eff064"
      },
      "source": [
        "#Ejercicio 3.4) Acceder con loc a la columna has_heart_disease, y mostrar todos los registros\n",
        "print(d_hd.loc[:, 'has_heart_disease'])\n"
      ],
      "execution_count": null,
      "outputs": [
        {
          "output_type": "stream",
          "name": "stdout",
          "text": [
            "0       no\n",
            "1      yes\n",
            "2      yes\n",
            "3       no\n",
            "4       no\n",
            "      ... \n",
            "298    yes\n",
            "299    yes\n",
            "300    yes\n",
            "301    yes\n",
            "302     no\n",
            "Name: has_heart_disease, Length: 303, dtype: object\n"
          ]
        }
      ]
    },
    {
      "cell_type": "code",
      "metadata": {
        "id": "Uls4dpJiEgWw",
        "outputId": "65dd41c1-e125-4d53-ebc7-542fbf47b9fe",
        "colab": {
          "base_uri": "https://localhost:8080/"
        }
      },
      "source": [
        "#Ejercicio 3.5) Idem 3.4) peor mostrando los primeros 3 registros. Usar slice, no head.\n",
        "print(d_hd.loc[:2, 'has_heart_disease'])"
      ],
      "execution_count": null,
      "outputs": [
        {
          "output_type": "stream",
          "name": "stdout",
          "text": [
            "0     no\n",
            "1    yes\n",
            "2    yes\n",
            "Name: has_heart_disease, dtype: object\n"
          ]
        }
      ]
    },
    {
      "cell_type": "code",
      "metadata": {
        "id": "yfVqQU1sFBix",
        "outputId": "7cc708e9-5e05-4914-a8d8-2463a2835c45",
        "colab": {
          "base_uri": "https://localhost:8080/"
        }
      },
      "source": [
        "#Ejercicio 3.6) Usar iloc para obtener las primeras 3 columnas, y 5 registros\n",
        "result = d_hd.iloc[:5, :3]\n",
        "\n",
        "print(result)"
      ],
      "execution_count": null,
      "outputs": [
        {
          "output_type": "stream",
          "name": "stdout",
          "text": [
            "   age  gender  chest_pain\n",
            "0   63    male           1\n",
            "1   67    male           4\n",
            "2   67    male           4\n",
            "3   37    male           3\n",
            "4   41  female           2\n"
          ]
        }
      ]
    },
    {
      "cell_type": "markdown",
      "metadata": {
        "id": "NFkwzOcw5_1G"
      },
      "source": [
        "4) Trabajando con nulos\n"
      ]
    },
    {
      "cell_type": "code",
      "metadata": {
        "id": "BAiXp62yDtP6",
        "collapsed": true,
        "colab": {
          "base_uri": "https://localhost:8080/"
        },
        "outputId": "51ef5e80-1be4-462b-c27f-68a568063edd"
      },
      "source": [
        "# 4.1) Instalar funpymodeling\n",
        "!pip install funpymodeling"
      ],
      "execution_count": null,
      "outputs": [
        {
          "output_type": "stream",
          "name": "stdout",
          "text": [
            "Requirement already satisfied: funpymodeling in /usr/local/lib/python3.10/dist-packages (0.1.9)\n",
            "Requirement already satisfied: flake8<7.0.0,>=6.0.0 in /usr/local/lib/python3.10/dist-packages (from funpymodeling) (6.1.0)\n",
            "Requirement already satisfied: jupyter<2.0.0,>=1.0.0 in /usr/local/lib/python3.10/dist-packages (from funpymodeling) (1.1.1)\n",
            "Requirement already satisfied: matplotlib<4.0.0,>=3.7.1 in /usr/local/lib/python3.10/dist-packages (from funpymodeling) (3.7.1)\n",
            "Requirement already satisfied: numpy<2.0.0,>=1.26.2 in /usr/local/lib/python3.10/dist-packages (from funpymodeling) (1.26.4)\n",
            "Requirement already satisfied: pandas<3.0.0,>=2.1.4 in /usr/local/lib/python3.10/dist-packages (from funpymodeling) (2.1.4)\n",
            "Requirement already satisfied: pre-commit<4.0.0,>=3.3.2 in /usr/local/lib/python3.10/dist-packages (from funpymodeling) (3.8.0)\n",
            "Requirement already satisfied: pytest<8.0.0,>=7.3.1 in /usr/local/lib/python3.10/dist-packages (from funpymodeling) (7.4.4)\n",
            "Requirement already satisfied: scikit-learn<2.0.0,>=1.2.2 in /usr/local/lib/python3.10/dist-packages (from funpymodeling) (1.3.2)\n",
            "Requirement already satisfied: seaborn<0.13.0,>=0.12.2 in /usr/local/lib/python3.10/dist-packages (from funpymodeling) (0.12.2)\n",
            "Requirement already satisfied: typing-extensions<5.0.0,>=4.6.3 in /usr/local/lib/python3.10/dist-packages (from funpymodeling) (4.12.2)\n",
            "Requirement already satisfied: mccabe<0.8.0,>=0.7.0 in /usr/local/lib/python3.10/dist-packages (from flake8<7.0.0,>=6.0.0->funpymodeling) (0.7.0)\n",
            "Requirement already satisfied: pycodestyle<2.12.0,>=2.11.0 in /usr/local/lib/python3.10/dist-packages (from flake8<7.0.0,>=6.0.0->funpymodeling) (2.11.1)\n",
            "Requirement already satisfied: pyflakes<3.2.0,>=3.1.0 in /usr/local/lib/python3.10/dist-packages (from flake8<7.0.0,>=6.0.0->funpymodeling) (3.1.0)\n",
            "Requirement already satisfied: notebook in /usr/local/lib/python3.10/dist-packages (from jupyter<2.0.0,>=1.0.0->funpymodeling) (6.5.5)\n",
            "Requirement already satisfied: jupyter-console in /usr/local/lib/python3.10/dist-packages (from jupyter<2.0.0,>=1.0.0->funpymodeling) (6.1.0)\n",
            "Requirement already satisfied: nbconvert in /usr/local/lib/python3.10/dist-packages (from jupyter<2.0.0,>=1.0.0->funpymodeling) (6.5.4)\n",
            "Requirement already satisfied: ipykernel in /usr/local/lib/python3.10/dist-packages (from jupyter<2.0.0,>=1.0.0->funpymodeling) (6.29.5)\n",
            "Requirement already satisfied: ipywidgets in /usr/local/lib/python3.10/dist-packages (from jupyter<2.0.0,>=1.0.0->funpymodeling) (7.7.1)\n",
            "Requirement already satisfied: jupyterlab in /usr/local/lib/python3.10/dist-packages (from jupyter<2.0.0,>=1.0.0->funpymodeling) (4.2.5)\n",
            "Requirement already satisfied: contourpy>=1.0.1 in /usr/local/lib/python3.10/dist-packages (from matplotlib<4.0.0,>=3.7.1->funpymodeling) (1.2.1)\n",
            "Requirement already satisfied: cycler>=0.10 in /usr/local/lib/python3.10/dist-packages (from matplotlib<4.0.0,>=3.7.1->funpymodeling) (0.12.1)\n",
            "Requirement already satisfied: fonttools>=4.22.0 in /usr/local/lib/python3.10/dist-packages (from matplotlib<4.0.0,>=3.7.1->funpymodeling) (4.53.1)\n",
            "Requirement already satisfied: kiwisolver>=1.0.1 in /usr/local/lib/python3.10/dist-packages (from matplotlib<4.0.0,>=3.7.1->funpymodeling) (1.4.5)\n",
            "Requirement already satisfied: packaging>=20.0 in /usr/local/lib/python3.10/dist-packages (from matplotlib<4.0.0,>=3.7.1->funpymodeling) (24.1)\n",
            "Requirement already satisfied: pillow>=6.2.0 in /usr/local/lib/python3.10/dist-packages (from matplotlib<4.0.0,>=3.7.1->funpymodeling) (9.4.0)\n",
            "Requirement already satisfied: pyparsing>=2.3.1 in /usr/local/lib/python3.10/dist-packages (from matplotlib<4.0.0,>=3.7.1->funpymodeling) (3.1.4)\n",
            "Requirement already satisfied: python-dateutil>=2.7 in /usr/local/lib/python3.10/dist-packages (from matplotlib<4.0.0,>=3.7.1->funpymodeling) (2.8.2)\n",
            "Requirement already satisfied: pytz>=2020.1 in /usr/local/lib/python3.10/dist-packages (from pandas<3.0.0,>=2.1.4->funpymodeling) (2024.1)\n",
            "Requirement already satisfied: tzdata>=2022.1 in /usr/local/lib/python3.10/dist-packages (from pandas<3.0.0,>=2.1.4->funpymodeling) (2024.1)\n",
            "Requirement already satisfied: cfgv>=2.0.0 in /usr/local/lib/python3.10/dist-packages (from pre-commit<4.0.0,>=3.3.2->funpymodeling) (3.4.0)\n",
            "Requirement already satisfied: identify>=1.0.0 in /usr/local/lib/python3.10/dist-packages (from pre-commit<4.0.0,>=3.3.2->funpymodeling) (2.6.0)\n",
            "Requirement already satisfied: nodeenv>=0.11.1 in /usr/local/lib/python3.10/dist-packages (from pre-commit<4.0.0,>=3.3.2->funpymodeling) (1.9.1)\n",
            "Requirement already satisfied: pyyaml>=5.1 in /usr/local/lib/python3.10/dist-packages (from pre-commit<4.0.0,>=3.3.2->funpymodeling) (6.0.2)\n",
            "Requirement already satisfied: virtualenv>=20.10.0 in /usr/local/lib/python3.10/dist-packages (from pre-commit<4.0.0,>=3.3.2->funpymodeling) (20.26.3)\n",
            "Requirement already satisfied: iniconfig in /usr/local/lib/python3.10/dist-packages (from pytest<8.0.0,>=7.3.1->funpymodeling) (2.0.0)\n",
            "Requirement already satisfied: pluggy<2.0,>=0.12 in /usr/local/lib/python3.10/dist-packages (from pytest<8.0.0,>=7.3.1->funpymodeling) (1.5.0)\n",
            "Requirement already satisfied: exceptiongroup>=1.0.0rc8 in /usr/local/lib/python3.10/dist-packages (from pytest<8.0.0,>=7.3.1->funpymodeling) (1.2.2)\n",
            "Requirement already satisfied: tomli>=1.0.0 in /usr/local/lib/python3.10/dist-packages (from pytest<8.0.0,>=7.3.1->funpymodeling) (2.0.1)\n",
            "Requirement already satisfied: scipy>=1.5.0 in /usr/local/lib/python3.10/dist-packages (from scikit-learn<2.0.0,>=1.2.2->funpymodeling) (1.13.1)\n",
            "Requirement already satisfied: joblib>=1.1.1 in /usr/local/lib/python3.10/dist-packages (from scikit-learn<2.0.0,>=1.2.2->funpymodeling) (1.4.2)\n",
            "Requirement already satisfied: threadpoolctl>=2.0.0 in /usr/local/lib/python3.10/dist-packages (from scikit-learn<2.0.0,>=1.2.2->funpymodeling) (3.5.0)\n",
            "Requirement already satisfied: six>=1.5 in /usr/local/lib/python3.10/dist-packages (from python-dateutil>=2.7->matplotlib<4.0.0,>=3.7.1->funpymodeling) (1.16.0)\n",
            "Requirement already satisfied: distlib<1,>=0.3.7 in /usr/local/lib/python3.10/dist-packages (from virtualenv>=20.10.0->pre-commit<4.0.0,>=3.3.2->funpymodeling) (0.3.8)\n",
            "Requirement already satisfied: filelock<4,>=3.12.2 in /usr/local/lib/python3.10/dist-packages (from virtualenv>=20.10.0->pre-commit<4.0.0,>=3.3.2->funpymodeling) (3.15.4)\n",
            "Requirement already satisfied: platformdirs<5,>=3.9.1 in /usr/local/lib/python3.10/dist-packages (from virtualenv>=20.10.0->pre-commit<4.0.0,>=3.3.2->funpymodeling) (4.2.2)\n",
            "Requirement already satisfied: comm>=0.1.1 in /usr/local/lib/python3.10/dist-packages (from ipykernel->jupyter<2.0.0,>=1.0.0->funpymodeling) (0.2.2)\n",
            "Requirement already satisfied: debugpy>=1.6.5 in /usr/local/lib/python3.10/dist-packages (from ipykernel->jupyter<2.0.0,>=1.0.0->funpymodeling) (1.6.6)\n",
            "Requirement already satisfied: ipython>=7.23.1 in /usr/local/lib/python3.10/dist-packages (from ipykernel->jupyter<2.0.0,>=1.0.0->funpymodeling) (7.34.0)\n",
            "Requirement already satisfied: jupyter-client>=6.1.12 in /usr/local/lib/python3.10/dist-packages (from ipykernel->jupyter<2.0.0,>=1.0.0->funpymodeling) (7.4.9)\n",
            "Requirement already satisfied: jupyter-core!=5.0.*,>=4.12 in /usr/local/lib/python3.10/dist-packages (from ipykernel->jupyter<2.0.0,>=1.0.0->funpymodeling) (5.7.2)\n",
            "Requirement already satisfied: matplotlib-inline>=0.1 in /usr/local/lib/python3.10/dist-packages (from ipykernel->jupyter<2.0.0,>=1.0.0->funpymodeling) (0.1.7)\n",
            "Requirement already satisfied: nest-asyncio in /usr/local/lib/python3.10/dist-packages (from ipykernel->jupyter<2.0.0,>=1.0.0->funpymodeling) (1.6.0)\n",
            "Requirement already satisfied: psutil in /usr/local/lib/python3.10/dist-packages (from ipykernel->jupyter<2.0.0,>=1.0.0->funpymodeling) (5.9.5)\n",
            "Requirement already satisfied: pyzmq>=24 in /usr/local/lib/python3.10/dist-packages (from ipykernel->jupyter<2.0.0,>=1.0.0->funpymodeling) (24.0.1)\n",
            "Requirement already satisfied: tornado>=6.1 in /usr/local/lib/python3.10/dist-packages (from ipykernel->jupyter<2.0.0,>=1.0.0->funpymodeling) (6.3.3)\n",
            "Requirement already satisfied: traitlets>=5.4.0 in /usr/local/lib/python3.10/dist-packages (from ipykernel->jupyter<2.0.0,>=1.0.0->funpymodeling) (5.7.1)\n",
            "Requirement already satisfied: ipython-genutils~=0.2.0 in /usr/local/lib/python3.10/dist-packages (from ipywidgets->jupyter<2.0.0,>=1.0.0->funpymodeling) (0.2.0)\n",
            "Requirement already satisfied: widgetsnbextension~=3.6.0 in /usr/local/lib/python3.10/dist-packages (from ipywidgets->jupyter<2.0.0,>=1.0.0->funpymodeling) (3.6.8)\n",
            "Requirement already satisfied: jupyterlab-widgets>=1.0.0 in /usr/local/lib/python3.10/dist-packages (from ipywidgets->jupyter<2.0.0,>=1.0.0->funpymodeling) (3.0.13)\n",
            "Requirement already satisfied: prompt-toolkit!=3.0.0,!=3.0.1,<3.1.0,>=2.0.0 in /usr/local/lib/python3.10/dist-packages (from jupyter-console->jupyter<2.0.0,>=1.0.0->funpymodeling) (3.0.47)\n",
            "Requirement already satisfied: pygments in /usr/local/lib/python3.10/dist-packages (from jupyter-console->jupyter<2.0.0,>=1.0.0->funpymodeling) (2.16.1)\n",
            "Requirement already satisfied: async-lru>=1.0.0 in /usr/local/lib/python3.10/dist-packages (from jupyterlab->jupyter<2.0.0,>=1.0.0->funpymodeling) (2.0.4)\n",
            "Requirement already satisfied: httpx>=0.25.0 in /usr/local/lib/python3.10/dist-packages (from jupyterlab->jupyter<2.0.0,>=1.0.0->funpymodeling) (0.27.2)\n",
            "Requirement already satisfied: jinja2>=3.0.3 in /usr/local/lib/python3.10/dist-packages (from jupyterlab->jupyter<2.0.0,>=1.0.0->funpymodeling) (3.1.4)\n",
            "Requirement already satisfied: jupyter-lsp>=2.0.0 in /usr/local/lib/python3.10/dist-packages (from jupyterlab->jupyter<2.0.0,>=1.0.0->funpymodeling) (2.2.5)\n",
            "Requirement already satisfied: jupyter-server<3,>=2.4.0 in /usr/local/lib/python3.10/dist-packages (from jupyterlab->jupyter<2.0.0,>=1.0.0->funpymodeling) (2.14.2)\n",
            "Requirement already satisfied: jupyterlab-server<3,>=2.27.1 in /usr/local/lib/python3.10/dist-packages (from jupyterlab->jupyter<2.0.0,>=1.0.0->funpymodeling) (2.27.3)\n",
            "Requirement already satisfied: notebook-shim>=0.2 in /usr/local/lib/python3.10/dist-packages (from jupyterlab->jupyter<2.0.0,>=1.0.0->funpymodeling) (0.2.4)\n",
            "Requirement already satisfied: setuptools>=40.1.0 in /usr/local/lib/python3.10/dist-packages (from jupyterlab->jupyter<2.0.0,>=1.0.0->funpymodeling) (71.0.4)\n",
            "Requirement already satisfied: lxml in /usr/local/lib/python3.10/dist-packages (from nbconvert->jupyter<2.0.0,>=1.0.0->funpymodeling) (4.9.4)\n",
            "Requirement already satisfied: beautifulsoup4 in /usr/local/lib/python3.10/dist-packages (from nbconvert->jupyter<2.0.0,>=1.0.0->funpymodeling) (4.12.3)\n",
            "Requirement already satisfied: bleach in /usr/local/lib/python3.10/dist-packages (from nbconvert->jupyter<2.0.0,>=1.0.0->funpymodeling) (6.1.0)\n",
            "Requirement already satisfied: defusedxml in /usr/local/lib/python3.10/dist-packages (from nbconvert->jupyter<2.0.0,>=1.0.0->funpymodeling) (0.7.1)\n",
            "Requirement already satisfied: entrypoints>=0.2.2 in /usr/local/lib/python3.10/dist-packages (from nbconvert->jupyter<2.0.0,>=1.0.0->funpymodeling) (0.4)\n",
            "Requirement already satisfied: jupyterlab-pygments in /usr/local/lib/python3.10/dist-packages (from nbconvert->jupyter<2.0.0,>=1.0.0->funpymodeling) (0.3.0)\n",
            "Requirement already satisfied: MarkupSafe>=2.0 in /usr/local/lib/python3.10/dist-packages (from nbconvert->jupyter<2.0.0,>=1.0.0->funpymodeling) (2.1.5)\n",
            "Requirement already satisfied: mistune<2,>=0.8.1 in /usr/local/lib/python3.10/dist-packages (from nbconvert->jupyter<2.0.0,>=1.0.0->funpymodeling) (0.8.4)\n",
            "Requirement already satisfied: nbclient>=0.5.0 in /usr/local/lib/python3.10/dist-packages (from nbconvert->jupyter<2.0.0,>=1.0.0->funpymodeling) (0.10.0)\n",
            "Requirement already satisfied: nbformat>=5.1 in /usr/local/lib/python3.10/dist-packages (from nbconvert->jupyter<2.0.0,>=1.0.0->funpymodeling) (5.10.4)\n",
            "Requirement already satisfied: pandocfilters>=1.4.1 in /usr/local/lib/python3.10/dist-packages (from nbconvert->jupyter<2.0.0,>=1.0.0->funpymodeling) (1.5.1)\n",
            "Requirement already satisfied: tinycss2 in /usr/local/lib/python3.10/dist-packages (from nbconvert->jupyter<2.0.0,>=1.0.0->funpymodeling) (1.3.0)\n",
            "Requirement already satisfied: argon2-cffi in /usr/local/lib/python3.10/dist-packages (from notebook->jupyter<2.0.0,>=1.0.0->funpymodeling) (23.1.0)\n",
            "Requirement already satisfied: Send2Trash>=1.8.0 in /usr/local/lib/python3.10/dist-packages (from notebook->jupyter<2.0.0,>=1.0.0->funpymodeling) (1.8.3)\n",
            "Requirement already satisfied: terminado>=0.8.3 in /usr/local/lib/python3.10/dist-packages (from notebook->jupyter<2.0.0,>=1.0.0->funpymodeling) (0.18.1)\n",
            "Requirement already satisfied: prometheus-client in /usr/local/lib/python3.10/dist-packages (from notebook->jupyter<2.0.0,>=1.0.0->funpymodeling) (0.20.0)\n",
            "Requirement already satisfied: nbclassic>=0.4.7 in /usr/local/lib/python3.10/dist-packages (from notebook->jupyter<2.0.0,>=1.0.0->funpymodeling) (1.1.0)\n",
            "Requirement already satisfied: anyio in /usr/local/lib/python3.10/dist-packages (from httpx>=0.25.0->jupyterlab->jupyter<2.0.0,>=1.0.0->funpymodeling) (3.7.1)\n",
            "Requirement already satisfied: certifi in /usr/local/lib/python3.10/dist-packages (from httpx>=0.25.0->jupyterlab->jupyter<2.0.0,>=1.0.0->funpymodeling) (2024.7.4)\n",
            "Requirement already satisfied: httpcore==1.* in /usr/local/lib/python3.10/dist-packages (from httpx>=0.25.0->jupyterlab->jupyter<2.0.0,>=1.0.0->funpymodeling) (1.0.5)\n",
            "Requirement already satisfied: idna in /usr/local/lib/python3.10/dist-packages (from httpx>=0.25.0->jupyterlab->jupyter<2.0.0,>=1.0.0->funpymodeling) (3.8)\n",
            "Requirement already satisfied: sniffio in /usr/local/lib/python3.10/dist-packages (from httpx>=0.25.0->jupyterlab->jupyter<2.0.0,>=1.0.0->funpymodeling) (1.3.1)\n",
            "Requirement already satisfied: h11<0.15,>=0.13 in /usr/local/lib/python3.10/dist-packages (from httpcore==1.*->httpx>=0.25.0->jupyterlab->jupyter<2.0.0,>=1.0.0->funpymodeling) (0.14.0)\n",
            "Requirement already satisfied: jedi>=0.16 in /usr/local/lib/python3.10/dist-packages (from ipython>=7.23.1->ipykernel->jupyter<2.0.0,>=1.0.0->funpymodeling) (0.19.1)\n",
            "Requirement already satisfied: decorator in /usr/local/lib/python3.10/dist-packages (from ipython>=7.23.1->ipykernel->jupyter<2.0.0,>=1.0.0->funpymodeling) (4.4.2)\n",
            "Requirement already satisfied: pickleshare in /usr/local/lib/python3.10/dist-packages (from ipython>=7.23.1->ipykernel->jupyter<2.0.0,>=1.0.0->funpymodeling) (0.7.5)\n",
            "Requirement already satisfied: backcall in /usr/local/lib/python3.10/dist-packages (from ipython>=7.23.1->ipykernel->jupyter<2.0.0,>=1.0.0->funpymodeling) (0.2.0)\n",
            "Requirement already satisfied: pexpect>4.3 in /usr/local/lib/python3.10/dist-packages (from ipython>=7.23.1->ipykernel->jupyter<2.0.0,>=1.0.0->funpymodeling) (4.9.0)\n",
            "Requirement already satisfied: jupyter-events>=0.9.0 in /usr/local/lib/python3.10/dist-packages (from jupyter-server<3,>=2.4.0->jupyterlab->jupyter<2.0.0,>=1.0.0->funpymodeling) (0.10.0)\n",
            "Requirement already satisfied: jupyter-server-terminals>=0.4.4 in /usr/local/lib/python3.10/dist-packages (from jupyter-server<3,>=2.4.0->jupyterlab->jupyter<2.0.0,>=1.0.0->funpymodeling) (0.5.3)\n",
            "Requirement already satisfied: overrides>=5.0 in /usr/local/lib/python3.10/dist-packages (from jupyter-server<3,>=2.4.0->jupyterlab->jupyter<2.0.0,>=1.0.0->funpymodeling) (7.7.0)\n",
            "Requirement already satisfied: websocket-client>=1.7 in /usr/local/lib/python3.10/dist-packages (from jupyter-server<3,>=2.4.0->jupyterlab->jupyter<2.0.0,>=1.0.0->funpymodeling) (1.8.0)\n",
            "Requirement already satisfied: argon2-cffi-bindings in /usr/local/lib/python3.10/dist-packages (from argon2-cffi->notebook->jupyter<2.0.0,>=1.0.0->funpymodeling) (21.2.0)\n",
            "Requirement already satisfied: babel>=2.10 in /usr/local/lib/python3.10/dist-packages (from jupyterlab-server<3,>=2.27.1->jupyterlab->jupyter<2.0.0,>=1.0.0->funpymodeling) (2.16.0)\n",
            "Requirement already satisfied: json5>=0.9.0 in /usr/local/lib/python3.10/dist-packages (from jupyterlab-server<3,>=2.27.1->jupyterlab->jupyter<2.0.0,>=1.0.0->funpymodeling) (0.9.25)\n",
            "Requirement already satisfied: jsonschema>=4.18.0 in /usr/local/lib/python3.10/dist-packages (from jupyterlab-server<3,>=2.27.1->jupyterlab->jupyter<2.0.0,>=1.0.0->funpymodeling) (4.23.0)\n",
            "Requirement already satisfied: requests>=2.31 in /usr/local/lib/python3.10/dist-packages (from jupyterlab-server<3,>=2.27.1->jupyterlab->jupyter<2.0.0,>=1.0.0->funpymodeling) (2.32.3)\n",
            "Requirement already satisfied: fastjsonschema>=2.15 in /usr/local/lib/python3.10/dist-packages (from nbformat>=5.1->nbconvert->jupyter<2.0.0,>=1.0.0->funpymodeling) (2.20.0)\n",
            "Requirement already satisfied: wcwidth in /usr/local/lib/python3.10/dist-packages (from prompt-toolkit!=3.0.0,!=3.0.1,<3.1.0,>=2.0.0->jupyter-console->jupyter<2.0.0,>=1.0.0->funpymodeling) (0.2.13)\n",
            "Requirement already satisfied: ptyprocess in /usr/local/lib/python3.10/dist-packages (from terminado>=0.8.3->notebook->jupyter<2.0.0,>=1.0.0->funpymodeling) (0.7.0)\n",
            "Requirement already satisfied: soupsieve>1.2 in /usr/local/lib/python3.10/dist-packages (from beautifulsoup4->nbconvert->jupyter<2.0.0,>=1.0.0->funpymodeling) (2.6)\n",
            "Requirement already satisfied: webencodings in /usr/local/lib/python3.10/dist-packages (from bleach->nbconvert->jupyter<2.0.0,>=1.0.0->funpymodeling) (0.5.1)\n",
            "Requirement already satisfied: parso<0.9.0,>=0.8.3 in /usr/local/lib/python3.10/dist-packages (from jedi>=0.16->ipython>=7.23.1->ipykernel->jupyter<2.0.0,>=1.0.0->funpymodeling) (0.8.4)\n",
            "Requirement already satisfied: attrs>=22.2.0 in /usr/local/lib/python3.10/dist-packages (from jsonschema>=4.18.0->jupyterlab-server<3,>=2.27.1->jupyterlab->jupyter<2.0.0,>=1.0.0->funpymodeling) (24.2.0)\n",
            "Requirement already satisfied: jsonschema-specifications>=2023.03.6 in /usr/local/lib/python3.10/dist-packages (from jsonschema>=4.18.0->jupyterlab-server<3,>=2.27.1->jupyterlab->jupyter<2.0.0,>=1.0.0->funpymodeling) (2023.12.1)\n",
            "Requirement already satisfied: referencing>=0.28.4 in /usr/local/lib/python3.10/dist-packages (from jsonschema>=4.18.0->jupyterlab-server<3,>=2.27.1->jupyterlab->jupyter<2.0.0,>=1.0.0->funpymodeling) (0.35.1)\n",
            "Requirement already satisfied: rpds-py>=0.7.1 in /usr/local/lib/python3.10/dist-packages (from jsonschema>=4.18.0->jupyterlab-server<3,>=2.27.1->jupyterlab->jupyter<2.0.0,>=1.0.0->funpymodeling) (0.20.0)\n",
            "Requirement already satisfied: python-json-logger>=2.0.4 in /usr/local/lib/python3.10/dist-packages (from jupyter-events>=0.9.0->jupyter-server<3,>=2.4.0->jupyterlab->jupyter<2.0.0,>=1.0.0->funpymodeling) (2.0.7)\n",
            "Requirement already satisfied: rfc3339-validator in /usr/local/lib/python3.10/dist-packages (from jupyter-events>=0.9.0->jupyter-server<3,>=2.4.0->jupyterlab->jupyter<2.0.0,>=1.0.0->funpymodeling) (0.1.4)\n",
            "Requirement already satisfied: rfc3986-validator>=0.1.1 in /usr/local/lib/python3.10/dist-packages (from jupyter-events>=0.9.0->jupyter-server<3,>=2.4.0->jupyterlab->jupyter<2.0.0,>=1.0.0->funpymodeling) (0.1.1)\n",
            "Requirement already satisfied: charset-normalizer<4,>=2 in /usr/local/lib/python3.10/dist-packages (from requests>=2.31->jupyterlab-server<3,>=2.27.1->jupyterlab->jupyter<2.0.0,>=1.0.0->funpymodeling) (3.3.2)\n",
            "Requirement already satisfied: urllib3<3,>=1.21.1 in /usr/local/lib/python3.10/dist-packages (from requests>=2.31->jupyterlab-server<3,>=2.27.1->jupyterlab->jupyter<2.0.0,>=1.0.0->funpymodeling) (2.0.7)\n",
            "Requirement already satisfied: cffi>=1.0.1 in /usr/local/lib/python3.10/dist-packages (from argon2-cffi-bindings->argon2-cffi->notebook->jupyter<2.0.0,>=1.0.0->funpymodeling) (1.17.0)\n",
            "Requirement already satisfied: pycparser in /usr/local/lib/python3.10/dist-packages (from cffi>=1.0.1->argon2-cffi-bindings->argon2-cffi->notebook->jupyter<2.0.0,>=1.0.0->funpymodeling) (2.22)\n",
            "Requirement already satisfied: fqdn in /usr/local/lib/python3.10/dist-packages (from jsonschema[format-nongpl]>=4.18.0->jupyter-events>=0.9.0->jupyter-server<3,>=2.4.0->jupyterlab->jupyter<2.0.0,>=1.0.0->funpymodeling) (1.5.1)\n",
            "Requirement already satisfied: isoduration in /usr/local/lib/python3.10/dist-packages (from jsonschema[format-nongpl]>=4.18.0->jupyter-events>=0.9.0->jupyter-server<3,>=2.4.0->jupyterlab->jupyter<2.0.0,>=1.0.0->funpymodeling) (20.11.0)\n",
            "Requirement already satisfied: jsonpointer>1.13 in /usr/local/lib/python3.10/dist-packages (from jsonschema[format-nongpl]>=4.18.0->jupyter-events>=0.9.0->jupyter-server<3,>=2.4.0->jupyterlab->jupyter<2.0.0,>=1.0.0->funpymodeling) (3.0.0)\n",
            "Requirement already satisfied: uri-template in /usr/local/lib/python3.10/dist-packages (from jsonschema[format-nongpl]>=4.18.0->jupyter-events>=0.9.0->jupyter-server<3,>=2.4.0->jupyterlab->jupyter<2.0.0,>=1.0.0->funpymodeling) (1.3.0)\n",
            "Requirement already satisfied: webcolors>=24.6.0 in /usr/local/lib/python3.10/dist-packages (from jsonschema[format-nongpl]>=4.18.0->jupyter-events>=0.9.0->jupyter-server<3,>=2.4.0->jupyterlab->jupyter<2.0.0,>=1.0.0->funpymodeling) (24.8.0)\n",
            "Requirement already satisfied: arrow>=0.15.0 in /usr/local/lib/python3.10/dist-packages (from isoduration->jsonschema[format-nongpl]>=4.18.0->jupyter-events>=0.9.0->jupyter-server<3,>=2.4.0->jupyterlab->jupyter<2.0.0,>=1.0.0->funpymodeling) (1.3.0)\n",
            "Requirement already satisfied: types-python-dateutil>=2.8.10 in /usr/local/lib/python3.10/dist-packages (from arrow>=0.15.0->isoduration->jsonschema[format-nongpl]>=4.18.0->jupyter-events>=0.9.0->jupyter-server<3,>=2.4.0->jupyterlab->jupyter<2.0.0,>=1.0.0->funpymodeling) (2.9.0.20240821)\n"
          ]
        }
      ]
    },
    {
      "cell_type": "code",
      "metadata": {
        "id": "1_ZCEks96CUO"
      },
      "source": [
        "# 4.2) Cargar función status\n",
        "from funpymodeling.exploratory import status"
      ],
      "execution_count": null,
      "outputs": []
    },
    {
      "cell_type": "code",
      "metadata": {
        "id": "i5PAmADVD4PT",
        "colab": {
          "base_uri": "https://localhost:8080/"
        },
        "outputId": "dd0fa2d4-8051-4e60-9a95-215e5abf362e"
      },
      "source": [
        "#Ejercicio 4.3) ¿Qué variables tienen nulos?  (usar status)\n",
        "from funpymodeling.exploratory import status\n",
        "\n",
        "# Obtener el status del DataFrame\n",
        "status_df = status(d_hd)\n",
        "\n",
        "# Mostrar las primeras filas de status_df\n",
        "print(status_df.head())\n",
        "\n",
        "variables_con_nulos = data_status[data_status['q_nan'] > 0]\n",
        "print(variables_con_nulos)\n",
        "\n"
      ],
      "execution_count": null,
      "outputs": [
        {
          "output_type": "stream",
          "name": "stdout",
          "text": [
            "                 variable  q_nan  p_nan  q_zeros  p_zeros  unique    type\n",
            "0                     age      0    0.0        0      0.0      41   int64\n",
            "1                  gender      0    0.0        0      0.0       2  object\n",
            "2              chest_pain      0    0.0        0      0.0       4   int64\n",
            "3  resting_blood_pressure      0    0.0        0      0.0      50   int64\n",
            "4       serum_cholestoral      0    0.0        0      0.0     152   int64\n",
            "             variable  q_nan     p_nan  q_zeros   p_zeros  unique     type\n",
            "11  num_vessels_flour      4  0.013201      176  0.580858       4  float64\n",
            "12               thal      2  0.006601        0  0.000000       3  float64\n"
          ]
        }
      ]
    },
    {
      "cell_type": "markdown",
      "source": [],
      "metadata": {
        "id": "gmoHv7rniWp1"
      }
    },
    {
      "cell_type": "code",
      "metadata": {
        "id": "V2NRaF1cD4k9",
        "colab": {
          "base_uri": "https://localhost:8080/"
        },
        "outputId": "d86aa7c5-b463-48e7-8f3b-0b9af17c2f8c"
      },
      "source": [
        "#Ejercicio 4.4) Devolver un data frame con todos los registros que tienen NaN en la variable \"thal\".\n",
        "# Filtrar los registros que tienen NaN en la columna 'thal'\n",
        "registros_con_nan_thal = d_hd[d_hd['thal'].isna()]\n",
        "\n",
        "# Mostrar el DataFrame resultante\n",
        "print(registros_con_nan_thal)\n"
      ],
      "execution_count": null,
      "outputs": [
        {
          "output_type": "stream",
          "name": "stdout",
          "text": [
            "     age  gender  chest_pain  resting_blood_pressure  serum_cholestoral  \\\n",
            "87    53  female           3                     128                216   \n",
            "266   52    male           4                     128                204   \n",
            "\n",
            "     fasting_blood_sugar  resting_electro  max_heart_rate  exer_angina  \\\n",
            "87                     0                2             115            0   \n",
            "266                    1                0             156            1   \n",
            "\n",
            "     oldpeak  slope  num_vessels_flour  thal  heart_disease_severity  \\\n",
            "87       0.0      1                0.0   NaN                       0   \n",
            "266      1.0      2                0.0   NaN                       2   \n",
            "\n",
            "     exter_angina has_heart_disease  \n",
            "87              0                no  \n",
            "266             1               yes  \n"
          ]
        }
      ]
    },
    {
      "cell_type": "code",
      "metadata": {
        "id": "Ih_J_WmdD4uj",
        "colab": {
          "base_uri": "https://localhost:8080/"
        },
        "outputId": "e939e236-5d5c-4343-a969-371d8b5c81af"
      },
      "source": [
        "#Ejercicio 4.5) Remplazar los nulos que aparecen en la variable \"thal por 999. *No* guardarlo en el dataframe original. Usar fillna.\n",
        "# Crear una copia del DataFrame original para no modificarlo\n",
        "d_hd_modificado = d_hd.copy()\n",
        "\n",
        "# Reemplazar los valores nulos en la columna 'thal' por 999 en el nuevo DataFrame\n",
        "d_hd_modificado['thal'] = d_hd_modificado['thal'].fillna(999)\n",
        "\n",
        "# Mostrar el DataFrame modificado para verificar el cambio\n",
        "print(d_hd_modificado)\n"
      ],
      "execution_count": null,
      "outputs": [
        {
          "output_type": "stream",
          "name": "stdout",
          "text": [
            "     age  gender  chest_pain  resting_blood_pressure  serum_cholestoral  \\\n",
            "0     63    male           1                     145                233   \n",
            "1     67    male           4                     160                286   \n",
            "2     67    male           4                     120                229   \n",
            "3     37    male           3                     130                250   \n",
            "4     41  female           2                     130                204   \n",
            "..   ...     ...         ...                     ...                ...   \n",
            "298   45    male           1                     110                264   \n",
            "299   68    male           4                     144                193   \n",
            "300   57    male           4                     130                131   \n",
            "301   57  female           2                     130                236   \n",
            "302   38    male           3                     138                175   \n",
            "\n",
            "     fasting_blood_sugar  resting_electro  max_heart_rate  exer_angina  \\\n",
            "0                      1                2             150            0   \n",
            "1                      0                2             108            1   \n",
            "2                      0                2             129            1   \n",
            "3                      0                0             187            0   \n",
            "4                      0                2             172            0   \n",
            "..                   ...              ...             ...          ...   \n",
            "298                    0                0             132            0   \n",
            "299                    1                0             141            0   \n",
            "300                    0                0             115            1   \n",
            "301                    0                2             174            0   \n",
            "302                    0                0             173            0   \n",
            "\n",
            "     oldpeak  slope  num_vessels_flour  thal  heart_disease_severity  \\\n",
            "0        2.3      3                0.0   6.0                       0   \n",
            "1        1.5      2                3.0   3.0                       2   \n",
            "2        2.6      2                2.0   7.0                       1   \n",
            "3        3.5      3                0.0   3.0                       0   \n",
            "4        1.4      1                0.0   3.0                       0   \n",
            "..       ...    ...                ...   ...                     ...   \n",
            "298      1.2      2                0.0   7.0                       1   \n",
            "299      3.4      2                2.0   7.0                       2   \n",
            "300      1.2      2                1.0   7.0                       3   \n",
            "301      0.0      2                1.0   3.0                       1   \n",
            "302      0.0      1                NaN   3.0                       0   \n",
            "\n",
            "     exter_angina has_heart_disease  \n",
            "0               0                no  \n",
            "1               1               yes  \n",
            "2               1               yes  \n",
            "3               0                no  \n",
            "4               0                no  \n",
            "..            ...               ...  \n",
            "298             0               yes  \n",
            "299             0               yes  \n",
            "300             1               yes  \n",
            "301             0               yes  \n",
            "302             0                no  \n",
            "\n",
            "[303 rows x 16 columns]\n"
          ]
        }
      ]
    },
    {
      "cell_type": "code",
      "metadata": {
        "id": "fh4BgTd0Ifmp",
        "colab": {
          "base_uri": "https://localhost:8080/"
        },
        "outputId": "0b7459d7-2b12-4ed4-f292-3d373144d4ca"
      },
      "source": [
        "#Ejercicio 4.6) Remplazar los nulos que aparecen en la variable \"thal\" por 999 (como antes),\n",
        "# y también remplazar los nulos de \"num_vessels_flour\" por el promedio de la variable.\n",
        "# Guardar el resultado en un dataframe nuevo llamado \"d_hd2\".\n",
        "# Crear una copia del DataFrame original para no modificarlo\n",
        "d_hd2 = d_hd.copy()\n",
        "\n",
        "# Reemplazar los valores nulos en la columna 'thal' por 999\n",
        "d_hd2['thal'] = d_hd2['thal'].fillna(999)\n",
        "\n",
        "# Calcular el promedio de la columna 'num_vessels_flour' excluyendo los valores nulos\n",
        "promedio_num_vessels_flour = d_hd2['num_vessels_flour'].mean()\n",
        "\n",
        "# Reemplazar los valores nulos en la columna 'num_vessels_flour' por el promedio calculado\n",
        "d_hd2['num_vessels_flour'] = d_hd2['num_vessels_flour'].fillna(promedio_num_vessels_flour)\n",
        "\n",
        "# Mostrar el DataFrame resultante para verificar los cambios\n",
        "print(d_hd2)\n",
        "\n"
      ],
      "execution_count": null,
      "outputs": [
        {
          "output_type": "stream",
          "name": "stdout",
          "text": [
            "     age  gender  chest_pain  resting_blood_pressure  serum_cholestoral  \\\n",
            "0     63    male           1                     145                233   \n",
            "1     67    male           4                     160                286   \n",
            "2     67    male           4                     120                229   \n",
            "3     37    male           3                     130                250   \n",
            "4     41  female           2                     130                204   \n",
            "..   ...     ...         ...                     ...                ...   \n",
            "298   45    male           1                     110                264   \n",
            "299   68    male           4                     144                193   \n",
            "300   57    male           4                     130                131   \n",
            "301   57  female           2                     130                236   \n",
            "302   38    male           3                     138                175   \n",
            "\n",
            "     fasting_blood_sugar  resting_electro  max_heart_rate  exer_angina  \\\n",
            "0                      1                2             150            0   \n",
            "1                      0                2             108            1   \n",
            "2                      0                2             129            1   \n",
            "3                      0                0             187            0   \n",
            "4                      0                2             172            0   \n",
            "..                   ...              ...             ...          ...   \n",
            "298                    0                0             132            0   \n",
            "299                    1                0             141            0   \n",
            "300                    0                0             115            1   \n",
            "301                    0                2             174            0   \n",
            "302                    0                0             173            0   \n",
            "\n",
            "     oldpeak  slope  num_vessels_flour  thal  heart_disease_severity  \\\n",
            "0        2.3      3           0.000000   6.0                       0   \n",
            "1        1.5      2           3.000000   3.0                       2   \n",
            "2        2.6      2           2.000000   7.0                       1   \n",
            "3        3.5      3           0.000000   3.0                       0   \n",
            "4        1.4      1           0.000000   3.0                       0   \n",
            "..       ...    ...                ...   ...                     ...   \n",
            "298      1.2      2           0.000000   7.0                       1   \n",
            "299      3.4      2           2.000000   7.0                       2   \n",
            "300      1.2      2           1.000000   7.0                       3   \n",
            "301      0.0      2           1.000000   3.0                       1   \n",
            "302      0.0      1           0.672241   3.0                       0   \n",
            "\n",
            "     exter_angina has_heart_disease  \n",
            "0               0                no  \n",
            "1               1               yes  \n",
            "2               1               yes  \n",
            "3               0                no  \n",
            "4               0                no  \n",
            "..            ...               ...  \n",
            "298             0               yes  \n",
            "299             0               yes  \n",
            "300             1               yes  \n",
            "301             0               yes  \n",
            "302             0                no  \n",
            "\n",
            "[303 rows x 16 columns]\n"
          ]
        }
      ]
    },
    {
      "cell_type": "code",
      "metadata": {
        "id": "YMTb6CaYD4zo",
        "colab": {
          "base_uri": "https://localhost:8080/"
        },
        "outputId": "c51f2d75-8f41-4112-bf74-eab8c85997bf"
      },
      "source": [
        "#Ejercicio 4.7) Chequear resufrom funpymodeling.exploratory import status\n",
        "\n",
        "# Aplicar la función status al DataFrame d_hd2\n",
        "data_status_d_hd2 = status(d_hd2)\n",
        "\n",
        "# Mostrar el estado de las columnas en d_hd2\n",
        "print(data_status_d_hd2)\n"
      ],
      "execution_count": null,
      "outputs": [
        {
          "output_type": "stream",
          "name": "stdout",
          "text": [
            "                  variable  q_nan  p_nan  q_zeros   p_zeros  unique     type\n",
            "0                      age      0    0.0        0  0.000000      41    int64\n",
            "1                   gender      0    0.0        0  0.000000       2   object\n",
            "2               chest_pain      0    0.0        0  0.000000       4    int64\n",
            "3   resting_blood_pressure      0    0.0        0  0.000000      50    int64\n",
            "4        serum_cholestoral      0    0.0        0  0.000000     152    int64\n",
            "5      fasting_blood_sugar      0    0.0      258  0.851485       2    int64\n",
            "6          resting_electro      0    0.0      151  0.498350       3    int64\n",
            "7           max_heart_rate      0    0.0        0  0.000000      91    int64\n",
            "8              exer_angina      0    0.0      204  0.673267       2    int64\n",
            "9                  oldpeak      0    0.0       99  0.326733      40  float64\n",
            "10                   slope      0    0.0        0  0.000000       3    int64\n",
            "11       num_vessels_flour      0    0.0      176  0.580858       5  float64\n",
            "12                    thal      0    0.0        0  0.000000       4  float64\n",
            "13  heart_disease_severity      0    0.0      164  0.541254       5    int64\n",
            "14            exter_angina      0    0.0      204  0.673267       2    int64\n",
            "15       has_heart_disease      0    0.0        0  0.000000       2   object\n"
          ]
        }
      ]
    },
    {
      "cell_type": "code",
      "metadata": {
        "id": "Vr5lU2sWDriL",
        "colab": {
          "base_uri": "https://localhost:8080/"
        },
        "outputId": "38b347d1-0fba-43c2-86f4-66174bae27b8"
      },
      "source": [
        "#Ejercicio 4.8)\n",
        "# Eliminar todas los registros con nulos usando `dropna` de pandas\n",
        "\n",
        "d_hd_cleaned = d_hd.dropna()\n",
        "\n",
        "print(d_hd_cleaned)\n",
        "\n",
        "d_hd.dropna(inplace=True)\n",
        "\n",
        "print(d_hd)"
      ],
      "execution_count": null,
      "outputs": [
        {
          "output_type": "stream",
          "name": "stdout",
          "text": [
            "     age  gender  chest_pain  resting_blood_pressure  serum_cholestoral  \\\n",
            "0     63    male           1                     145                233   \n",
            "1     67    male           4                     160                286   \n",
            "2     67    male           4                     120                229   \n",
            "3     37    male           3                     130                250   \n",
            "4     41  female           2                     130                204   \n",
            "..   ...     ...         ...                     ...                ...   \n",
            "297   57  female           4                     140                241   \n",
            "298   45    male           1                     110                264   \n",
            "299   68    male           4                     144                193   \n",
            "300   57    male           4                     130                131   \n",
            "301   57  female           2                     130                236   \n",
            "\n",
            "     fasting_blood_sugar  resting_electro  max_heart_rate  exer_angina  \\\n",
            "0                      1                2             150            0   \n",
            "1                      0                2             108            1   \n",
            "2                      0                2             129            1   \n",
            "3                      0                0             187            0   \n",
            "4                      0                2             172            0   \n",
            "..                   ...              ...             ...          ...   \n",
            "297                    0                0             123            1   \n",
            "298                    0                0             132            0   \n",
            "299                    1                0             141            0   \n",
            "300                    0                0             115            1   \n",
            "301                    0                2             174            0   \n",
            "\n",
            "     oldpeak  slope  num_vessels_flour  thal  heart_disease_severity  \\\n",
            "0        2.3      3                0.0   6.0                       0   \n",
            "1        1.5      2                3.0   3.0                       2   \n",
            "2        2.6      2                2.0   7.0                       1   \n",
            "3        3.5      3                0.0   3.0                       0   \n",
            "4        1.4      1                0.0   3.0                       0   \n",
            "..       ...    ...                ...   ...                     ...   \n",
            "297      0.2      2                0.0   7.0                       1   \n",
            "298      1.2      2                0.0   7.0                       1   \n",
            "299      3.4      2                2.0   7.0                       2   \n",
            "300      1.2      2                1.0   7.0                       3   \n",
            "301      0.0      2                1.0   3.0                       1   \n",
            "\n",
            "     exter_angina has_heart_disease  \n",
            "0               0                no  \n",
            "1               1               yes  \n",
            "2               1               yes  \n",
            "3               0                no  \n",
            "4               0                no  \n",
            "..            ...               ...  \n",
            "297             1               yes  \n",
            "298             0               yes  \n",
            "299             0               yes  \n",
            "300             1               yes  \n",
            "301             0               yes  \n",
            "\n",
            "[297 rows x 16 columns]\n",
            "     age  gender  chest_pain  resting_blood_pressure  serum_cholestoral  \\\n",
            "0     63    male           1                     145                233   \n",
            "1     67    male           4                     160                286   \n",
            "2     67    male           4                     120                229   \n",
            "3     37    male           3                     130                250   \n",
            "4     41  female           2                     130                204   \n",
            "..   ...     ...         ...                     ...                ...   \n",
            "297   57  female           4                     140                241   \n",
            "298   45    male           1                     110                264   \n",
            "299   68    male           4                     144                193   \n",
            "300   57    male           4                     130                131   \n",
            "301   57  female           2                     130                236   \n",
            "\n",
            "     fasting_blood_sugar  resting_electro  max_heart_rate  exer_angina  \\\n",
            "0                      1                2             150            0   \n",
            "1                      0                2             108            1   \n",
            "2                      0                2             129            1   \n",
            "3                      0                0             187            0   \n",
            "4                      0                2             172            0   \n",
            "..                   ...              ...             ...          ...   \n",
            "297                    0                0             123            1   \n",
            "298                    0                0             132            0   \n",
            "299                    1                0             141            0   \n",
            "300                    0                0             115            1   \n",
            "301                    0                2             174            0   \n",
            "\n",
            "     oldpeak  slope  num_vessels_flour  thal  heart_disease_severity  \\\n",
            "0        2.3      3                0.0   6.0                       0   \n",
            "1        1.5      2                3.0   3.0                       2   \n",
            "2        2.6      2                2.0   7.0                       1   \n",
            "3        3.5      3                0.0   3.0                       0   \n",
            "4        1.4      1                0.0   3.0                       0   \n",
            "..       ...    ...                ...   ...                     ...   \n",
            "297      0.2      2                0.0   7.0                       1   \n",
            "298      1.2      2                0.0   7.0                       1   \n",
            "299      3.4      2                2.0   7.0                       2   \n",
            "300      1.2      2                1.0   7.0                       3   \n",
            "301      0.0      2                1.0   3.0                       1   \n",
            "\n",
            "     exter_angina has_heart_disease  \n",
            "0               0                no  \n",
            "1               1               yes  \n",
            "2               1               yes  \n",
            "3               0                no  \n",
            "4               0                no  \n",
            "..            ...               ...  \n",
            "297             1               yes  \n",
            "298             0               yes  \n",
            "299             0               yes  \n",
            "300             1               yes  \n",
            "301             0               yes  \n",
            "\n",
            "[297 rows x 16 columns]\n"
          ]
        }
      ]
    }
  ]
}